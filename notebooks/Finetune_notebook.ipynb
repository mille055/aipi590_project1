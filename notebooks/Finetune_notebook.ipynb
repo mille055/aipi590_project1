{
  "nbformat": 4,
  "nbformat_minor": 0,
  "metadata": {
    "colab": {
      "provenance": [],
      "machine_shape": "hm",
      "gpuType": "A100",
      "include_colab_link": true
    },
    "kernelspec": {
      "name": "python3",
      "display_name": "Python 3"
    },
    "language_info": {
      "name": "python"
    },
    "accelerator": "GPU",
    "widgets": {
      "application/vnd.jupyter.widget-state+json": {
        "dc278ab3882a44f0a0f723e597f8980a": {
          "model_module": "@jupyter-widgets/controls",
          "model_name": "HBoxModel",
          "model_module_version": "1.5.0",
          "state": {
            "_dom_classes": [],
            "_model_module": "@jupyter-widgets/controls",
            "_model_module_version": "1.5.0",
            "_model_name": "HBoxModel",
            "_view_count": null,
            "_view_module": "@jupyter-widgets/controls",
            "_view_module_version": "1.5.0",
            "_view_name": "HBoxView",
            "box_style": "",
            "children": [
              "IPY_MODEL_c8f31ad252164e77a822e7d006304eea",
              "IPY_MODEL_af1a3118ef044cdb846e6b3e66f3b141",
              "IPY_MODEL_93e11b9337714f5eba43af3c3b2ef619"
            ],
            "layout": "IPY_MODEL_d6a00d9b9fc84326980fadfbee739a58"
          }
        },
        "c8f31ad252164e77a822e7d006304eea": {
          "model_module": "@jupyter-widgets/controls",
          "model_name": "HTMLModel",
          "model_module_version": "1.5.0",
          "state": {
            "_dom_classes": [],
            "_model_module": "@jupyter-widgets/controls",
            "_model_module_version": "1.5.0",
            "_model_name": "HTMLModel",
            "_view_count": null,
            "_view_module": "@jupyter-widgets/controls",
            "_view_module_version": "1.5.0",
            "_view_name": "HTMLView",
            "description": "",
            "description_tooltip": null,
            "layout": "IPY_MODEL_a67f8e3f75ac4396ac4162800f991406",
            "placeholder": "​",
            "style": "IPY_MODEL_2d2a1c4f8c8143a4b7430bbe5adc1fa9",
            "value": "tokenizer_config.json: 100%"
          }
        },
        "af1a3118ef044cdb846e6b3e66f3b141": {
          "model_module": "@jupyter-widgets/controls",
          "model_name": "FloatProgressModel",
          "model_module_version": "1.5.0",
          "state": {
            "_dom_classes": [],
            "_model_module": "@jupyter-widgets/controls",
            "_model_module_version": "1.5.0",
            "_model_name": "FloatProgressModel",
            "_view_count": null,
            "_view_module": "@jupyter-widgets/controls",
            "_view_module_version": "1.5.0",
            "_view_name": "ProgressView",
            "bar_style": "success",
            "description": "",
            "description_tooltip": null,
            "layout": "IPY_MODEL_c665abdf60964ebb9cb4f13199467744",
            "max": 1460,
            "min": 0,
            "orientation": "horizontal",
            "style": "IPY_MODEL_213cbc3d2a1a4fc583f38d046f7a7c96",
            "value": 1460
          }
        },
        "93e11b9337714f5eba43af3c3b2ef619": {
          "model_module": "@jupyter-widgets/controls",
          "model_name": "HTMLModel",
          "model_module_version": "1.5.0",
          "state": {
            "_dom_classes": [],
            "_model_module": "@jupyter-widgets/controls",
            "_model_module_version": "1.5.0",
            "_model_name": "HTMLModel",
            "_view_count": null,
            "_view_module": "@jupyter-widgets/controls",
            "_view_module_version": "1.5.0",
            "_view_name": "HTMLView",
            "description": "",
            "description_tooltip": null,
            "layout": "IPY_MODEL_ea03f3bfe6324912b57553ac644530e3",
            "placeholder": "​",
            "style": "IPY_MODEL_be4b73e546354301b7977d8ef1a20bc0",
            "value": " 1.46k/1.46k [00:00&lt;00:00, 131kB/s]"
          }
        },
        "d6a00d9b9fc84326980fadfbee739a58": {
          "model_module": "@jupyter-widgets/base",
          "model_name": "LayoutModel",
          "model_module_version": "1.2.0",
          "state": {
            "_model_module": "@jupyter-widgets/base",
            "_model_module_version": "1.2.0",
            "_model_name": "LayoutModel",
            "_view_count": null,
            "_view_module": "@jupyter-widgets/base",
            "_view_module_version": "1.2.0",
            "_view_name": "LayoutView",
            "align_content": null,
            "align_items": null,
            "align_self": null,
            "border": null,
            "bottom": null,
            "display": null,
            "flex": null,
            "flex_flow": null,
            "grid_area": null,
            "grid_auto_columns": null,
            "grid_auto_flow": null,
            "grid_auto_rows": null,
            "grid_column": null,
            "grid_gap": null,
            "grid_row": null,
            "grid_template_areas": null,
            "grid_template_columns": null,
            "grid_template_rows": null,
            "height": null,
            "justify_content": null,
            "justify_items": null,
            "left": null,
            "margin": null,
            "max_height": null,
            "max_width": null,
            "min_height": null,
            "min_width": null,
            "object_fit": null,
            "object_position": null,
            "order": null,
            "overflow": null,
            "overflow_x": null,
            "overflow_y": null,
            "padding": null,
            "right": null,
            "top": null,
            "visibility": null,
            "width": null
          }
        },
        "a67f8e3f75ac4396ac4162800f991406": {
          "model_module": "@jupyter-widgets/base",
          "model_name": "LayoutModel",
          "model_module_version": "1.2.0",
          "state": {
            "_model_module": "@jupyter-widgets/base",
            "_model_module_version": "1.2.0",
            "_model_name": "LayoutModel",
            "_view_count": null,
            "_view_module": "@jupyter-widgets/base",
            "_view_module_version": "1.2.0",
            "_view_name": "LayoutView",
            "align_content": null,
            "align_items": null,
            "align_self": null,
            "border": null,
            "bottom": null,
            "display": null,
            "flex": null,
            "flex_flow": null,
            "grid_area": null,
            "grid_auto_columns": null,
            "grid_auto_flow": null,
            "grid_auto_rows": null,
            "grid_column": null,
            "grid_gap": null,
            "grid_row": null,
            "grid_template_areas": null,
            "grid_template_columns": null,
            "grid_template_rows": null,
            "height": null,
            "justify_content": null,
            "justify_items": null,
            "left": null,
            "margin": null,
            "max_height": null,
            "max_width": null,
            "min_height": null,
            "min_width": null,
            "object_fit": null,
            "object_position": null,
            "order": null,
            "overflow": null,
            "overflow_x": null,
            "overflow_y": null,
            "padding": null,
            "right": null,
            "top": null,
            "visibility": null,
            "width": null
          }
        },
        "2d2a1c4f8c8143a4b7430bbe5adc1fa9": {
          "model_module": "@jupyter-widgets/controls",
          "model_name": "DescriptionStyleModel",
          "model_module_version": "1.5.0",
          "state": {
            "_model_module": "@jupyter-widgets/controls",
            "_model_module_version": "1.5.0",
            "_model_name": "DescriptionStyleModel",
            "_view_count": null,
            "_view_module": "@jupyter-widgets/base",
            "_view_module_version": "1.2.0",
            "_view_name": "StyleView",
            "description_width": ""
          }
        },
        "c665abdf60964ebb9cb4f13199467744": {
          "model_module": "@jupyter-widgets/base",
          "model_name": "LayoutModel",
          "model_module_version": "1.2.0",
          "state": {
            "_model_module": "@jupyter-widgets/base",
            "_model_module_version": "1.2.0",
            "_model_name": "LayoutModel",
            "_view_count": null,
            "_view_module": "@jupyter-widgets/base",
            "_view_module_version": "1.2.0",
            "_view_name": "LayoutView",
            "align_content": null,
            "align_items": null,
            "align_self": null,
            "border": null,
            "bottom": null,
            "display": null,
            "flex": null,
            "flex_flow": null,
            "grid_area": null,
            "grid_auto_columns": null,
            "grid_auto_flow": null,
            "grid_auto_rows": null,
            "grid_column": null,
            "grid_gap": null,
            "grid_row": null,
            "grid_template_areas": null,
            "grid_template_columns": null,
            "grid_template_rows": null,
            "height": null,
            "justify_content": null,
            "justify_items": null,
            "left": null,
            "margin": null,
            "max_height": null,
            "max_width": null,
            "min_height": null,
            "min_width": null,
            "object_fit": null,
            "object_position": null,
            "order": null,
            "overflow": null,
            "overflow_x": null,
            "overflow_y": null,
            "padding": null,
            "right": null,
            "top": null,
            "visibility": null,
            "width": null
          }
        },
        "213cbc3d2a1a4fc583f38d046f7a7c96": {
          "model_module": "@jupyter-widgets/controls",
          "model_name": "ProgressStyleModel",
          "model_module_version": "1.5.0",
          "state": {
            "_model_module": "@jupyter-widgets/controls",
            "_model_module_version": "1.5.0",
            "_model_name": "ProgressStyleModel",
            "_view_count": null,
            "_view_module": "@jupyter-widgets/base",
            "_view_module_version": "1.2.0",
            "_view_name": "StyleView",
            "bar_color": null,
            "description_width": ""
          }
        },
        "ea03f3bfe6324912b57553ac644530e3": {
          "model_module": "@jupyter-widgets/base",
          "model_name": "LayoutModel",
          "model_module_version": "1.2.0",
          "state": {
            "_model_module": "@jupyter-widgets/base",
            "_model_module_version": "1.2.0",
            "_model_name": "LayoutModel",
            "_view_count": null,
            "_view_module": "@jupyter-widgets/base",
            "_view_module_version": "1.2.0",
            "_view_name": "LayoutView",
            "align_content": null,
            "align_items": null,
            "align_self": null,
            "border": null,
            "bottom": null,
            "display": null,
            "flex": null,
            "flex_flow": null,
            "grid_area": null,
            "grid_auto_columns": null,
            "grid_auto_flow": null,
            "grid_auto_rows": null,
            "grid_column": null,
            "grid_gap": null,
            "grid_row": null,
            "grid_template_areas": null,
            "grid_template_columns": null,
            "grid_template_rows": null,
            "height": null,
            "justify_content": null,
            "justify_items": null,
            "left": null,
            "margin": null,
            "max_height": null,
            "max_width": null,
            "min_height": null,
            "min_width": null,
            "object_fit": null,
            "object_position": null,
            "order": null,
            "overflow": null,
            "overflow_x": null,
            "overflow_y": null,
            "padding": null,
            "right": null,
            "top": null,
            "visibility": null,
            "width": null
          }
        },
        "be4b73e546354301b7977d8ef1a20bc0": {
          "model_module": "@jupyter-widgets/controls",
          "model_name": "DescriptionStyleModel",
          "model_module_version": "1.5.0",
          "state": {
            "_model_module": "@jupyter-widgets/controls",
            "_model_module_version": "1.5.0",
            "_model_name": "DescriptionStyleModel",
            "_view_count": null,
            "_view_module": "@jupyter-widgets/base",
            "_view_module_version": "1.2.0",
            "_view_name": "StyleView",
            "description_width": ""
          }
        },
        "e2044d2a7f0c44b59cb60a070408ba9b": {
          "model_module": "@jupyter-widgets/controls",
          "model_name": "HBoxModel",
          "model_module_version": "1.5.0",
          "state": {
            "_dom_classes": [],
            "_model_module": "@jupyter-widgets/controls",
            "_model_module_version": "1.5.0",
            "_model_name": "HBoxModel",
            "_view_count": null,
            "_view_module": "@jupyter-widgets/controls",
            "_view_module_version": "1.5.0",
            "_view_name": "HBoxView",
            "box_style": "",
            "children": [
              "IPY_MODEL_f0a5a4b61d4e40dd862d7b26b1d4d4ae",
              "IPY_MODEL_8f2891a6c0f648288e6422c52bd8d6a4",
              "IPY_MODEL_eccd65394beb436191c8179e90416900"
            ],
            "layout": "IPY_MODEL_142a88f2544c4cdb84f2f575954ea857"
          }
        },
        "f0a5a4b61d4e40dd862d7b26b1d4d4ae": {
          "model_module": "@jupyter-widgets/controls",
          "model_name": "HTMLModel",
          "model_module_version": "1.5.0",
          "state": {
            "_dom_classes": [],
            "_model_module": "@jupyter-widgets/controls",
            "_model_module_version": "1.5.0",
            "_model_name": "HTMLModel",
            "_view_count": null,
            "_view_module": "@jupyter-widgets/controls",
            "_view_module_version": "1.5.0",
            "_view_name": "HTMLView",
            "description": "",
            "description_tooltip": null,
            "layout": "IPY_MODEL_703db74828ed4c00b0a042c95d86d1b9",
            "placeholder": "​",
            "style": "IPY_MODEL_fb52ed6973c141a4906e9dba8bd342a4",
            "value": "tokenizer.model: 100%"
          }
        },
        "8f2891a6c0f648288e6422c52bd8d6a4": {
          "model_module": "@jupyter-widgets/controls",
          "model_name": "FloatProgressModel",
          "model_module_version": "1.5.0",
          "state": {
            "_dom_classes": [],
            "_model_module": "@jupyter-widgets/controls",
            "_model_module_version": "1.5.0",
            "_model_name": "FloatProgressModel",
            "_view_count": null,
            "_view_module": "@jupyter-widgets/controls",
            "_view_module_version": "1.5.0",
            "_view_name": "ProgressView",
            "bar_style": "success",
            "description": "",
            "description_tooltip": null,
            "layout": "IPY_MODEL_87f672f140d141849c2b4a37154fb929",
            "max": 493443,
            "min": 0,
            "orientation": "horizontal",
            "style": "IPY_MODEL_5e0232753b72478dacb89f2f3d5853bb",
            "value": 493443
          }
        },
        "eccd65394beb436191c8179e90416900": {
          "model_module": "@jupyter-widgets/controls",
          "model_name": "HTMLModel",
          "model_module_version": "1.5.0",
          "state": {
            "_dom_classes": [],
            "_model_module": "@jupyter-widgets/controls",
            "_model_module_version": "1.5.0",
            "_model_name": "HTMLModel",
            "_view_count": null,
            "_view_module": "@jupyter-widgets/controls",
            "_view_module_version": "1.5.0",
            "_view_name": "HTMLView",
            "description": "",
            "description_tooltip": null,
            "layout": "IPY_MODEL_201b3a7183db4e028f779e9cb4d809a0",
            "placeholder": "​",
            "style": "IPY_MODEL_fd3bacf260ff444496a167100299f52a",
            "value": " 493k/493k [00:00&lt;00:00, 23.7MB/s]"
          }
        },
        "142a88f2544c4cdb84f2f575954ea857": {
          "model_module": "@jupyter-widgets/base",
          "model_name": "LayoutModel",
          "model_module_version": "1.2.0",
          "state": {
            "_model_module": "@jupyter-widgets/base",
            "_model_module_version": "1.2.0",
            "_model_name": "LayoutModel",
            "_view_count": null,
            "_view_module": "@jupyter-widgets/base",
            "_view_module_version": "1.2.0",
            "_view_name": "LayoutView",
            "align_content": null,
            "align_items": null,
            "align_self": null,
            "border": null,
            "bottom": null,
            "display": null,
            "flex": null,
            "flex_flow": null,
            "grid_area": null,
            "grid_auto_columns": null,
            "grid_auto_flow": null,
            "grid_auto_rows": null,
            "grid_column": null,
            "grid_gap": null,
            "grid_row": null,
            "grid_template_areas": null,
            "grid_template_columns": null,
            "grid_template_rows": null,
            "height": null,
            "justify_content": null,
            "justify_items": null,
            "left": null,
            "margin": null,
            "max_height": null,
            "max_width": null,
            "min_height": null,
            "min_width": null,
            "object_fit": null,
            "object_position": null,
            "order": null,
            "overflow": null,
            "overflow_x": null,
            "overflow_y": null,
            "padding": null,
            "right": null,
            "top": null,
            "visibility": null,
            "width": null
          }
        },
        "703db74828ed4c00b0a042c95d86d1b9": {
          "model_module": "@jupyter-widgets/base",
          "model_name": "LayoutModel",
          "model_module_version": "1.2.0",
          "state": {
            "_model_module": "@jupyter-widgets/base",
            "_model_module_version": "1.2.0",
            "_model_name": "LayoutModel",
            "_view_count": null,
            "_view_module": "@jupyter-widgets/base",
            "_view_module_version": "1.2.0",
            "_view_name": "LayoutView",
            "align_content": null,
            "align_items": null,
            "align_self": null,
            "border": null,
            "bottom": null,
            "display": null,
            "flex": null,
            "flex_flow": null,
            "grid_area": null,
            "grid_auto_columns": null,
            "grid_auto_flow": null,
            "grid_auto_rows": null,
            "grid_column": null,
            "grid_gap": null,
            "grid_row": null,
            "grid_template_areas": null,
            "grid_template_columns": null,
            "grid_template_rows": null,
            "height": null,
            "justify_content": null,
            "justify_items": null,
            "left": null,
            "margin": null,
            "max_height": null,
            "max_width": null,
            "min_height": null,
            "min_width": null,
            "object_fit": null,
            "object_position": null,
            "order": null,
            "overflow": null,
            "overflow_x": null,
            "overflow_y": null,
            "padding": null,
            "right": null,
            "top": null,
            "visibility": null,
            "width": null
          }
        },
        "fb52ed6973c141a4906e9dba8bd342a4": {
          "model_module": "@jupyter-widgets/controls",
          "model_name": "DescriptionStyleModel",
          "model_module_version": "1.5.0",
          "state": {
            "_model_module": "@jupyter-widgets/controls",
            "_model_module_version": "1.5.0",
            "_model_name": "DescriptionStyleModel",
            "_view_count": null,
            "_view_module": "@jupyter-widgets/base",
            "_view_module_version": "1.2.0",
            "_view_name": "StyleView",
            "description_width": ""
          }
        },
        "87f672f140d141849c2b4a37154fb929": {
          "model_module": "@jupyter-widgets/base",
          "model_name": "LayoutModel",
          "model_module_version": "1.2.0",
          "state": {
            "_model_module": "@jupyter-widgets/base",
            "_model_module_version": "1.2.0",
            "_model_name": "LayoutModel",
            "_view_count": null,
            "_view_module": "@jupyter-widgets/base",
            "_view_module_version": "1.2.0",
            "_view_name": "LayoutView",
            "align_content": null,
            "align_items": null,
            "align_self": null,
            "border": null,
            "bottom": null,
            "display": null,
            "flex": null,
            "flex_flow": null,
            "grid_area": null,
            "grid_auto_columns": null,
            "grid_auto_flow": null,
            "grid_auto_rows": null,
            "grid_column": null,
            "grid_gap": null,
            "grid_row": null,
            "grid_template_areas": null,
            "grid_template_columns": null,
            "grid_template_rows": null,
            "height": null,
            "justify_content": null,
            "justify_items": null,
            "left": null,
            "margin": null,
            "max_height": null,
            "max_width": null,
            "min_height": null,
            "min_width": null,
            "object_fit": null,
            "object_position": null,
            "order": null,
            "overflow": null,
            "overflow_x": null,
            "overflow_y": null,
            "padding": null,
            "right": null,
            "top": null,
            "visibility": null,
            "width": null
          }
        },
        "5e0232753b72478dacb89f2f3d5853bb": {
          "model_module": "@jupyter-widgets/controls",
          "model_name": "ProgressStyleModel",
          "model_module_version": "1.5.0",
          "state": {
            "_model_module": "@jupyter-widgets/controls",
            "_model_module_version": "1.5.0",
            "_model_name": "ProgressStyleModel",
            "_view_count": null,
            "_view_module": "@jupyter-widgets/base",
            "_view_module_version": "1.2.0",
            "_view_name": "StyleView",
            "bar_color": null,
            "description_width": ""
          }
        },
        "201b3a7183db4e028f779e9cb4d809a0": {
          "model_module": "@jupyter-widgets/base",
          "model_name": "LayoutModel",
          "model_module_version": "1.2.0",
          "state": {
            "_model_module": "@jupyter-widgets/base",
            "_model_module_version": "1.2.0",
            "_model_name": "LayoutModel",
            "_view_count": null,
            "_view_module": "@jupyter-widgets/base",
            "_view_module_version": "1.2.0",
            "_view_name": "LayoutView",
            "align_content": null,
            "align_items": null,
            "align_self": null,
            "border": null,
            "bottom": null,
            "display": null,
            "flex": null,
            "flex_flow": null,
            "grid_area": null,
            "grid_auto_columns": null,
            "grid_auto_flow": null,
            "grid_auto_rows": null,
            "grid_column": null,
            "grid_gap": null,
            "grid_row": null,
            "grid_template_areas": null,
            "grid_template_columns": null,
            "grid_template_rows": null,
            "height": null,
            "justify_content": null,
            "justify_items": null,
            "left": null,
            "margin": null,
            "max_height": null,
            "max_width": null,
            "min_height": null,
            "min_width": null,
            "object_fit": null,
            "object_position": null,
            "order": null,
            "overflow": null,
            "overflow_x": null,
            "overflow_y": null,
            "padding": null,
            "right": null,
            "top": null,
            "visibility": null,
            "width": null
          }
        },
        "fd3bacf260ff444496a167100299f52a": {
          "model_module": "@jupyter-widgets/controls",
          "model_name": "DescriptionStyleModel",
          "model_module_version": "1.5.0",
          "state": {
            "_model_module": "@jupyter-widgets/controls",
            "_model_module_version": "1.5.0",
            "_model_name": "DescriptionStyleModel",
            "_view_count": null,
            "_view_module": "@jupyter-widgets/base",
            "_view_module_version": "1.2.0",
            "_view_name": "StyleView",
            "description_width": ""
          }
        },
        "bc8fcae01a3d47c4b9d8be540d74fd81": {
          "model_module": "@jupyter-widgets/controls",
          "model_name": "HBoxModel",
          "model_module_version": "1.5.0",
          "state": {
            "_dom_classes": [],
            "_model_module": "@jupyter-widgets/controls",
            "_model_module_version": "1.5.0",
            "_model_name": "HBoxModel",
            "_view_count": null,
            "_view_module": "@jupyter-widgets/controls",
            "_view_module_version": "1.5.0",
            "_view_name": "HBoxView",
            "box_style": "",
            "children": [
              "IPY_MODEL_b0c26a80d14742158cff97a1edba6148",
              "IPY_MODEL_b7ca9c0e662448ecb6666560d0b90f08",
              "IPY_MODEL_f79e91566f5d465e99ff0180733ffffe"
            ],
            "layout": "IPY_MODEL_6f09d7aa57d04015866f7a86ea2ccacf"
          }
        },
        "b0c26a80d14742158cff97a1edba6148": {
          "model_module": "@jupyter-widgets/controls",
          "model_name": "HTMLModel",
          "model_module_version": "1.5.0",
          "state": {
            "_dom_classes": [],
            "_model_module": "@jupyter-widgets/controls",
            "_model_module_version": "1.5.0",
            "_model_name": "HTMLModel",
            "_view_count": null,
            "_view_module": "@jupyter-widgets/controls",
            "_view_module_version": "1.5.0",
            "_view_name": "HTMLView",
            "description": "",
            "description_tooltip": null,
            "layout": "IPY_MODEL_bfea8b66edb342afa762f4c1b4264e5f",
            "placeholder": "​",
            "style": "IPY_MODEL_8be46eb30b9947b482dd07691fad08db",
            "value": "tokenizer.json: 100%"
          }
        },
        "b7ca9c0e662448ecb6666560d0b90f08": {
          "model_module": "@jupyter-widgets/controls",
          "model_name": "FloatProgressModel",
          "model_module_version": "1.5.0",
          "state": {
            "_dom_classes": [],
            "_model_module": "@jupyter-widgets/controls",
            "_model_module_version": "1.5.0",
            "_model_name": "FloatProgressModel",
            "_view_count": null,
            "_view_module": "@jupyter-widgets/controls",
            "_view_module_version": "1.5.0",
            "_view_name": "ProgressView",
            "bar_style": "success",
            "description": "",
            "description_tooltip": null,
            "layout": "IPY_MODEL_50c311dc5ce942689798f099e55859bc",
            "max": 1795303,
            "min": 0,
            "orientation": "horizontal",
            "style": "IPY_MODEL_b85e0c4e07f143a88c8633ece0beb0bc",
            "value": 1795303
          }
        },
        "f79e91566f5d465e99ff0180733ffffe": {
          "model_module": "@jupyter-widgets/controls",
          "model_name": "HTMLModel",
          "model_module_version": "1.5.0",
          "state": {
            "_dom_classes": [],
            "_model_module": "@jupyter-widgets/controls",
            "_model_module_version": "1.5.0",
            "_model_name": "HTMLModel",
            "_view_count": null,
            "_view_module": "@jupyter-widgets/controls",
            "_view_module_version": "1.5.0",
            "_view_name": "HTMLView",
            "description": "",
            "description_tooltip": null,
            "layout": "IPY_MODEL_66725d2394c94a1da536b9021209cf84",
            "placeholder": "​",
            "style": "IPY_MODEL_b965afc26e1646a9a4546f0138ef6b7c",
            "value": " 1.80M/1.80M [00:00&lt;00:00, 56.6MB/s]"
          }
        },
        "6f09d7aa57d04015866f7a86ea2ccacf": {
          "model_module": "@jupyter-widgets/base",
          "model_name": "LayoutModel",
          "model_module_version": "1.2.0",
          "state": {
            "_model_module": "@jupyter-widgets/base",
            "_model_module_version": "1.2.0",
            "_model_name": "LayoutModel",
            "_view_count": null,
            "_view_module": "@jupyter-widgets/base",
            "_view_module_version": "1.2.0",
            "_view_name": "LayoutView",
            "align_content": null,
            "align_items": null,
            "align_self": null,
            "border": null,
            "bottom": null,
            "display": null,
            "flex": null,
            "flex_flow": null,
            "grid_area": null,
            "grid_auto_columns": null,
            "grid_auto_flow": null,
            "grid_auto_rows": null,
            "grid_column": null,
            "grid_gap": null,
            "grid_row": null,
            "grid_template_areas": null,
            "grid_template_columns": null,
            "grid_template_rows": null,
            "height": null,
            "justify_content": null,
            "justify_items": null,
            "left": null,
            "margin": null,
            "max_height": null,
            "max_width": null,
            "min_height": null,
            "min_width": null,
            "object_fit": null,
            "object_position": null,
            "order": null,
            "overflow": null,
            "overflow_x": null,
            "overflow_y": null,
            "padding": null,
            "right": null,
            "top": null,
            "visibility": null,
            "width": null
          }
        },
        "bfea8b66edb342afa762f4c1b4264e5f": {
          "model_module": "@jupyter-widgets/base",
          "model_name": "LayoutModel",
          "model_module_version": "1.2.0",
          "state": {
            "_model_module": "@jupyter-widgets/base",
            "_model_module_version": "1.2.0",
            "_model_name": "LayoutModel",
            "_view_count": null,
            "_view_module": "@jupyter-widgets/base",
            "_view_module_version": "1.2.0",
            "_view_name": "LayoutView",
            "align_content": null,
            "align_items": null,
            "align_self": null,
            "border": null,
            "bottom": null,
            "display": null,
            "flex": null,
            "flex_flow": null,
            "grid_area": null,
            "grid_auto_columns": null,
            "grid_auto_flow": null,
            "grid_auto_rows": null,
            "grid_column": null,
            "grid_gap": null,
            "grid_row": null,
            "grid_template_areas": null,
            "grid_template_columns": null,
            "grid_template_rows": null,
            "height": null,
            "justify_content": null,
            "justify_items": null,
            "left": null,
            "margin": null,
            "max_height": null,
            "max_width": null,
            "min_height": null,
            "min_width": null,
            "object_fit": null,
            "object_position": null,
            "order": null,
            "overflow": null,
            "overflow_x": null,
            "overflow_y": null,
            "padding": null,
            "right": null,
            "top": null,
            "visibility": null,
            "width": null
          }
        },
        "8be46eb30b9947b482dd07691fad08db": {
          "model_module": "@jupyter-widgets/controls",
          "model_name": "DescriptionStyleModel",
          "model_module_version": "1.5.0",
          "state": {
            "_model_module": "@jupyter-widgets/controls",
            "_model_module_version": "1.5.0",
            "_model_name": "DescriptionStyleModel",
            "_view_count": null,
            "_view_module": "@jupyter-widgets/base",
            "_view_module_version": "1.2.0",
            "_view_name": "StyleView",
            "description_width": ""
          }
        },
        "50c311dc5ce942689798f099e55859bc": {
          "model_module": "@jupyter-widgets/base",
          "model_name": "LayoutModel",
          "model_module_version": "1.2.0",
          "state": {
            "_model_module": "@jupyter-widgets/base",
            "_model_module_version": "1.2.0",
            "_model_name": "LayoutModel",
            "_view_count": null,
            "_view_module": "@jupyter-widgets/base",
            "_view_module_version": "1.2.0",
            "_view_name": "LayoutView",
            "align_content": null,
            "align_items": null,
            "align_self": null,
            "border": null,
            "bottom": null,
            "display": null,
            "flex": null,
            "flex_flow": null,
            "grid_area": null,
            "grid_auto_columns": null,
            "grid_auto_flow": null,
            "grid_auto_rows": null,
            "grid_column": null,
            "grid_gap": null,
            "grid_row": null,
            "grid_template_areas": null,
            "grid_template_columns": null,
            "grid_template_rows": null,
            "height": null,
            "justify_content": null,
            "justify_items": null,
            "left": null,
            "margin": null,
            "max_height": null,
            "max_width": null,
            "min_height": null,
            "min_width": null,
            "object_fit": null,
            "object_position": null,
            "order": null,
            "overflow": null,
            "overflow_x": null,
            "overflow_y": null,
            "padding": null,
            "right": null,
            "top": null,
            "visibility": null,
            "width": null
          }
        },
        "b85e0c4e07f143a88c8633ece0beb0bc": {
          "model_module": "@jupyter-widgets/controls",
          "model_name": "ProgressStyleModel",
          "model_module_version": "1.5.0",
          "state": {
            "_model_module": "@jupyter-widgets/controls",
            "_model_module_version": "1.5.0",
            "_model_name": "ProgressStyleModel",
            "_view_count": null,
            "_view_module": "@jupyter-widgets/base",
            "_view_module_version": "1.2.0",
            "_view_name": "StyleView",
            "bar_color": null,
            "description_width": ""
          }
        },
        "66725d2394c94a1da536b9021209cf84": {
          "model_module": "@jupyter-widgets/base",
          "model_name": "LayoutModel",
          "model_module_version": "1.2.0",
          "state": {
            "_model_module": "@jupyter-widgets/base",
            "_model_module_version": "1.2.0",
            "_model_name": "LayoutModel",
            "_view_count": null,
            "_view_module": "@jupyter-widgets/base",
            "_view_module_version": "1.2.0",
            "_view_name": "LayoutView",
            "align_content": null,
            "align_items": null,
            "align_self": null,
            "border": null,
            "bottom": null,
            "display": null,
            "flex": null,
            "flex_flow": null,
            "grid_area": null,
            "grid_auto_columns": null,
            "grid_auto_flow": null,
            "grid_auto_rows": null,
            "grid_column": null,
            "grid_gap": null,
            "grid_row": null,
            "grid_template_areas": null,
            "grid_template_columns": null,
            "grid_template_rows": null,
            "height": null,
            "justify_content": null,
            "justify_items": null,
            "left": null,
            "margin": null,
            "max_height": null,
            "max_width": null,
            "min_height": null,
            "min_width": null,
            "object_fit": null,
            "object_position": null,
            "order": null,
            "overflow": null,
            "overflow_x": null,
            "overflow_y": null,
            "padding": null,
            "right": null,
            "top": null,
            "visibility": null,
            "width": null
          }
        },
        "b965afc26e1646a9a4546f0138ef6b7c": {
          "model_module": "@jupyter-widgets/controls",
          "model_name": "DescriptionStyleModel",
          "model_module_version": "1.5.0",
          "state": {
            "_model_module": "@jupyter-widgets/controls",
            "_model_module_version": "1.5.0",
            "_model_name": "DescriptionStyleModel",
            "_view_count": null,
            "_view_module": "@jupyter-widgets/base",
            "_view_module_version": "1.2.0",
            "_view_name": "StyleView",
            "description_width": ""
          }
        },
        "0d52e90162c14bbf9c925c64413f9f3e": {
          "model_module": "@jupyter-widgets/controls",
          "model_name": "HBoxModel",
          "model_module_version": "1.5.0",
          "state": {
            "_dom_classes": [],
            "_model_module": "@jupyter-widgets/controls",
            "_model_module_version": "1.5.0",
            "_model_name": "HBoxModel",
            "_view_count": null,
            "_view_module": "@jupyter-widgets/controls",
            "_view_module_version": "1.5.0",
            "_view_name": "HBoxView",
            "box_style": "",
            "children": [
              "IPY_MODEL_deec1d7f76624e34bee2f5e6527ebe1d",
              "IPY_MODEL_9308ed4acd8544e4809d8ad54df44d39",
              "IPY_MODEL_9d3eb452509a4df6b14ce655788f14b7"
            ],
            "layout": "IPY_MODEL_930348a653c04d04a6fa435f7bdc21b9"
          }
        },
        "deec1d7f76624e34bee2f5e6527ebe1d": {
          "model_module": "@jupyter-widgets/controls",
          "model_name": "HTMLModel",
          "model_module_version": "1.5.0",
          "state": {
            "_dom_classes": [],
            "_model_module": "@jupyter-widgets/controls",
            "_model_module_version": "1.5.0",
            "_model_name": "HTMLModel",
            "_view_count": null,
            "_view_module": "@jupyter-widgets/controls",
            "_view_module_version": "1.5.0",
            "_view_name": "HTMLView",
            "description": "",
            "description_tooltip": null,
            "layout": "IPY_MODEL_d80e372f4c594f70ab4785c2a3965b42",
            "placeholder": "​",
            "style": "IPY_MODEL_ffc975f13c3f446186a99c44c28f2477",
            "value": "special_tokens_map.json: 100%"
          }
        },
        "9308ed4acd8544e4809d8ad54df44d39": {
          "model_module": "@jupyter-widgets/controls",
          "model_name": "FloatProgressModel",
          "model_module_version": "1.5.0",
          "state": {
            "_dom_classes": [],
            "_model_module": "@jupyter-widgets/controls",
            "_model_module_version": "1.5.0",
            "_model_name": "FloatProgressModel",
            "_view_count": null,
            "_view_module": "@jupyter-widgets/controls",
            "_view_module_version": "1.5.0",
            "_view_name": "ProgressView",
            "bar_style": "success",
            "description": "",
            "description_tooltip": null,
            "layout": "IPY_MODEL_c53911a796e94453807f45d96d1f892f",
            "max": 72,
            "min": 0,
            "orientation": "horizontal",
            "style": "IPY_MODEL_3355ee6cfbf54a66a5c896d3209d5af8",
            "value": 72
          }
        },
        "9d3eb452509a4df6b14ce655788f14b7": {
          "model_module": "@jupyter-widgets/controls",
          "model_name": "HTMLModel",
          "model_module_version": "1.5.0",
          "state": {
            "_dom_classes": [],
            "_model_module": "@jupyter-widgets/controls",
            "_model_module_version": "1.5.0",
            "_model_name": "HTMLModel",
            "_view_count": null,
            "_view_module": "@jupyter-widgets/controls",
            "_view_module_version": "1.5.0",
            "_view_name": "HTMLView",
            "description": "",
            "description_tooltip": null,
            "layout": "IPY_MODEL_6d612ee724e947718115704f6c2d51a4",
            "placeholder": "​",
            "style": "IPY_MODEL_1884f90fa164472e98f52ad756320f0d",
            "value": " 72.0/72.0 [00:00&lt;00:00, 6.08kB/s]"
          }
        },
        "930348a653c04d04a6fa435f7bdc21b9": {
          "model_module": "@jupyter-widgets/base",
          "model_name": "LayoutModel",
          "model_module_version": "1.2.0",
          "state": {
            "_model_module": "@jupyter-widgets/base",
            "_model_module_version": "1.2.0",
            "_model_name": "LayoutModel",
            "_view_count": null,
            "_view_module": "@jupyter-widgets/base",
            "_view_module_version": "1.2.0",
            "_view_name": "LayoutView",
            "align_content": null,
            "align_items": null,
            "align_self": null,
            "border": null,
            "bottom": null,
            "display": null,
            "flex": null,
            "flex_flow": null,
            "grid_area": null,
            "grid_auto_columns": null,
            "grid_auto_flow": null,
            "grid_auto_rows": null,
            "grid_column": null,
            "grid_gap": null,
            "grid_row": null,
            "grid_template_areas": null,
            "grid_template_columns": null,
            "grid_template_rows": null,
            "height": null,
            "justify_content": null,
            "justify_items": null,
            "left": null,
            "margin": null,
            "max_height": null,
            "max_width": null,
            "min_height": null,
            "min_width": null,
            "object_fit": null,
            "object_position": null,
            "order": null,
            "overflow": null,
            "overflow_x": null,
            "overflow_y": null,
            "padding": null,
            "right": null,
            "top": null,
            "visibility": null,
            "width": null
          }
        },
        "d80e372f4c594f70ab4785c2a3965b42": {
          "model_module": "@jupyter-widgets/base",
          "model_name": "LayoutModel",
          "model_module_version": "1.2.0",
          "state": {
            "_model_module": "@jupyter-widgets/base",
            "_model_module_version": "1.2.0",
            "_model_name": "LayoutModel",
            "_view_count": null,
            "_view_module": "@jupyter-widgets/base",
            "_view_module_version": "1.2.0",
            "_view_name": "LayoutView",
            "align_content": null,
            "align_items": null,
            "align_self": null,
            "border": null,
            "bottom": null,
            "display": null,
            "flex": null,
            "flex_flow": null,
            "grid_area": null,
            "grid_auto_columns": null,
            "grid_auto_flow": null,
            "grid_auto_rows": null,
            "grid_column": null,
            "grid_gap": null,
            "grid_row": null,
            "grid_template_areas": null,
            "grid_template_columns": null,
            "grid_template_rows": null,
            "height": null,
            "justify_content": null,
            "justify_items": null,
            "left": null,
            "margin": null,
            "max_height": null,
            "max_width": null,
            "min_height": null,
            "min_width": null,
            "object_fit": null,
            "object_position": null,
            "order": null,
            "overflow": null,
            "overflow_x": null,
            "overflow_y": null,
            "padding": null,
            "right": null,
            "top": null,
            "visibility": null,
            "width": null
          }
        },
        "ffc975f13c3f446186a99c44c28f2477": {
          "model_module": "@jupyter-widgets/controls",
          "model_name": "DescriptionStyleModel",
          "model_module_version": "1.5.0",
          "state": {
            "_model_module": "@jupyter-widgets/controls",
            "_model_module_version": "1.5.0",
            "_model_name": "DescriptionStyleModel",
            "_view_count": null,
            "_view_module": "@jupyter-widgets/base",
            "_view_module_version": "1.2.0",
            "_view_name": "StyleView",
            "description_width": ""
          }
        },
        "c53911a796e94453807f45d96d1f892f": {
          "model_module": "@jupyter-widgets/base",
          "model_name": "LayoutModel",
          "model_module_version": "1.2.0",
          "state": {
            "_model_module": "@jupyter-widgets/base",
            "_model_module_version": "1.2.0",
            "_model_name": "LayoutModel",
            "_view_count": null,
            "_view_module": "@jupyter-widgets/base",
            "_view_module_version": "1.2.0",
            "_view_name": "LayoutView",
            "align_content": null,
            "align_items": null,
            "align_self": null,
            "border": null,
            "bottom": null,
            "display": null,
            "flex": null,
            "flex_flow": null,
            "grid_area": null,
            "grid_auto_columns": null,
            "grid_auto_flow": null,
            "grid_auto_rows": null,
            "grid_column": null,
            "grid_gap": null,
            "grid_row": null,
            "grid_template_areas": null,
            "grid_template_columns": null,
            "grid_template_rows": null,
            "height": null,
            "justify_content": null,
            "justify_items": null,
            "left": null,
            "margin": null,
            "max_height": null,
            "max_width": null,
            "min_height": null,
            "min_width": null,
            "object_fit": null,
            "object_position": null,
            "order": null,
            "overflow": null,
            "overflow_x": null,
            "overflow_y": null,
            "padding": null,
            "right": null,
            "top": null,
            "visibility": null,
            "width": null
          }
        },
        "3355ee6cfbf54a66a5c896d3209d5af8": {
          "model_module": "@jupyter-widgets/controls",
          "model_name": "ProgressStyleModel",
          "model_module_version": "1.5.0",
          "state": {
            "_model_module": "@jupyter-widgets/controls",
            "_model_module_version": "1.5.0",
            "_model_name": "ProgressStyleModel",
            "_view_count": null,
            "_view_module": "@jupyter-widgets/base",
            "_view_module_version": "1.2.0",
            "_view_name": "StyleView",
            "bar_color": null,
            "description_width": ""
          }
        },
        "6d612ee724e947718115704f6c2d51a4": {
          "model_module": "@jupyter-widgets/base",
          "model_name": "LayoutModel",
          "model_module_version": "1.2.0",
          "state": {
            "_model_module": "@jupyter-widgets/base",
            "_model_module_version": "1.2.0",
            "_model_name": "LayoutModel",
            "_view_count": null,
            "_view_module": "@jupyter-widgets/base",
            "_view_module_version": "1.2.0",
            "_view_name": "LayoutView",
            "align_content": null,
            "align_items": null,
            "align_self": null,
            "border": null,
            "bottom": null,
            "display": null,
            "flex": null,
            "flex_flow": null,
            "grid_area": null,
            "grid_auto_columns": null,
            "grid_auto_flow": null,
            "grid_auto_rows": null,
            "grid_column": null,
            "grid_gap": null,
            "grid_row": null,
            "grid_template_areas": null,
            "grid_template_columns": null,
            "grid_template_rows": null,
            "height": null,
            "justify_content": null,
            "justify_items": null,
            "left": null,
            "margin": null,
            "max_height": null,
            "max_width": null,
            "min_height": null,
            "min_width": null,
            "object_fit": null,
            "object_position": null,
            "order": null,
            "overflow": null,
            "overflow_x": null,
            "overflow_y": null,
            "padding": null,
            "right": null,
            "top": null,
            "visibility": null,
            "width": null
          }
        },
        "1884f90fa164472e98f52ad756320f0d": {
          "model_module": "@jupyter-widgets/controls",
          "model_name": "DescriptionStyleModel",
          "model_module_version": "1.5.0",
          "state": {
            "_model_module": "@jupyter-widgets/controls",
            "_model_module_version": "1.5.0",
            "_model_name": "DescriptionStyleModel",
            "_view_count": null,
            "_view_module": "@jupyter-widgets/base",
            "_view_module_version": "1.2.0",
            "_view_name": "StyleView",
            "description_width": ""
          }
        },
        "7a815cd8a9c44c8493acf50bfcf293f5": {
          "model_module": "@jupyter-widgets/controls",
          "model_name": "HBoxModel",
          "model_module_version": "1.5.0",
          "state": {
            "_dom_classes": [],
            "_model_module": "@jupyter-widgets/controls",
            "_model_module_version": "1.5.0",
            "_model_name": "HBoxModel",
            "_view_count": null,
            "_view_module": "@jupyter-widgets/controls",
            "_view_module_version": "1.5.0",
            "_view_name": "HBoxView",
            "box_style": "",
            "children": [
              "IPY_MODEL_ae38115a9f504652ae3e76db59dbd131",
              "IPY_MODEL_9e09a75b523140d9a57192283dc6823e",
              "IPY_MODEL_d4e40208dba04f1aa0741c5319d2d0be"
            ],
            "layout": "IPY_MODEL_f4000f9781f94f79b59a9c53c97e2cf0"
          }
        },
        "ae38115a9f504652ae3e76db59dbd131": {
          "model_module": "@jupyter-widgets/controls",
          "model_name": "HTMLModel",
          "model_module_version": "1.5.0",
          "state": {
            "_dom_classes": [],
            "_model_module": "@jupyter-widgets/controls",
            "_model_module_version": "1.5.0",
            "_model_name": "HTMLModel",
            "_view_count": null,
            "_view_module": "@jupyter-widgets/controls",
            "_view_module_version": "1.5.0",
            "_view_name": "HTMLView",
            "description": "",
            "description_tooltip": null,
            "layout": "IPY_MODEL_19d7104bc7cd47c99a4d90f5211c026d",
            "placeholder": "​",
            "style": "IPY_MODEL_1de5e408735844ef9639ce261b6dcaf4",
            "value": "config.json: 100%"
          }
        },
        "9e09a75b523140d9a57192283dc6823e": {
          "model_module": "@jupyter-widgets/controls",
          "model_name": "FloatProgressModel",
          "model_module_version": "1.5.0",
          "state": {
            "_dom_classes": [],
            "_model_module": "@jupyter-widgets/controls",
            "_model_module_version": "1.5.0",
            "_model_name": "FloatProgressModel",
            "_view_count": null,
            "_view_module": "@jupyter-widgets/controls",
            "_view_module_version": "1.5.0",
            "_view_name": "ProgressView",
            "bar_style": "success",
            "description": "",
            "description_tooltip": null,
            "layout": "IPY_MODEL_58b8366a9c4c43f48cc20629c1d4f136",
            "max": 596,
            "min": 0,
            "orientation": "horizontal",
            "style": "IPY_MODEL_fc60c1f7854e4178ba2a4e87650c2c87",
            "value": 596
          }
        },
        "d4e40208dba04f1aa0741c5319d2d0be": {
          "model_module": "@jupyter-widgets/controls",
          "model_name": "HTMLModel",
          "model_module_version": "1.5.0",
          "state": {
            "_dom_classes": [],
            "_model_module": "@jupyter-widgets/controls",
            "_model_module_version": "1.5.0",
            "_model_name": "HTMLModel",
            "_view_count": null,
            "_view_module": "@jupyter-widgets/controls",
            "_view_module_version": "1.5.0",
            "_view_name": "HTMLView",
            "description": "",
            "description_tooltip": null,
            "layout": "IPY_MODEL_1e6127ead6424d95ae09fb3f809a1e63",
            "placeholder": "​",
            "style": "IPY_MODEL_6e9d35ebc8534cf5af25d5899fa9abfb",
            "value": " 596/596 [00:00&lt;00:00, 43.7kB/s]"
          }
        },
        "f4000f9781f94f79b59a9c53c97e2cf0": {
          "model_module": "@jupyter-widgets/base",
          "model_name": "LayoutModel",
          "model_module_version": "1.2.0",
          "state": {
            "_model_module": "@jupyter-widgets/base",
            "_model_module_version": "1.2.0",
            "_model_name": "LayoutModel",
            "_view_count": null,
            "_view_module": "@jupyter-widgets/base",
            "_view_module_version": "1.2.0",
            "_view_name": "LayoutView",
            "align_content": null,
            "align_items": null,
            "align_self": null,
            "border": null,
            "bottom": null,
            "display": null,
            "flex": null,
            "flex_flow": null,
            "grid_area": null,
            "grid_auto_columns": null,
            "grid_auto_flow": null,
            "grid_auto_rows": null,
            "grid_column": null,
            "grid_gap": null,
            "grid_row": null,
            "grid_template_areas": null,
            "grid_template_columns": null,
            "grid_template_rows": null,
            "height": null,
            "justify_content": null,
            "justify_items": null,
            "left": null,
            "margin": null,
            "max_height": null,
            "max_width": null,
            "min_height": null,
            "min_width": null,
            "object_fit": null,
            "object_position": null,
            "order": null,
            "overflow": null,
            "overflow_x": null,
            "overflow_y": null,
            "padding": null,
            "right": null,
            "top": null,
            "visibility": null,
            "width": null
          }
        },
        "19d7104bc7cd47c99a4d90f5211c026d": {
          "model_module": "@jupyter-widgets/base",
          "model_name": "LayoutModel",
          "model_module_version": "1.2.0",
          "state": {
            "_model_module": "@jupyter-widgets/base",
            "_model_module_version": "1.2.0",
            "_model_name": "LayoutModel",
            "_view_count": null,
            "_view_module": "@jupyter-widgets/base",
            "_view_module_version": "1.2.0",
            "_view_name": "LayoutView",
            "align_content": null,
            "align_items": null,
            "align_self": null,
            "border": null,
            "bottom": null,
            "display": null,
            "flex": null,
            "flex_flow": null,
            "grid_area": null,
            "grid_auto_columns": null,
            "grid_auto_flow": null,
            "grid_auto_rows": null,
            "grid_column": null,
            "grid_gap": null,
            "grid_row": null,
            "grid_template_areas": null,
            "grid_template_columns": null,
            "grid_template_rows": null,
            "height": null,
            "justify_content": null,
            "justify_items": null,
            "left": null,
            "margin": null,
            "max_height": null,
            "max_width": null,
            "min_height": null,
            "min_width": null,
            "object_fit": null,
            "object_position": null,
            "order": null,
            "overflow": null,
            "overflow_x": null,
            "overflow_y": null,
            "padding": null,
            "right": null,
            "top": null,
            "visibility": null,
            "width": null
          }
        },
        "1de5e408735844ef9639ce261b6dcaf4": {
          "model_module": "@jupyter-widgets/controls",
          "model_name": "DescriptionStyleModel",
          "model_module_version": "1.5.0",
          "state": {
            "_model_module": "@jupyter-widgets/controls",
            "_model_module_version": "1.5.0",
            "_model_name": "DescriptionStyleModel",
            "_view_count": null,
            "_view_module": "@jupyter-widgets/base",
            "_view_module_version": "1.2.0",
            "_view_name": "StyleView",
            "description_width": ""
          }
        },
        "58b8366a9c4c43f48cc20629c1d4f136": {
          "model_module": "@jupyter-widgets/base",
          "model_name": "LayoutModel",
          "model_module_version": "1.2.0",
          "state": {
            "_model_module": "@jupyter-widgets/base",
            "_model_module_version": "1.2.0",
            "_model_name": "LayoutModel",
            "_view_count": null,
            "_view_module": "@jupyter-widgets/base",
            "_view_module_version": "1.2.0",
            "_view_name": "LayoutView",
            "align_content": null,
            "align_items": null,
            "align_self": null,
            "border": null,
            "bottom": null,
            "display": null,
            "flex": null,
            "flex_flow": null,
            "grid_area": null,
            "grid_auto_columns": null,
            "grid_auto_flow": null,
            "grid_auto_rows": null,
            "grid_column": null,
            "grid_gap": null,
            "grid_row": null,
            "grid_template_areas": null,
            "grid_template_columns": null,
            "grid_template_rows": null,
            "height": null,
            "justify_content": null,
            "justify_items": null,
            "left": null,
            "margin": null,
            "max_height": null,
            "max_width": null,
            "min_height": null,
            "min_width": null,
            "object_fit": null,
            "object_position": null,
            "order": null,
            "overflow": null,
            "overflow_x": null,
            "overflow_y": null,
            "padding": null,
            "right": null,
            "top": null,
            "visibility": null,
            "width": null
          }
        },
        "fc60c1f7854e4178ba2a4e87650c2c87": {
          "model_module": "@jupyter-widgets/controls",
          "model_name": "ProgressStyleModel",
          "model_module_version": "1.5.0",
          "state": {
            "_model_module": "@jupyter-widgets/controls",
            "_model_module_version": "1.5.0",
            "_model_name": "ProgressStyleModel",
            "_view_count": null,
            "_view_module": "@jupyter-widgets/base",
            "_view_module_version": "1.2.0",
            "_view_name": "StyleView",
            "bar_color": null,
            "description_width": ""
          }
        },
        "1e6127ead6424d95ae09fb3f809a1e63": {
          "model_module": "@jupyter-widgets/base",
          "model_name": "LayoutModel",
          "model_module_version": "1.2.0",
          "state": {
            "_model_module": "@jupyter-widgets/base",
            "_model_module_version": "1.2.0",
            "_model_name": "LayoutModel",
            "_view_count": null,
            "_view_module": "@jupyter-widgets/base",
            "_view_module_version": "1.2.0",
            "_view_name": "LayoutView",
            "align_content": null,
            "align_items": null,
            "align_self": null,
            "border": null,
            "bottom": null,
            "display": null,
            "flex": null,
            "flex_flow": null,
            "grid_area": null,
            "grid_auto_columns": null,
            "grid_auto_flow": null,
            "grid_auto_rows": null,
            "grid_column": null,
            "grid_gap": null,
            "grid_row": null,
            "grid_template_areas": null,
            "grid_template_columns": null,
            "grid_template_rows": null,
            "height": null,
            "justify_content": null,
            "justify_items": null,
            "left": null,
            "margin": null,
            "max_height": null,
            "max_width": null,
            "min_height": null,
            "min_width": null,
            "object_fit": null,
            "object_position": null,
            "order": null,
            "overflow": null,
            "overflow_x": null,
            "overflow_y": null,
            "padding": null,
            "right": null,
            "top": null,
            "visibility": null,
            "width": null
          }
        },
        "6e9d35ebc8534cf5af25d5899fa9abfb": {
          "model_module": "@jupyter-widgets/controls",
          "model_name": "DescriptionStyleModel",
          "model_module_version": "1.5.0",
          "state": {
            "_model_module": "@jupyter-widgets/controls",
            "_model_module_version": "1.5.0",
            "_model_name": "DescriptionStyleModel",
            "_view_count": null,
            "_view_module": "@jupyter-widgets/base",
            "_view_module_version": "1.2.0",
            "_view_name": "StyleView",
            "description_width": ""
          }
        },
        "d5fc084745a64d11967f888d9b6e3ace": {
          "model_module": "@jupyter-widgets/controls",
          "model_name": "HBoxModel",
          "model_module_version": "1.5.0",
          "state": {
            "_dom_classes": [],
            "_model_module": "@jupyter-widgets/controls",
            "_model_module_version": "1.5.0",
            "_model_name": "HBoxModel",
            "_view_count": null,
            "_view_module": "@jupyter-widgets/controls",
            "_view_module_version": "1.5.0",
            "_view_name": "HBoxView",
            "box_style": "",
            "children": [
              "IPY_MODEL_2c3375b298d44a91b07d4a6d27d7d63a",
              "IPY_MODEL_4dc0067ffd38459bab991f8e8c7a05ad",
              "IPY_MODEL_885d5d05513d4bf28e9c320e0473c3a2"
            ],
            "layout": "IPY_MODEL_5a214d9dda3e45c1a8c6484aeaa7e55d"
          }
        },
        "2c3375b298d44a91b07d4a6d27d7d63a": {
          "model_module": "@jupyter-widgets/controls",
          "model_name": "HTMLModel",
          "model_module_version": "1.5.0",
          "state": {
            "_dom_classes": [],
            "_model_module": "@jupyter-widgets/controls",
            "_model_module_version": "1.5.0",
            "_model_name": "HTMLModel",
            "_view_count": null,
            "_view_module": "@jupyter-widgets/controls",
            "_view_module_version": "1.5.0",
            "_view_name": "HTMLView",
            "description": "",
            "description_tooltip": null,
            "layout": "IPY_MODEL_5a9efe2a992245feb0082167706708d2",
            "placeholder": "​",
            "style": "IPY_MODEL_052c82913eb24bdea3e64fe8b50fb2d5",
            "value": "model.safetensors.index.json: 100%"
          }
        },
        "4dc0067ffd38459bab991f8e8c7a05ad": {
          "model_module": "@jupyter-widgets/controls",
          "model_name": "FloatProgressModel",
          "model_module_version": "1.5.0",
          "state": {
            "_dom_classes": [],
            "_model_module": "@jupyter-widgets/controls",
            "_model_module_version": "1.5.0",
            "_model_name": "FloatProgressModel",
            "_view_count": null,
            "_view_module": "@jupyter-widgets/controls",
            "_view_module_version": "1.5.0",
            "_view_name": "ProgressView",
            "bar_style": "success",
            "description": "",
            "description_tooltip": null,
            "layout": "IPY_MODEL_1ce2c5f51f2b4d1c97bcbd71a95d21fc",
            "max": 25125,
            "min": 0,
            "orientation": "horizontal",
            "style": "IPY_MODEL_e72d06774ef24494b3aee115c13ac92e",
            "value": 25125
          }
        },
        "885d5d05513d4bf28e9c320e0473c3a2": {
          "model_module": "@jupyter-widgets/controls",
          "model_name": "HTMLModel",
          "model_module_version": "1.5.0",
          "state": {
            "_dom_classes": [],
            "_model_module": "@jupyter-widgets/controls",
            "_model_module_version": "1.5.0",
            "_model_name": "HTMLModel",
            "_view_count": null,
            "_view_module": "@jupyter-widgets/controls",
            "_view_module_version": "1.5.0",
            "_view_name": "HTMLView",
            "description": "",
            "description_tooltip": null,
            "layout": "IPY_MODEL_f787083e4c594a73bbb94a89fb9d4bca",
            "placeholder": "​",
            "style": "IPY_MODEL_fc43ca0dfd9e4fb09227c3dc83dc049d",
            "value": " 25.1k/25.1k [00:00&lt;00:00, 1.93MB/s]"
          }
        },
        "5a214d9dda3e45c1a8c6484aeaa7e55d": {
          "model_module": "@jupyter-widgets/base",
          "model_name": "LayoutModel",
          "model_module_version": "1.2.0",
          "state": {
            "_model_module": "@jupyter-widgets/base",
            "_model_module_version": "1.2.0",
            "_model_name": "LayoutModel",
            "_view_count": null,
            "_view_module": "@jupyter-widgets/base",
            "_view_module_version": "1.2.0",
            "_view_name": "LayoutView",
            "align_content": null,
            "align_items": null,
            "align_self": null,
            "border": null,
            "bottom": null,
            "display": null,
            "flex": null,
            "flex_flow": null,
            "grid_area": null,
            "grid_auto_columns": null,
            "grid_auto_flow": null,
            "grid_auto_rows": null,
            "grid_column": null,
            "grid_gap": null,
            "grid_row": null,
            "grid_template_areas": null,
            "grid_template_columns": null,
            "grid_template_rows": null,
            "height": null,
            "justify_content": null,
            "justify_items": null,
            "left": null,
            "margin": null,
            "max_height": null,
            "max_width": null,
            "min_height": null,
            "min_width": null,
            "object_fit": null,
            "object_position": null,
            "order": null,
            "overflow": null,
            "overflow_x": null,
            "overflow_y": null,
            "padding": null,
            "right": null,
            "top": null,
            "visibility": null,
            "width": null
          }
        },
        "5a9efe2a992245feb0082167706708d2": {
          "model_module": "@jupyter-widgets/base",
          "model_name": "LayoutModel",
          "model_module_version": "1.2.0",
          "state": {
            "_model_module": "@jupyter-widgets/base",
            "_model_module_version": "1.2.0",
            "_model_name": "LayoutModel",
            "_view_count": null,
            "_view_module": "@jupyter-widgets/base",
            "_view_module_version": "1.2.0",
            "_view_name": "LayoutView",
            "align_content": null,
            "align_items": null,
            "align_self": null,
            "border": null,
            "bottom": null,
            "display": null,
            "flex": null,
            "flex_flow": null,
            "grid_area": null,
            "grid_auto_columns": null,
            "grid_auto_flow": null,
            "grid_auto_rows": null,
            "grid_column": null,
            "grid_gap": null,
            "grid_row": null,
            "grid_template_areas": null,
            "grid_template_columns": null,
            "grid_template_rows": null,
            "height": null,
            "justify_content": null,
            "justify_items": null,
            "left": null,
            "margin": null,
            "max_height": null,
            "max_width": null,
            "min_height": null,
            "min_width": null,
            "object_fit": null,
            "object_position": null,
            "order": null,
            "overflow": null,
            "overflow_x": null,
            "overflow_y": null,
            "padding": null,
            "right": null,
            "top": null,
            "visibility": null,
            "width": null
          }
        },
        "052c82913eb24bdea3e64fe8b50fb2d5": {
          "model_module": "@jupyter-widgets/controls",
          "model_name": "DescriptionStyleModel",
          "model_module_version": "1.5.0",
          "state": {
            "_model_module": "@jupyter-widgets/controls",
            "_model_module_version": "1.5.0",
            "_model_name": "DescriptionStyleModel",
            "_view_count": null,
            "_view_module": "@jupyter-widgets/base",
            "_view_module_version": "1.2.0",
            "_view_name": "StyleView",
            "description_width": ""
          }
        },
        "1ce2c5f51f2b4d1c97bcbd71a95d21fc": {
          "model_module": "@jupyter-widgets/base",
          "model_name": "LayoutModel",
          "model_module_version": "1.2.0",
          "state": {
            "_model_module": "@jupyter-widgets/base",
            "_model_module_version": "1.2.0",
            "_model_name": "LayoutModel",
            "_view_count": null,
            "_view_module": "@jupyter-widgets/base",
            "_view_module_version": "1.2.0",
            "_view_name": "LayoutView",
            "align_content": null,
            "align_items": null,
            "align_self": null,
            "border": null,
            "bottom": null,
            "display": null,
            "flex": null,
            "flex_flow": null,
            "grid_area": null,
            "grid_auto_columns": null,
            "grid_auto_flow": null,
            "grid_auto_rows": null,
            "grid_column": null,
            "grid_gap": null,
            "grid_row": null,
            "grid_template_areas": null,
            "grid_template_columns": null,
            "grid_template_rows": null,
            "height": null,
            "justify_content": null,
            "justify_items": null,
            "left": null,
            "margin": null,
            "max_height": null,
            "max_width": null,
            "min_height": null,
            "min_width": null,
            "object_fit": null,
            "object_position": null,
            "order": null,
            "overflow": null,
            "overflow_x": null,
            "overflow_y": null,
            "padding": null,
            "right": null,
            "top": null,
            "visibility": null,
            "width": null
          }
        },
        "e72d06774ef24494b3aee115c13ac92e": {
          "model_module": "@jupyter-widgets/controls",
          "model_name": "ProgressStyleModel",
          "model_module_version": "1.5.0",
          "state": {
            "_model_module": "@jupyter-widgets/controls",
            "_model_module_version": "1.5.0",
            "_model_name": "ProgressStyleModel",
            "_view_count": null,
            "_view_module": "@jupyter-widgets/base",
            "_view_module_version": "1.2.0",
            "_view_name": "StyleView",
            "bar_color": null,
            "description_width": ""
          }
        },
        "f787083e4c594a73bbb94a89fb9d4bca": {
          "model_module": "@jupyter-widgets/base",
          "model_name": "LayoutModel",
          "model_module_version": "1.2.0",
          "state": {
            "_model_module": "@jupyter-widgets/base",
            "_model_module_version": "1.2.0",
            "_model_name": "LayoutModel",
            "_view_count": null,
            "_view_module": "@jupyter-widgets/base",
            "_view_module_version": "1.2.0",
            "_view_name": "LayoutView",
            "align_content": null,
            "align_items": null,
            "align_self": null,
            "border": null,
            "bottom": null,
            "display": null,
            "flex": null,
            "flex_flow": null,
            "grid_area": null,
            "grid_auto_columns": null,
            "grid_auto_flow": null,
            "grid_auto_rows": null,
            "grid_column": null,
            "grid_gap": null,
            "grid_row": null,
            "grid_template_areas": null,
            "grid_template_columns": null,
            "grid_template_rows": null,
            "height": null,
            "justify_content": null,
            "justify_items": null,
            "left": null,
            "margin": null,
            "max_height": null,
            "max_width": null,
            "min_height": null,
            "min_width": null,
            "object_fit": null,
            "object_position": null,
            "order": null,
            "overflow": null,
            "overflow_x": null,
            "overflow_y": null,
            "padding": null,
            "right": null,
            "top": null,
            "visibility": null,
            "width": null
          }
        },
        "fc43ca0dfd9e4fb09227c3dc83dc049d": {
          "model_module": "@jupyter-widgets/controls",
          "model_name": "DescriptionStyleModel",
          "model_module_version": "1.5.0",
          "state": {
            "_model_module": "@jupyter-widgets/controls",
            "_model_module_version": "1.5.0",
            "_model_name": "DescriptionStyleModel",
            "_view_count": null,
            "_view_module": "@jupyter-widgets/base",
            "_view_module_version": "1.2.0",
            "_view_name": "StyleView",
            "description_width": ""
          }
        },
        "e8eed3ed5160417bbb0a68aa281f6505": {
          "model_module": "@jupyter-widgets/controls",
          "model_name": "HBoxModel",
          "model_module_version": "1.5.0",
          "state": {
            "_dom_classes": [],
            "_model_module": "@jupyter-widgets/controls",
            "_model_module_version": "1.5.0",
            "_model_name": "HBoxModel",
            "_view_count": null,
            "_view_module": "@jupyter-widgets/controls",
            "_view_module_version": "1.5.0",
            "_view_name": "HBoxView",
            "box_style": "",
            "children": [
              "IPY_MODEL_accfbec0765a48759f015fa3d5602ce8",
              "IPY_MODEL_2e50445801de4ae1b4f0f7af84f20e2f",
              "IPY_MODEL_21ec81dd1f6c4f8e927e4d6d96ac2812"
            ],
            "layout": "IPY_MODEL_aa199e449f7f4328bdaf5f6eca1e7e19"
          }
        },
        "accfbec0765a48759f015fa3d5602ce8": {
          "model_module": "@jupyter-widgets/controls",
          "model_name": "HTMLModel",
          "model_module_version": "1.5.0",
          "state": {
            "_dom_classes": [],
            "_model_module": "@jupyter-widgets/controls",
            "_model_module_version": "1.5.0",
            "_model_name": "HTMLModel",
            "_view_count": null,
            "_view_module": "@jupyter-widgets/controls",
            "_view_module_version": "1.5.0",
            "_view_name": "HTMLView",
            "description": "",
            "description_tooltip": null,
            "layout": "IPY_MODEL_28aa9cf613ae4476b0a1856417160f5d",
            "placeholder": "​",
            "style": "IPY_MODEL_77805702799b4458a54e13db1bab59a3",
            "value": "Downloading shards: 100%"
          }
        },
        "2e50445801de4ae1b4f0f7af84f20e2f": {
          "model_module": "@jupyter-widgets/controls",
          "model_name": "FloatProgressModel",
          "model_module_version": "1.5.0",
          "state": {
            "_dom_classes": [],
            "_model_module": "@jupyter-widgets/controls",
            "_model_module_version": "1.5.0",
            "_model_name": "FloatProgressModel",
            "_view_count": null,
            "_view_module": "@jupyter-widgets/controls",
            "_view_module_version": "1.5.0",
            "_view_name": "ProgressView",
            "bar_style": "success",
            "description": "",
            "description_tooltip": null,
            "layout": "IPY_MODEL_438f8463b92c4f3b9b424c9d76b9d36b",
            "max": 3,
            "min": 0,
            "orientation": "horizontal",
            "style": "IPY_MODEL_bcf465709cae43f4a3772adaf0b688a2",
            "value": 3
          }
        },
        "21ec81dd1f6c4f8e927e4d6d96ac2812": {
          "model_module": "@jupyter-widgets/controls",
          "model_name": "HTMLModel",
          "model_module_version": "1.5.0",
          "state": {
            "_dom_classes": [],
            "_model_module": "@jupyter-widgets/controls",
            "_model_module_version": "1.5.0",
            "_model_name": "HTMLModel",
            "_view_count": null,
            "_view_module": "@jupyter-widgets/controls",
            "_view_module_version": "1.5.0",
            "_view_name": "HTMLView",
            "description": "",
            "description_tooltip": null,
            "layout": "IPY_MODEL_90f91d9a52744788bf1249973311215e",
            "placeholder": "​",
            "style": "IPY_MODEL_2459c726361b4cbf947f5d2c60eb2b19",
            "value": " 3/3 [00:39&lt;00:00, 12.84s/it]"
          }
        },
        "aa199e449f7f4328bdaf5f6eca1e7e19": {
          "model_module": "@jupyter-widgets/base",
          "model_name": "LayoutModel",
          "model_module_version": "1.2.0",
          "state": {
            "_model_module": "@jupyter-widgets/base",
            "_model_module_version": "1.2.0",
            "_model_name": "LayoutModel",
            "_view_count": null,
            "_view_module": "@jupyter-widgets/base",
            "_view_module_version": "1.2.0",
            "_view_name": "LayoutView",
            "align_content": null,
            "align_items": null,
            "align_self": null,
            "border": null,
            "bottom": null,
            "display": null,
            "flex": null,
            "flex_flow": null,
            "grid_area": null,
            "grid_auto_columns": null,
            "grid_auto_flow": null,
            "grid_auto_rows": null,
            "grid_column": null,
            "grid_gap": null,
            "grid_row": null,
            "grid_template_areas": null,
            "grid_template_columns": null,
            "grid_template_rows": null,
            "height": null,
            "justify_content": null,
            "justify_items": null,
            "left": null,
            "margin": null,
            "max_height": null,
            "max_width": null,
            "min_height": null,
            "min_width": null,
            "object_fit": null,
            "object_position": null,
            "order": null,
            "overflow": null,
            "overflow_x": null,
            "overflow_y": null,
            "padding": null,
            "right": null,
            "top": null,
            "visibility": null,
            "width": null
          }
        },
        "28aa9cf613ae4476b0a1856417160f5d": {
          "model_module": "@jupyter-widgets/base",
          "model_name": "LayoutModel",
          "model_module_version": "1.2.0",
          "state": {
            "_model_module": "@jupyter-widgets/base",
            "_model_module_version": "1.2.0",
            "_model_name": "LayoutModel",
            "_view_count": null,
            "_view_module": "@jupyter-widgets/base",
            "_view_module_version": "1.2.0",
            "_view_name": "LayoutView",
            "align_content": null,
            "align_items": null,
            "align_self": null,
            "border": null,
            "bottom": null,
            "display": null,
            "flex": null,
            "flex_flow": null,
            "grid_area": null,
            "grid_auto_columns": null,
            "grid_auto_flow": null,
            "grid_auto_rows": null,
            "grid_column": null,
            "grid_gap": null,
            "grid_row": null,
            "grid_template_areas": null,
            "grid_template_columns": null,
            "grid_template_rows": null,
            "height": null,
            "justify_content": null,
            "justify_items": null,
            "left": null,
            "margin": null,
            "max_height": null,
            "max_width": null,
            "min_height": null,
            "min_width": null,
            "object_fit": null,
            "object_position": null,
            "order": null,
            "overflow": null,
            "overflow_x": null,
            "overflow_y": null,
            "padding": null,
            "right": null,
            "top": null,
            "visibility": null,
            "width": null
          }
        },
        "77805702799b4458a54e13db1bab59a3": {
          "model_module": "@jupyter-widgets/controls",
          "model_name": "DescriptionStyleModel",
          "model_module_version": "1.5.0",
          "state": {
            "_model_module": "@jupyter-widgets/controls",
            "_model_module_version": "1.5.0",
            "_model_name": "DescriptionStyleModel",
            "_view_count": null,
            "_view_module": "@jupyter-widgets/base",
            "_view_module_version": "1.2.0",
            "_view_name": "StyleView",
            "description_width": ""
          }
        },
        "438f8463b92c4f3b9b424c9d76b9d36b": {
          "model_module": "@jupyter-widgets/base",
          "model_name": "LayoutModel",
          "model_module_version": "1.2.0",
          "state": {
            "_model_module": "@jupyter-widgets/base",
            "_model_module_version": "1.2.0",
            "_model_name": "LayoutModel",
            "_view_count": null,
            "_view_module": "@jupyter-widgets/base",
            "_view_module_version": "1.2.0",
            "_view_name": "LayoutView",
            "align_content": null,
            "align_items": null,
            "align_self": null,
            "border": null,
            "bottom": null,
            "display": null,
            "flex": null,
            "flex_flow": null,
            "grid_area": null,
            "grid_auto_columns": null,
            "grid_auto_flow": null,
            "grid_auto_rows": null,
            "grid_column": null,
            "grid_gap": null,
            "grid_row": null,
            "grid_template_areas": null,
            "grid_template_columns": null,
            "grid_template_rows": null,
            "height": null,
            "justify_content": null,
            "justify_items": null,
            "left": null,
            "margin": null,
            "max_height": null,
            "max_width": null,
            "min_height": null,
            "min_width": null,
            "object_fit": null,
            "object_position": null,
            "order": null,
            "overflow": null,
            "overflow_x": null,
            "overflow_y": null,
            "padding": null,
            "right": null,
            "top": null,
            "visibility": null,
            "width": null
          }
        },
        "bcf465709cae43f4a3772adaf0b688a2": {
          "model_module": "@jupyter-widgets/controls",
          "model_name": "ProgressStyleModel",
          "model_module_version": "1.5.0",
          "state": {
            "_model_module": "@jupyter-widgets/controls",
            "_model_module_version": "1.5.0",
            "_model_name": "ProgressStyleModel",
            "_view_count": null,
            "_view_module": "@jupyter-widgets/base",
            "_view_module_version": "1.2.0",
            "_view_name": "StyleView",
            "bar_color": null,
            "description_width": ""
          }
        },
        "90f91d9a52744788bf1249973311215e": {
          "model_module": "@jupyter-widgets/base",
          "model_name": "LayoutModel",
          "model_module_version": "1.2.0",
          "state": {
            "_model_module": "@jupyter-widgets/base",
            "_model_module_version": "1.2.0",
            "_model_name": "LayoutModel",
            "_view_count": null,
            "_view_module": "@jupyter-widgets/base",
            "_view_module_version": "1.2.0",
            "_view_name": "LayoutView",
            "align_content": null,
            "align_items": null,
            "align_self": null,
            "border": null,
            "bottom": null,
            "display": null,
            "flex": null,
            "flex_flow": null,
            "grid_area": null,
            "grid_auto_columns": null,
            "grid_auto_flow": null,
            "grid_auto_rows": null,
            "grid_column": null,
            "grid_gap": null,
            "grid_row": null,
            "grid_template_areas": null,
            "grid_template_columns": null,
            "grid_template_rows": null,
            "height": null,
            "justify_content": null,
            "justify_items": null,
            "left": null,
            "margin": null,
            "max_height": null,
            "max_width": null,
            "min_height": null,
            "min_width": null,
            "object_fit": null,
            "object_position": null,
            "order": null,
            "overflow": null,
            "overflow_x": null,
            "overflow_y": null,
            "padding": null,
            "right": null,
            "top": null,
            "visibility": null,
            "width": null
          }
        },
        "2459c726361b4cbf947f5d2c60eb2b19": {
          "model_module": "@jupyter-widgets/controls",
          "model_name": "DescriptionStyleModel",
          "model_module_version": "1.5.0",
          "state": {
            "_model_module": "@jupyter-widgets/controls",
            "_model_module_version": "1.5.0",
            "_model_name": "DescriptionStyleModel",
            "_view_count": null,
            "_view_module": "@jupyter-widgets/base",
            "_view_module_version": "1.2.0",
            "_view_name": "StyleView",
            "description_width": ""
          }
        },
        "ccacdd2f82564b2286efc17eae15dfc8": {
          "model_module": "@jupyter-widgets/controls",
          "model_name": "HBoxModel",
          "model_module_version": "1.5.0",
          "state": {
            "_dom_classes": [],
            "_model_module": "@jupyter-widgets/controls",
            "_model_module_version": "1.5.0",
            "_model_name": "HBoxModel",
            "_view_count": null,
            "_view_module": "@jupyter-widgets/controls",
            "_view_module_version": "1.5.0",
            "_view_name": "HBoxView",
            "box_style": "",
            "children": [
              "IPY_MODEL_0a48315827d943d39fc507fa00f978ab",
              "IPY_MODEL_5b21d81e51784be380ce0312546b9791",
              "IPY_MODEL_6cad2367c8804295aee6a60c0f66eb08"
            ],
            "layout": "IPY_MODEL_5fb567456a7d49279a62ffa4e220d2a2"
          }
        },
        "0a48315827d943d39fc507fa00f978ab": {
          "model_module": "@jupyter-widgets/controls",
          "model_name": "HTMLModel",
          "model_module_version": "1.5.0",
          "state": {
            "_dom_classes": [],
            "_model_module": "@jupyter-widgets/controls",
            "_model_module_version": "1.5.0",
            "_model_name": "HTMLModel",
            "_view_count": null,
            "_view_module": "@jupyter-widgets/controls",
            "_view_module_version": "1.5.0",
            "_view_name": "HTMLView",
            "description": "",
            "description_tooltip": null,
            "layout": "IPY_MODEL_5bee79707b7b4bb495aecdd36067bd45",
            "placeholder": "​",
            "style": "IPY_MODEL_637153e01dec4d9bb89e2310a7ebba0e",
            "value": "model-00001-of-00003.safetensors: 100%"
          }
        },
        "5b21d81e51784be380ce0312546b9791": {
          "model_module": "@jupyter-widgets/controls",
          "model_name": "FloatProgressModel",
          "model_module_version": "1.5.0",
          "state": {
            "_dom_classes": [],
            "_model_module": "@jupyter-widgets/controls",
            "_model_module_version": "1.5.0",
            "_model_name": "FloatProgressModel",
            "_view_count": null,
            "_view_module": "@jupyter-widgets/controls",
            "_view_module_version": "1.5.0",
            "_view_name": "ProgressView",
            "bar_style": "success",
            "description": "",
            "description_tooltip": null,
            "layout": "IPY_MODEL_88f2ed250e7b48199fe471011c98b2b1",
            "max": 4943162336,
            "min": 0,
            "orientation": "horizontal",
            "style": "IPY_MODEL_2b4a25bf739c449ca7a43a600015b104",
            "value": 4943162336
          }
        },
        "6cad2367c8804295aee6a60c0f66eb08": {
          "model_module": "@jupyter-widgets/controls",
          "model_name": "HTMLModel",
          "model_module_version": "1.5.0",
          "state": {
            "_dom_classes": [],
            "_model_module": "@jupyter-widgets/controls",
            "_model_module_version": "1.5.0",
            "_model_name": "HTMLModel",
            "_view_count": null,
            "_view_module": "@jupyter-widgets/controls",
            "_view_module_version": "1.5.0",
            "_view_name": "HTMLView",
            "description": "",
            "description_tooltip": null,
            "layout": "IPY_MODEL_ba0ac43081694a9e81b36408b63ebaaf",
            "placeholder": "​",
            "style": "IPY_MODEL_fdb06130a5584baf8a218f5f53253d00",
            "value": " 4.94G/4.94G [00:13&lt;00:00, 344MB/s]"
          }
        },
        "5fb567456a7d49279a62ffa4e220d2a2": {
          "model_module": "@jupyter-widgets/base",
          "model_name": "LayoutModel",
          "model_module_version": "1.2.0",
          "state": {
            "_model_module": "@jupyter-widgets/base",
            "_model_module_version": "1.2.0",
            "_model_name": "LayoutModel",
            "_view_count": null,
            "_view_module": "@jupyter-widgets/base",
            "_view_module_version": "1.2.0",
            "_view_name": "LayoutView",
            "align_content": null,
            "align_items": null,
            "align_self": null,
            "border": null,
            "bottom": null,
            "display": null,
            "flex": null,
            "flex_flow": null,
            "grid_area": null,
            "grid_auto_columns": null,
            "grid_auto_flow": null,
            "grid_auto_rows": null,
            "grid_column": null,
            "grid_gap": null,
            "grid_row": null,
            "grid_template_areas": null,
            "grid_template_columns": null,
            "grid_template_rows": null,
            "height": null,
            "justify_content": null,
            "justify_items": null,
            "left": null,
            "margin": null,
            "max_height": null,
            "max_width": null,
            "min_height": null,
            "min_width": null,
            "object_fit": null,
            "object_position": null,
            "order": null,
            "overflow": null,
            "overflow_x": null,
            "overflow_y": null,
            "padding": null,
            "right": null,
            "top": null,
            "visibility": null,
            "width": null
          }
        },
        "5bee79707b7b4bb495aecdd36067bd45": {
          "model_module": "@jupyter-widgets/base",
          "model_name": "LayoutModel",
          "model_module_version": "1.2.0",
          "state": {
            "_model_module": "@jupyter-widgets/base",
            "_model_module_version": "1.2.0",
            "_model_name": "LayoutModel",
            "_view_count": null,
            "_view_module": "@jupyter-widgets/base",
            "_view_module_version": "1.2.0",
            "_view_name": "LayoutView",
            "align_content": null,
            "align_items": null,
            "align_self": null,
            "border": null,
            "bottom": null,
            "display": null,
            "flex": null,
            "flex_flow": null,
            "grid_area": null,
            "grid_auto_columns": null,
            "grid_auto_flow": null,
            "grid_auto_rows": null,
            "grid_column": null,
            "grid_gap": null,
            "grid_row": null,
            "grid_template_areas": null,
            "grid_template_columns": null,
            "grid_template_rows": null,
            "height": null,
            "justify_content": null,
            "justify_items": null,
            "left": null,
            "margin": null,
            "max_height": null,
            "max_width": null,
            "min_height": null,
            "min_width": null,
            "object_fit": null,
            "object_position": null,
            "order": null,
            "overflow": null,
            "overflow_x": null,
            "overflow_y": null,
            "padding": null,
            "right": null,
            "top": null,
            "visibility": null,
            "width": null
          }
        },
        "637153e01dec4d9bb89e2310a7ebba0e": {
          "model_module": "@jupyter-widgets/controls",
          "model_name": "DescriptionStyleModel",
          "model_module_version": "1.5.0",
          "state": {
            "_model_module": "@jupyter-widgets/controls",
            "_model_module_version": "1.5.0",
            "_model_name": "DescriptionStyleModel",
            "_view_count": null,
            "_view_module": "@jupyter-widgets/base",
            "_view_module_version": "1.2.0",
            "_view_name": "StyleView",
            "description_width": ""
          }
        },
        "88f2ed250e7b48199fe471011c98b2b1": {
          "model_module": "@jupyter-widgets/base",
          "model_name": "LayoutModel",
          "model_module_version": "1.2.0",
          "state": {
            "_model_module": "@jupyter-widgets/base",
            "_model_module_version": "1.2.0",
            "_model_name": "LayoutModel",
            "_view_count": null,
            "_view_module": "@jupyter-widgets/base",
            "_view_module_version": "1.2.0",
            "_view_name": "LayoutView",
            "align_content": null,
            "align_items": null,
            "align_self": null,
            "border": null,
            "bottom": null,
            "display": null,
            "flex": null,
            "flex_flow": null,
            "grid_area": null,
            "grid_auto_columns": null,
            "grid_auto_flow": null,
            "grid_auto_rows": null,
            "grid_column": null,
            "grid_gap": null,
            "grid_row": null,
            "grid_template_areas": null,
            "grid_template_columns": null,
            "grid_template_rows": null,
            "height": null,
            "justify_content": null,
            "justify_items": null,
            "left": null,
            "margin": null,
            "max_height": null,
            "max_width": null,
            "min_height": null,
            "min_width": null,
            "object_fit": null,
            "object_position": null,
            "order": null,
            "overflow": null,
            "overflow_x": null,
            "overflow_y": null,
            "padding": null,
            "right": null,
            "top": null,
            "visibility": null,
            "width": null
          }
        },
        "2b4a25bf739c449ca7a43a600015b104": {
          "model_module": "@jupyter-widgets/controls",
          "model_name": "ProgressStyleModel",
          "model_module_version": "1.5.0",
          "state": {
            "_model_module": "@jupyter-widgets/controls",
            "_model_module_version": "1.5.0",
            "_model_name": "ProgressStyleModel",
            "_view_count": null,
            "_view_module": "@jupyter-widgets/base",
            "_view_module_version": "1.2.0",
            "_view_name": "StyleView",
            "bar_color": null,
            "description_width": ""
          }
        },
        "ba0ac43081694a9e81b36408b63ebaaf": {
          "model_module": "@jupyter-widgets/base",
          "model_name": "LayoutModel",
          "model_module_version": "1.2.0",
          "state": {
            "_model_module": "@jupyter-widgets/base",
            "_model_module_version": "1.2.0",
            "_model_name": "LayoutModel",
            "_view_count": null,
            "_view_module": "@jupyter-widgets/base",
            "_view_module_version": "1.2.0",
            "_view_name": "LayoutView",
            "align_content": null,
            "align_items": null,
            "align_self": null,
            "border": null,
            "bottom": null,
            "display": null,
            "flex": null,
            "flex_flow": null,
            "grid_area": null,
            "grid_auto_columns": null,
            "grid_auto_flow": null,
            "grid_auto_rows": null,
            "grid_column": null,
            "grid_gap": null,
            "grid_row": null,
            "grid_template_areas": null,
            "grid_template_columns": null,
            "grid_template_rows": null,
            "height": null,
            "justify_content": null,
            "justify_items": null,
            "left": null,
            "margin": null,
            "max_height": null,
            "max_width": null,
            "min_height": null,
            "min_width": null,
            "object_fit": null,
            "object_position": null,
            "order": null,
            "overflow": null,
            "overflow_x": null,
            "overflow_y": null,
            "padding": null,
            "right": null,
            "top": null,
            "visibility": null,
            "width": null
          }
        },
        "fdb06130a5584baf8a218f5f53253d00": {
          "model_module": "@jupyter-widgets/controls",
          "model_name": "DescriptionStyleModel",
          "model_module_version": "1.5.0",
          "state": {
            "_model_module": "@jupyter-widgets/controls",
            "_model_module_version": "1.5.0",
            "_model_name": "DescriptionStyleModel",
            "_view_count": null,
            "_view_module": "@jupyter-widgets/base",
            "_view_module_version": "1.2.0",
            "_view_name": "StyleView",
            "description_width": ""
          }
        },
        "977478232587497797187e3f1f0bedf3": {
          "model_module": "@jupyter-widgets/controls",
          "model_name": "HBoxModel",
          "model_module_version": "1.5.0",
          "state": {
            "_dom_classes": [],
            "_model_module": "@jupyter-widgets/controls",
            "_model_module_version": "1.5.0",
            "_model_name": "HBoxModel",
            "_view_count": null,
            "_view_module": "@jupyter-widgets/controls",
            "_view_module_version": "1.5.0",
            "_view_name": "HBoxView",
            "box_style": "",
            "children": [
              "IPY_MODEL_11baf9d3f4c14884be1aaaa798b6e4d9",
              "IPY_MODEL_00f36bc9604649c69b709fe3ead5cffa",
              "IPY_MODEL_b78bd7e6b5d94d34a4f1c00c14fbfd05"
            ],
            "layout": "IPY_MODEL_ff9b570f9ba14e10a9444def06fa96cf"
          }
        },
        "11baf9d3f4c14884be1aaaa798b6e4d9": {
          "model_module": "@jupyter-widgets/controls",
          "model_name": "HTMLModel",
          "model_module_version": "1.5.0",
          "state": {
            "_dom_classes": [],
            "_model_module": "@jupyter-widgets/controls",
            "_model_module_version": "1.5.0",
            "_model_name": "HTMLModel",
            "_view_count": null,
            "_view_module": "@jupyter-widgets/controls",
            "_view_module_version": "1.5.0",
            "_view_name": "HTMLView",
            "description": "",
            "description_tooltip": null,
            "layout": "IPY_MODEL_b7466acba6e74200831d88ce5faa7f10",
            "placeholder": "​",
            "style": "IPY_MODEL_489efd7e54a146a49fd63896b6ccdb0a",
            "value": "model-00002-of-00003.safetensors: 100%"
          }
        },
        "00f36bc9604649c69b709fe3ead5cffa": {
          "model_module": "@jupyter-widgets/controls",
          "model_name": "FloatProgressModel",
          "model_module_version": "1.5.0",
          "state": {
            "_dom_classes": [],
            "_model_module": "@jupyter-widgets/controls",
            "_model_module_version": "1.5.0",
            "_model_name": "FloatProgressModel",
            "_view_count": null,
            "_view_module": "@jupyter-widgets/controls",
            "_view_module_version": "1.5.0",
            "_view_name": "ProgressView",
            "bar_style": "success",
            "description": "",
            "description_tooltip": null,
            "layout": "IPY_MODEL_0dce160c2d164e02a1e6b3fbe1a3b59a",
            "max": 4999819336,
            "min": 0,
            "orientation": "horizontal",
            "style": "IPY_MODEL_e67948ad5d0f4bae9cda0f69f3393071",
            "value": 4999819336
          }
        },
        "b78bd7e6b5d94d34a4f1c00c14fbfd05": {
          "model_module": "@jupyter-widgets/controls",
          "model_name": "HTMLModel",
          "model_module_version": "1.5.0",
          "state": {
            "_dom_classes": [],
            "_model_module": "@jupyter-widgets/controls",
            "_model_module_version": "1.5.0",
            "_model_name": "HTMLModel",
            "_view_count": null,
            "_view_module": "@jupyter-widgets/controls",
            "_view_module_version": "1.5.0",
            "_view_name": "HTMLView",
            "description": "",
            "description_tooltip": null,
            "layout": "IPY_MODEL_a59ee67ec9254bdaa7271d5ee0b847dc",
            "placeholder": "​",
            "style": "IPY_MODEL_63ff0886b55c45f68b244626439ed04c",
            "value": " 5.00G/5.00G [00:12&lt;00:00, 372MB/s]"
          }
        },
        "ff9b570f9ba14e10a9444def06fa96cf": {
          "model_module": "@jupyter-widgets/base",
          "model_name": "LayoutModel",
          "model_module_version": "1.2.0",
          "state": {
            "_model_module": "@jupyter-widgets/base",
            "_model_module_version": "1.2.0",
            "_model_name": "LayoutModel",
            "_view_count": null,
            "_view_module": "@jupyter-widgets/base",
            "_view_module_version": "1.2.0",
            "_view_name": "LayoutView",
            "align_content": null,
            "align_items": null,
            "align_self": null,
            "border": null,
            "bottom": null,
            "display": null,
            "flex": null,
            "flex_flow": null,
            "grid_area": null,
            "grid_auto_columns": null,
            "grid_auto_flow": null,
            "grid_auto_rows": null,
            "grid_column": null,
            "grid_gap": null,
            "grid_row": null,
            "grid_template_areas": null,
            "grid_template_columns": null,
            "grid_template_rows": null,
            "height": null,
            "justify_content": null,
            "justify_items": null,
            "left": null,
            "margin": null,
            "max_height": null,
            "max_width": null,
            "min_height": null,
            "min_width": null,
            "object_fit": null,
            "object_position": null,
            "order": null,
            "overflow": null,
            "overflow_x": null,
            "overflow_y": null,
            "padding": null,
            "right": null,
            "top": null,
            "visibility": null,
            "width": null
          }
        },
        "b7466acba6e74200831d88ce5faa7f10": {
          "model_module": "@jupyter-widgets/base",
          "model_name": "LayoutModel",
          "model_module_version": "1.2.0",
          "state": {
            "_model_module": "@jupyter-widgets/base",
            "_model_module_version": "1.2.0",
            "_model_name": "LayoutModel",
            "_view_count": null,
            "_view_module": "@jupyter-widgets/base",
            "_view_module_version": "1.2.0",
            "_view_name": "LayoutView",
            "align_content": null,
            "align_items": null,
            "align_self": null,
            "border": null,
            "bottom": null,
            "display": null,
            "flex": null,
            "flex_flow": null,
            "grid_area": null,
            "grid_auto_columns": null,
            "grid_auto_flow": null,
            "grid_auto_rows": null,
            "grid_column": null,
            "grid_gap": null,
            "grid_row": null,
            "grid_template_areas": null,
            "grid_template_columns": null,
            "grid_template_rows": null,
            "height": null,
            "justify_content": null,
            "justify_items": null,
            "left": null,
            "margin": null,
            "max_height": null,
            "max_width": null,
            "min_height": null,
            "min_width": null,
            "object_fit": null,
            "object_position": null,
            "order": null,
            "overflow": null,
            "overflow_x": null,
            "overflow_y": null,
            "padding": null,
            "right": null,
            "top": null,
            "visibility": null,
            "width": null
          }
        },
        "489efd7e54a146a49fd63896b6ccdb0a": {
          "model_module": "@jupyter-widgets/controls",
          "model_name": "DescriptionStyleModel",
          "model_module_version": "1.5.0",
          "state": {
            "_model_module": "@jupyter-widgets/controls",
            "_model_module_version": "1.5.0",
            "_model_name": "DescriptionStyleModel",
            "_view_count": null,
            "_view_module": "@jupyter-widgets/base",
            "_view_module_version": "1.2.0",
            "_view_name": "StyleView",
            "description_width": ""
          }
        },
        "0dce160c2d164e02a1e6b3fbe1a3b59a": {
          "model_module": "@jupyter-widgets/base",
          "model_name": "LayoutModel",
          "model_module_version": "1.2.0",
          "state": {
            "_model_module": "@jupyter-widgets/base",
            "_model_module_version": "1.2.0",
            "_model_name": "LayoutModel",
            "_view_count": null,
            "_view_module": "@jupyter-widgets/base",
            "_view_module_version": "1.2.0",
            "_view_name": "LayoutView",
            "align_content": null,
            "align_items": null,
            "align_self": null,
            "border": null,
            "bottom": null,
            "display": null,
            "flex": null,
            "flex_flow": null,
            "grid_area": null,
            "grid_auto_columns": null,
            "grid_auto_flow": null,
            "grid_auto_rows": null,
            "grid_column": null,
            "grid_gap": null,
            "grid_row": null,
            "grid_template_areas": null,
            "grid_template_columns": null,
            "grid_template_rows": null,
            "height": null,
            "justify_content": null,
            "justify_items": null,
            "left": null,
            "margin": null,
            "max_height": null,
            "max_width": null,
            "min_height": null,
            "min_width": null,
            "object_fit": null,
            "object_position": null,
            "order": null,
            "overflow": null,
            "overflow_x": null,
            "overflow_y": null,
            "padding": null,
            "right": null,
            "top": null,
            "visibility": null,
            "width": null
          }
        },
        "e67948ad5d0f4bae9cda0f69f3393071": {
          "model_module": "@jupyter-widgets/controls",
          "model_name": "ProgressStyleModel",
          "model_module_version": "1.5.0",
          "state": {
            "_model_module": "@jupyter-widgets/controls",
            "_model_module_version": "1.5.0",
            "_model_name": "ProgressStyleModel",
            "_view_count": null,
            "_view_module": "@jupyter-widgets/base",
            "_view_module_version": "1.2.0",
            "_view_name": "StyleView",
            "bar_color": null,
            "description_width": ""
          }
        },
        "a59ee67ec9254bdaa7271d5ee0b847dc": {
          "model_module": "@jupyter-widgets/base",
          "model_name": "LayoutModel",
          "model_module_version": "1.2.0",
          "state": {
            "_model_module": "@jupyter-widgets/base",
            "_model_module_version": "1.2.0",
            "_model_name": "LayoutModel",
            "_view_count": null,
            "_view_module": "@jupyter-widgets/base",
            "_view_module_version": "1.2.0",
            "_view_name": "LayoutView",
            "align_content": null,
            "align_items": null,
            "align_self": null,
            "border": null,
            "bottom": null,
            "display": null,
            "flex": null,
            "flex_flow": null,
            "grid_area": null,
            "grid_auto_columns": null,
            "grid_auto_flow": null,
            "grid_auto_rows": null,
            "grid_column": null,
            "grid_gap": null,
            "grid_row": null,
            "grid_template_areas": null,
            "grid_template_columns": null,
            "grid_template_rows": null,
            "height": null,
            "justify_content": null,
            "justify_items": null,
            "left": null,
            "margin": null,
            "max_height": null,
            "max_width": null,
            "min_height": null,
            "min_width": null,
            "object_fit": null,
            "object_position": null,
            "order": null,
            "overflow": null,
            "overflow_x": null,
            "overflow_y": null,
            "padding": null,
            "right": null,
            "top": null,
            "visibility": null,
            "width": null
          }
        },
        "63ff0886b55c45f68b244626439ed04c": {
          "model_module": "@jupyter-widgets/controls",
          "model_name": "DescriptionStyleModel",
          "model_module_version": "1.5.0",
          "state": {
            "_model_module": "@jupyter-widgets/controls",
            "_model_module_version": "1.5.0",
            "_model_name": "DescriptionStyleModel",
            "_view_count": null,
            "_view_module": "@jupyter-widgets/base",
            "_view_module_version": "1.2.0",
            "_view_name": "StyleView",
            "description_width": ""
          }
        },
        "a32df66fb931409e90086fa8a16cc0c0": {
          "model_module": "@jupyter-widgets/controls",
          "model_name": "HBoxModel",
          "model_module_version": "1.5.0",
          "state": {
            "_dom_classes": [],
            "_model_module": "@jupyter-widgets/controls",
            "_model_module_version": "1.5.0",
            "_model_name": "HBoxModel",
            "_view_count": null,
            "_view_module": "@jupyter-widgets/controls",
            "_view_module_version": "1.5.0",
            "_view_name": "HBoxView",
            "box_style": "",
            "children": [
              "IPY_MODEL_7110eaa0c99f4fceb9b5fd1c3e6fe32a",
              "IPY_MODEL_0fd2f44b8861433c8eab532c344bd04a",
              "IPY_MODEL_b602f363fc824ebebf503d108b0d1983"
            ],
            "layout": "IPY_MODEL_22249d64b2284424899617a7aec8f9f4"
          }
        },
        "7110eaa0c99f4fceb9b5fd1c3e6fe32a": {
          "model_module": "@jupyter-widgets/controls",
          "model_name": "HTMLModel",
          "model_module_version": "1.5.0",
          "state": {
            "_dom_classes": [],
            "_model_module": "@jupyter-widgets/controls",
            "_model_module_version": "1.5.0",
            "_model_name": "HTMLModel",
            "_view_count": null,
            "_view_module": "@jupyter-widgets/controls",
            "_view_module_version": "1.5.0",
            "_view_name": "HTMLView",
            "description": "",
            "description_tooltip": null,
            "layout": "IPY_MODEL_9e50cca94be9419b8ae1df4e1fb2789b",
            "placeholder": "​",
            "style": "IPY_MODEL_ee258536374b4ecf9a1a22d837861207",
            "value": "model-00003-of-00003.safetensors: 100%"
          }
        },
        "0fd2f44b8861433c8eab532c344bd04a": {
          "model_module": "@jupyter-widgets/controls",
          "model_name": "FloatProgressModel",
          "model_module_version": "1.5.0",
          "state": {
            "_dom_classes": [],
            "_model_module": "@jupyter-widgets/controls",
            "_model_module_version": "1.5.0",
            "_model_name": "FloatProgressModel",
            "_view_count": null,
            "_view_module": "@jupyter-widgets/controls",
            "_view_module_version": "1.5.0",
            "_view_name": "ProgressView",
            "bar_style": "success",
            "description": "",
            "description_tooltip": null,
            "layout": "IPY_MODEL_59a61ca963e1427388af42cb94081431",
            "max": 4540516344,
            "min": 0,
            "orientation": "horizontal",
            "style": "IPY_MODEL_99ae89dc0afb499aae19d810148d9619",
            "value": 4540516344
          }
        },
        "b602f363fc824ebebf503d108b0d1983": {
          "model_module": "@jupyter-widgets/controls",
          "model_name": "HTMLModel",
          "model_module_version": "1.5.0",
          "state": {
            "_dom_classes": [],
            "_model_module": "@jupyter-widgets/controls",
            "_model_module_version": "1.5.0",
            "_model_name": "HTMLModel",
            "_view_count": null,
            "_view_module": "@jupyter-widgets/controls",
            "_view_module_version": "1.5.0",
            "_view_name": "HTMLView",
            "description": "",
            "description_tooltip": null,
            "layout": "IPY_MODEL_efa172413aaf47a49a09a6bef00cb150",
            "placeholder": "​",
            "style": "IPY_MODEL_786ae96ff26b4a619824d11cdb86563a",
            "value": " 4.54G/4.54G [00:11&lt;00:00, 388MB/s]"
          }
        },
        "22249d64b2284424899617a7aec8f9f4": {
          "model_module": "@jupyter-widgets/base",
          "model_name": "LayoutModel",
          "model_module_version": "1.2.0",
          "state": {
            "_model_module": "@jupyter-widgets/base",
            "_model_module_version": "1.2.0",
            "_model_name": "LayoutModel",
            "_view_count": null,
            "_view_module": "@jupyter-widgets/base",
            "_view_module_version": "1.2.0",
            "_view_name": "LayoutView",
            "align_content": null,
            "align_items": null,
            "align_self": null,
            "border": null,
            "bottom": null,
            "display": null,
            "flex": null,
            "flex_flow": null,
            "grid_area": null,
            "grid_auto_columns": null,
            "grid_auto_flow": null,
            "grid_auto_rows": null,
            "grid_column": null,
            "grid_gap": null,
            "grid_row": null,
            "grid_template_areas": null,
            "grid_template_columns": null,
            "grid_template_rows": null,
            "height": null,
            "justify_content": null,
            "justify_items": null,
            "left": null,
            "margin": null,
            "max_height": null,
            "max_width": null,
            "min_height": null,
            "min_width": null,
            "object_fit": null,
            "object_position": null,
            "order": null,
            "overflow": null,
            "overflow_x": null,
            "overflow_y": null,
            "padding": null,
            "right": null,
            "top": null,
            "visibility": null,
            "width": null
          }
        },
        "9e50cca94be9419b8ae1df4e1fb2789b": {
          "model_module": "@jupyter-widgets/base",
          "model_name": "LayoutModel",
          "model_module_version": "1.2.0",
          "state": {
            "_model_module": "@jupyter-widgets/base",
            "_model_module_version": "1.2.0",
            "_model_name": "LayoutModel",
            "_view_count": null,
            "_view_module": "@jupyter-widgets/base",
            "_view_module_version": "1.2.0",
            "_view_name": "LayoutView",
            "align_content": null,
            "align_items": null,
            "align_self": null,
            "border": null,
            "bottom": null,
            "display": null,
            "flex": null,
            "flex_flow": null,
            "grid_area": null,
            "grid_auto_columns": null,
            "grid_auto_flow": null,
            "grid_auto_rows": null,
            "grid_column": null,
            "grid_gap": null,
            "grid_row": null,
            "grid_template_areas": null,
            "grid_template_columns": null,
            "grid_template_rows": null,
            "height": null,
            "justify_content": null,
            "justify_items": null,
            "left": null,
            "margin": null,
            "max_height": null,
            "max_width": null,
            "min_height": null,
            "min_width": null,
            "object_fit": null,
            "object_position": null,
            "order": null,
            "overflow": null,
            "overflow_x": null,
            "overflow_y": null,
            "padding": null,
            "right": null,
            "top": null,
            "visibility": null,
            "width": null
          }
        },
        "ee258536374b4ecf9a1a22d837861207": {
          "model_module": "@jupyter-widgets/controls",
          "model_name": "DescriptionStyleModel",
          "model_module_version": "1.5.0",
          "state": {
            "_model_module": "@jupyter-widgets/controls",
            "_model_module_version": "1.5.0",
            "_model_name": "DescriptionStyleModel",
            "_view_count": null,
            "_view_module": "@jupyter-widgets/base",
            "_view_module_version": "1.2.0",
            "_view_name": "StyleView",
            "description_width": ""
          }
        },
        "59a61ca963e1427388af42cb94081431": {
          "model_module": "@jupyter-widgets/base",
          "model_name": "LayoutModel",
          "model_module_version": "1.2.0",
          "state": {
            "_model_module": "@jupyter-widgets/base",
            "_model_module_version": "1.2.0",
            "_model_name": "LayoutModel",
            "_view_count": null,
            "_view_module": "@jupyter-widgets/base",
            "_view_module_version": "1.2.0",
            "_view_name": "LayoutView",
            "align_content": null,
            "align_items": null,
            "align_self": null,
            "border": null,
            "bottom": null,
            "display": null,
            "flex": null,
            "flex_flow": null,
            "grid_area": null,
            "grid_auto_columns": null,
            "grid_auto_flow": null,
            "grid_auto_rows": null,
            "grid_column": null,
            "grid_gap": null,
            "grid_row": null,
            "grid_template_areas": null,
            "grid_template_columns": null,
            "grid_template_rows": null,
            "height": null,
            "justify_content": null,
            "justify_items": null,
            "left": null,
            "margin": null,
            "max_height": null,
            "max_width": null,
            "min_height": null,
            "min_width": null,
            "object_fit": null,
            "object_position": null,
            "order": null,
            "overflow": null,
            "overflow_x": null,
            "overflow_y": null,
            "padding": null,
            "right": null,
            "top": null,
            "visibility": null,
            "width": null
          }
        },
        "99ae89dc0afb499aae19d810148d9619": {
          "model_module": "@jupyter-widgets/controls",
          "model_name": "ProgressStyleModel",
          "model_module_version": "1.5.0",
          "state": {
            "_model_module": "@jupyter-widgets/controls",
            "_model_module_version": "1.5.0",
            "_model_name": "ProgressStyleModel",
            "_view_count": null,
            "_view_module": "@jupyter-widgets/base",
            "_view_module_version": "1.2.0",
            "_view_name": "StyleView",
            "bar_color": null,
            "description_width": ""
          }
        },
        "efa172413aaf47a49a09a6bef00cb150": {
          "model_module": "@jupyter-widgets/base",
          "model_name": "LayoutModel",
          "model_module_version": "1.2.0",
          "state": {
            "_model_module": "@jupyter-widgets/base",
            "_model_module_version": "1.2.0",
            "_model_name": "LayoutModel",
            "_view_count": null,
            "_view_module": "@jupyter-widgets/base",
            "_view_module_version": "1.2.0",
            "_view_name": "LayoutView",
            "align_content": null,
            "align_items": null,
            "align_self": null,
            "border": null,
            "bottom": null,
            "display": null,
            "flex": null,
            "flex_flow": null,
            "grid_area": null,
            "grid_auto_columns": null,
            "grid_auto_flow": null,
            "grid_auto_rows": null,
            "grid_column": null,
            "grid_gap": null,
            "grid_row": null,
            "grid_template_areas": null,
            "grid_template_columns": null,
            "grid_template_rows": null,
            "height": null,
            "justify_content": null,
            "justify_items": null,
            "left": null,
            "margin": null,
            "max_height": null,
            "max_width": null,
            "min_height": null,
            "min_width": null,
            "object_fit": null,
            "object_position": null,
            "order": null,
            "overflow": null,
            "overflow_x": null,
            "overflow_y": null,
            "padding": null,
            "right": null,
            "top": null,
            "visibility": null,
            "width": null
          }
        },
        "786ae96ff26b4a619824d11cdb86563a": {
          "model_module": "@jupyter-widgets/controls",
          "model_name": "DescriptionStyleModel",
          "model_module_version": "1.5.0",
          "state": {
            "_model_module": "@jupyter-widgets/controls",
            "_model_module_version": "1.5.0",
            "_model_name": "DescriptionStyleModel",
            "_view_count": null,
            "_view_module": "@jupyter-widgets/base",
            "_view_module_version": "1.2.0",
            "_view_name": "StyleView",
            "description_width": ""
          }
        },
        "e395e1ccd5e049bbb72207dec4ccec04": {
          "model_module": "@jupyter-widgets/controls",
          "model_name": "HBoxModel",
          "model_module_version": "1.5.0",
          "state": {
            "_dom_classes": [],
            "_model_module": "@jupyter-widgets/controls",
            "_model_module_version": "1.5.0",
            "_model_name": "HBoxModel",
            "_view_count": null,
            "_view_module": "@jupyter-widgets/controls",
            "_view_module_version": "1.5.0",
            "_view_name": "HBoxView",
            "box_style": "",
            "children": [
              "IPY_MODEL_040906cbfb2348db9fdb85b4d35d1825",
              "IPY_MODEL_a990ea3690f24976aecc05031349876c",
              "IPY_MODEL_ea925a9321554ebbb551d79cb6015851"
            ],
            "layout": "IPY_MODEL_fd882764f50c4ea9a2d2b59f11a978ed"
          }
        },
        "040906cbfb2348db9fdb85b4d35d1825": {
          "model_module": "@jupyter-widgets/controls",
          "model_name": "HTMLModel",
          "model_module_version": "1.5.0",
          "state": {
            "_dom_classes": [],
            "_model_module": "@jupyter-widgets/controls",
            "_model_module_version": "1.5.0",
            "_model_name": "HTMLModel",
            "_view_count": null,
            "_view_module": "@jupyter-widgets/controls",
            "_view_module_version": "1.5.0",
            "_view_name": "HTMLView",
            "description": "",
            "description_tooltip": null,
            "layout": "IPY_MODEL_86e38a35a2a6427c8f5934b3ac8a5d21",
            "placeholder": "​",
            "style": "IPY_MODEL_f88389cf4c874781928bcba0f7a2b004",
            "value": "Loading checkpoint shards: 100%"
          }
        },
        "a990ea3690f24976aecc05031349876c": {
          "model_module": "@jupyter-widgets/controls",
          "model_name": "FloatProgressModel",
          "model_module_version": "1.5.0",
          "state": {
            "_dom_classes": [],
            "_model_module": "@jupyter-widgets/controls",
            "_model_module_version": "1.5.0",
            "_model_name": "FloatProgressModel",
            "_view_count": null,
            "_view_module": "@jupyter-widgets/controls",
            "_view_module_version": "1.5.0",
            "_view_name": "ProgressView",
            "bar_style": "success",
            "description": "",
            "description_tooltip": null,
            "layout": "IPY_MODEL_cf8426e8a51e4d229b43ecf33093a200",
            "max": 3,
            "min": 0,
            "orientation": "horizontal",
            "style": "IPY_MODEL_6df5a6c5b57e439db5d1c54d5c524fdf",
            "value": 3
          }
        },
        "ea925a9321554ebbb551d79cb6015851": {
          "model_module": "@jupyter-widgets/controls",
          "model_name": "HTMLModel",
          "model_module_version": "1.5.0",
          "state": {
            "_dom_classes": [],
            "_model_module": "@jupyter-widgets/controls",
            "_model_module_version": "1.5.0",
            "_model_name": "HTMLModel",
            "_view_count": null,
            "_view_module": "@jupyter-widgets/controls",
            "_view_module_version": "1.5.0",
            "_view_name": "HTMLView",
            "description": "",
            "description_tooltip": null,
            "layout": "IPY_MODEL_d17890eaf659437091596d6cd2ecf391",
            "placeholder": "​",
            "style": "IPY_MODEL_8f8479f2a1c946c3892d3a28d4216cfb",
            "value": " 3/3 [00:05&lt;00:00,  1.74s/it]"
          }
        },
        "fd882764f50c4ea9a2d2b59f11a978ed": {
          "model_module": "@jupyter-widgets/base",
          "model_name": "LayoutModel",
          "model_module_version": "1.2.0",
          "state": {
            "_model_module": "@jupyter-widgets/base",
            "_model_module_version": "1.2.0",
            "_model_name": "LayoutModel",
            "_view_count": null,
            "_view_module": "@jupyter-widgets/base",
            "_view_module_version": "1.2.0",
            "_view_name": "LayoutView",
            "align_content": null,
            "align_items": null,
            "align_self": null,
            "border": null,
            "bottom": null,
            "display": null,
            "flex": null,
            "flex_flow": null,
            "grid_area": null,
            "grid_auto_columns": null,
            "grid_auto_flow": null,
            "grid_auto_rows": null,
            "grid_column": null,
            "grid_gap": null,
            "grid_row": null,
            "grid_template_areas": null,
            "grid_template_columns": null,
            "grid_template_rows": null,
            "height": null,
            "justify_content": null,
            "justify_items": null,
            "left": null,
            "margin": null,
            "max_height": null,
            "max_width": null,
            "min_height": null,
            "min_width": null,
            "object_fit": null,
            "object_position": null,
            "order": null,
            "overflow": null,
            "overflow_x": null,
            "overflow_y": null,
            "padding": null,
            "right": null,
            "top": null,
            "visibility": null,
            "width": null
          }
        },
        "86e38a35a2a6427c8f5934b3ac8a5d21": {
          "model_module": "@jupyter-widgets/base",
          "model_name": "LayoutModel",
          "model_module_version": "1.2.0",
          "state": {
            "_model_module": "@jupyter-widgets/base",
            "_model_module_version": "1.2.0",
            "_model_name": "LayoutModel",
            "_view_count": null,
            "_view_module": "@jupyter-widgets/base",
            "_view_module_version": "1.2.0",
            "_view_name": "LayoutView",
            "align_content": null,
            "align_items": null,
            "align_self": null,
            "border": null,
            "bottom": null,
            "display": null,
            "flex": null,
            "flex_flow": null,
            "grid_area": null,
            "grid_auto_columns": null,
            "grid_auto_flow": null,
            "grid_auto_rows": null,
            "grid_column": null,
            "grid_gap": null,
            "grid_row": null,
            "grid_template_areas": null,
            "grid_template_columns": null,
            "grid_template_rows": null,
            "height": null,
            "justify_content": null,
            "justify_items": null,
            "left": null,
            "margin": null,
            "max_height": null,
            "max_width": null,
            "min_height": null,
            "min_width": null,
            "object_fit": null,
            "object_position": null,
            "order": null,
            "overflow": null,
            "overflow_x": null,
            "overflow_y": null,
            "padding": null,
            "right": null,
            "top": null,
            "visibility": null,
            "width": null
          }
        },
        "f88389cf4c874781928bcba0f7a2b004": {
          "model_module": "@jupyter-widgets/controls",
          "model_name": "DescriptionStyleModel",
          "model_module_version": "1.5.0",
          "state": {
            "_model_module": "@jupyter-widgets/controls",
            "_model_module_version": "1.5.0",
            "_model_name": "DescriptionStyleModel",
            "_view_count": null,
            "_view_module": "@jupyter-widgets/base",
            "_view_module_version": "1.2.0",
            "_view_name": "StyleView",
            "description_width": ""
          }
        },
        "cf8426e8a51e4d229b43ecf33093a200": {
          "model_module": "@jupyter-widgets/base",
          "model_name": "LayoutModel",
          "model_module_version": "1.2.0",
          "state": {
            "_model_module": "@jupyter-widgets/base",
            "_model_module_version": "1.2.0",
            "_model_name": "LayoutModel",
            "_view_count": null,
            "_view_module": "@jupyter-widgets/base",
            "_view_module_version": "1.2.0",
            "_view_name": "LayoutView",
            "align_content": null,
            "align_items": null,
            "align_self": null,
            "border": null,
            "bottom": null,
            "display": null,
            "flex": null,
            "flex_flow": null,
            "grid_area": null,
            "grid_auto_columns": null,
            "grid_auto_flow": null,
            "grid_auto_rows": null,
            "grid_column": null,
            "grid_gap": null,
            "grid_row": null,
            "grid_template_areas": null,
            "grid_template_columns": null,
            "grid_template_rows": null,
            "height": null,
            "justify_content": null,
            "justify_items": null,
            "left": null,
            "margin": null,
            "max_height": null,
            "max_width": null,
            "min_height": null,
            "min_width": null,
            "object_fit": null,
            "object_position": null,
            "order": null,
            "overflow": null,
            "overflow_x": null,
            "overflow_y": null,
            "padding": null,
            "right": null,
            "top": null,
            "visibility": null,
            "width": null
          }
        },
        "6df5a6c5b57e439db5d1c54d5c524fdf": {
          "model_module": "@jupyter-widgets/controls",
          "model_name": "ProgressStyleModel",
          "model_module_version": "1.5.0",
          "state": {
            "_model_module": "@jupyter-widgets/controls",
            "_model_module_version": "1.5.0",
            "_model_name": "ProgressStyleModel",
            "_view_count": null,
            "_view_module": "@jupyter-widgets/base",
            "_view_module_version": "1.2.0",
            "_view_name": "StyleView",
            "bar_color": null,
            "description_width": ""
          }
        },
        "d17890eaf659437091596d6cd2ecf391": {
          "model_module": "@jupyter-widgets/base",
          "model_name": "LayoutModel",
          "model_module_version": "1.2.0",
          "state": {
            "_model_module": "@jupyter-widgets/base",
            "_model_module_version": "1.2.0",
            "_model_name": "LayoutModel",
            "_view_count": null,
            "_view_module": "@jupyter-widgets/base",
            "_view_module_version": "1.2.0",
            "_view_name": "LayoutView",
            "align_content": null,
            "align_items": null,
            "align_self": null,
            "border": null,
            "bottom": null,
            "display": null,
            "flex": null,
            "flex_flow": null,
            "grid_area": null,
            "grid_auto_columns": null,
            "grid_auto_flow": null,
            "grid_auto_rows": null,
            "grid_column": null,
            "grid_gap": null,
            "grid_row": null,
            "grid_template_areas": null,
            "grid_template_columns": null,
            "grid_template_rows": null,
            "height": null,
            "justify_content": null,
            "justify_items": null,
            "left": null,
            "margin": null,
            "max_height": null,
            "max_width": null,
            "min_height": null,
            "min_width": null,
            "object_fit": null,
            "object_position": null,
            "order": null,
            "overflow": null,
            "overflow_x": null,
            "overflow_y": null,
            "padding": null,
            "right": null,
            "top": null,
            "visibility": null,
            "width": null
          }
        },
        "8f8479f2a1c946c3892d3a28d4216cfb": {
          "model_module": "@jupyter-widgets/controls",
          "model_name": "DescriptionStyleModel",
          "model_module_version": "1.5.0",
          "state": {
            "_model_module": "@jupyter-widgets/controls",
            "_model_module_version": "1.5.0",
            "_model_name": "DescriptionStyleModel",
            "_view_count": null,
            "_view_module": "@jupyter-widgets/base",
            "_view_module_version": "1.2.0",
            "_view_name": "StyleView",
            "description_width": ""
          }
        },
        "fe9b351675604e7d8bffdb64348e2109": {
          "model_module": "@jupyter-widgets/controls",
          "model_name": "HBoxModel",
          "model_module_version": "1.5.0",
          "state": {
            "_dom_classes": [],
            "_model_module": "@jupyter-widgets/controls",
            "_model_module_version": "1.5.0",
            "_model_name": "HBoxModel",
            "_view_count": null,
            "_view_module": "@jupyter-widgets/controls",
            "_view_module_version": "1.5.0",
            "_view_name": "HBoxView",
            "box_style": "",
            "children": [
              "IPY_MODEL_82971142f9824679881d1582b35a71e7",
              "IPY_MODEL_a3d783f4305245b0b702c90b1fefcb69",
              "IPY_MODEL_3da278226f5a409fb2149827fdcbd59b"
            ],
            "layout": "IPY_MODEL_a1b2c9d05c54474db97768aff71c82aa"
          }
        },
        "82971142f9824679881d1582b35a71e7": {
          "model_module": "@jupyter-widgets/controls",
          "model_name": "HTMLModel",
          "model_module_version": "1.5.0",
          "state": {
            "_dom_classes": [],
            "_model_module": "@jupyter-widgets/controls",
            "_model_module_version": "1.5.0",
            "_model_name": "HTMLModel",
            "_view_count": null,
            "_view_module": "@jupyter-widgets/controls",
            "_view_module_version": "1.5.0",
            "_view_name": "HTMLView",
            "description": "",
            "description_tooltip": null,
            "layout": "IPY_MODEL_e41bfe2301af44e19aae3eb351241e6a",
            "placeholder": "​",
            "style": "IPY_MODEL_b2c2a13b0313486e80a37764c7307d5a",
            "value": "generation_config.json: 100%"
          }
        },
        "a3d783f4305245b0b702c90b1fefcb69": {
          "model_module": "@jupyter-widgets/controls",
          "model_name": "FloatProgressModel",
          "model_module_version": "1.5.0",
          "state": {
            "_dom_classes": [],
            "_model_module": "@jupyter-widgets/controls",
            "_model_module_version": "1.5.0",
            "_model_name": "FloatProgressModel",
            "_view_count": null,
            "_view_module": "@jupyter-widgets/controls",
            "_view_module_version": "1.5.0",
            "_view_name": "ProgressView",
            "bar_style": "success",
            "description": "",
            "description_tooltip": null,
            "layout": "IPY_MODEL_66ffde80aead45a5be698f7c1a7a202f",
            "max": 111,
            "min": 0,
            "orientation": "horizontal",
            "style": "IPY_MODEL_6225030fa43d4ee4ad0d49c9536bf0d7",
            "value": 111
          }
        },
        "3da278226f5a409fb2149827fdcbd59b": {
          "model_module": "@jupyter-widgets/controls",
          "model_name": "HTMLModel",
          "model_module_version": "1.5.0",
          "state": {
            "_dom_classes": [],
            "_model_module": "@jupyter-widgets/controls",
            "_model_module_version": "1.5.0",
            "_model_name": "HTMLModel",
            "_view_count": null,
            "_view_module": "@jupyter-widgets/controls",
            "_view_module_version": "1.5.0",
            "_view_name": "HTMLView",
            "description": "",
            "description_tooltip": null,
            "layout": "IPY_MODEL_d0c24ffa70dc407ebd947567ecdb1929",
            "placeholder": "​",
            "style": "IPY_MODEL_cc75650566d24b8bb4119416d2bd14df",
            "value": " 111/111 [00:00&lt;00:00, 8.82kB/s]"
          }
        },
        "a1b2c9d05c54474db97768aff71c82aa": {
          "model_module": "@jupyter-widgets/base",
          "model_name": "LayoutModel",
          "model_module_version": "1.2.0",
          "state": {
            "_model_module": "@jupyter-widgets/base",
            "_model_module_version": "1.2.0",
            "_model_name": "LayoutModel",
            "_view_count": null,
            "_view_module": "@jupyter-widgets/base",
            "_view_module_version": "1.2.0",
            "_view_name": "LayoutView",
            "align_content": null,
            "align_items": null,
            "align_self": null,
            "border": null,
            "bottom": null,
            "display": null,
            "flex": null,
            "flex_flow": null,
            "grid_area": null,
            "grid_auto_columns": null,
            "grid_auto_flow": null,
            "grid_auto_rows": null,
            "grid_column": null,
            "grid_gap": null,
            "grid_row": null,
            "grid_template_areas": null,
            "grid_template_columns": null,
            "grid_template_rows": null,
            "height": null,
            "justify_content": null,
            "justify_items": null,
            "left": null,
            "margin": null,
            "max_height": null,
            "max_width": null,
            "min_height": null,
            "min_width": null,
            "object_fit": null,
            "object_position": null,
            "order": null,
            "overflow": null,
            "overflow_x": null,
            "overflow_y": null,
            "padding": null,
            "right": null,
            "top": null,
            "visibility": null,
            "width": null
          }
        },
        "e41bfe2301af44e19aae3eb351241e6a": {
          "model_module": "@jupyter-widgets/base",
          "model_name": "LayoutModel",
          "model_module_version": "1.2.0",
          "state": {
            "_model_module": "@jupyter-widgets/base",
            "_model_module_version": "1.2.0",
            "_model_name": "LayoutModel",
            "_view_count": null,
            "_view_module": "@jupyter-widgets/base",
            "_view_module_version": "1.2.0",
            "_view_name": "LayoutView",
            "align_content": null,
            "align_items": null,
            "align_self": null,
            "border": null,
            "bottom": null,
            "display": null,
            "flex": null,
            "flex_flow": null,
            "grid_area": null,
            "grid_auto_columns": null,
            "grid_auto_flow": null,
            "grid_auto_rows": null,
            "grid_column": null,
            "grid_gap": null,
            "grid_row": null,
            "grid_template_areas": null,
            "grid_template_columns": null,
            "grid_template_rows": null,
            "height": null,
            "justify_content": null,
            "justify_items": null,
            "left": null,
            "margin": null,
            "max_height": null,
            "max_width": null,
            "min_height": null,
            "min_width": null,
            "object_fit": null,
            "object_position": null,
            "order": null,
            "overflow": null,
            "overflow_x": null,
            "overflow_y": null,
            "padding": null,
            "right": null,
            "top": null,
            "visibility": null,
            "width": null
          }
        },
        "b2c2a13b0313486e80a37764c7307d5a": {
          "model_module": "@jupyter-widgets/controls",
          "model_name": "DescriptionStyleModel",
          "model_module_version": "1.5.0",
          "state": {
            "_model_module": "@jupyter-widgets/controls",
            "_model_module_version": "1.5.0",
            "_model_name": "DescriptionStyleModel",
            "_view_count": null,
            "_view_module": "@jupyter-widgets/base",
            "_view_module_version": "1.2.0",
            "_view_name": "StyleView",
            "description_width": ""
          }
        },
        "66ffde80aead45a5be698f7c1a7a202f": {
          "model_module": "@jupyter-widgets/base",
          "model_name": "LayoutModel",
          "model_module_version": "1.2.0",
          "state": {
            "_model_module": "@jupyter-widgets/base",
            "_model_module_version": "1.2.0",
            "_model_name": "LayoutModel",
            "_view_count": null,
            "_view_module": "@jupyter-widgets/base",
            "_view_module_version": "1.2.0",
            "_view_name": "LayoutView",
            "align_content": null,
            "align_items": null,
            "align_self": null,
            "border": null,
            "bottom": null,
            "display": null,
            "flex": null,
            "flex_flow": null,
            "grid_area": null,
            "grid_auto_columns": null,
            "grid_auto_flow": null,
            "grid_auto_rows": null,
            "grid_column": null,
            "grid_gap": null,
            "grid_row": null,
            "grid_template_areas": null,
            "grid_template_columns": null,
            "grid_template_rows": null,
            "height": null,
            "justify_content": null,
            "justify_items": null,
            "left": null,
            "margin": null,
            "max_height": null,
            "max_width": null,
            "min_height": null,
            "min_width": null,
            "object_fit": null,
            "object_position": null,
            "order": null,
            "overflow": null,
            "overflow_x": null,
            "overflow_y": null,
            "padding": null,
            "right": null,
            "top": null,
            "visibility": null,
            "width": null
          }
        },
        "6225030fa43d4ee4ad0d49c9536bf0d7": {
          "model_module": "@jupyter-widgets/controls",
          "model_name": "ProgressStyleModel",
          "model_module_version": "1.5.0",
          "state": {
            "_model_module": "@jupyter-widgets/controls",
            "_model_module_version": "1.5.0",
            "_model_name": "ProgressStyleModel",
            "_view_count": null,
            "_view_module": "@jupyter-widgets/base",
            "_view_module_version": "1.2.0",
            "_view_name": "StyleView",
            "bar_color": null,
            "description_width": ""
          }
        },
        "d0c24ffa70dc407ebd947567ecdb1929": {
          "model_module": "@jupyter-widgets/base",
          "model_name": "LayoutModel",
          "model_module_version": "1.2.0",
          "state": {
            "_model_module": "@jupyter-widgets/base",
            "_model_module_version": "1.2.0",
            "_model_name": "LayoutModel",
            "_view_count": null,
            "_view_module": "@jupyter-widgets/base",
            "_view_module_version": "1.2.0",
            "_view_name": "LayoutView",
            "align_content": null,
            "align_items": null,
            "align_self": null,
            "border": null,
            "bottom": null,
            "display": null,
            "flex": null,
            "flex_flow": null,
            "grid_area": null,
            "grid_auto_columns": null,
            "grid_auto_flow": null,
            "grid_auto_rows": null,
            "grid_column": null,
            "grid_gap": null,
            "grid_row": null,
            "grid_template_areas": null,
            "grid_template_columns": null,
            "grid_template_rows": null,
            "height": null,
            "justify_content": null,
            "justify_items": null,
            "left": null,
            "margin": null,
            "max_height": null,
            "max_width": null,
            "min_height": null,
            "min_width": null,
            "object_fit": null,
            "object_position": null,
            "order": null,
            "overflow": null,
            "overflow_x": null,
            "overflow_y": null,
            "padding": null,
            "right": null,
            "top": null,
            "visibility": null,
            "width": null
          }
        },
        "cc75650566d24b8bb4119416d2bd14df": {
          "model_module": "@jupyter-widgets/controls",
          "model_name": "DescriptionStyleModel",
          "model_module_version": "1.5.0",
          "state": {
            "_model_module": "@jupyter-widgets/controls",
            "_model_module_version": "1.5.0",
            "_model_name": "DescriptionStyleModel",
            "_view_count": null,
            "_view_module": "@jupyter-widgets/base",
            "_view_module_version": "1.2.0",
            "_view_name": "StyleView",
            "description_width": ""
          }
        },
        "4b70edf747a246d697f06f605c5c8342": {
          "model_module": "@jupyter-widgets/controls",
          "model_name": "HBoxModel",
          "model_module_version": "1.5.0",
          "state": {
            "_dom_classes": [],
            "_model_module": "@jupyter-widgets/controls",
            "_model_module_version": "1.5.0",
            "_model_name": "HBoxModel",
            "_view_count": null,
            "_view_module": "@jupyter-widgets/controls",
            "_view_module_version": "1.5.0",
            "_view_name": "HBoxView",
            "box_style": "",
            "children": [
              "IPY_MODEL_1dd682059ecf422cb699d31462bc5389",
              "IPY_MODEL_a18443a171974781a2b998c307d67373",
              "IPY_MODEL_e9bc699996574d5b9f4495e74efa935a"
            ],
            "layout": "IPY_MODEL_e74504153b5d4547ba1a8ce0c7a70a3f"
          }
        },
        "1dd682059ecf422cb699d31462bc5389": {
          "model_module": "@jupyter-widgets/controls",
          "model_name": "HTMLModel",
          "model_module_version": "1.5.0",
          "state": {
            "_dom_classes": [],
            "_model_module": "@jupyter-widgets/controls",
            "_model_module_version": "1.5.0",
            "_model_name": "HTMLModel",
            "_view_count": null,
            "_view_module": "@jupyter-widgets/controls",
            "_view_module_version": "1.5.0",
            "_view_name": "HTMLView",
            "description": "",
            "description_tooltip": null,
            "layout": "IPY_MODEL_4317bcce8afe46c18aef759abce72f63",
            "placeholder": "​",
            "style": "IPY_MODEL_ef129e65e33c4c71b3f9c7aaa0c0d4d7",
            "value": "Loading checkpoint shards: 100%"
          }
        },
        "a18443a171974781a2b998c307d67373": {
          "model_module": "@jupyter-widgets/controls",
          "model_name": "FloatProgressModel",
          "model_module_version": "1.5.0",
          "state": {
            "_dom_classes": [],
            "_model_module": "@jupyter-widgets/controls",
            "_model_module_version": "1.5.0",
            "_model_name": "FloatProgressModel",
            "_view_count": null,
            "_view_module": "@jupyter-widgets/controls",
            "_view_module_version": "1.5.0",
            "_view_name": "ProgressView",
            "bar_style": "success",
            "description": "",
            "description_tooltip": null,
            "layout": "IPY_MODEL_d416fffe77684dc7b9031af51d080575",
            "max": 3,
            "min": 0,
            "orientation": "horizontal",
            "style": "IPY_MODEL_389ccf4c532c4b018dcd3037a71fb8f4",
            "value": 3
          }
        },
        "e9bc699996574d5b9f4495e74efa935a": {
          "model_module": "@jupyter-widgets/controls",
          "model_name": "HTMLModel",
          "model_module_version": "1.5.0",
          "state": {
            "_dom_classes": [],
            "_model_module": "@jupyter-widgets/controls",
            "_model_module_version": "1.5.0",
            "_model_name": "HTMLModel",
            "_view_count": null,
            "_view_module": "@jupyter-widgets/controls",
            "_view_module_version": "1.5.0",
            "_view_name": "HTMLView",
            "description": "",
            "description_tooltip": null,
            "layout": "IPY_MODEL_a4c73962954549a6baa92bafa969eb89",
            "placeholder": "​",
            "style": "IPY_MODEL_a0315883f6ab44d99e3ac38bacc5151a",
            "value": " 3/3 [00:05&lt;00:00,  1.94s/it]"
          }
        },
        "e74504153b5d4547ba1a8ce0c7a70a3f": {
          "model_module": "@jupyter-widgets/base",
          "model_name": "LayoutModel",
          "model_module_version": "1.2.0",
          "state": {
            "_model_module": "@jupyter-widgets/base",
            "_model_module_version": "1.2.0",
            "_model_name": "LayoutModel",
            "_view_count": null,
            "_view_module": "@jupyter-widgets/base",
            "_view_module_version": "1.2.0",
            "_view_name": "LayoutView",
            "align_content": null,
            "align_items": null,
            "align_self": null,
            "border": null,
            "bottom": null,
            "display": null,
            "flex": null,
            "flex_flow": null,
            "grid_area": null,
            "grid_auto_columns": null,
            "grid_auto_flow": null,
            "grid_auto_rows": null,
            "grid_column": null,
            "grid_gap": null,
            "grid_row": null,
            "grid_template_areas": null,
            "grid_template_columns": null,
            "grid_template_rows": null,
            "height": null,
            "justify_content": null,
            "justify_items": null,
            "left": null,
            "margin": null,
            "max_height": null,
            "max_width": null,
            "min_height": null,
            "min_width": null,
            "object_fit": null,
            "object_position": null,
            "order": null,
            "overflow": null,
            "overflow_x": null,
            "overflow_y": null,
            "padding": null,
            "right": null,
            "top": null,
            "visibility": null,
            "width": null
          }
        },
        "4317bcce8afe46c18aef759abce72f63": {
          "model_module": "@jupyter-widgets/base",
          "model_name": "LayoutModel",
          "model_module_version": "1.2.0",
          "state": {
            "_model_module": "@jupyter-widgets/base",
            "_model_module_version": "1.2.0",
            "_model_name": "LayoutModel",
            "_view_count": null,
            "_view_module": "@jupyter-widgets/base",
            "_view_module_version": "1.2.0",
            "_view_name": "LayoutView",
            "align_content": null,
            "align_items": null,
            "align_self": null,
            "border": null,
            "bottom": null,
            "display": null,
            "flex": null,
            "flex_flow": null,
            "grid_area": null,
            "grid_auto_columns": null,
            "grid_auto_flow": null,
            "grid_auto_rows": null,
            "grid_column": null,
            "grid_gap": null,
            "grid_row": null,
            "grid_template_areas": null,
            "grid_template_columns": null,
            "grid_template_rows": null,
            "height": null,
            "justify_content": null,
            "justify_items": null,
            "left": null,
            "margin": null,
            "max_height": null,
            "max_width": null,
            "min_height": null,
            "min_width": null,
            "object_fit": null,
            "object_position": null,
            "order": null,
            "overflow": null,
            "overflow_x": null,
            "overflow_y": null,
            "padding": null,
            "right": null,
            "top": null,
            "visibility": null,
            "width": null
          }
        },
        "ef129e65e33c4c71b3f9c7aaa0c0d4d7": {
          "model_module": "@jupyter-widgets/controls",
          "model_name": "DescriptionStyleModel",
          "model_module_version": "1.5.0",
          "state": {
            "_model_module": "@jupyter-widgets/controls",
            "_model_module_version": "1.5.0",
            "_model_name": "DescriptionStyleModel",
            "_view_count": null,
            "_view_module": "@jupyter-widgets/base",
            "_view_module_version": "1.2.0",
            "_view_name": "StyleView",
            "description_width": ""
          }
        },
        "d416fffe77684dc7b9031af51d080575": {
          "model_module": "@jupyter-widgets/base",
          "model_name": "LayoutModel",
          "model_module_version": "1.2.0",
          "state": {
            "_model_module": "@jupyter-widgets/base",
            "_model_module_version": "1.2.0",
            "_model_name": "LayoutModel",
            "_view_count": null,
            "_view_module": "@jupyter-widgets/base",
            "_view_module_version": "1.2.0",
            "_view_name": "LayoutView",
            "align_content": null,
            "align_items": null,
            "align_self": null,
            "border": null,
            "bottom": null,
            "display": null,
            "flex": null,
            "flex_flow": null,
            "grid_area": null,
            "grid_auto_columns": null,
            "grid_auto_flow": null,
            "grid_auto_rows": null,
            "grid_column": null,
            "grid_gap": null,
            "grid_row": null,
            "grid_template_areas": null,
            "grid_template_columns": null,
            "grid_template_rows": null,
            "height": null,
            "justify_content": null,
            "justify_items": null,
            "left": null,
            "margin": null,
            "max_height": null,
            "max_width": null,
            "min_height": null,
            "min_width": null,
            "object_fit": null,
            "object_position": null,
            "order": null,
            "overflow": null,
            "overflow_x": null,
            "overflow_y": null,
            "padding": null,
            "right": null,
            "top": null,
            "visibility": null,
            "width": null
          }
        },
        "389ccf4c532c4b018dcd3037a71fb8f4": {
          "model_module": "@jupyter-widgets/controls",
          "model_name": "ProgressStyleModel",
          "model_module_version": "1.5.0",
          "state": {
            "_model_module": "@jupyter-widgets/controls",
            "_model_module_version": "1.5.0",
            "_model_name": "ProgressStyleModel",
            "_view_count": null,
            "_view_module": "@jupyter-widgets/base",
            "_view_module_version": "1.2.0",
            "_view_name": "StyleView",
            "bar_color": null,
            "description_width": ""
          }
        },
        "a4c73962954549a6baa92bafa969eb89": {
          "model_module": "@jupyter-widgets/base",
          "model_name": "LayoutModel",
          "model_module_version": "1.2.0",
          "state": {
            "_model_module": "@jupyter-widgets/base",
            "_model_module_version": "1.2.0",
            "_model_name": "LayoutModel",
            "_view_count": null,
            "_view_module": "@jupyter-widgets/base",
            "_view_module_version": "1.2.0",
            "_view_name": "LayoutView",
            "align_content": null,
            "align_items": null,
            "align_self": null,
            "border": null,
            "bottom": null,
            "display": null,
            "flex": null,
            "flex_flow": null,
            "grid_area": null,
            "grid_auto_columns": null,
            "grid_auto_flow": null,
            "grid_auto_rows": null,
            "grid_column": null,
            "grid_gap": null,
            "grid_row": null,
            "grid_template_areas": null,
            "grid_template_columns": null,
            "grid_template_rows": null,
            "height": null,
            "justify_content": null,
            "justify_items": null,
            "left": null,
            "margin": null,
            "max_height": null,
            "max_width": null,
            "min_height": null,
            "min_width": null,
            "object_fit": null,
            "object_position": null,
            "order": null,
            "overflow": null,
            "overflow_x": null,
            "overflow_y": null,
            "padding": null,
            "right": null,
            "top": null,
            "visibility": null,
            "width": null
          }
        },
        "a0315883f6ab44d99e3ac38bacc5151a": {
          "model_module": "@jupyter-widgets/controls",
          "model_name": "DescriptionStyleModel",
          "model_module_version": "1.5.0",
          "state": {
            "_model_module": "@jupyter-widgets/controls",
            "_model_module_version": "1.5.0",
            "_model_name": "DescriptionStyleModel",
            "_view_count": null,
            "_view_module": "@jupyter-widgets/base",
            "_view_module_version": "1.2.0",
            "_view_name": "StyleView",
            "description_width": ""
          }
        },
        "796d350b686346ebb7d9d51f2c13c000": {
          "model_module": "@jupyter-widgets/controls",
          "model_name": "HBoxModel",
          "model_module_version": "1.5.0",
          "state": {
            "_dom_classes": [],
            "_model_module": "@jupyter-widgets/controls",
            "_model_module_version": "1.5.0",
            "_model_name": "HBoxModel",
            "_view_count": null,
            "_view_module": "@jupyter-widgets/controls",
            "_view_module_version": "1.5.0",
            "_view_name": "HBoxView",
            "box_style": "",
            "children": [
              "IPY_MODEL_8309dd8f00784e75a515498aa047128f",
              "IPY_MODEL_a3df3ff696234d0d9f8ba63cf67216b5",
              "IPY_MODEL_a8fbf2ba649f449d92266183cfbd9a4c"
            ],
            "layout": "IPY_MODEL_27041352b40a4b2189036f96739d4e17"
          }
        },
        "8309dd8f00784e75a515498aa047128f": {
          "model_module": "@jupyter-widgets/controls",
          "model_name": "HTMLModel",
          "model_module_version": "1.5.0",
          "state": {
            "_dom_classes": [],
            "_model_module": "@jupyter-widgets/controls",
            "_model_module_version": "1.5.0",
            "_model_name": "HTMLModel",
            "_view_count": null,
            "_view_module": "@jupyter-widgets/controls",
            "_view_module_version": "1.5.0",
            "_view_name": "HTMLView",
            "description": "",
            "description_tooltip": null,
            "layout": "IPY_MODEL_d2a10e02ccc645efa65a3dede2f1bd88",
            "placeholder": "​",
            "style": "IPY_MODEL_b82bb13ac72a43e0a0fb073a9b33a728",
            "value": "Map: 100%"
          }
        },
        "a3df3ff696234d0d9f8ba63cf67216b5": {
          "model_module": "@jupyter-widgets/controls",
          "model_name": "FloatProgressModel",
          "model_module_version": "1.5.0",
          "state": {
            "_dom_classes": [],
            "_model_module": "@jupyter-widgets/controls",
            "_model_module_version": "1.5.0",
            "_model_name": "FloatProgressModel",
            "_view_count": null,
            "_view_module": "@jupyter-widgets/controls",
            "_view_module_version": "1.5.0",
            "_view_name": "ProgressView",
            "bar_style": "success",
            "description": "",
            "description_tooltip": null,
            "layout": "IPY_MODEL_146e15a002694dedb41245c9ad45a114",
            "max": 941,
            "min": 0,
            "orientation": "horizontal",
            "style": "IPY_MODEL_2971c685c4e546c4a277f1679a1f3b0a",
            "value": 941
          }
        },
        "a8fbf2ba649f449d92266183cfbd9a4c": {
          "model_module": "@jupyter-widgets/controls",
          "model_name": "HTMLModel",
          "model_module_version": "1.5.0",
          "state": {
            "_dom_classes": [],
            "_model_module": "@jupyter-widgets/controls",
            "_model_module_version": "1.5.0",
            "_model_name": "HTMLModel",
            "_view_count": null,
            "_view_module": "@jupyter-widgets/controls",
            "_view_module_version": "1.5.0",
            "_view_name": "HTMLView",
            "description": "",
            "description_tooltip": null,
            "layout": "IPY_MODEL_c44d6875323c4765820cff7e5d6f0c2d",
            "placeholder": "​",
            "style": "IPY_MODEL_78fa62640a584b98a7314ab507d05e0e",
            "value": " 941/941 [00:00&lt;00:00, 4294.23 examples/s]"
          }
        },
        "27041352b40a4b2189036f96739d4e17": {
          "model_module": "@jupyter-widgets/base",
          "model_name": "LayoutModel",
          "model_module_version": "1.2.0",
          "state": {
            "_model_module": "@jupyter-widgets/base",
            "_model_module_version": "1.2.0",
            "_model_name": "LayoutModel",
            "_view_count": null,
            "_view_module": "@jupyter-widgets/base",
            "_view_module_version": "1.2.0",
            "_view_name": "LayoutView",
            "align_content": null,
            "align_items": null,
            "align_self": null,
            "border": null,
            "bottom": null,
            "display": null,
            "flex": null,
            "flex_flow": null,
            "grid_area": null,
            "grid_auto_columns": null,
            "grid_auto_flow": null,
            "grid_auto_rows": null,
            "grid_column": null,
            "grid_gap": null,
            "grid_row": null,
            "grid_template_areas": null,
            "grid_template_columns": null,
            "grid_template_rows": null,
            "height": null,
            "justify_content": null,
            "justify_items": null,
            "left": null,
            "margin": null,
            "max_height": null,
            "max_width": null,
            "min_height": null,
            "min_width": null,
            "object_fit": null,
            "object_position": null,
            "order": null,
            "overflow": null,
            "overflow_x": null,
            "overflow_y": null,
            "padding": null,
            "right": null,
            "top": null,
            "visibility": null,
            "width": null
          }
        },
        "d2a10e02ccc645efa65a3dede2f1bd88": {
          "model_module": "@jupyter-widgets/base",
          "model_name": "LayoutModel",
          "model_module_version": "1.2.0",
          "state": {
            "_model_module": "@jupyter-widgets/base",
            "_model_module_version": "1.2.0",
            "_model_name": "LayoutModel",
            "_view_count": null,
            "_view_module": "@jupyter-widgets/base",
            "_view_module_version": "1.2.0",
            "_view_name": "LayoutView",
            "align_content": null,
            "align_items": null,
            "align_self": null,
            "border": null,
            "bottom": null,
            "display": null,
            "flex": null,
            "flex_flow": null,
            "grid_area": null,
            "grid_auto_columns": null,
            "grid_auto_flow": null,
            "grid_auto_rows": null,
            "grid_column": null,
            "grid_gap": null,
            "grid_row": null,
            "grid_template_areas": null,
            "grid_template_columns": null,
            "grid_template_rows": null,
            "height": null,
            "justify_content": null,
            "justify_items": null,
            "left": null,
            "margin": null,
            "max_height": null,
            "max_width": null,
            "min_height": null,
            "min_width": null,
            "object_fit": null,
            "object_position": null,
            "order": null,
            "overflow": null,
            "overflow_x": null,
            "overflow_y": null,
            "padding": null,
            "right": null,
            "top": null,
            "visibility": null,
            "width": null
          }
        },
        "b82bb13ac72a43e0a0fb073a9b33a728": {
          "model_module": "@jupyter-widgets/controls",
          "model_name": "DescriptionStyleModel",
          "model_module_version": "1.5.0",
          "state": {
            "_model_module": "@jupyter-widgets/controls",
            "_model_module_version": "1.5.0",
            "_model_name": "DescriptionStyleModel",
            "_view_count": null,
            "_view_module": "@jupyter-widgets/base",
            "_view_module_version": "1.2.0",
            "_view_name": "StyleView",
            "description_width": ""
          }
        },
        "146e15a002694dedb41245c9ad45a114": {
          "model_module": "@jupyter-widgets/base",
          "model_name": "LayoutModel",
          "model_module_version": "1.2.0",
          "state": {
            "_model_module": "@jupyter-widgets/base",
            "_model_module_version": "1.2.0",
            "_model_name": "LayoutModel",
            "_view_count": null,
            "_view_module": "@jupyter-widgets/base",
            "_view_module_version": "1.2.0",
            "_view_name": "LayoutView",
            "align_content": null,
            "align_items": null,
            "align_self": null,
            "border": null,
            "bottom": null,
            "display": null,
            "flex": null,
            "flex_flow": null,
            "grid_area": null,
            "grid_auto_columns": null,
            "grid_auto_flow": null,
            "grid_auto_rows": null,
            "grid_column": null,
            "grid_gap": null,
            "grid_row": null,
            "grid_template_areas": null,
            "grid_template_columns": null,
            "grid_template_rows": null,
            "height": null,
            "justify_content": null,
            "justify_items": null,
            "left": null,
            "margin": null,
            "max_height": null,
            "max_width": null,
            "min_height": null,
            "min_width": null,
            "object_fit": null,
            "object_position": null,
            "order": null,
            "overflow": null,
            "overflow_x": null,
            "overflow_y": null,
            "padding": null,
            "right": null,
            "top": null,
            "visibility": null,
            "width": null
          }
        },
        "2971c685c4e546c4a277f1679a1f3b0a": {
          "model_module": "@jupyter-widgets/controls",
          "model_name": "ProgressStyleModel",
          "model_module_version": "1.5.0",
          "state": {
            "_model_module": "@jupyter-widgets/controls",
            "_model_module_version": "1.5.0",
            "_model_name": "ProgressStyleModel",
            "_view_count": null,
            "_view_module": "@jupyter-widgets/base",
            "_view_module_version": "1.2.0",
            "_view_name": "StyleView",
            "bar_color": null,
            "description_width": ""
          }
        },
        "c44d6875323c4765820cff7e5d6f0c2d": {
          "model_module": "@jupyter-widgets/base",
          "model_name": "LayoutModel",
          "model_module_version": "1.2.0",
          "state": {
            "_model_module": "@jupyter-widgets/base",
            "_model_module_version": "1.2.0",
            "_model_name": "LayoutModel",
            "_view_count": null,
            "_view_module": "@jupyter-widgets/base",
            "_view_module_version": "1.2.0",
            "_view_name": "LayoutView",
            "align_content": null,
            "align_items": null,
            "align_self": null,
            "border": null,
            "bottom": null,
            "display": null,
            "flex": null,
            "flex_flow": null,
            "grid_area": null,
            "grid_auto_columns": null,
            "grid_auto_flow": null,
            "grid_auto_rows": null,
            "grid_column": null,
            "grid_gap": null,
            "grid_row": null,
            "grid_template_areas": null,
            "grid_template_columns": null,
            "grid_template_rows": null,
            "height": null,
            "justify_content": null,
            "justify_items": null,
            "left": null,
            "margin": null,
            "max_height": null,
            "max_width": null,
            "min_height": null,
            "min_width": null,
            "object_fit": null,
            "object_position": null,
            "order": null,
            "overflow": null,
            "overflow_x": null,
            "overflow_y": null,
            "padding": null,
            "right": null,
            "top": null,
            "visibility": null,
            "width": null
          }
        },
        "78fa62640a584b98a7314ab507d05e0e": {
          "model_module": "@jupyter-widgets/controls",
          "model_name": "DescriptionStyleModel",
          "model_module_version": "1.5.0",
          "state": {
            "_model_module": "@jupyter-widgets/controls",
            "_model_module_version": "1.5.0",
            "_model_name": "DescriptionStyleModel",
            "_view_count": null,
            "_view_module": "@jupyter-widgets/base",
            "_view_module_version": "1.2.0",
            "_view_name": "StyleView",
            "description_width": ""
          }
        },
        "2bbddfe9a3ef458b9a7e9cdfc03ae709": {
          "model_module": "@jupyter-widgets/controls",
          "model_name": "HBoxModel",
          "model_module_version": "1.5.0",
          "state": {
            "_dom_classes": [],
            "_model_module": "@jupyter-widgets/controls",
            "_model_module_version": "1.5.0",
            "_model_name": "HBoxModel",
            "_view_count": null,
            "_view_module": "@jupyter-widgets/controls",
            "_view_module_version": "1.5.0",
            "_view_name": "HBoxView",
            "box_style": "",
            "children": [
              "IPY_MODEL_7daf2588c79647a6914c6db43fc2e81f",
              "IPY_MODEL_8e198ab04b9e4d679180b101573b16ad",
              "IPY_MODEL_37a90c60d89f4c0d9d8f28fc1ec07cf7"
            ],
            "layout": "IPY_MODEL_de54cbc7a865490d9db0901092e7bc0c"
          }
        },
        "7daf2588c79647a6914c6db43fc2e81f": {
          "model_module": "@jupyter-widgets/controls",
          "model_name": "HTMLModel",
          "model_module_version": "1.5.0",
          "state": {
            "_dom_classes": [],
            "_model_module": "@jupyter-widgets/controls",
            "_model_module_version": "1.5.0",
            "_model_name": "HTMLModel",
            "_view_count": null,
            "_view_module": "@jupyter-widgets/controls",
            "_view_module_version": "1.5.0",
            "_view_name": "HTMLView",
            "description": "",
            "description_tooltip": null,
            "layout": "IPY_MODEL_0b248cf5bb9b4778b655fcb03f27e356",
            "placeholder": "​",
            "style": "IPY_MODEL_83cb0c2b888c42d591a381815cd58f3a",
            "value": "adapter_model.safetensors: 100%"
          }
        },
        "8e198ab04b9e4d679180b101573b16ad": {
          "model_module": "@jupyter-widgets/controls",
          "model_name": "FloatProgressModel",
          "model_module_version": "1.5.0",
          "state": {
            "_dom_classes": [],
            "_model_module": "@jupyter-widgets/controls",
            "_model_module_version": "1.5.0",
            "_model_name": "FloatProgressModel",
            "_view_count": null,
            "_view_module": "@jupyter-widgets/controls",
            "_view_module_version": "1.5.0",
            "_view_name": "ProgressView",
            "bar_style": "success",
            "description": "",
            "description_tooltip": null,
            "layout": "IPY_MODEL_9bed6759de634fb086fecc9572039ca9",
            "max": 369142184,
            "min": 0,
            "orientation": "horizontal",
            "style": "IPY_MODEL_6f4b758ba70e4381a5664389e0f51273",
            "value": 369142184
          }
        },
        "37a90c60d89f4c0d9d8f28fc1ec07cf7": {
          "model_module": "@jupyter-widgets/controls",
          "model_name": "HTMLModel",
          "model_module_version": "1.5.0",
          "state": {
            "_dom_classes": [],
            "_model_module": "@jupyter-widgets/controls",
            "_model_module_version": "1.5.0",
            "_model_name": "HTMLModel",
            "_view_count": null,
            "_view_module": "@jupyter-widgets/controls",
            "_view_module_version": "1.5.0",
            "_view_name": "HTMLView",
            "description": "",
            "description_tooltip": null,
            "layout": "IPY_MODEL_d6bddecbae834331bf45f9ee7e59bcc1",
            "placeholder": "​",
            "style": "IPY_MODEL_6cb20261af3a4cb080bc5adc75af2f46",
            "value": " 369M/369M [00:43&lt;00:00, 14.1MB/s]"
          }
        },
        "de54cbc7a865490d9db0901092e7bc0c": {
          "model_module": "@jupyter-widgets/base",
          "model_name": "LayoutModel",
          "model_module_version": "1.2.0",
          "state": {
            "_model_module": "@jupyter-widgets/base",
            "_model_module_version": "1.2.0",
            "_model_name": "LayoutModel",
            "_view_count": null,
            "_view_module": "@jupyter-widgets/base",
            "_view_module_version": "1.2.0",
            "_view_name": "LayoutView",
            "align_content": null,
            "align_items": null,
            "align_self": null,
            "border": null,
            "bottom": null,
            "display": null,
            "flex": null,
            "flex_flow": null,
            "grid_area": null,
            "grid_auto_columns": null,
            "grid_auto_flow": null,
            "grid_auto_rows": null,
            "grid_column": null,
            "grid_gap": null,
            "grid_row": null,
            "grid_template_areas": null,
            "grid_template_columns": null,
            "grid_template_rows": null,
            "height": null,
            "justify_content": null,
            "justify_items": null,
            "left": null,
            "margin": null,
            "max_height": null,
            "max_width": null,
            "min_height": null,
            "min_width": null,
            "object_fit": null,
            "object_position": null,
            "order": null,
            "overflow": null,
            "overflow_x": null,
            "overflow_y": null,
            "padding": null,
            "right": null,
            "top": null,
            "visibility": null,
            "width": null
          }
        },
        "0b248cf5bb9b4778b655fcb03f27e356": {
          "model_module": "@jupyter-widgets/base",
          "model_name": "LayoutModel",
          "model_module_version": "1.2.0",
          "state": {
            "_model_module": "@jupyter-widgets/base",
            "_model_module_version": "1.2.0",
            "_model_name": "LayoutModel",
            "_view_count": null,
            "_view_module": "@jupyter-widgets/base",
            "_view_module_version": "1.2.0",
            "_view_name": "LayoutView",
            "align_content": null,
            "align_items": null,
            "align_self": null,
            "border": null,
            "bottom": null,
            "display": null,
            "flex": null,
            "flex_flow": null,
            "grid_area": null,
            "grid_auto_columns": null,
            "grid_auto_flow": null,
            "grid_auto_rows": null,
            "grid_column": null,
            "grid_gap": null,
            "grid_row": null,
            "grid_template_areas": null,
            "grid_template_columns": null,
            "grid_template_rows": null,
            "height": null,
            "justify_content": null,
            "justify_items": null,
            "left": null,
            "margin": null,
            "max_height": null,
            "max_width": null,
            "min_height": null,
            "min_width": null,
            "object_fit": null,
            "object_position": null,
            "order": null,
            "overflow": null,
            "overflow_x": null,
            "overflow_y": null,
            "padding": null,
            "right": null,
            "top": null,
            "visibility": null,
            "width": null
          }
        },
        "83cb0c2b888c42d591a381815cd58f3a": {
          "model_module": "@jupyter-widgets/controls",
          "model_name": "DescriptionStyleModel",
          "model_module_version": "1.5.0",
          "state": {
            "_model_module": "@jupyter-widgets/controls",
            "_model_module_version": "1.5.0",
            "_model_name": "DescriptionStyleModel",
            "_view_count": null,
            "_view_module": "@jupyter-widgets/base",
            "_view_module_version": "1.2.0",
            "_view_name": "StyleView",
            "description_width": ""
          }
        },
        "9bed6759de634fb086fecc9572039ca9": {
          "model_module": "@jupyter-widgets/base",
          "model_name": "LayoutModel",
          "model_module_version": "1.2.0",
          "state": {
            "_model_module": "@jupyter-widgets/base",
            "_model_module_version": "1.2.0",
            "_model_name": "LayoutModel",
            "_view_count": null,
            "_view_module": "@jupyter-widgets/base",
            "_view_module_version": "1.2.0",
            "_view_name": "LayoutView",
            "align_content": null,
            "align_items": null,
            "align_self": null,
            "border": null,
            "bottom": null,
            "display": null,
            "flex": null,
            "flex_flow": null,
            "grid_area": null,
            "grid_auto_columns": null,
            "grid_auto_flow": null,
            "grid_auto_rows": null,
            "grid_column": null,
            "grid_gap": null,
            "grid_row": null,
            "grid_template_areas": null,
            "grid_template_columns": null,
            "grid_template_rows": null,
            "height": null,
            "justify_content": null,
            "justify_items": null,
            "left": null,
            "margin": null,
            "max_height": null,
            "max_width": null,
            "min_height": null,
            "min_width": null,
            "object_fit": null,
            "object_position": null,
            "order": null,
            "overflow": null,
            "overflow_x": null,
            "overflow_y": null,
            "padding": null,
            "right": null,
            "top": null,
            "visibility": null,
            "width": null
          }
        },
        "6f4b758ba70e4381a5664389e0f51273": {
          "model_module": "@jupyter-widgets/controls",
          "model_name": "ProgressStyleModel",
          "model_module_version": "1.5.0",
          "state": {
            "_model_module": "@jupyter-widgets/controls",
            "_model_module_version": "1.5.0",
            "_model_name": "ProgressStyleModel",
            "_view_count": null,
            "_view_module": "@jupyter-widgets/base",
            "_view_module_version": "1.2.0",
            "_view_name": "StyleView",
            "bar_color": null,
            "description_width": ""
          }
        },
        "d6bddecbae834331bf45f9ee7e59bcc1": {
          "model_module": "@jupyter-widgets/base",
          "model_name": "LayoutModel",
          "model_module_version": "1.2.0",
          "state": {
            "_model_module": "@jupyter-widgets/base",
            "_model_module_version": "1.2.0",
            "_model_name": "LayoutModel",
            "_view_count": null,
            "_view_module": "@jupyter-widgets/base",
            "_view_module_version": "1.2.0",
            "_view_name": "LayoutView",
            "align_content": null,
            "align_items": null,
            "align_self": null,
            "border": null,
            "bottom": null,
            "display": null,
            "flex": null,
            "flex_flow": null,
            "grid_area": null,
            "grid_auto_columns": null,
            "grid_auto_flow": null,
            "grid_auto_rows": null,
            "grid_column": null,
            "grid_gap": null,
            "grid_row": null,
            "grid_template_areas": null,
            "grid_template_columns": null,
            "grid_template_rows": null,
            "height": null,
            "justify_content": null,
            "justify_items": null,
            "left": null,
            "margin": null,
            "max_height": null,
            "max_width": null,
            "min_height": null,
            "min_width": null,
            "object_fit": null,
            "object_position": null,
            "order": null,
            "overflow": null,
            "overflow_x": null,
            "overflow_y": null,
            "padding": null,
            "right": null,
            "top": null,
            "visibility": null,
            "width": null
          }
        },
        "6cb20261af3a4cb080bc5adc75af2f46": {
          "model_module": "@jupyter-widgets/controls",
          "model_name": "DescriptionStyleModel",
          "model_module_version": "1.5.0",
          "state": {
            "_model_module": "@jupyter-widgets/controls",
            "_model_module_version": "1.5.0",
            "_model_name": "DescriptionStyleModel",
            "_view_count": null,
            "_view_module": "@jupyter-widgets/base",
            "_view_module_version": "1.2.0",
            "_view_name": "StyleView",
            "description_width": ""
          }
        },
        "964b679fc36e42eb9e2a64910436f5e3": {
          "model_module": "@jupyter-widgets/controls",
          "model_name": "HBoxModel",
          "model_module_version": "1.5.0",
          "state": {
            "_dom_classes": [],
            "_model_module": "@jupyter-widgets/controls",
            "_model_module_version": "1.5.0",
            "_model_name": "HBoxModel",
            "_view_count": null,
            "_view_module": "@jupyter-widgets/controls",
            "_view_module_version": "1.5.0",
            "_view_name": "HBoxView",
            "box_style": "",
            "children": [
              "IPY_MODEL_510a0d92a3e6488e858aa93ed61cdd0f",
              "IPY_MODEL_38fce7050e0e475f9a7694392c42f1b9",
              "IPY_MODEL_62674a5618e043319fb38d8151d673b1"
            ],
            "layout": "IPY_MODEL_3f763edc7a0e46c38d99c9a70e2c499c"
          }
        },
        "510a0d92a3e6488e858aa93ed61cdd0f": {
          "model_module": "@jupyter-widgets/controls",
          "model_name": "HTMLModel",
          "model_module_version": "1.5.0",
          "state": {
            "_dom_classes": [],
            "_model_module": "@jupyter-widgets/controls",
            "_model_module_version": "1.5.0",
            "_model_name": "HTMLModel",
            "_view_count": null,
            "_view_module": "@jupyter-widgets/controls",
            "_view_module_version": "1.5.0",
            "_view_name": "HTMLView",
            "description": "",
            "description_tooltip": null,
            "layout": "IPY_MODEL_1220e1592d5141f58a31ef66a733fc27",
            "placeholder": "​",
            "style": "IPY_MODEL_13a71454deba409ba347f5195e900b99",
            "value": "tokenizer.model: 100%"
          }
        },
        "38fce7050e0e475f9a7694392c42f1b9": {
          "model_module": "@jupyter-widgets/controls",
          "model_name": "FloatProgressModel",
          "model_module_version": "1.5.0",
          "state": {
            "_dom_classes": [],
            "_model_module": "@jupyter-widgets/controls",
            "_model_module_version": "1.5.0",
            "_model_name": "FloatProgressModel",
            "_view_count": null,
            "_view_module": "@jupyter-widgets/controls",
            "_view_module_version": "1.5.0",
            "_view_name": "ProgressView",
            "bar_style": "success",
            "description": "",
            "description_tooltip": null,
            "layout": "IPY_MODEL_80dceb964b33435a95c57e3127cdd1ca",
            "max": 493443,
            "min": 0,
            "orientation": "horizontal",
            "style": "IPY_MODEL_c9cda612a109453ea5552dfbcfb749e3",
            "value": 493443
          }
        },
        "62674a5618e043319fb38d8151d673b1": {
          "model_module": "@jupyter-widgets/controls",
          "model_name": "HTMLModel",
          "model_module_version": "1.5.0",
          "state": {
            "_dom_classes": [],
            "_model_module": "@jupyter-widgets/controls",
            "_model_module_version": "1.5.0",
            "_model_name": "HTMLModel",
            "_view_count": null,
            "_view_module": "@jupyter-widgets/controls",
            "_view_module_version": "1.5.0",
            "_view_name": "HTMLView",
            "description": "",
            "description_tooltip": null,
            "layout": "IPY_MODEL_a19fe5d82ac045b59dd750e146a3e16e",
            "placeholder": "​",
            "style": "IPY_MODEL_a7afcd65e4ba4f0e8d1532284341eb58",
            "value": " 493k/493k [00:01&lt;00:00, 362kB/s]"
          }
        },
        "3f763edc7a0e46c38d99c9a70e2c499c": {
          "model_module": "@jupyter-widgets/base",
          "model_name": "LayoutModel",
          "model_module_version": "1.2.0",
          "state": {
            "_model_module": "@jupyter-widgets/base",
            "_model_module_version": "1.2.0",
            "_model_name": "LayoutModel",
            "_view_count": null,
            "_view_module": "@jupyter-widgets/base",
            "_view_module_version": "1.2.0",
            "_view_name": "LayoutView",
            "align_content": null,
            "align_items": null,
            "align_self": null,
            "border": null,
            "bottom": null,
            "display": null,
            "flex": null,
            "flex_flow": null,
            "grid_area": null,
            "grid_auto_columns": null,
            "grid_auto_flow": null,
            "grid_auto_rows": null,
            "grid_column": null,
            "grid_gap": null,
            "grid_row": null,
            "grid_template_areas": null,
            "grid_template_columns": null,
            "grid_template_rows": null,
            "height": null,
            "justify_content": null,
            "justify_items": null,
            "left": null,
            "margin": null,
            "max_height": null,
            "max_width": null,
            "min_height": null,
            "min_width": null,
            "object_fit": null,
            "object_position": null,
            "order": null,
            "overflow": null,
            "overflow_x": null,
            "overflow_y": null,
            "padding": null,
            "right": null,
            "top": null,
            "visibility": null,
            "width": null
          }
        },
        "1220e1592d5141f58a31ef66a733fc27": {
          "model_module": "@jupyter-widgets/base",
          "model_name": "LayoutModel",
          "model_module_version": "1.2.0",
          "state": {
            "_model_module": "@jupyter-widgets/base",
            "_model_module_version": "1.2.0",
            "_model_name": "LayoutModel",
            "_view_count": null,
            "_view_module": "@jupyter-widgets/base",
            "_view_module_version": "1.2.0",
            "_view_name": "LayoutView",
            "align_content": null,
            "align_items": null,
            "align_self": null,
            "border": null,
            "bottom": null,
            "display": null,
            "flex": null,
            "flex_flow": null,
            "grid_area": null,
            "grid_auto_columns": null,
            "grid_auto_flow": null,
            "grid_auto_rows": null,
            "grid_column": null,
            "grid_gap": null,
            "grid_row": null,
            "grid_template_areas": null,
            "grid_template_columns": null,
            "grid_template_rows": null,
            "height": null,
            "justify_content": null,
            "justify_items": null,
            "left": null,
            "margin": null,
            "max_height": null,
            "max_width": null,
            "min_height": null,
            "min_width": null,
            "object_fit": null,
            "object_position": null,
            "order": null,
            "overflow": null,
            "overflow_x": null,
            "overflow_y": null,
            "padding": null,
            "right": null,
            "top": null,
            "visibility": null,
            "width": null
          }
        },
        "13a71454deba409ba347f5195e900b99": {
          "model_module": "@jupyter-widgets/controls",
          "model_name": "DescriptionStyleModel",
          "model_module_version": "1.5.0",
          "state": {
            "_model_module": "@jupyter-widgets/controls",
            "_model_module_version": "1.5.0",
            "_model_name": "DescriptionStyleModel",
            "_view_count": null,
            "_view_module": "@jupyter-widgets/base",
            "_view_module_version": "1.2.0",
            "_view_name": "StyleView",
            "description_width": ""
          }
        },
        "80dceb964b33435a95c57e3127cdd1ca": {
          "model_module": "@jupyter-widgets/base",
          "model_name": "LayoutModel",
          "model_module_version": "1.2.0",
          "state": {
            "_model_module": "@jupyter-widgets/base",
            "_model_module_version": "1.2.0",
            "_model_name": "LayoutModel",
            "_view_count": null,
            "_view_module": "@jupyter-widgets/base",
            "_view_module_version": "1.2.0",
            "_view_name": "LayoutView",
            "align_content": null,
            "align_items": null,
            "align_self": null,
            "border": null,
            "bottom": null,
            "display": null,
            "flex": null,
            "flex_flow": null,
            "grid_area": null,
            "grid_auto_columns": null,
            "grid_auto_flow": null,
            "grid_auto_rows": null,
            "grid_column": null,
            "grid_gap": null,
            "grid_row": null,
            "grid_template_areas": null,
            "grid_template_columns": null,
            "grid_template_rows": null,
            "height": null,
            "justify_content": null,
            "justify_items": null,
            "left": null,
            "margin": null,
            "max_height": null,
            "max_width": null,
            "min_height": null,
            "min_width": null,
            "object_fit": null,
            "object_position": null,
            "order": null,
            "overflow": null,
            "overflow_x": null,
            "overflow_y": null,
            "padding": null,
            "right": null,
            "top": null,
            "visibility": null,
            "width": null
          }
        },
        "c9cda612a109453ea5552dfbcfb749e3": {
          "model_module": "@jupyter-widgets/controls",
          "model_name": "ProgressStyleModel",
          "model_module_version": "1.5.0",
          "state": {
            "_model_module": "@jupyter-widgets/controls",
            "_model_module_version": "1.5.0",
            "_model_name": "ProgressStyleModel",
            "_view_count": null,
            "_view_module": "@jupyter-widgets/base",
            "_view_module_version": "1.2.0",
            "_view_name": "StyleView",
            "bar_color": null,
            "description_width": ""
          }
        },
        "a19fe5d82ac045b59dd750e146a3e16e": {
          "model_module": "@jupyter-widgets/base",
          "model_name": "LayoutModel",
          "model_module_version": "1.2.0",
          "state": {
            "_model_module": "@jupyter-widgets/base",
            "_model_module_version": "1.2.0",
            "_model_name": "LayoutModel",
            "_view_count": null,
            "_view_module": "@jupyter-widgets/base",
            "_view_module_version": "1.2.0",
            "_view_name": "LayoutView",
            "align_content": null,
            "align_items": null,
            "align_self": null,
            "border": null,
            "bottom": null,
            "display": null,
            "flex": null,
            "flex_flow": null,
            "grid_area": null,
            "grid_auto_columns": null,
            "grid_auto_flow": null,
            "grid_auto_rows": null,
            "grid_column": null,
            "grid_gap": null,
            "grid_row": null,
            "grid_template_areas": null,
            "grid_template_columns": null,
            "grid_template_rows": null,
            "height": null,
            "justify_content": null,
            "justify_items": null,
            "left": null,
            "margin": null,
            "max_height": null,
            "max_width": null,
            "min_height": null,
            "min_width": null,
            "object_fit": null,
            "object_position": null,
            "order": null,
            "overflow": null,
            "overflow_x": null,
            "overflow_y": null,
            "padding": null,
            "right": null,
            "top": null,
            "visibility": null,
            "width": null
          }
        },
        "a7afcd65e4ba4f0e8d1532284341eb58": {
          "model_module": "@jupyter-widgets/controls",
          "model_name": "DescriptionStyleModel",
          "model_module_version": "1.5.0",
          "state": {
            "_model_module": "@jupyter-widgets/controls",
            "_model_module_version": "1.5.0",
            "_model_name": "DescriptionStyleModel",
            "_view_count": null,
            "_view_module": "@jupyter-widgets/base",
            "_view_module_version": "1.2.0",
            "_view_name": "StyleView",
            "description_width": ""
          }
        },
        "8c8d5a03a411428fb90a4bde51174f0b": {
          "model_module": "@jupyter-widgets/controls",
          "model_name": "HBoxModel",
          "model_module_version": "1.5.0",
          "state": {
            "_dom_classes": [],
            "_model_module": "@jupyter-widgets/controls",
            "_model_module_version": "1.5.0",
            "_model_name": "HBoxModel",
            "_view_count": null,
            "_view_module": "@jupyter-widgets/controls",
            "_view_module_version": "1.5.0",
            "_view_name": "HBoxView",
            "box_style": "",
            "children": [
              "IPY_MODEL_2f1d7318c22b4e20a1ea384a8fa7e73a",
              "IPY_MODEL_1b1815aa771e41e49e6c5bed4e884e3a",
              "IPY_MODEL_154c7a22a9c943e8b034cc32facc7d98"
            ],
            "layout": "IPY_MODEL_b19e62028ee04781a1a565ba0c307b5f"
          }
        },
        "2f1d7318c22b4e20a1ea384a8fa7e73a": {
          "model_module": "@jupyter-widgets/controls",
          "model_name": "HTMLModel",
          "model_module_version": "1.5.0",
          "state": {
            "_dom_classes": [],
            "_model_module": "@jupyter-widgets/controls",
            "_model_module_version": "1.5.0",
            "_model_name": "HTMLModel",
            "_view_count": null,
            "_view_module": "@jupyter-widgets/controls",
            "_view_module_version": "1.5.0",
            "_view_name": "HTMLView",
            "description": "",
            "description_tooltip": null,
            "layout": "IPY_MODEL_7e9f7a31adda45849cac3f3458f246af",
            "placeholder": "​",
            "style": "IPY_MODEL_24d67314fe734584889f481869b367d3",
            "value": "adapter_config.json: 100%"
          }
        },
        "1b1815aa771e41e49e6c5bed4e884e3a": {
          "model_module": "@jupyter-widgets/controls",
          "model_name": "FloatProgressModel",
          "model_module_version": "1.5.0",
          "state": {
            "_dom_classes": [],
            "_model_module": "@jupyter-widgets/controls",
            "_model_module_version": "1.5.0",
            "_model_name": "FloatProgressModel",
            "_view_count": null,
            "_view_module": "@jupyter-widgets/controls",
            "_view_module_version": "1.5.0",
            "_view_name": "ProgressView",
            "bar_style": "success",
            "description": "",
            "description_tooltip": null,
            "layout": "IPY_MODEL_0b1d4642ef4b4e2ba09017dc90c45ed8",
            "max": 675,
            "min": 0,
            "orientation": "horizontal",
            "style": "IPY_MODEL_9b7e858877bb40a6883f6bd8f712d15c",
            "value": 675
          }
        },
        "154c7a22a9c943e8b034cc32facc7d98": {
          "model_module": "@jupyter-widgets/controls",
          "model_name": "HTMLModel",
          "model_module_version": "1.5.0",
          "state": {
            "_dom_classes": [],
            "_model_module": "@jupyter-widgets/controls",
            "_model_module_version": "1.5.0",
            "_model_name": "HTMLModel",
            "_view_count": null,
            "_view_module": "@jupyter-widgets/controls",
            "_view_module_version": "1.5.0",
            "_view_name": "HTMLView",
            "description": "",
            "description_tooltip": null,
            "layout": "IPY_MODEL_e6347821699f4f9eb9b74b43362b0d63",
            "placeholder": "​",
            "style": "IPY_MODEL_386902d723654957871d67f022707683",
            "value": " 675/675 [00:00&lt;00:00, 62.9kB/s]"
          }
        },
        "b19e62028ee04781a1a565ba0c307b5f": {
          "model_module": "@jupyter-widgets/base",
          "model_name": "LayoutModel",
          "model_module_version": "1.2.0",
          "state": {
            "_model_module": "@jupyter-widgets/base",
            "_model_module_version": "1.2.0",
            "_model_name": "LayoutModel",
            "_view_count": null,
            "_view_module": "@jupyter-widgets/base",
            "_view_module_version": "1.2.0",
            "_view_name": "LayoutView",
            "align_content": null,
            "align_items": null,
            "align_self": null,
            "border": null,
            "bottom": null,
            "display": null,
            "flex": null,
            "flex_flow": null,
            "grid_area": null,
            "grid_auto_columns": null,
            "grid_auto_flow": null,
            "grid_auto_rows": null,
            "grid_column": null,
            "grid_gap": null,
            "grid_row": null,
            "grid_template_areas": null,
            "grid_template_columns": null,
            "grid_template_rows": null,
            "height": null,
            "justify_content": null,
            "justify_items": null,
            "left": null,
            "margin": null,
            "max_height": null,
            "max_width": null,
            "min_height": null,
            "min_width": null,
            "object_fit": null,
            "object_position": null,
            "order": null,
            "overflow": null,
            "overflow_x": null,
            "overflow_y": null,
            "padding": null,
            "right": null,
            "top": null,
            "visibility": null,
            "width": null
          }
        },
        "7e9f7a31adda45849cac3f3458f246af": {
          "model_module": "@jupyter-widgets/base",
          "model_name": "LayoutModel",
          "model_module_version": "1.2.0",
          "state": {
            "_model_module": "@jupyter-widgets/base",
            "_model_module_version": "1.2.0",
            "_model_name": "LayoutModel",
            "_view_count": null,
            "_view_module": "@jupyter-widgets/base",
            "_view_module_version": "1.2.0",
            "_view_name": "LayoutView",
            "align_content": null,
            "align_items": null,
            "align_self": null,
            "border": null,
            "bottom": null,
            "display": null,
            "flex": null,
            "flex_flow": null,
            "grid_area": null,
            "grid_auto_columns": null,
            "grid_auto_flow": null,
            "grid_auto_rows": null,
            "grid_column": null,
            "grid_gap": null,
            "grid_row": null,
            "grid_template_areas": null,
            "grid_template_columns": null,
            "grid_template_rows": null,
            "height": null,
            "justify_content": null,
            "justify_items": null,
            "left": null,
            "margin": null,
            "max_height": null,
            "max_width": null,
            "min_height": null,
            "min_width": null,
            "object_fit": null,
            "object_position": null,
            "order": null,
            "overflow": null,
            "overflow_x": null,
            "overflow_y": null,
            "padding": null,
            "right": null,
            "top": null,
            "visibility": null,
            "width": null
          }
        },
        "24d67314fe734584889f481869b367d3": {
          "model_module": "@jupyter-widgets/controls",
          "model_name": "DescriptionStyleModel",
          "model_module_version": "1.5.0",
          "state": {
            "_model_module": "@jupyter-widgets/controls",
            "_model_module_version": "1.5.0",
            "_model_name": "DescriptionStyleModel",
            "_view_count": null,
            "_view_module": "@jupyter-widgets/base",
            "_view_module_version": "1.2.0",
            "_view_name": "StyleView",
            "description_width": ""
          }
        },
        "0b1d4642ef4b4e2ba09017dc90c45ed8": {
          "model_module": "@jupyter-widgets/base",
          "model_name": "LayoutModel",
          "model_module_version": "1.2.0",
          "state": {
            "_model_module": "@jupyter-widgets/base",
            "_model_module_version": "1.2.0",
            "_model_name": "LayoutModel",
            "_view_count": null,
            "_view_module": "@jupyter-widgets/base",
            "_view_module_version": "1.2.0",
            "_view_name": "LayoutView",
            "align_content": null,
            "align_items": null,
            "align_self": null,
            "border": null,
            "bottom": null,
            "display": null,
            "flex": null,
            "flex_flow": null,
            "grid_area": null,
            "grid_auto_columns": null,
            "grid_auto_flow": null,
            "grid_auto_rows": null,
            "grid_column": null,
            "grid_gap": null,
            "grid_row": null,
            "grid_template_areas": null,
            "grid_template_columns": null,
            "grid_template_rows": null,
            "height": null,
            "justify_content": null,
            "justify_items": null,
            "left": null,
            "margin": null,
            "max_height": null,
            "max_width": null,
            "min_height": null,
            "min_width": null,
            "object_fit": null,
            "object_position": null,
            "order": null,
            "overflow": null,
            "overflow_x": null,
            "overflow_y": null,
            "padding": null,
            "right": null,
            "top": null,
            "visibility": null,
            "width": null
          }
        },
        "9b7e858877bb40a6883f6bd8f712d15c": {
          "model_module": "@jupyter-widgets/controls",
          "model_name": "ProgressStyleModel",
          "model_module_version": "1.5.0",
          "state": {
            "_model_module": "@jupyter-widgets/controls",
            "_model_module_version": "1.5.0",
            "_model_name": "ProgressStyleModel",
            "_view_count": null,
            "_view_module": "@jupyter-widgets/base",
            "_view_module_version": "1.2.0",
            "_view_name": "StyleView",
            "bar_color": null,
            "description_width": ""
          }
        },
        "e6347821699f4f9eb9b74b43362b0d63": {
          "model_module": "@jupyter-widgets/base",
          "model_name": "LayoutModel",
          "model_module_version": "1.2.0",
          "state": {
            "_model_module": "@jupyter-widgets/base",
            "_model_module_version": "1.2.0",
            "_model_name": "LayoutModel",
            "_view_count": null,
            "_view_module": "@jupyter-widgets/base",
            "_view_module_version": "1.2.0",
            "_view_name": "LayoutView",
            "align_content": null,
            "align_items": null,
            "align_self": null,
            "border": null,
            "bottom": null,
            "display": null,
            "flex": null,
            "flex_flow": null,
            "grid_area": null,
            "grid_auto_columns": null,
            "grid_auto_flow": null,
            "grid_auto_rows": null,
            "grid_column": null,
            "grid_gap": null,
            "grid_row": null,
            "grid_template_areas": null,
            "grid_template_columns": null,
            "grid_template_rows": null,
            "height": null,
            "justify_content": null,
            "justify_items": null,
            "left": null,
            "margin": null,
            "max_height": null,
            "max_width": null,
            "min_height": null,
            "min_width": null,
            "object_fit": null,
            "object_position": null,
            "order": null,
            "overflow": null,
            "overflow_x": null,
            "overflow_y": null,
            "padding": null,
            "right": null,
            "top": null,
            "visibility": null,
            "width": null
          }
        },
        "386902d723654957871d67f022707683": {
          "model_module": "@jupyter-widgets/controls",
          "model_name": "DescriptionStyleModel",
          "model_module_version": "1.5.0",
          "state": {
            "_model_module": "@jupyter-widgets/controls",
            "_model_module_version": "1.5.0",
            "_model_name": "DescriptionStyleModel",
            "_view_count": null,
            "_view_module": "@jupyter-widgets/base",
            "_view_module_version": "1.2.0",
            "_view_name": "StyleView",
            "description_width": ""
          }
        },
        "8e75d00d0b8a42a78a5cae1e1a479db8": {
          "model_module": "@jupyter-widgets/controls",
          "model_name": "HBoxModel",
          "model_module_version": "1.5.0",
          "state": {
            "_dom_classes": [],
            "_model_module": "@jupyter-widgets/controls",
            "_model_module_version": "1.5.0",
            "_model_name": "HBoxModel",
            "_view_count": null,
            "_view_module": "@jupyter-widgets/controls",
            "_view_module_version": "1.5.0",
            "_view_name": "HBoxView",
            "box_style": "",
            "children": [
              "IPY_MODEL_120cb91b48f445b8b4edc440ecc6eeb6",
              "IPY_MODEL_145ef5e2f44d4e16a54f876a21d2dfcb",
              "IPY_MODEL_c4e4d99f83ee4de9bb5de8ae595c7b78"
            ],
            "layout": "IPY_MODEL_8d19bdcabb574e1095e99b852f6b7e6a"
          }
        },
        "120cb91b48f445b8b4edc440ecc6eeb6": {
          "model_module": "@jupyter-widgets/controls",
          "model_name": "HTMLModel",
          "model_module_version": "1.5.0",
          "state": {
            "_dom_classes": [],
            "_model_module": "@jupyter-widgets/controls",
            "_model_module_version": "1.5.0",
            "_model_name": "HTMLModel",
            "_view_count": null,
            "_view_module": "@jupyter-widgets/controls",
            "_view_module_version": "1.5.0",
            "_view_name": "HTMLView",
            "description": "",
            "description_tooltip": null,
            "layout": "IPY_MODEL_a38aedd5a54045deb0b0acffb3030cfa",
            "placeholder": "​",
            "style": "IPY_MODEL_80e313e83f5d4ad080dc872771678c63",
            "value": "Loading checkpoint shards: 100%"
          }
        },
        "145ef5e2f44d4e16a54f876a21d2dfcb": {
          "model_module": "@jupyter-widgets/controls",
          "model_name": "FloatProgressModel",
          "model_module_version": "1.5.0",
          "state": {
            "_dom_classes": [],
            "_model_module": "@jupyter-widgets/controls",
            "_model_module_version": "1.5.0",
            "_model_name": "FloatProgressModel",
            "_view_count": null,
            "_view_module": "@jupyter-widgets/controls",
            "_view_module_version": "1.5.0",
            "_view_name": "ProgressView",
            "bar_style": "success",
            "description": "",
            "description_tooltip": null,
            "layout": "IPY_MODEL_67df3f12706b4893b448316b4599fc83",
            "max": 3,
            "min": 0,
            "orientation": "horizontal",
            "style": "IPY_MODEL_ee05d2f1c4fe444fa6309a57b068b7b1",
            "value": 3
          }
        },
        "c4e4d99f83ee4de9bb5de8ae595c7b78": {
          "model_module": "@jupyter-widgets/controls",
          "model_name": "HTMLModel",
          "model_module_version": "1.5.0",
          "state": {
            "_dom_classes": [],
            "_model_module": "@jupyter-widgets/controls",
            "_model_module_version": "1.5.0",
            "_model_name": "HTMLModel",
            "_view_count": null,
            "_view_module": "@jupyter-widgets/controls",
            "_view_module_version": "1.5.0",
            "_view_name": "HTMLView",
            "description": "",
            "description_tooltip": null,
            "layout": "IPY_MODEL_1f1d791c4cad49deb268ff1797aa5567",
            "placeholder": "​",
            "style": "IPY_MODEL_564888118c464b419dd2099637dd2d5c",
            "value": " 3/3 [00:05&lt;00:00,  1.73s/it]"
          }
        },
        "8d19bdcabb574e1095e99b852f6b7e6a": {
          "model_module": "@jupyter-widgets/base",
          "model_name": "LayoutModel",
          "model_module_version": "1.2.0",
          "state": {
            "_model_module": "@jupyter-widgets/base",
            "_model_module_version": "1.2.0",
            "_model_name": "LayoutModel",
            "_view_count": null,
            "_view_module": "@jupyter-widgets/base",
            "_view_module_version": "1.2.0",
            "_view_name": "LayoutView",
            "align_content": null,
            "align_items": null,
            "align_self": null,
            "border": null,
            "bottom": null,
            "display": null,
            "flex": null,
            "flex_flow": null,
            "grid_area": null,
            "grid_auto_columns": null,
            "grid_auto_flow": null,
            "grid_auto_rows": null,
            "grid_column": null,
            "grid_gap": null,
            "grid_row": null,
            "grid_template_areas": null,
            "grid_template_columns": null,
            "grid_template_rows": null,
            "height": null,
            "justify_content": null,
            "justify_items": null,
            "left": null,
            "margin": null,
            "max_height": null,
            "max_width": null,
            "min_height": null,
            "min_width": null,
            "object_fit": null,
            "object_position": null,
            "order": null,
            "overflow": null,
            "overflow_x": null,
            "overflow_y": null,
            "padding": null,
            "right": null,
            "top": null,
            "visibility": null,
            "width": null
          }
        },
        "a38aedd5a54045deb0b0acffb3030cfa": {
          "model_module": "@jupyter-widgets/base",
          "model_name": "LayoutModel",
          "model_module_version": "1.2.0",
          "state": {
            "_model_module": "@jupyter-widgets/base",
            "_model_module_version": "1.2.0",
            "_model_name": "LayoutModel",
            "_view_count": null,
            "_view_module": "@jupyter-widgets/base",
            "_view_module_version": "1.2.0",
            "_view_name": "LayoutView",
            "align_content": null,
            "align_items": null,
            "align_self": null,
            "border": null,
            "bottom": null,
            "display": null,
            "flex": null,
            "flex_flow": null,
            "grid_area": null,
            "grid_auto_columns": null,
            "grid_auto_flow": null,
            "grid_auto_rows": null,
            "grid_column": null,
            "grid_gap": null,
            "grid_row": null,
            "grid_template_areas": null,
            "grid_template_columns": null,
            "grid_template_rows": null,
            "height": null,
            "justify_content": null,
            "justify_items": null,
            "left": null,
            "margin": null,
            "max_height": null,
            "max_width": null,
            "min_height": null,
            "min_width": null,
            "object_fit": null,
            "object_position": null,
            "order": null,
            "overflow": null,
            "overflow_x": null,
            "overflow_y": null,
            "padding": null,
            "right": null,
            "top": null,
            "visibility": null,
            "width": null
          }
        },
        "80e313e83f5d4ad080dc872771678c63": {
          "model_module": "@jupyter-widgets/controls",
          "model_name": "DescriptionStyleModel",
          "model_module_version": "1.5.0",
          "state": {
            "_model_module": "@jupyter-widgets/controls",
            "_model_module_version": "1.5.0",
            "_model_name": "DescriptionStyleModel",
            "_view_count": null,
            "_view_module": "@jupyter-widgets/base",
            "_view_module_version": "1.2.0",
            "_view_name": "StyleView",
            "description_width": ""
          }
        },
        "67df3f12706b4893b448316b4599fc83": {
          "model_module": "@jupyter-widgets/base",
          "model_name": "LayoutModel",
          "model_module_version": "1.2.0",
          "state": {
            "_model_module": "@jupyter-widgets/base",
            "_model_module_version": "1.2.0",
            "_model_name": "LayoutModel",
            "_view_count": null,
            "_view_module": "@jupyter-widgets/base",
            "_view_module_version": "1.2.0",
            "_view_name": "LayoutView",
            "align_content": null,
            "align_items": null,
            "align_self": null,
            "border": null,
            "bottom": null,
            "display": null,
            "flex": null,
            "flex_flow": null,
            "grid_area": null,
            "grid_auto_columns": null,
            "grid_auto_flow": null,
            "grid_auto_rows": null,
            "grid_column": null,
            "grid_gap": null,
            "grid_row": null,
            "grid_template_areas": null,
            "grid_template_columns": null,
            "grid_template_rows": null,
            "height": null,
            "justify_content": null,
            "justify_items": null,
            "left": null,
            "margin": null,
            "max_height": null,
            "max_width": null,
            "min_height": null,
            "min_width": null,
            "object_fit": null,
            "object_position": null,
            "order": null,
            "overflow": null,
            "overflow_x": null,
            "overflow_y": null,
            "padding": null,
            "right": null,
            "top": null,
            "visibility": null,
            "width": null
          }
        },
        "ee05d2f1c4fe444fa6309a57b068b7b1": {
          "model_module": "@jupyter-widgets/controls",
          "model_name": "ProgressStyleModel",
          "model_module_version": "1.5.0",
          "state": {
            "_model_module": "@jupyter-widgets/controls",
            "_model_module_version": "1.5.0",
            "_model_name": "ProgressStyleModel",
            "_view_count": null,
            "_view_module": "@jupyter-widgets/base",
            "_view_module_version": "1.2.0",
            "_view_name": "StyleView",
            "bar_color": null,
            "description_width": ""
          }
        },
        "1f1d791c4cad49deb268ff1797aa5567": {
          "model_module": "@jupyter-widgets/base",
          "model_name": "LayoutModel",
          "model_module_version": "1.2.0",
          "state": {
            "_model_module": "@jupyter-widgets/base",
            "_model_module_version": "1.2.0",
            "_model_name": "LayoutModel",
            "_view_count": null,
            "_view_module": "@jupyter-widgets/base",
            "_view_module_version": "1.2.0",
            "_view_name": "LayoutView",
            "align_content": null,
            "align_items": null,
            "align_self": null,
            "border": null,
            "bottom": null,
            "display": null,
            "flex": null,
            "flex_flow": null,
            "grid_area": null,
            "grid_auto_columns": null,
            "grid_auto_flow": null,
            "grid_auto_rows": null,
            "grid_column": null,
            "grid_gap": null,
            "grid_row": null,
            "grid_template_areas": null,
            "grid_template_columns": null,
            "grid_template_rows": null,
            "height": null,
            "justify_content": null,
            "justify_items": null,
            "left": null,
            "margin": null,
            "max_height": null,
            "max_width": null,
            "min_height": null,
            "min_width": null,
            "object_fit": null,
            "object_position": null,
            "order": null,
            "overflow": null,
            "overflow_x": null,
            "overflow_y": null,
            "padding": null,
            "right": null,
            "top": null,
            "visibility": null,
            "width": null
          }
        },
        "564888118c464b419dd2099637dd2d5c": {
          "model_module": "@jupyter-widgets/controls",
          "model_name": "DescriptionStyleModel",
          "model_module_version": "1.5.0",
          "state": {
            "_model_module": "@jupyter-widgets/controls",
            "_model_module_version": "1.5.0",
            "_model_name": "DescriptionStyleModel",
            "_view_count": null,
            "_view_module": "@jupyter-widgets/base",
            "_view_module_version": "1.2.0",
            "_view_name": "StyleView",
            "description_width": ""
          }
        },
        "b4cb74e9fe40468598bfa6f9cc98b859": {
          "model_module": "@jupyter-widgets/controls",
          "model_name": "HBoxModel",
          "model_module_version": "1.5.0",
          "state": {
            "_dom_classes": [],
            "_model_module": "@jupyter-widgets/controls",
            "_model_module_version": "1.5.0",
            "_model_name": "HBoxModel",
            "_view_count": null,
            "_view_module": "@jupyter-widgets/controls",
            "_view_module_version": "1.5.0",
            "_view_name": "HBoxView",
            "box_style": "",
            "children": [
              "IPY_MODEL_ed2be49bbb6f45c6956b60757adc5ef4",
              "IPY_MODEL_188107cda5ba4fe1b84548e954353d52",
              "IPY_MODEL_887f5428168e4bf4bd0fdb56313c1a13"
            ],
            "layout": "IPY_MODEL_82869a9b921d450bb3fec34b7dd9d82a"
          }
        },
        "ed2be49bbb6f45c6956b60757adc5ef4": {
          "model_module": "@jupyter-widgets/controls",
          "model_name": "HTMLModel",
          "model_module_version": "1.5.0",
          "state": {
            "_dom_classes": [],
            "_model_module": "@jupyter-widgets/controls",
            "_model_module_version": "1.5.0",
            "_model_name": "HTMLModel",
            "_view_count": null,
            "_view_module": "@jupyter-widgets/controls",
            "_view_module_version": "1.5.0",
            "_view_name": "HTMLView",
            "description": "",
            "description_tooltip": null,
            "layout": "IPY_MODEL_85c5c50e27c14f4db8b38571031c68ae",
            "placeholder": "​",
            "style": "IPY_MODEL_ff71f224bc0c477098c52bd700e2b3b4",
            "value": "adapter_model.safetensors: 100%"
          }
        },
        "188107cda5ba4fe1b84548e954353d52": {
          "model_module": "@jupyter-widgets/controls",
          "model_name": "FloatProgressModel",
          "model_module_version": "1.5.0",
          "state": {
            "_dom_classes": [],
            "_model_module": "@jupyter-widgets/controls",
            "_model_module_version": "1.5.0",
            "_model_name": "FloatProgressModel",
            "_view_count": null,
            "_view_module": "@jupyter-widgets/controls",
            "_view_module_version": "1.5.0",
            "_view_name": "ProgressView",
            "bar_style": "success",
            "description": "",
            "description_tooltip": null,
            "layout": "IPY_MODEL_e1da416e56ca4f298159938c367b1f8e",
            "max": 369142184,
            "min": 0,
            "orientation": "horizontal",
            "style": "IPY_MODEL_2de73bea1b6c488eb7f443b56205eaf1",
            "value": 369142184
          }
        },
        "887f5428168e4bf4bd0fdb56313c1a13": {
          "model_module": "@jupyter-widgets/controls",
          "model_name": "HTMLModel",
          "model_module_version": "1.5.0",
          "state": {
            "_dom_classes": [],
            "_model_module": "@jupyter-widgets/controls",
            "_model_module_version": "1.5.0",
            "_model_name": "HTMLModel",
            "_view_count": null,
            "_view_module": "@jupyter-widgets/controls",
            "_view_module_version": "1.5.0",
            "_view_name": "HTMLView",
            "description": "",
            "description_tooltip": null,
            "layout": "IPY_MODEL_44722a3136754f5bbfaf8e043566cf3f",
            "placeholder": "​",
            "style": "IPY_MODEL_82f76c8058f944f68299c35d36ec7e8f",
            "value": " 369M/369M [00:19&lt;00:00, 19.2MB/s]"
          }
        },
        "82869a9b921d450bb3fec34b7dd9d82a": {
          "model_module": "@jupyter-widgets/base",
          "model_name": "LayoutModel",
          "model_module_version": "1.2.0",
          "state": {
            "_model_module": "@jupyter-widgets/base",
            "_model_module_version": "1.2.0",
            "_model_name": "LayoutModel",
            "_view_count": null,
            "_view_module": "@jupyter-widgets/base",
            "_view_module_version": "1.2.0",
            "_view_name": "LayoutView",
            "align_content": null,
            "align_items": null,
            "align_self": null,
            "border": null,
            "bottom": null,
            "display": null,
            "flex": null,
            "flex_flow": null,
            "grid_area": null,
            "grid_auto_columns": null,
            "grid_auto_flow": null,
            "grid_auto_rows": null,
            "grid_column": null,
            "grid_gap": null,
            "grid_row": null,
            "grid_template_areas": null,
            "grid_template_columns": null,
            "grid_template_rows": null,
            "height": null,
            "justify_content": null,
            "justify_items": null,
            "left": null,
            "margin": null,
            "max_height": null,
            "max_width": null,
            "min_height": null,
            "min_width": null,
            "object_fit": null,
            "object_position": null,
            "order": null,
            "overflow": null,
            "overflow_x": null,
            "overflow_y": null,
            "padding": null,
            "right": null,
            "top": null,
            "visibility": null,
            "width": null
          }
        },
        "85c5c50e27c14f4db8b38571031c68ae": {
          "model_module": "@jupyter-widgets/base",
          "model_name": "LayoutModel",
          "model_module_version": "1.2.0",
          "state": {
            "_model_module": "@jupyter-widgets/base",
            "_model_module_version": "1.2.0",
            "_model_name": "LayoutModel",
            "_view_count": null,
            "_view_module": "@jupyter-widgets/base",
            "_view_module_version": "1.2.0",
            "_view_name": "LayoutView",
            "align_content": null,
            "align_items": null,
            "align_self": null,
            "border": null,
            "bottom": null,
            "display": null,
            "flex": null,
            "flex_flow": null,
            "grid_area": null,
            "grid_auto_columns": null,
            "grid_auto_flow": null,
            "grid_auto_rows": null,
            "grid_column": null,
            "grid_gap": null,
            "grid_row": null,
            "grid_template_areas": null,
            "grid_template_columns": null,
            "grid_template_rows": null,
            "height": null,
            "justify_content": null,
            "justify_items": null,
            "left": null,
            "margin": null,
            "max_height": null,
            "max_width": null,
            "min_height": null,
            "min_width": null,
            "object_fit": null,
            "object_position": null,
            "order": null,
            "overflow": null,
            "overflow_x": null,
            "overflow_y": null,
            "padding": null,
            "right": null,
            "top": null,
            "visibility": null,
            "width": null
          }
        },
        "ff71f224bc0c477098c52bd700e2b3b4": {
          "model_module": "@jupyter-widgets/controls",
          "model_name": "DescriptionStyleModel",
          "model_module_version": "1.5.0",
          "state": {
            "_model_module": "@jupyter-widgets/controls",
            "_model_module_version": "1.5.0",
            "_model_name": "DescriptionStyleModel",
            "_view_count": null,
            "_view_module": "@jupyter-widgets/base",
            "_view_module_version": "1.2.0",
            "_view_name": "StyleView",
            "description_width": ""
          }
        },
        "e1da416e56ca4f298159938c367b1f8e": {
          "model_module": "@jupyter-widgets/base",
          "model_name": "LayoutModel",
          "model_module_version": "1.2.0",
          "state": {
            "_model_module": "@jupyter-widgets/base",
            "_model_module_version": "1.2.0",
            "_model_name": "LayoutModel",
            "_view_count": null,
            "_view_module": "@jupyter-widgets/base",
            "_view_module_version": "1.2.0",
            "_view_name": "LayoutView",
            "align_content": null,
            "align_items": null,
            "align_self": null,
            "border": null,
            "bottom": null,
            "display": null,
            "flex": null,
            "flex_flow": null,
            "grid_area": null,
            "grid_auto_columns": null,
            "grid_auto_flow": null,
            "grid_auto_rows": null,
            "grid_column": null,
            "grid_gap": null,
            "grid_row": null,
            "grid_template_areas": null,
            "grid_template_columns": null,
            "grid_template_rows": null,
            "height": null,
            "justify_content": null,
            "justify_items": null,
            "left": null,
            "margin": null,
            "max_height": null,
            "max_width": null,
            "min_height": null,
            "min_width": null,
            "object_fit": null,
            "object_position": null,
            "order": null,
            "overflow": null,
            "overflow_x": null,
            "overflow_y": null,
            "padding": null,
            "right": null,
            "top": null,
            "visibility": null,
            "width": null
          }
        },
        "2de73bea1b6c488eb7f443b56205eaf1": {
          "model_module": "@jupyter-widgets/controls",
          "model_name": "ProgressStyleModel",
          "model_module_version": "1.5.0",
          "state": {
            "_model_module": "@jupyter-widgets/controls",
            "_model_module_version": "1.5.0",
            "_model_name": "ProgressStyleModel",
            "_view_count": null,
            "_view_module": "@jupyter-widgets/base",
            "_view_module_version": "1.2.0",
            "_view_name": "StyleView",
            "bar_color": null,
            "description_width": ""
          }
        },
        "44722a3136754f5bbfaf8e043566cf3f": {
          "model_module": "@jupyter-widgets/base",
          "model_name": "LayoutModel",
          "model_module_version": "1.2.0",
          "state": {
            "_model_module": "@jupyter-widgets/base",
            "_model_module_version": "1.2.0",
            "_model_name": "LayoutModel",
            "_view_count": null,
            "_view_module": "@jupyter-widgets/base",
            "_view_module_version": "1.2.0",
            "_view_name": "LayoutView",
            "align_content": null,
            "align_items": null,
            "align_self": null,
            "border": null,
            "bottom": null,
            "display": null,
            "flex": null,
            "flex_flow": null,
            "grid_area": null,
            "grid_auto_columns": null,
            "grid_auto_flow": null,
            "grid_auto_rows": null,
            "grid_column": null,
            "grid_gap": null,
            "grid_row": null,
            "grid_template_areas": null,
            "grid_template_columns": null,
            "grid_template_rows": null,
            "height": null,
            "justify_content": null,
            "justify_items": null,
            "left": null,
            "margin": null,
            "max_height": null,
            "max_width": null,
            "min_height": null,
            "min_width": null,
            "object_fit": null,
            "object_position": null,
            "order": null,
            "overflow": null,
            "overflow_x": null,
            "overflow_y": null,
            "padding": null,
            "right": null,
            "top": null,
            "visibility": null,
            "width": null
          }
        },
        "82f76c8058f944f68299c35d36ec7e8f": {
          "model_module": "@jupyter-widgets/controls",
          "model_name": "DescriptionStyleModel",
          "model_module_version": "1.5.0",
          "state": {
            "_model_module": "@jupyter-widgets/controls",
            "_model_module_version": "1.5.0",
            "_model_name": "DescriptionStyleModel",
            "_view_count": null,
            "_view_module": "@jupyter-widgets/base",
            "_view_module_version": "1.2.0",
            "_view_name": "StyleView",
            "description_width": ""
          }
        }
      }
    }
  },
  "cells": [
    {
      "cell_type": "markdown",
      "metadata": {
        "id": "view-in-github",
        "colab_type": "text"
      },
      "source": [
        "<a href=\"https://colab.research.google.com/github/mille055/ct_protocol/blob/main/notebooks/Finetune_notebook.ipynb\" target=\"_parent\"><img src=\"https://colab.research.google.com/assets/colab-badge.svg\" alt=\"Open In Colab\"/></a>"
      ]
    },
    {
      "cell_type": "markdown",
      "metadata": {
        "deletable": false,
        "editable": false,
        "nbgrader": {
          "cell_type": "markdown",
          "checksum": "cc84b7a93b06344ffabe0cd04b7c07d5",
          "grade": false,
          "grade_id": "cell-191cb99e070271d7",
          "locked": true,
          "schema_version": 3,
          "solution": false,
          "task": false
        },
        "id": "WK3uAfZ7uXe8"
      },
      "source": [
        "<a href='https://ai.meng.duke.edu'> = <img align=\"left\" style=\"padding-top:10px;\" src=https://storage.googleapis.com/aipi_datasets/Duke-AIPI-Logo.png>"
      ]
    },
    {
      "cell_type": "markdown",
      "source": [
        "##Chad Miller\n",
        "##AIPI590 Project 1\n",
        "\n",
        "This notebook fine_tunes an LLM (Mistral 7B) to perform the protocolling task for CT scans that have been ordered. The model takes as input the order details and items from the EHR such as serum creatinine, allergies, prior ct order, and a (now synthesized) summary of a clinic note and outputs the predicted protocol and any additional instructions.\n"
      ],
      "metadata": {
        "id": "NYDKyMgcV0_w"
      }
    },
    {
      "cell_type": "code",
      "source": [
        "!git clone 'https://github.com/mille055/CT_Protocol.git'\n",
        "!pip install -U bitsandbytes\n",
        "!pip install transformers==4.36.2\n",
        "!pip install -U peft\n",
        "!pip install -U accelerate\n",
        "!pip install -U trl\n",
        "!pip install datasets==2.16.0\n",
        "!pip install sentencepiece\n",
        "!pip install openpyxl\n",
        "!pip install xlrd\n",
        "!pip install openai\n",
        "!pip install huggingface_hub"
      ],
      "metadata": {
        "id": "sGL_JQNsUsa1",
        "colab": {
          "base_uri": "https://localhost:8080/"
        },
        "outputId": "49584fb0-e50c-4191-d9c7-4f49e34e1766"
      },
      "execution_count": 1,
      "outputs": [
        {
          "output_type": "stream",
          "name": "stdout",
          "text": [
            "Cloning into 'CT_Protocol'...\n",
            "remote: Enumerating objects: 557, done.\u001b[K\n",
            "remote: Counting objects: 100% (100/100), done.\u001b[K\n",
            "remote: Compressing objects: 100% (100/100), done.\u001b[K\n",
            "remote: Total 557 (delta 51), reused 0 (delta 0), pack-reused 457\u001b[K\n",
            "Receiving objects: 100% (557/557), 4.40 MiB | 15.59 MiB/s, done.\n",
            "Resolving deltas: 100% (339/339), done.\n",
            "Collecting bitsandbytes\n",
            "  Downloading bitsandbytes-0.43.0-py3-none-manylinux_2_24_x86_64.whl (102.2 MB)\n",
            "\u001b[2K     \u001b[90m━━━━━━━━━━━━━━━━━━━━━━━━━━━━━━━━━━━━━━━━\u001b[0m \u001b[32m102.2/102.2 MB\u001b[0m \u001b[31m16.7 MB/s\u001b[0m eta \u001b[36m0:00:00\u001b[0m\n",
            "\u001b[?25hRequirement already satisfied: torch in /usr/local/lib/python3.10/dist-packages (from bitsandbytes) (2.2.1+cu121)\n",
            "Requirement already satisfied: numpy in /usr/local/lib/python3.10/dist-packages (from bitsandbytes) (1.25.2)\n",
            "Requirement already satisfied: filelock in /usr/local/lib/python3.10/dist-packages (from torch->bitsandbytes) (3.13.1)\n",
            "Requirement already satisfied: typing-extensions>=4.8.0 in /usr/local/lib/python3.10/dist-packages (from torch->bitsandbytes) (4.10.0)\n",
            "Requirement already satisfied: sympy in /usr/local/lib/python3.10/dist-packages (from torch->bitsandbytes) (1.12)\n",
            "Requirement already satisfied: networkx in /usr/local/lib/python3.10/dist-packages (from torch->bitsandbytes) (3.2.1)\n",
            "Requirement already satisfied: jinja2 in /usr/local/lib/python3.10/dist-packages (from torch->bitsandbytes) (3.1.3)\n",
            "Requirement already satisfied: fsspec in /usr/local/lib/python3.10/dist-packages (from torch->bitsandbytes) (2023.6.0)\n",
            "Collecting nvidia-cuda-nvrtc-cu12==12.1.105 (from torch->bitsandbytes)\n",
            "  Downloading nvidia_cuda_nvrtc_cu12-12.1.105-py3-none-manylinux1_x86_64.whl (23.7 MB)\n",
            "\u001b[2K     \u001b[90m━━━━━━━━━━━━━━━━━━━━━━━━━━━━━━━━━━━━━━━━\u001b[0m \u001b[32m23.7/23.7 MB\u001b[0m \u001b[31m66.3 MB/s\u001b[0m eta \u001b[36m0:00:00\u001b[0m\n",
            "\u001b[?25hCollecting nvidia-cuda-runtime-cu12==12.1.105 (from torch->bitsandbytes)\n",
            "  Downloading nvidia_cuda_runtime_cu12-12.1.105-py3-none-manylinux1_x86_64.whl (823 kB)\n",
            "\u001b[2K     \u001b[90m━━━━━━━━━━━━━━━━━━━━━━━━━━━━━━━━━━━━━━━━\u001b[0m \u001b[32m823.6/823.6 kB\u001b[0m \u001b[31m64.0 MB/s\u001b[0m eta \u001b[36m0:00:00\u001b[0m\n",
            "\u001b[?25hCollecting nvidia-cuda-cupti-cu12==12.1.105 (from torch->bitsandbytes)\n",
            "  Downloading nvidia_cuda_cupti_cu12-12.1.105-py3-none-manylinux1_x86_64.whl (14.1 MB)\n",
            "\u001b[2K     \u001b[90m━━━━━━━━━━━━━━━━━━━━━━━━━━━━━━━━━━━━━━━━\u001b[0m \u001b[32m14.1/14.1 MB\u001b[0m \u001b[31m84.3 MB/s\u001b[0m eta \u001b[36m0:00:00\u001b[0m\n",
            "\u001b[?25hCollecting nvidia-cudnn-cu12==8.9.2.26 (from torch->bitsandbytes)\n",
            "  Downloading nvidia_cudnn_cu12-8.9.2.26-py3-none-manylinux1_x86_64.whl (731.7 MB)\n",
            "\u001b[2K     \u001b[90m━━━━━━━━━━━━━━━━━━━━━━━━━━━━━━━━━━━━━━━━\u001b[0m \u001b[32m731.7/731.7 MB\u001b[0m \u001b[31m1.7 MB/s\u001b[0m eta \u001b[36m0:00:00\u001b[0m\n",
            "\u001b[?25hCollecting nvidia-cublas-cu12==12.1.3.1 (from torch->bitsandbytes)\n",
            "  Downloading nvidia_cublas_cu12-12.1.3.1-py3-none-manylinux1_x86_64.whl (410.6 MB)\n",
            "\u001b[2K     \u001b[90m━━━━━━━━━━━━━━━━━━━━━━━━━━━━━━━━━━━━━━━━\u001b[0m \u001b[32m410.6/410.6 MB\u001b[0m \u001b[31m2.4 MB/s\u001b[0m eta \u001b[36m0:00:00\u001b[0m\n",
            "\u001b[?25hCollecting nvidia-cufft-cu12==11.0.2.54 (from torch->bitsandbytes)\n",
            "  Downloading nvidia_cufft_cu12-11.0.2.54-py3-none-manylinux1_x86_64.whl (121.6 MB)\n",
            "\u001b[2K     \u001b[90m━━━━━━━━━━━━━━━━━━━━━━━━━━━━━━━━━━━━━━━━\u001b[0m \u001b[32m121.6/121.6 MB\u001b[0m \u001b[31m13.5 MB/s\u001b[0m eta \u001b[36m0:00:00\u001b[0m\n",
            "\u001b[?25hCollecting nvidia-curand-cu12==10.3.2.106 (from torch->bitsandbytes)\n",
            "  Downloading nvidia_curand_cu12-10.3.2.106-py3-none-manylinux1_x86_64.whl (56.5 MB)\n",
            "\u001b[2K     \u001b[90m━━━━━━━━━━━━━━━━━━━━━━━━━━━━━━━━━━━━━━━━\u001b[0m \u001b[32m56.5/56.5 MB\u001b[0m \u001b[31m28.6 MB/s\u001b[0m eta \u001b[36m0:00:00\u001b[0m\n",
            "\u001b[?25hCollecting nvidia-cusolver-cu12==11.4.5.107 (from torch->bitsandbytes)\n",
            "  Downloading nvidia_cusolver_cu12-11.4.5.107-py3-none-manylinux1_x86_64.whl (124.2 MB)\n",
            "\u001b[2K     \u001b[90m━━━━━━━━━━━━━━━━━━━━━━━━━━━━━━━━━━━━━━━━\u001b[0m \u001b[32m124.2/124.2 MB\u001b[0m \u001b[31m11.6 MB/s\u001b[0m eta \u001b[36m0:00:00\u001b[0m\n",
            "\u001b[?25hCollecting nvidia-cusparse-cu12==12.1.0.106 (from torch->bitsandbytes)\n",
            "  Downloading nvidia_cusparse_cu12-12.1.0.106-py3-none-manylinux1_x86_64.whl (196.0 MB)\n",
            "\u001b[2K     \u001b[90m━━━━━━━━━━━━━━━━━━━━━━━━━━━━━━━━━━━━━━━━\u001b[0m \u001b[32m196.0/196.0 MB\u001b[0m \u001b[31m5.3 MB/s\u001b[0m eta \u001b[36m0:00:00\u001b[0m\n",
            "\u001b[?25hCollecting nvidia-nccl-cu12==2.19.3 (from torch->bitsandbytes)\n",
            "  Downloading nvidia_nccl_cu12-2.19.3-py3-none-manylinux1_x86_64.whl (166.0 MB)\n",
            "\u001b[2K     \u001b[90m━━━━━━━━━━━━━━━━━━━━━━━━━━━━━━━━━━━━━━━━\u001b[0m \u001b[32m166.0/166.0 MB\u001b[0m \u001b[31m10.4 MB/s\u001b[0m eta \u001b[36m0:00:00\u001b[0m\n",
            "\u001b[?25hCollecting nvidia-nvtx-cu12==12.1.105 (from torch->bitsandbytes)\n",
            "  Downloading nvidia_nvtx_cu12-12.1.105-py3-none-manylinux1_x86_64.whl (99 kB)\n",
            "\u001b[2K     \u001b[90m━━━━━━━━━━━━━━━━━━━━━━━━━━━━━━━━━━━━━━━━\u001b[0m \u001b[32m99.1/99.1 kB\u001b[0m \u001b[31m15.1 MB/s\u001b[0m eta \u001b[36m0:00:00\u001b[0m\n",
            "\u001b[?25hRequirement already satisfied: triton==2.2.0 in /usr/local/lib/python3.10/dist-packages (from torch->bitsandbytes) (2.2.0)\n",
            "Collecting nvidia-nvjitlink-cu12 (from nvidia-cusolver-cu12==11.4.5.107->torch->bitsandbytes)\n",
            "  Downloading nvidia_nvjitlink_cu12-12.4.99-py3-none-manylinux2014_x86_64.whl (21.1 MB)\n",
            "\u001b[2K     \u001b[90m━━━━━━━━━━━━━━━━━━━━━━━━━━━━━━━━━━━━━━━━\u001b[0m \u001b[32m21.1/21.1 MB\u001b[0m \u001b[31m81.4 MB/s\u001b[0m eta \u001b[36m0:00:00\u001b[0m\n",
            "\u001b[?25hRequirement already satisfied: MarkupSafe>=2.0 in /usr/local/lib/python3.10/dist-packages (from jinja2->torch->bitsandbytes) (2.1.5)\n",
            "Requirement already satisfied: mpmath>=0.19 in /usr/local/lib/python3.10/dist-packages (from sympy->torch->bitsandbytes) (1.3.0)\n",
            "Installing collected packages: nvidia-nvtx-cu12, nvidia-nvjitlink-cu12, nvidia-nccl-cu12, nvidia-curand-cu12, nvidia-cufft-cu12, nvidia-cuda-runtime-cu12, nvidia-cuda-nvrtc-cu12, nvidia-cuda-cupti-cu12, nvidia-cublas-cu12, nvidia-cusparse-cu12, nvidia-cudnn-cu12, nvidia-cusolver-cu12, bitsandbytes\n",
            "Successfully installed bitsandbytes-0.43.0 nvidia-cublas-cu12-12.1.3.1 nvidia-cuda-cupti-cu12-12.1.105 nvidia-cuda-nvrtc-cu12-12.1.105 nvidia-cuda-runtime-cu12-12.1.105 nvidia-cudnn-cu12-8.9.2.26 nvidia-cufft-cu12-11.0.2.54 nvidia-curand-cu12-10.3.2.106 nvidia-cusolver-cu12-11.4.5.107 nvidia-cusparse-cu12-12.1.0.106 nvidia-nccl-cu12-2.19.3 nvidia-nvjitlink-cu12-12.4.99 nvidia-nvtx-cu12-12.1.105\n",
            "Collecting transformers==4.36.2\n",
            "  Downloading transformers-4.36.2-py3-none-any.whl (8.2 MB)\n",
            "\u001b[2K     \u001b[90m━━━━━━━━━━━━━━━━━━━━━━━━━━━━━━━━━━━━━━━━\u001b[0m \u001b[32m8.2/8.2 MB\u001b[0m \u001b[31m59.4 MB/s\u001b[0m eta \u001b[36m0:00:00\u001b[0m\n",
            "\u001b[?25hRequirement already satisfied: filelock in /usr/local/lib/python3.10/dist-packages (from transformers==4.36.2) (3.13.1)\n",
            "Requirement already satisfied: huggingface-hub<1.0,>=0.19.3 in /usr/local/lib/python3.10/dist-packages (from transformers==4.36.2) (0.20.3)\n",
            "Requirement already satisfied: numpy>=1.17 in /usr/local/lib/python3.10/dist-packages (from transformers==4.36.2) (1.25.2)\n",
            "Requirement already satisfied: packaging>=20.0 in /usr/local/lib/python3.10/dist-packages (from transformers==4.36.2) (24.0)\n",
            "Requirement already satisfied: pyyaml>=5.1 in /usr/local/lib/python3.10/dist-packages (from transformers==4.36.2) (6.0.1)\n",
            "Requirement already satisfied: regex!=2019.12.17 in /usr/local/lib/python3.10/dist-packages (from transformers==4.36.2) (2023.12.25)\n",
            "Requirement already satisfied: requests in /usr/local/lib/python3.10/dist-packages (from transformers==4.36.2) (2.31.0)\n",
            "Requirement already satisfied: tokenizers<0.19,>=0.14 in /usr/local/lib/python3.10/dist-packages (from transformers==4.36.2) (0.15.2)\n",
            "Requirement already satisfied: safetensors>=0.3.1 in /usr/local/lib/python3.10/dist-packages (from transformers==4.36.2) (0.4.2)\n",
            "Requirement already satisfied: tqdm>=4.27 in /usr/local/lib/python3.10/dist-packages (from transformers==4.36.2) (4.66.2)\n",
            "Requirement already satisfied: fsspec>=2023.5.0 in /usr/local/lib/python3.10/dist-packages (from huggingface-hub<1.0,>=0.19.3->transformers==4.36.2) (2023.6.0)\n",
            "Requirement already satisfied: typing-extensions>=3.7.4.3 in /usr/local/lib/python3.10/dist-packages (from huggingface-hub<1.0,>=0.19.3->transformers==4.36.2) (4.10.0)\n",
            "Requirement already satisfied: charset-normalizer<4,>=2 in /usr/local/lib/python3.10/dist-packages (from requests->transformers==4.36.2) (3.3.2)\n",
            "Requirement already satisfied: idna<4,>=2.5 in /usr/local/lib/python3.10/dist-packages (from requests->transformers==4.36.2) (3.6)\n",
            "Requirement already satisfied: urllib3<3,>=1.21.1 in /usr/local/lib/python3.10/dist-packages (from requests->transformers==4.36.2) (2.0.7)\n",
            "Requirement already satisfied: certifi>=2017.4.17 in /usr/local/lib/python3.10/dist-packages (from requests->transformers==4.36.2) (2024.2.2)\n",
            "Installing collected packages: transformers\n",
            "  Attempting uninstall: transformers\n",
            "    Found existing installation: transformers 4.38.2\n",
            "    Uninstalling transformers-4.38.2:\n",
            "      Successfully uninstalled transformers-4.38.2\n",
            "Successfully installed transformers-4.36.2\n",
            "Collecting peft\n",
            "  Downloading peft-0.9.0-py3-none-any.whl (190 kB)\n",
            "\u001b[2K     \u001b[90m━━━━━━━━━━━━━━━━━━━━━━━━━━━━━━━━━━━━━━━━\u001b[0m \u001b[32m190.9/190.9 kB\u001b[0m \u001b[31m6.2 MB/s\u001b[0m eta \u001b[36m0:00:00\u001b[0m\n",
            "\u001b[?25hRequirement already satisfied: numpy>=1.17 in /usr/local/lib/python3.10/dist-packages (from peft) (1.25.2)\n",
            "Requirement already satisfied: packaging>=20.0 in /usr/local/lib/python3.10/dist-packages (from peft) (24.0)\n",
            "Requirement already satisfied: psutil in /usr/local/lib/python3.10/dist-packages (from peft) (5.9.5)\n",
            "Requirement already satisfied: pyyaml in /usr/local/lib/python3.10/dist-packages (from peft) (6.0.1)\n",
            "Requirement already satisfied: torch>=1.13.0 in /usr/local/lib/python3.10/dist-packages (from peft) (2.2.1+cu121)\n",
            "Requirement already satisfied: transformers in /usr/local/lib/python3.10/dist-packages (from peft) (4.36.2)\n",
            "Requirement already satisfied: tqdm in /usr/local/lib/python3.10/dist-packages (from peft) (4.66.2)\n",
            "Collecting accelerate>=0.21.0 (from peft)\n",
            "  Downloading accelerate-0.28.0-py3-none-any.whl (290 kB)\n",
            "\u001b[2K     \u001b[90m━━━━━━━━━━━━━━━━━━━━━━━━━━━━━━━━━━━━━━━━\u001b[0m \u001b[32m290.1/290.1 kB\u001b[0m \u001b[31m37.5 MB/s\u001b[0m eta \u001b[36m0:00:00\u001b[0m\n",
            "\u001b[?25hRequirement already satisfied: safetensors in /usr/local/lib/python3.10/dist-packages (from peft) (0.4.2)\n",
            "Requirement already satisfied: huggingface-hub>=0.17.0 in /usr/local/lib/python3.10/dist-packages (from peft) (0.20.3)\n",
            "Requirement already satisfied: filelock in /usr/local/lib/python3.10/dist-packages (from huggingface-hub>=0.17.0->peft) (3.13.1)\n",
            "Requirement already satisfied: fsspec>=2023.5.0 in /usr/local/lib/python3.10/dist-packages (from huggingface-hub>=0.17.0->peft) (2023.6.0)\n",
            "Requirement already satisfied: requests in /usr/local/lib/python3.10/dist-packages (from huggingface-hub>=0.17.0->peft) (2.31.0)\n",
            "Requirement already satisfied: typing-extensions>=3.7.4.3 in /usr/local/lib/python3.10/dist-packages (from huggingface-hub>=0.17.0->peft) (4.10.0)\n",
            "Requirement already satisfied: sympy in /usr/local/lib/python3.10/dist-packages (from torch>=1.13.0->peft) (1.12)\n",
            "Requirement already satisfied: networkx in /usr/local/lib/python3.10/dist-packages (from torch>=1.13.0->peft) (3.2.1)\n",
            "Requirement already satisfied: jinja2 in /usr/local/lib/python3.10/dist-packages (from torch>=1.13.0->peft) (3.1.3)\n",
            "Requirement already satisfied: nvidia-cuda-nvrtc-cu12==12.1.105 in /usr/local/lib/python3.10/dist-packages (from torch>=1.13.0->peft) (12.1.105)\n",
            "Requirement already satisfied: nvidia-cuda-runtime-cu12==12.1.105 in /usr/local/lib/python3.10/dist-packages (from torch>=1.13.0->peft) (12.1.105)\n",
            "Requirement already satisfied: nvidia-cuda-cupti-cu12==12.1.105 in /usr/local/lib/python3.10/dist-packages (from torch>=1.13.0->peft) (12.1.105)\n",
            "Requirement already satisfied: nvidia-cudnn-cu12==8.9.2.26 in /usr/local/lib/python3.10/dist-packages (from torch>=1.13.0->peft) (8.9.2.26)\n",
            "Requirement already satisfied: nvidia-cublas-cu12==12.1.3.1 in /usr/local/lib/python3.10/dist-packages (from torch>=1.13.0->peft) (12.1.3.1)\n",
            "Requirement already satisfied: nvidia-cufft-cu12==11.0.2.54 in /usr/local/lib/python3.10/dist-packages (from torch>=1.13.0->peft) (11.0.2.54)\n",
            "Requirement already satisfied: nvidia-curand-cu12==10.3.2.106 in /usr/local/lib/python3.10/dist-packages (from torch>=1.13.0->peft) (10.3.2.106)\n",
            "Requirement already satisfied: nvidia-cusolver-cu12==11.4.5.107 in /usr/local/lib/python3.10/dist-packages (from torch>=1.13.0->peft) (11.4.5.107)\n",
            "Requirement already satisfied: nvidia-cusparse-cu12==12.1.0.106 in /usr/local/lib/python3.10/dist-packages (from torch>=1.13.0->peft) (12.1.0.106)\n",
            "Requirement already satisfied: nvidia-nccl-cu12==2.19.3 in /usr/local/lib/python3.10/dist-packages (from torch>=1.13.0->peft) (2.19.3)\n",
            "Requirement already satisfied: nvidia-nvtx-cu12==12.1.105 in /usr/local/lib/python3.10/dist-packages (from torch>=1.13.0->peft) (12.1.105)\n",
            "Requirement already satisfied: triton==2.2.0 in /usr/local/lib/python3.10/dist-packages (from torch>=1.13.0->peft) (2.2.0)\n",
            "Requirement already satisfied: nvidia-nvjitlink-cu12 in /usr/local/lib/python3.10/dist-packages (from nvidia-cusolver-cu12==11.4.5.107->torch>=1.13.0->peft) (12.4.99)\n",
            "Requirement already satisfied: regex!=2019.12.17 in /usr/local/lib/python3.10/dist-packages (from transformers->peft) (2023.12.25)\n",
            "Requirement already satisfied: tokenizers<0.19,>=0.14 in /usr/local/lib/python3.10/dist-packages (from transformers->peft) (0.15.2)\n",
            "Requirement already satisfied: MarkupSafe>=2.0 in /usr/local/lib/python3.10/dist-packages (from jinja2->torch>=1.13.0->peft) (2.1.5)\n",
            "Requirement already satisfied: charset-normalizer<4,>=2 in /usr/local/lib/python3.10/dist-packages (from requests->huggingface-hub>=0.17.0->peft) (3.3.2)\n",
            "Requirement already satisfied: idna<4,>=2.5 in /usr/local/lib/python3.10/dist-packages (from requests->huggingface-hub>=0.17.0->peft) (3.6)\n",
            "Requirement already satisfied: urllib3<3,>=1.21.1 in /usr/local/lib/python3.10/dist-packages (from requests->huggingface-hub>=0.17.0->peft) (2.0.7)\n",
            "Requirement already satisfied: certifi>=2017.4.17 in /usr/local/lib/python3.10/dist-packages (from requests->huggingface-hub>=0.17.0->peft) (2024.2.2)\n",
            "Requirement already satisfied: mpmath>=0.19 in /usr/local/lib/python3.10/dist-packages (from sympy->torch>=1.13.0->peft) (1.3.0)\n",
            "Installing collected packages: accelerate, peft\n",
            "Successfully installed accelerate-0.28.0 peft-0.9.0\n",
            "Requirement already satisfied: accelerate in /usr/local/lib/python3.10/dist-packages (0.28.0)\n",
            "Requirement already satisfied: numpy>=1.17 in /usr/local/lib/python3.10/dist-packages (from accelerate) (1.25.2)\n",
            "Requirement already satisfied: packaging>=20.0 in /usr/local/lib/python3.10/dist-packages (from accelerate) (24.0)\n",
            "Requirement already satisfied: psutil in /usr/local/lib/python3.10/dist-packages (from accelerate) (5.9.5)\n",
            "Requirement already satisfied: pyyaml in /usr/local/lib/python3.10/dist-packages (from accelerate) (6.0.1)\n",
            "Requirement already satisfied: torch>=1.10.0 in /usr/local/lib/python3.10/dist-packages (from accelerate) (2.2.1+cu121)\n",
            "Requirement already satisfied: huggingface-hub in /usr/local/lib/python3.10/dist-packages (from accelerate) (0.20.3)\n",
            "Requirement already satisfied: safetensors>=0.3.1 in /usr/local/lib/python3.10/dist-packages (from accelerate) (0.4.2)\n",
            "Requirement already satisfied: filelock in /usr/local/lib/python3.10/dist-packages (from torch>=1.10.0->accelerate) (3.13.1)\n",
            "Requirement already satisfied: typing-extensions>=4.8.0 in /usr/local/lib/python3.10/dist-packages (from torch>=1.10.0->accelerate) (4.10.0)\n",
            "Requirement already satisfied: sympy in /usr/local/lib/python3.10/dist-packages (from torch>=1.10.0->accelerate) (1.12)\n",
            "Requirement already satisfied: networkx in /usr/local/lib/python3.10/dist-packages (from torch>=1.10.0->accelerate) (3.2.1)\n",
            "Requirement already satisfied: jinja2 in /usr/local/lib/python3.10/dist-packages (from torch>=1.10.0->accelerate) (3.1.3)\n",
            "Requirement already satisfied: fsspec in /usr/local/lib/python3.10/dist-packages (from torch>=1.10.0->accelerate) (2023.6.0)\n",
            "Requirement already satisfied: nvidia-cuda-nvrtc-cu12==12.1.105 in /usr/local/lib/python3.10/dist-packages (from torch>=1.10.0->accelerate) (12.1.105)\n",
            "Requirement already satisfied: nvidia-cuda-runtime-cu12==12.1.105 in /usr/local/lib/python3.10/dist-packages (from torch>=1.10.0->accelerate) (12.1.105)\n",
            "Requirement already satisfied: nvidia-cuda-cupti-cu12==12.1.105 in /usr/local/lib/python3.10/dist-packages (from torch>=1.10.0->accelerate) (12.1.105)\n",
            "Requirement already satisfied: nvidia-cudnn-cu12==8.9.2.26 in /usr/local/lib/python3.10/dist-packages (from torch>=1.10.0->accelerate) (8.9.2.26)\n",
            "Requirement already satisfied: nvidia-cublas-cu12==12.1.3.1 in /usr/local/lib/python3.10/dist-packages (from torch>=1.10.0->accelerate) (12.1.3.1)\n",
            "Requirement already satisfied: nvidia-cufft-cu12==11.0.2.54 in /usr/local/lib/python3.10/dist-packages (from torch>=1.10.0->accelerate) (11.0.2.54)\n",
            "Requirement already satisfied: nvidia-curand-cu12==10.3.2.106 in /usr/local/lib/python3.10/dist-packages (from torch>=1.10.0->accelerate) (10.3.2.106)\n",
            "Requirement already satisfied: nvidia-cusolver-cu12==11.4.5.107 in /usr/local/lib/python3.10/dist-packages (from torch>=1.10.0->accelerate) (11.4.5.107)\n",
            "Requirement already satisfied: nvidia-cusparse-cu12==12.1.0.106 in /usr/local/lib/python3.10/dist-packages (from torch>=1.10.0->accelerate) (12.1.0.106)\n",
            "Requirement already satisfied: nvidia-nccl-cu12==2.19.3 in /usr/local/lib/python3.10/dist-packages (from torch>=1.10.0->accelerate) (2.19.3)\n",
            "Requirement already satisfied: nvidia-nvtx-cu12==12.1.105 in /usr/local/lib/python3.10/dist-packages (from torch>=1.10.0->accelerate) (12.1.105)\n",
            "Requirement already satisfied: triton==2.2.0 in /usr/local/lib/python3.10/dist-packages (from torch>=1.10.0->accelerate) (2.2.0)\n",
            "Requirement already satisfied: nvidia-nvjitlink-cu12 in /usr/local/lib/python3.10/dist-packages (from nvidia-cusolver-cu12==11.4.5.107->torch>=1.10.0->accelerate) (12.4.99)\n",
            "Requirement already satisfied: requests in /usr/local/lib/python3.10/dist-packages (from huggingface-hub->accelerate) (2.31.0)\n",
            "Requirement already satisfied: tqdm>=4.42.1 in /usr/local/lib/python3.10/dist-packages (from huggingface-hub->accelerate) (4.66.2)\n",
            "Requirement already satisfied: MarkupSafe>=2.0 in /usr/local/lib/python3.10/dist-packages (from jinja2->torch>=1.10.0->accelerate) (2.1.5)\n",
            "Requirement already satisfied: charset-normalizer<4,>=2 in /usr/local/lib/python3.10/dist-packages (from requests->huggingface-hub->accelerate) (3.3.2)\n",
            "Requirement already satisfied: idna<4,>=2.5 in /usr/local/lib/python3.10/dist-packages (from requests->huggingface-hub->accelerate) (3.6)\n",
            "Requirement already satisfied: urllib3<3,>=1.21.1 in /usr/local/lib/python3.10/dist-packages (from requests->huggingface-hub->accelerate) (2.0.7)\n",
            "Requirement already satisfied: certifi>=2017.4.17 in /usr/local/lib/python3.10/dist-packages (from requests->huggingface-hub->accelerate) (2024.2.2)\n",
            "Requirement already satisfied: mpmath>=0.19 in /usr/local/lib/python3.10/dist-packages (from sympy->torch>=1.10.0->accelerate) (1.3.0)\n",
            "Collecting trl\n",
            "  Downloading trl-0.8.1-py3-none-any.whl (225 kB)\n",
            "\u001b[2K     \u001b[90m━━━━━━━━━━━━━━━━━━━━━━━━━━━━━━━━━━━━━━━━\u001b[0m \u001b[32m225.0/225.0 kB\u001b[0m \u001b[31m5.8 MB/s\u001b[0m eta \u001b[36m0:00:00\u001b[0m\n",
            "\u001b[?25hRequirement already satisfied: torch>=1.4.0 in /usr/local/lib/python3.10/dist-packages (from trl) (2.2.1+cu121)\n",
            "Requirement already satisfied: transformers>=4.31.0 in /usr/local/lib/python3.10/dist-packages (from trl) (4.36.2)\n",
            "Requirement already satisfied: numpy>=1.18.2 in /usr/local/lib/python3.10/dist-packages (from trl) (1.25.2)\n",
            "Requirement already satisfied: accelerate in /usr/local/lib/python3.10/dist-packages (from trl) (0.28.0)\n",
            "Collecting datasets (from trl)\n",
            "  Downloading datasets-2.18.0-py3-none-any.whl (510 kB)\n",
            "\u001b[2K     \u001b[90m━━━━━━━━━━━━━━━━━━━━━━━━━━━━━━━━━━━━━━━━\u001b[0m \u001b[32m510.5/510.5 kB\u001b[0m \u001b[31m40.5 MB/s\u001b[0m eta \u001b[36m0:00:00\u001b[0m\n",
            "\u001b[?25hCollecting tyro>=0.5.11 (from trl)\n",
            "  Downloading tyro-0.7.3-py3-none-any.whl (79 kB)\n",
            "\u001b[2K     \u001b[90m━━━━━━━━━━━━━━━━━━━━━━━━━━━━━━━━━━━━━━━━\u001b[0m \u001b[32m79.8/79.8 kB\u001b[0m \u001b[31m12.9 MB/s\u001b[0m eta \u001b[36m0:00:00\u001b[0m\n",
            "\u001b[?25hRequirement already satisfied: filelock in /usr/local/lib/python3.10/dist-packages (from torch>=1.4.0->trl) (3.13.1)\n",
            "Requirement already satisfied: typing-extensions>=4.8.0 in /usr/local/lib/python3.10/dist-packages (from torch>=1.4.0->trl) (4.10.0)\n",
            "Requirement already satisfied: sympy in /usr/local/lib/python3.10/dist-packages (from torch>=1.4.0->trl) (1.12)\n",
            "Requirement already satisfied: networkx in /usr/local/lib/python3.10/dist-packages (from torch>=1.4.0->trl) (3.2.1)\n",
            "Requirement already satisfied: jinja2 in /usr/local/lib/python3.10/dist-packages (from torch>=1.4.0->trl) (3.1.3)\n",
            "Requirement already satisfied: fsspec in /usr/local/lib/python3.10/dist-packages (from torch>=1.4.0->trl) (2023.6.0)\n",
            "Requirement already satisfied: nvidia-cuda-nvrtc-cu12==12.1.105 in /usr/local/lib/python3.10/dist-packages (from torch>=1.4.0->trl) (12.1.105)\n",
            "Requirement already satisfied: nvidia-cuda-runtime-cu12==12.1.105 in /usr/local/lib/python3.10/dist-packages (from torch>=1.4.0->trl) (12.1.105)\n",
            "Requirement already satisfied: nvidia-cuda-cupti-cu12==12.1.105 in /usr/local/lib/python3.10/dist-packages (from torch>=1.4.0->trl) (12.1.105)\n",
            "Requirement already satisfied: nvidia-cudnn-cu12==8.9.2.26 in /usr/local/lib/python3.10/dist-packages (from torch>=1.4.0->trl) (8.9.2.26)\n",
            "Requirement already satisfied: nvidia-cublas-cu12==12.1.3.1 in /usr/local/lib/python3.10/dist-packages (from torch>=1.4.0->trl) (12.1.3.1)\n",
            "Requirement already satisfied: nvidia-cufft-cu12==11.0.2.54 in /usr/local/lib/python3.10/dist-packages (from torch>=1.4.0->trl) (11.0.2.54)\n",
            "Requirement already satisfied: nvidia-curand-cu12==10.3.2.106 in /usr/local/lib/python3.10/dist-packages (from torch>=1.4.0->trl) (10.3.2.106)\n",
            "Requirement already satisfied: nvidia-cusolver-cu12==11.4.5.107 in /usr/local/lib/python3.10/dist-packages (from torch>=1.4.0->trl) (11.4.5.107)\n",
            "Requirement already satisfied: nvidia-cusparse-cu12==12.1.0.106 in /usr/local/lib/python3.10/dist-packages (from torch>=1.4.0->trl) (12.1.0.106)\n",
            "Requirement already satisfied: nvidia-nccl-cu12==2.19.3 in /usr/local/lib/python3.10/dist-packages (from torch>=1.4.0->trl) (2.19.3)\n",
            "Requirement already satisfied: nvidia-nvtx-cu12==12.1.105 in /usr/local/lib/python3.10/dist-packages (from torch>=1.4.0->trl) (12.1.105)\n",
            "Requirement already satisfied: triton==2.2.0 in /usr/local/lib/python3.10/dist-packages (from torch>=1.4.0->trl) (2.2.0)\n",
            "Requirement already satisfied: nvidia-nvjitlink-cu12 in /usr/local/lib/python3.10/dist-packages (from nvidia-cusolver-cu12==11.4.5.107->torch>=1.4.0->trl) (12.4.99)\n",
            "Requirement already satisfied: huggingface-hub<1.0,>=0.19.3 in /usr/local/lib/python3.10/dist-packages (from transformers>=4.31.0->trl) (0.20.3)\n",
            "Requirement already satisfied: packaging>=20.0 in /usr/local/lib/python3.10/dist-packages (from transformers>=4.31.0->trl) (24.0)\n",
            "Requirement already satisfied: pyyaml>=5.1 in /usr/local/lib/python3.10/dist-packages (from transformers>=4.31.0->trl) (6.0.1)\n",
            "Requirement already satisfied: regex!=2019.12.17 in /usr/local/lib/python3.10/dist-packages (from transformers>=4.31.0->trl) (2023.12.25)\n",
            "Requirement already satisfied: requests in /usr/local/lib/python3.10/dist-packages (from transformers>=4.31.0->trl) (2.31.0)\n",
            "Requirement already satisfied: tokenizers<0.19,>=0.14 in /usr/local/lib/python3.10/dist-packages (from transformers>=4.31.0->trl) (0.15.2)\n",
            "Requirement already satisfied: safetensors>=0.3.1 in /usr/local/lib/python3.10/dist-packages (from transformers>=4.31.0->trl) (0.4.2)\n",
            "Requirement already satisfied: tqdm>=4.27 in /usr/local/lib/python3.10/dist-packages (from transformers>=4.31.0->trl) (4.66.2)\n",
            "Collecting docstring-parser>=0.14.1 (from tyro>=0.5.11->trl)\n",
            "  Downloading docstring_parser-0.16-py3-none-any.whl (36 kB)\n",
            "Requirement already satisfied: rich>=11.1.0 in /usr/local/lib/python3.10/dist-packages (from tyro>=0.5.11->trl) (13.7.1)\n",
            "Collecting shtab>=1.5.6 (from tyro>=0.5.11->trl)\n",
            "  Downloading shtab-1.7.1-py3-none-any.whl (14 kB)\n",
            "Requirement already satisfied: psutil in /usr/local/lib/python3.10/dist-packages (from accelerate->trl) (5.9.5)\n",
            "Requirement already satisfied: pyarrow>=12.0.0 in /usr/local/lib/python3.10/dist-packages (from datasets->trl) (14.0.2)\n",
            "Requirement already satisfied: pyarrow-hotfix in /usr/local/lib/python3.10/dist-packages (from datasets->trl) (0.6)\n",
            "Collecting dill<0.3.9,>=0.3.0 (from datasets->trl)\n",
            "  Downloading dill-0.3.8-py3-none-any.whl (116 kB)\n",
            "\u001b[2K     \u001b[90m━━━━━━━━━━━━━━━━━━━━━━━━━━━━━━━━━━━━━━━━\u001b[0m \u001b[32m116.3/116.3 kB\u001b[0m \u001b[31m17.7 MB/s\u001b[0m eta \u001b[36m0:00:00\u001b[0m\n",
            "\u001b[?25hRequirement already satisfied: pandas in /usr/local/lib/python3.10/dist-packages (from datasets->trl) (1.5.3)\n",
            "Collecting xxhash (from datasets->trl)\n",
            "  Downloading xxhash-3.4.1-cp310-cp310-manylinux_2_17_x86_64.manylinux2014_x86_64.whl (194 kB)\n",
            "\u001b[2K     \u001b[90m━━━━━━━━━━━━━━━━━━━━━━━━━━━━━━━━━━━━━━━━\u001b[0m \u001b[32m194.1/194.1 kB\u001b[0m \u001b[31m29.4 MB/s\u001b[0m eta \u001b[36m0:00:00\u001b[0m\n",
            "\u001b[?25hCollecting multiprocess (from datasets->trl)\n",
            "  Downloading multiprocess-0.70.16-py310-none-any.whl (134 kB)\n",
            "\u001b[2K     \u001b[90m━━━━━━━━━━━━━━━━━━━━━━━━━━━━━━━━━━━━━━━━\u001b[0m \u001b[32m134.8/134.8 kB\u001b[0m \u001b[31m21.7 MB/s\u001b[0m eta \u001b[36m0:00:00\u001b[0m\n",
            "\u001b[?25hRequirement already satisfied: aiohttp in /usr/local/lib/python3.10/dist-packages (from datasets->trl) (3.9.3)\n",
            "Requirement already satisfied: aiosignal>=1.1.2 in /usr/local/lib/python3.10/dist-packages (from aiohttp->datasets->trl) (1.3.1)\n",
            "Requirement already satisfied: attrs>=17.3.0 in /usr/local/lib/python3.10/dist-packages (from aiohttp->datasets->trl) (23.2.0)\n",
            "Requirement already satisfied: frozenlist>=1.1.1 in /usr/local/lib/python3.10/dist-packages (from aiohttp->datasets->trl) (1.4.1)\n",
            "Requirement already satisfied: multidict<7.0,>=4.5 in /usr/local/lib/python3.10/dist-packages (from aiohttp->datasets->trl) (6.0.5)\n",
            "Requirement already satisfied: yarl<2.0,>=1.0 in /usr/local/lib/python3.10/dist-packages (from aiohttp->datasets->trl) (1.9.4)\n",
            "Requirement already satisfied: async-timeout<5.0,>=4.0 in /usr/local/lib/python3.10/dist-packages (from aiohttp->datasets->trl) (4.0.3)\n",
            "Requirement already satisfied: charset-normalizer<4,>=2 in /usr/local/lib/python3.10/dist-packages (from requests->transformers>=4.31.0->trl) (3.3.2)\n",
            "Requirement already satisfied: idna<4,>=2.5 in /usr/local/lib/python3.10/dist-packages (from requests->transformers>=4.31.0->trl) (3.6)\n",
            "Requirement already satisfied: urllib3<3,>=1.21.1 in /usr/local/lib/python3.10/dist-packages (from requests->transformers>=4.31.0->trl) (2.0.7)\n",
            "Requirement already satisfied: certifi>=2017.4.17 in /usr/local/lib/python3.10/dist-packages (from requests->transformers>=4.31.0->trl) (2024.2.2)\n",
            "Requirement already satisfied: markdown-it-py>=2.2.0 in /usr/local/lib/python3.10/dist-packages (from rich>=11.1.0->tyro>=0.5.11->trl) (3.0.0)\n",
            "Requirement already satisfied: pygments<3.0.0,>=2.13.0 in /usr/local/lib/python3.10/dist-packages (from rich>=11.1.0->tyro>=0.5.11->trl) (2.16.1)\n",
            "Requirement already satisfied: MarkupSafe>=2.0 in /usr/local/lib/python3.10/dist-packages (from jinja2->torch>=1.4.0->trl) (2.1.5)\n",
            "Requirement already satisfied: python-dateutil>=2.8.1 in /usr/local/lib/python3.10/dist-packages (from pandas->datasets->trl) (2.8.2)\n",
            "Requirement already satisfied: pytz>=2020.1 in /usr/local/lib/python3.10/dist-packages (from pandas->datasets->trl) (2023.4)\n",
            "Requirement already satisfied: mpmath>=0.19 in /usr/local/lib/python3.10/dist-packages (from sympy->torch>=1.4.0->trl) (1.3.0)\n",
            "Requirement already satisfied: mdurl~=0.1 in /usr/local/lib/python3.10/dist-packages (from markdown-it-py>=2.2.0->rich>=11.1.0->tyro>=0.5.11->trl) (0.1.2)\n",
            "Requirement already satisfied: six>=1.5 in /usr/local/lib/python3.10/dist-packages (from python-dateutil>=2.8.1->pandas->datasets->trl) (1.16.0)\n",
            "Installing collected packages: xxhash, shtab, docstring-parser, dill, multiprocess, tyro, datasets, trl\n",
            "Successfully installed datasets-2.18.0 dill-0.3.8 docstring-parser-0.16 multiprocess-0.70.16 shtab-1.7.1 trl-0.8.1 tyro-0.7.3 xxhash-3.4.1\n",
            "Collecting datasets==2.16.0\n",
            "  Downloading datasets-2.16.0-py3-none-any.whl (507 kB)\n",
            "\u001b[2K     \u001b[90m━━━━━━━━━━━━━━━━━━━━━━━━━━━━━━━━━━━━━━━━\u001b[0m \u001b[32m507.1/507.1 kB\u001b[0m \u001b[31m10.2 MB/s\u001b[0m eta \u001b[36m0:00:00\u001b[0m\n",
            "\u001b[?25hRequirement already satisfied: filelock in /usr/local/lib/python3.10/dist-packages (from datasets==2.16.0) (3.13.1)\n",
            "Requirement already satisfied: numpy>=1.17 in /usr/local/lib/python3.10/dist-packages (from datasets==2.16.0) (1.25.2)\n",
            "Requirement already satisfied: pyarrow>=8.0.0 in /usr/local/lib/python3.10/dist-packages (from datasets==2.16.0) (14.0.2)\n",
            "Requirement already satisfied: pyarrow-hotfix in /usr/local/lib/python3.10/dist-packages (from datasets==2.16.0) (0.6)\n",
            "Collecting dill<0.3.8,>=0.3.0 (from datasets==2.16.0)\n",
            "  Downloading dill-0.3.7-py3-none-any.whl (115 kB)\n",
            "\u001b[2K     \u001b[90m━━━━━━━━━━━━━━━━━━━━━━━━━━━━━━━━━━━━━━━━\u001b[0m \u001b[32m115.3/115.3 kB\u001b[0m \u001b[31m18.8 MB/s\u001b[0m eta \u001b[36m0:00:00\u001b[0m\n",
            "\u001b[?25hRequirement already satisfied: pandas in /usr/local/lib/python3.10/dist-packages (from datasets==2.16.0) (1.5.3)\n",
            "Requirement already satisfied: requests>=2.19.0 in /usr/local/lib/python3.10/dist-packages (from datasets==2.16.0) (2.31.0)\n",
            "Requirement already satisfied: tqdm>=4.62.1 in /usr/local/lib/python3.10/dist-packages (from datasets==2.16.0) (4.66.2)\n",
            "Requirement already satisfied: xxhash in /usr/local/lib/python3.10/dist-packages (from datasets==2.16.0) (3.4.1)\n",
            "Requirement already satisfied: multiprocess in /usr/local/lib/python3.10/dist-packages (from datasets==2.16.0) (0.70.16)\n",
            "Requirement already satisfied: fsspec[http]<=2023.10.0,>=2023.1.0 in /usr/local/lib/python3.10/dist-packages (from datasets==2.16.0) (2023.6.0)\n",
            "Requirement already satisfied: aiohttp in /usr/local/lib/python3.10/dist-packages (from datasets==2.16.0) (3.9.3)\n",
            "Requirement already satisfied: huggingface-hub>=0.19.4 in /usr/local/lib/python3.10/dist-packages (from datasets==2.16.0) (0.20.3)\n",
            "Requirement already satisfied: packaging in /usr/local/lib/python3.10/dist-packages (from datasets==2.16.0) (24.0)\n",
            "Requirement already satisfied: pyyaml>=5.1 in /usr/local/lib/python3.10/dist-packages (from datasets==2.16.0) (6.0.1)\n",
            "Requirement already satisfied: aiosignal>=1.1.2 in /usr/local/lib/python3.10/dist-packages (from aiohttp->datasets==2.16.0) (1.3.1)\n",
            "Requirement already satisfied: attrs>=17.3.0 in /usr/local/lib/python3.10/dist-packages (from aiohttp->datasets==2.16.0) (23.2.0)\n",
            "Requirement already satisfied: frozenlist>=1.1.1 in /usr/local/lib/python3.10/dist-packages (from aiohttp->datasets==2.16.0) (1.4.1)\n",
            "Requirement already satisfied: multidict<7.0,>=4.5 in /usr/local/lib/python3.10/dist-packages (from aiohttp->datasets==2.16.0) (6.0.5)\n",
            "Requirement already satisfied: yarl<2.0,>=1.0 in /usr/local/lib/python3.10/dist-packages (from aiohttp->datasets==2.16.0) (1.9.4)\n",
            "Requirement already satisfied: async-timeout<5.0,>=4.0 in /usr/local/lib/python3.10/dist-packages (from aiohttp->datasets==2.16.0) (4.0.3)\n",
            "Requirement already satisfied: typing-extensions>=3.7.4.3 in /usr/local/lib/python3.10/dist-packages (from huggingface-hub>=0.19.4->datasets==2.16.0) (4.10.0)\n",
            "Requirement already satisfied: charset-normalizer<4,>=2 in /usr/local/lib/python3.10/dist-packages (from requests>=2.19.0->datasets==2.16.0) (3.3.2)\n",
            "Requirement already satisfied: idna<4,>=2.5 in /usr/local/lib/python3.10/dist-packages (from requests>=2.19.0->datasets==2.16.0) (3.6)\n",
            "Requirement already satisfied: urllib3<3,>=1.21.1 in /usr/local/lib/python3.10/dist-packages (from requests>=2.19.0->datasets==2.16.0) (2.0.7)\n",
            "Requirement already satisfied: certifi>=2017.4.17 in /usr/local/lib/python3.10/dist-packages (from requests>=2.19.0->datasets==2.16.0) (2024.2.2)\n",
            "INFO: pip is looking at multiple versions of multiprocess to determine which version is compatible with other requirements. This could take a while.\n",
            "Collecting multiprocess (from datasets==2.16.0)\n",
            "  Downloading multiprocess-0.70.15-py310-none-any.whl (134 kB)\n",
            "\u001b[2K     \u001b[90m━━━━━━━━━━━━━━━━━━━━━━━━━━━━━━━━━━━━━━━━\u001b[0m \u001b[32m134.8/134.8 kB\u001b[0m \u001b[31m21.1 MB/s\u001b[0m eta \u001b[36m0:00:00\u001b[0m\n",
            "\u001b[?25hRequirement already satisfied: python-dateutil>=2.8.1 in /usr/local/lib/python3.10/dist-packages (from pandas->datasets==2.16.0) (2.8.2)\n",
            "Requirement already satisfied: pytz>=2020.1 in /usr/local/lib/python3.10/dist-packages (from pandas->datasets==2.16.0) (2023.4)\n",
            "Requirement already satisfied: six>=1.5 in /usr/local/lib/python3.10/dist-packages (from python-dateutil>=2.8.1->pandas->datasets==2.16.0) (1.16.0)\n",
            "Installing collected packages: dill, multiprocess, datasets\n",
            "  Attempting uninstall: dill\n",
            "    Found existing installation: dill 0.3.8\n",
            "    Uninstalling dill-0.3.8:\n",
            "      Successfully uninstalled dill-0.3.8\n",
            "  Attempting uninstall: multiprocess\n",
            "    Found existing installation: multiprocess 0.70.16\n",
            "    Uninstalling multiprocess-0.70.16:\n",
            "      Successfully uninstalled multiprocess-0.70.16\n",
            "  Attempting uninstall: datasets\n",
            "    Found existing installation: datasets 2.18.0\n",
            "    Uninstalling datasets-2.18.0:\n",
            "      Successfully uninstalled datasets-2.18.0\n",
            "Successfully installed datasets-2.16.0 dill-0.3.7 multiprocess-0.70.15\n",
            "Requirement already satisfied: sentencepiece in /usr/local/lib/python3.10/dist-packages (0.1.99)\n",
            "Requirement already satisfied: openpyxl in /usr/local/lib/python3.10/dist-packages (3.1.2)\n",
            "Requirement already satisfied: et-xmlfile in /usr/local/lib/python3.10/dist-packages (from openpyxl) (1.1.0)\n",
            "Requirement already satisfied: xlrd in /usr/local/lib/python3.10/dist-packages (2.0.1)\n",
            "Collecting openai\n",
            "  Downloading openai-1.14.2-py3-none-any.whl (262 kB)\n",
            "\u001b[2K     \u001b[90m━━━━━━━━━━━━━━━━━━━━━━━━━━━━━━━━━━━━━━━━\u001b[0m \u001b[32m262.4/262.4 kB\u001b[0m \u001b[31m4.8 MB/s\u001b[0m eta \u001b[36m0:00:00\u001b[0m\n",
            "\u001b[?25hRequirement already satisfied: anyio<5,>=3.5.0 in /usr/local/lib/python3.10/dist-packages (from openai) (3.7.1)\n",
            "Requirement already satisfied: distro<2,>=1.7.0 in /usr/lib/python3/dist-packages (from openai) (1.7.0)\n",
            "Collecting httpx<1,>=0.23.0 (from openai)\n",
            "  Downloading httpx-0.27.0-py3-none-any.whl (75 kB)\n",
            "\u001b[2K     \u001b[90m━━━━━━━━━━━━━━━━━━━━━━━━━━━━━━━━━━━━━━━━\u001b[0m \u001b[32m75.6/75.6 kB\u001b[0m \u001b[31m11.7 MB/s\u001b[0m eta \u001b[36m0:00:00\u001b[0m\n",
            "\u001b[?25hRequirement already satisfied: pydantic<3,>=1.9.0 in /usr/local/lib/python3.10/dist-packages (from openai) (2.6.4)\n",
            "Requirement already satisfied: sniffio in /usr/local/lib/python3.10/dist-packages (from openai) (1.3.1)\n",
            "Requirement already satisfied: tqdm>4 in /usr/local/lib/python3.10/dist-packages (from openai) (4.66.2)\n",
            "Requirement already satisfied: typing-extensions<5,>=4.7 in /usr/local/lib/python3.10/dist-packages (from openai) (4.10.0)\n",
            "Requirement already satisfied: idna>=2.8 in /usr/local/lib/python3.10/dist-packages (from anyio<5,>=3.5.0->openai) (3.6)\n",
            "Requirement already satisfied: exceptiongroup in /usr/local/lib/python3.10/dist-packages (from anyio<5,>=3.5.0->openai) (1.2.0)\n",
            "Requirement already satisfied: certifi in /usr/local/lib/python3.10/dist-packages (from httpx<1,>=0.23.0->openai) (2024.2.2)\n",
            "Collecting httpcore==1.* (from httpx<1,>=0.23.0->openai)\n",
            "  Downloading httpcore-1.0.4-py3-none-any.whl (77 kB)\n",
            "\u001b[2K     \u001b[90m━━━━━━━━━━━━━━━━━━━━━━━━━━━━━━━━━━━━━━━━\u001b[0m \u001b[32m77.8/77.8 kB\u001b[0m \u001b[31m12.1 MB/s\u001b[0m eta \u001b[36m0:00:00\u001b[0m\n",
            "\u001b[?25hCollecting h11<0.15,>=0.13 (from httpcore==1.*->httpx<1,>=0.23.0->openai)\n",
            "  Downloading h11-0.14.0-py3-none-any.whl (58 kB)\n",
            "\u001b[2K     \u001b[90m━━━━━━━━━━━━━━━━━━━━━━━━━━━━━━━━━━━━━━━━\u001b[0m \u001b[32m58.3/58.3 kB\u001b[0m \u001b[31m9.4 MB/s\u001b[0m eta \u001b[36m0:00:00\u001b[0m\n",
            "\u001b[?25hRequirement already satisfied: annotated-types>=0.4.0 in /usr/local/lib/python3.10/dist-packages (from pydantic<3,>=1.9.0->openai) (0.6.0)\n",
            "Requirement already satisfied: pydantic-core==2.16.3 in /usr/local/lib/python3.10/dist-packages (from pydantic<3,>=1.9.0->openai) (2.16.3)\n",
            "Installing collected packages: h11, httpcore, httpx, openai\n",
            "Successfully installed h11-0.14.0 httpcore-1.0.4 httpx-0.27.0 openai-1.14.2\n",
            "Requirement already satisfied: huggingface_hub in /usr/local/lib/python3.10/dist-packages (0.20.3)\n",
            "Requirement already satisfied: filelock in /usr/local/lib/python3.10/dist-packages (from huggingface_hub) (3.13.1)\n",
            "Requirement already satisfied: fsspec>=2023.5.0 in /usr/local/lib/python3.10/dist-packages (from huggingface_hub) (2023.6.0)\n",
            "Requirement already satisfied: requests in /usr/local/lib/python3.10/dist-packages (from huggingface_hub) (2.31.0)\n",
            "Requirement already satisfied: tqdm>=4.42.1 in /usr/local/lib/python3.10/dist-packages (from huggingface_hub) (4.66.2)\n",
            "Requirement already satisfied: pyyaml>=5.1 in /usr/local/lib/python3.10/dist-packages (from huggingface_hub) (6.0.1)\n",
            "Requirement already satisfied: typing-extensions>=3.7.4.3 in /usr/local/lib/python3.10/dist-packages (from huggingface_hub) (4.10.0)\n",
            "Requirement already satisfied: packaging>=20.9 in /usr/local/lib/python3.10/dist-packages (from huggingface_hub) (24.0)\n",
            "Requirement already satisfied: charset-normalizer<4,>=2 in /usr/local/lib/python3.10/dist-packages (from requests->huggingface_hub) (3.3.2)\n",
            "Requirement already satisfied: idna<4,>=2.5 in /usr/local/lib/python3.10/dist-packages (from requests->huggingface_hub) (3.6)\n",
            "Requirement already satisfied: urllib3<3,>=1.21.1 in /usr/local/lib/python3.10/dist-packages (from requests->huggingface_hub) (2.0.7)\n",
            "Requirement already satisfied: certifi>=2017.4.17 in /usr/local/lib/python3.10/dist-packages (from requests->huggingface_hub) (2024.2.2)\n"
          ]
        }
      ]
    },
    {
      "cell_type": "code",
      "source": [
        "from transformers import AutoModelForCausalLM, AutoTokenizer, BitsAndBytesConfig,HfArgumentParser,TrainingArguments,pipeline, logging, LlamaTokenizer\n",
        "from peft import LoraConfig, PeftModel, prepare_model_for_kbit_training, get_peft_model\n",
        "import os,re\n",
        "import torch\n",
        "from datasets import load_dataset, Dataset\n",
        "from trl import SFTTrainer\n",
        "import pyarrow as pa\n",
        "import pyarrow.dataset as ds\n",
        "import pandas as pd\n",
        "import numpy as np\n",
        "from google.colab import userdata\n",
        "import json\n",
        "from sklearn.model_selection import train_test_split\n",
        "from huggingface_hub import HfApi\n",
        "\n",
        "\n"
      ],
      "metadata": {
        "id": "IaMPvU3wVBBh",
        "colab": {
          "base_uri": "https://localhost:8080/"
        },
        "outputId": "3ccbb74e-7c0c-4a8d-9d28-bda1f87494c4"
      },
      "execution_count": 2,
      "outputs": [
        {
          "output_type": "stream",
          "name": "stderr",
          "text": [
            "/usr/local/lib/python3.10/dist-packages/transformers/utils/generic.py:441: UserWarning: torch.utils._pytree._register_pytree_node is deprecated. Please use torch.utils._pytree.register_pytree_node instead.\n",
            "  _torch_pytree._register_pytree_node(\n",
            "/usr/local/lib/python3.10/dist-packages/transformers/utils/generic.py:309: UserWarning: torch.utils._pytree._register_pytree_node is deprecated. Please use torch.utils._pytree.register_pytree_node instead.\n",
            "  _torch_pytree._register_pytree_node(\n",
            "/usr/local/lib/python3.10/dist-packages/transformers/utils/generic.py:309: UserWarning: torch.utils._pytree._register_pytree_node is deprecated. Please use torch.utils._pytree.register_pytree_node instead.\n",
            "  _torch_pytree._register_pytree_node(\n"
          ]
        }
      ]
    },
    {
      "cell_type": "code",
      "source": [
        "prompt_instruction = '''\n",
        "Use the inputs to expertly decide on the appropriate protocol for the CT study.  The description of each CT protocol is given in the text below (the name to return for each protocol is in parentheses). For scans in which the order does not match the desired protocol, or if there are other outstanding questions the radiologist needs to resolve (e.g., elevated creatinine above 2.0 mg/dL or history of severe allergic reaction to IV contrast such as trouble breathing, throat swelling, or anaphylaxis, and contrast enhanced scan ordered), then add a comment that will route the case back to the radiologist (comments should be from the list given below.\n",
        "\n",
        "Also, note it is okay to over-image, but ideally no simpler protocols for studies that require multiphase imaging.\n",
        "Any acute hemorrhage is ideally scanned by the GI bleed protocol (CT with and without contrast, with arterial and venous phases). 6. Any study specifically ordered to evaluate the chest only (such as a PE study), or the thoracic-abdominal aorta or leg arteries should be routed to the chest/cardiovascular imaging division.\n",
        "If there is an indeterminate renal or adrenal mass on the prior study, it can be evaluated by adding pre contrast images through the abdomen in addition to the regular protocol (comment: 'precontrast through kidneys or adrenals'). That can be added on without communicating with the ordering provider.\n",
        "\n",
        "Here is a description of the protocols:\n",
        "\n",
        "Routine (routine):  Protocol for most patients includes portal venous phase imaging.  No oral contrast is administered by default, but can be added through comments.\n",
        "\n",
        "Noncontrast (noncon): Protocol when no contrast is indicated or there are contraindications such as severe allergy or elevated creatinine. There are reasons why contrast may not be wanted by the ordering provider even if no contraindications, such as a solitary kidney and mild renal failure.\n",
        "\n",
        "Dual Liver Protocol (dual liver):  Known or suspected hypervascular liver tumor or suspected metastases from a primary tumor outside the liver for which there are suspected hypervascular liver metastases.  It includes both the hepatic arterial and portal venous phases.  Currently the list of malignancies for this protocol includes neuroendocrine, carcinoid, and thyroid carcinoma.\n",
        "\n",
        "Cirrhosis Protocol (cirrhosis):  Known or suspected cirrhosis and/or have a known or suspected hepatocellular carcinoma.  It also should be performed in all patients with suspected benign primary liver tumors, such as focal nodular hyperplasia or hepatic adenoma.  This protocol includes acquisitions in the hepatic arterial and the portal venous phases, as well as a delayed phase.\n",
        "\n",
        "Hepatic Resection Protocol (hepatic resection):  Indicated in all patients anticipating hepatic resection.  It includes thin section images of the liver to include celiac axis and proximal SMA during the hepatic arterial phase and thicker sections through the liver during the portal venous phase.  The images obtained during the hepatic arterial phase undergo volume rendering in 3D.\n",
        "\n",
        "Radioembolization Protocol (radioembo):  Typically ordered by the Interventional Radiologists for evaluation of a patient following (and possibly before) embolization therapy. This includes arterial and venous phases through the abdomen. The post processing is slightly different than the cirrhosis protocol in that thin images are sent in both arterial and portal venous phases for the 3D lab to assess the vasculature and liver volumes. It should be specifically mentioned in the order, otherwise do not use the protocol.\n",
        "\n",
        "Pancreas Protocol (pancreas):  Known or suspected pancreatic tumor.  It is occasionally requested in patients with either acute or chronic pancreatitis.  It includes thin section images of the pancreas to include the celiac axis and SMA during the pancreatic phase and images of the liver and pancreas during the venous phase.  Arterial phase images are reconstructed in 3D.\n",
        "\n",
        "Cholangiocarcinoma Protocol (cholangiocarcinoma):  Known or suspected cholangiocarcinoma.  It includes images of the liver in the portal venous phase as well as through the hilum following a 10 minute delay.  Coronal reformats of the venous phase are included.\n",
        "\n",
        "Trauma Chest/Abdomen/Pelvis (trauma):  Suspected trauma. Arterial phase imaging through the upper and mid chest followed by portal venous phase imaging of the abdomen and pelvis.  No oral contrast.\n",
        "\n",
        "Crohns Protocol (crohns):  Evaluation to look for suspected Crohns involvement, but not necessarily for complications of Crohn’s.  If a relatively asymptomatic patient, the patient receives VolumenTM (a negative contrast agent). Enteric arterial phase images of the abdomen and pelvis are acquired, and sagittal and coronal reformats are also included. Similar to other Bowel Protocol except that only a single phase is acquired to minimize radiation dose.\n",
        "\n",
        "CT Colonography (colon):  For colon cancer and polyp screening.  The patient undergoes bowel prep the night before the scan as well as barium tagging.  Insufflation of CO2 via device after placement of tube into rectum.  Supine and prone imaging, as well as decubitus position if nondistended segments on the two standard positions.\n",
        "\n",
        "Renal Stone Protocol (renal stone):  Acute flank pain and/or a known or suspected renal calculus.  It includes a low dose noncontrast CT of the kidneys, ureters and bladders with the patient in prone position (unless unable).  Coronal reformats are provided.\n",
        "\n",
        "Genitourinary Protocol (gu):  Hematuria, known or suspected renal mass, or other indications where evaluation of the ureters is necessary.  It includes low dose non-contrast images of the kidneys only followed by nephrographic phase images of the kidneys and 7 min delayed excretory phase images of the kidneys, ureters, and bladder.  Coronal reformats of the excretory phase are included.\n",
        "\n",
        "Focused Renal Cyst Protocol (focused renal cyst): For followup of a complicated renal cyst. Pre- and Post-contrast (Nephrographic) imaging through the kidneys to assess for enhancement. There is no imaging of the pelvis and no CT urogram. If in doubt, use the more complete GU Protocol.\n",
        "\n",
        "RCC Protocol (rcc):  Known renal cell carcinoma, typically in patients who have undergone a nephrectomy or nephron sparing treatment, or possibly for preoperative planning.  It includes noncontrast images of the kidneys followed by a dual liver as described above to assess for metastases.  Coronal reformats in the venous phase are included.\n",
        "\n",
        "TCC Protocol (tcc):  Intended for patients with known transitional cell carcinoma or bladder cancer, typically who have undergone a cystectomy, focal bladder surgery, or nephroureterectomy.  It is a split bolus technique, with the goal of imaging the patient in both the excretory phase and the portal venous phase in a single acquisition following two boluses of IV contrast prior to scanning.\n",
        "\n",
        "Renal Donor Protocol (renal donor):  To evaluate the renal anatomy of potential renal donors.  This includes thin section images of the kidneys and renal arteries during the arterial phase and venous phase.  A delayed scout is obtained to document the number of ureters.  A separate 3-D interpretation is performed.\n",
        "\n",
        "Adrenal Protocol (adrenal): For the evaluation of an indeterminate adrenal mass.  Noncontrast images through the adrenal gland.  The scan is then checked by a physician for further imaging.  If the physician deems necessary, portal venous and 15 minute delayed images through the adrenals follow.\n",
        "\n",
        "CT Cystogram (cystogram):  To evaluate for bladder injury (typically after pelvic trauma) or a fistula.  Contrast (Renografin 60 diluted in saline) is instilled by gravity through an indwelling Foley catheter.\n",
        "\n",
        "\n",
        "\n",
        "And for predicted_comments, add comments from the following list if appropriate:\n",
        "'oral contrast' if oral (otherwise known as PO) contrast has been requested in the indication.\n",
        "'steroid prep' if has a mild allergy to contrast and a contrasted scan has been requested\n",
        "'reroute contrast' if the patient has a contraindication to contrast such as elevated creatinine above 2.0 or severe/anaphylaxis contrast allergy\n",
        "'reroute coverage' if addition body parts may need to be added to the planned procedure\n",
        "'low pelvis' which extends the caudal range of a CT, particularly for malignancies that may not be fully imaged on our routine protocols which includes vulvar cancer, anal cancer, and perhaps rectal cancer if this is the first time evaluation or there is known recurrent disease low in the pelvis.  Things in the inguinal region or upper thigh or perirectal abscess or perianal fistulous disease may be other possible indications. Perineal infection such as Fournier's gangrene would aslo require this.\n",
        "'reroute protocol' if there is a complex process such as a fistula that might not be evaluated well on the routine protocols.\n",
        "'split' indicates the chest order will be read separately from the abdomen and pelvis, which occurs for lung and esophgeal cancer and for patients with lung transplants\n",
        "'valsalva' indicates the imaging is performed while patient does a valsalva maneuver for evaluation of hernias.\n",
        "\n",
        "The task is to use the provided information for each patient to return the predicted protocol for the CT study in the form of a json object like this:\n",
        "{\"predicted_order\": \"CT abdomen pelvis with contrast\", \"predicted_protocol\": \"routine\", \"predicted_comments\": [\"oral contrast\"]}\n",
        "The response should be the json object and nothing else.\n",
        "\n",
        "'''"
      ],
      "metadata": {
        "id": "XSWEq4yC7zuD"
      },
      "execution_count": 3,
      "outputs": []
    },
    {
      "cell_type": "code",
      "source": [
        "prompt_instruction2 = '''\n",
        "The task is to use the provided information for each patient to return the predicted protocol for the CT study in the form of a json object like this:\n",
        "{\"predicted_order\": \"CT abdomen pelvis with contrast\", \"predicted_protocol\": \"routine\", \"predicted_comments\": [\"oral contrast\"]}\n",
        "The response should be the json object and nothing else.\n",
        "'''"
      ],
      "metadata": {
        "id": "_9iIJh3E0G0U"
      },
      "execution_count": 4,
      "outputs": []
    },
    {
      "cell_type": "code",
      "source": [
        "prompt_instruction3 = '''\n",
        "The task is to use the provided information for each patient to return the predicted protocol for the CT study in the form of a json object like this:\n",
        "{\"predicted_order\": \"CT abdomen pelvis with contrast\", \"predicted_protocol\": \"routine\", \"predicted_comments\": [\"oral contrast\"]}\n",
        "The response should be the json object and nothing else.\n",
        "\n",
        "And for predicted_comments, add comments from the following list if appropriate:\n",
        "'oral contrast' if oral (otherwise known as PO) contrast has been requested in the indication.\n",
        "'steroid prep' if has a mild allergy to contrast and a contrasted scan has been requested\n",
        "'reroute contrast' if the patient has a contraindication to contrast such as elevated creatinine above 2.0 or severe/anaphylaxis contrast allergy\n",
        "'reroute coverage' if addition body parts may need to be added to the planned procedure\n",
        "'low pelvis' which extends the caudal range of a CT, particularly for malignancies that may not be fully imaged on our routine protocols which includes vulvar cancer, anal cancer, and perhaps rectal cancer if this is the first time evaluation or there is known recurrent disease low in the pelvis.  Things in the inguinal region or upper thigh or perirectal abscess or perianal fistulous disease may be other possible indications. Perineal infection such as Fournier's gangrene would aslo require this.\n",
        "'reroute protocol' if there is a complex process such as a fistula that might not be evaluated well on the routine protocols.\n",
        "'split' indicates the chest order will be read separately from the abdomen and pelvis, which occurs for lung and esophgeal cancer and for patients with lung transplants\n",
        "'valsalva' indicates the imaging is performed while patient does a valsalva maneuver for evaluation of hernias.\n",
        "'''\n",
        "\n"
      ],
      "metadata": {
        "id": "zze8E81D-XXL"
      },
      "execution_count": 5,
      "outputs": []
    },
    {
      "cell_type": "code",
      "source": [
        "### utilities\n",
        "\n",
        "def build_dataset_from_file(file_path, num_test = 200, output_file = '/content/CT_Protocol/data/datacsv031524.xlsx'):\n",
        "  \"\"\"\n",
        "  This function reads an excel file, splits into train/test datasets in a dataframe and saves as a csv file.\n",
        "\n",
        "  Args:\n",
        "    filename: The path to the excel file.\n",
        "\n",
        "  Returns:\n",
        "    A dataframe from which the train and test datasets can be derived.\n",
        "  \"\"\"\n",
        "  # Read the excel file into a pandas dataframe\n",
        "  df = pd.read_excel(filename)\n",
        "\n",
        "  # Rename columns and identify x and y data\n",
        "  new_column_names = {'Procedure': 'order', 'Reason for Exam Full': 'indication', 'Previous Procedure Name':'prior_order', 'Contrast Allergy': 'contrast_allergy', 'Allergy Severity': 'allergy_severity', 'Creatinine (mg/dL)':'creatinine', 'Dialysis': 'on_dialysis', 'clinical summary':'clinical_summary', 'Predicted Procedure': 'predicted_order', 'Protocol': 'predicted_protocol', 'Protocol comments':'predicted_comments', 'Accession':'accession'}\n",
        "  df.rename(columns=new_column_names, inplace=True)\n",
        "  df.fillna(\"\", inplace=True)\n",
        "  df['accession'] = df['accession'].astype(str)\n",
        "\n",
        "\n",
        "  with open(output_file, 'w') as f:\n",
        "    f.write(df.to_csv(index=False))\n",
        "\n",
        "  return df\n",
        "\n",
        "def row_to_json(row, columns):\n",
        "  \"\"\"\n",
        "  This function takes a row of a dataframe and returns a json object with the specified columns.\n",
        "\n",
        "  Args:\n",
        "    row: The row of the dataframe.\n",
        "    columns: A list of columns to include in the json object.\n",
        "\n",
        "  Returns:\n",
        "    A json object with the specified columns.\n",
        "  \"\"\"\n",
        "  json_obj = {}\n",
        "  for column in columns:\n",
        "    value = row[column]\n",
        "    if column == \"predicted_comments\" and not isinstance(value, list):\n",
        "            # Attempt to convert a string representation of a list into an actual list\n",
        "            # Only do this if the value is not already a list\n",
        "            try:\n",
        "                # This handles the case where the value is a string representation of a list\n",
        "                value = json.loads(value.replace(\"'\", '\"'))\n",
        "            except:\n",
        "                # If there's an error (e.g., value is not a valid list string), set to an empty list\n",
        "                value = []\n",
        "    json_obj[column] = value\n",
        "  #print(type(json_obj))\n",
        "  return json_obj\n",
        "\n",
        "\n",
        "\n",
        "def build_prompt_question(row, prompt_instruction=prompt_instruction):\n",
        "\n",
        "  prompt_question = 'Order: ' + row['order'] + '\\n' + \\\n",
        "    'Prior Order: ' + row['prior_order'] + '\\n' + \\\n",
        "    'Reason for Exam: ' + row['indication'] + '\\n' + \\\n",
        "    'Contrast Allergy: ' + str(bool(row['contrast_allergy'])) + '\\n' + \\\n",
        "    'Allergy severity: ' + row['allergy_severity'] + '\\n' + \\\n",
        "    'Creatinine: ' + str(row['creatinine']) + '\\n' + \\\n",
        "    'On Dialysis: ' + str(bool(row['on_dialysis'])) + '\\n' + \\\n",
        "    'Clinical Summary: ' + row['clinical_summary'] + '\\n'\n",
        "\n",
        "  #print('build_prompt_question sending', prompt_question, type(prompt_question))\n",
        "  return prompt_question\n",
        "\n",
        "\n",
        "def build_prompt_question_json(row, columns = ['accession', 'order', 'Reason for Exam', 'prior_order', 'indication',\n",
        "       'creatinine', 'on_dialysis', 'contrast_allergy', 'allergy_severity', 'clinical_summary']):\n",
        "  \"\"\"\n",
        "  This function takes a row of a dataframe and returns a prompt question.\n",
        "\n",
        "  Args:\n",
        "    row: The row of the dataframe.\n",
        "\n",
        "  Returns:\n",
        "    A prompt question in json format.\n",
        "  \"\"\"\n",
        "\n",
        "  prompt_question = row_to_json(row, columns)\n",
        "  #print('build_prompt_question_json sending', prompt_question, type(prompt_question))\n",
        "  return prompt_question\n",
        "\n",
        "\n",
        "def build_prompt_answer(row, columns = [\"accession\", \"predicted_order\", \"predicted_protocol\", \"predicted_comments\"]):\n",
        "  \"\"\"\n",
        "  This function takes a row of a dataframe and returns a prompt answer and prompt answer2.\n",
        "\n",
        "  Args:\n",
        "    row: The row of the dataframe.\n",
        "\n",
        "  Returns:\n",
        "    A prompt answer and prompt answer2.\n",
        "  \"\"\"\n",
        "  prompt_answer = row_to_json(row, columns)\n",
        "  if not isinstance(prompt_answer['predicted_comments'], list):\n",
        "    prompt_answer['predicted_comments'] = [prompt_answer['predicted_comments']]\n",
        "\n",
        "  return prompt_answer\n",
        "\n",
        "\n",
        "def create_prompt_dataframe(df):\n",
        "  \"\"\"\n",
        "  This function takes a dataframe and returns a dataframe with the prompt questions and answers.\n",
        "\n",
        "  Args:\n",
        "    df: The dataframe to be converted.\n",
        "\n",
        "  Returns:\n",
        "    A dataframe with the prompt questions and answers.\n",
        "  \"\"\"\n",
        "  df1 = pd.DataFrame()\n",
        "  for index, row in df.iterrows():\n",
        "    prompt_question_text = build_prompt_question(row)\n",
        "    #print('prompt_question_text', prompt_question_text, type(prompt_question_text))\n",
        "\n",
        "    prompt_question_json = build_prompt_question_json(row)\n",
        "    #print('prompt_question_json', prompt_question_json, type(prompt_question_json))\n",
        "\n",
        "\n",
        "    prompt_answer = build_prompt_answer(row)\n",
        "    #print('prompt_answer', prompt_answer, type(prompt_answer))\n",
        "\n",
        "    df1.at[index, 'text'] = prompt_question_text\n",
        "    df1.at[index, 'prompt_question_json'] = str(prompt_question_json).replace(\"'\", '\"')\n",
        "    df1.at[index, 'labels'] = str(prompt_answer).replace(\"'\", '\"')\n",
        "    #print(df1.head())\n",
        "  return df1\n",
        "\n",
        "def extract_and_parse_json(response):\n",
        "    # Assuming the JSON-like response is always formatted with single quotes,\n",
        "    # which is invalid JSON format and needs to be replaced with double quotes.\n",
        "    # Also assuming the JSON-like object is always enclosed in curly braces.\n",
        "    response = str(response)\n",
        "    # try:\n",
        "    #     # Extract the JSON-like string using a regular expression\n",
        "    #     #response = response.replace(\"'\", '\"')\n",
        "\n",
        "\n",
        "    #     json_str_match = re.search(r'\\{.*\\}', response)\n",
        "    #     if json_str_match:\n",
        "    #       json_str = json_str_match.group(0)\n",
        "    #         #print(json_str_match)\n",
        "    #       # Replace single quotes with double quotes to make it valid JSON\n",
        "    #       json_str_valid = json_str.replace(\"'\", '\"')\n",
        "    #       # Parse the valid JSON string into a Python dictionary\n",
        "    #       json_data = json.loads(json_str_valid)\n",
        "    #       return json_data\n",
        "    #     else:\n",
        "    #       return None  # No JSON-like string found\n",
        "    try:\n",
        "        # Correctly handle both empty strings and string-represented empty lists for predicted_comments.\n",
        "        corrected_response = response.replace(\"'\", '\"')\n",
        "\n",
        "        # Replace string-represented empty list \"[]\" with an actual JSON list []\n",
        "        #corrected_response = re.sub(r'(\"predicted_comments\":)\\s*\"\\[\\]\"', r'\\1 []', corrected_response)\n",
        "\n",
        "        # Handle the case where predicted_comments is an empty string by converting to an empty list []\n",
        "        # corrected_response = re.sub(r'(\"predicted_comments\":)\\s*\"\"', r'\\1 []', corrected_response)\n",
        "\n",
        "        print('Corrected response:', corrected_response)\n",
        "        # normalized_response = response.replace(\"'\", '\"')\n",
        "        # corrected_response = re.sub(r'\"predicted_comments\":\\s*\"\"', '\"predicted_comments\": \"[]\"', normalized_response)\n",
        "        # corrected_response = re.sub(r'\"predicted_comments\":\\s*\"(\\[.*?\\])\"', r'\"predicted_comments\": \\1', corrected_response)\n",
        "\n",
        "        # This regex looks for the problematic list pattern and replaces single quotes\n",
        "        # that incorrectly encapsulate list items, attempting to correct them\n",
        "        # to a JSON-valid format. This is a basic and not exhaustive correction.\n",
        "        # corrected_response = re.sub(r'\"\\[\"(.*?)\"\\]\"', r'[\"\\1\"]', response)\n",
        "        # #print(corrected_response)\n",
        "        # # Parse the corrected response into a Python dictionary\n",
        "\n",
        "        # # Correct the representation for an empty predicted_comments list\n",
        "        # corrected_response = re.sub(r'\"predicted_comments\":\\s*\"\"', '\"predicted_comments\": []', response)\n",
        "        # corrected_response = re.sub(r'\"\\[\"(.*?)\"\\]\"', r'[\"\\1\"]', corrected_response)\n",
        "\n",
        "        # # This approach assumes the rest of the JSON is correctly formatted\n",
        "        # corrected_response = corrected_response.replace(\"'\", '\"')\n",
        "\n",
        "        # Parse the corrected response into a Python dictionary.\n",
        "        json_data = json.loads(corrected_response)\n",
        "        print('type of json data', type(json_data))\n",
        "        return json_data\n",
        "\n",
        "    except Exception as e:\n",
        "        print(f\"Error parsing JSON: {e}\")\n",
        "        return None\n",
        "\n",
        "\n",
        "def extract_and_parse_json2(response):\n",
        "    #print('extracting from', response, type(response))\n",
        "    # Assuming the JSON-like response is always formatted with single quotes,\n",
        "    # which is invalid JSON format and needs to be replaced with double quotes.\n",
        "    # Also assuming the JSON-like object is always enclosed in curly braces.\n",
        "    #response = str(response)\n",
        "\n",
        "    json_str_match = re.search(r'\\{.*\\}', response)\n",
        "    if json_str_match:\n",
        "      json_str = json_str_match.group(0)\n",
        "\n",
        "    try:\n",
        "        # Normalize response by ensuring it uses double quotes.\n",
        "        normalized_response = json_str.replace(\"'\", '\"')\n",
        "        #print('normalized_response is', normalized_response, type(normalized_response))\n",
        "        # Correctly handle empty strings for predicted_comments.\n",
        "        corrected_response = re.sub(r'\"predicted_comments\":\\s*\"\"', '\"predicted_comments\": []', normalized_response)\n",
        "        #print('corrected_response after first regex is ', corrected_response, type(corrected_response))\n",
        "        # Handle correctly formatted lists and empty lists.\n",
        "        corrected_response = re.sub(\n",
        "            r'\"predicted_comments\":\\s*\"(\\[.*?\\])\"',\n",
        "            lambda match: f'\"predicted_comments\": {match.group(1)}',\n",
        "            corrected_response)\n",
        "        # Handle empty strings for predicted_comments by converting them to empty lists.\n",
        "        corrected_response = re.sub(r'\"predicted_comments\":\\s*\"\"', '\"predicted_comments\": []', corrected_response)\n",
        "        #print('corrected_response after third regex is ', corrected_response, type(corrected_response))\n",
        "\n",
        "\n",
        "        json_data = json.loads(corrected_response)\n",
        "        #print('json_data is ', json_data, type(json_data))\n",
        "                                   # # Handle empty strings for predicted_comments by converting them to empty lists.\n",
        "        # corrected_response = re.sub(\n",
        "        #     r'\"predicted_comments\":\\s*\"\"',\n",
        "        #     '\"predicted_comments\": []',\n",
        "        #     corrected_response)\n",
        "\n",
        "        # print('corrected_response after third regex is ', corrected_response, type(corrected_response))\n",
        "\n",
        "        # Special handling for lists represented as a string with internal quotes.\n",
        "        # This approach attempts to correct the formatting by escaping internal quotes.\n",
        "        # def correct_list(match):\n",
        "        #     list_str = match.group(1)\n",
        "        #     list_str_escaped = list_str.replace('\"', '\\\\\"')\n",
        "        #     return f'\"predicted_comments\": \"{list_str_escaped}\"'\n",
        "\n",
        "        # corrected_response = re.sub(\n",
        "        #     r'\"predicted_comments\":\\s*\"(\\[.*?\\])\"',\n",
        "        #     correct_list,\n",
        "        #     corrected_response)\n",
        "\n",
        "\n",
        "        # If predicted_comments is a string (due to escaping), parse it separately.\n",
        "        if isinstance(json_data.get('predicted_comments', ''), str):\n",
        "            json_data['predicted_comments'] = json.loads(json_data['predicted_comments'])\n",
        "\n",
        "        return json_data\n",
        "\n",
        "    except Exception as e:\n",
        "        print(f\"Error parsing JSON: {e}\")\n",
        "        return None\n",
        "\n",
        "\n",
        "def get_response(prompt, pipe):\n",
        "  sequences = pipe(\n",
        "    prompt,\n",
        "    do_sample=True,\n",
        "    max_new_tokens=100,\n",
        "    temperature=0.2,\n",
        "    top_k=50,\n",
        "    top_p=0.95,\n",
        "    num_return_sequences=1,\n",
        "  )\n",
        "  answer = sequences[0]['generated_text']\n",
        "  cleaned_answer = answer.replace(prompt, '', 1)\n",
        "\n",
        "  #print('cleaned_answer is ', cleaned_answer)\n",
        "  return cleaned_answer\n",
        "\n",
        "\n",
        "\n",
        "def response_score(json_data, true_data):\n",
        "    score = 0\n",
        "    max_score = 10\n",
        "    # print('true_data type is', type(true_data))\n",
        "    # print(true_data)\n",
        "    # print('json_data type is ', type(json_data))\n",
        "\n",
        "\n",
        "    accession, predicted_order, predicted_protocol, predicted_comments = None, None, None, None\n",
        "\n",
        "\n",
        "    if json_data and isinstance(json_data, dict):\n",
        "\n",
        "        accession = true_data.get(\"accession\", \"Unknown\")\n",
        "        predicted_order = json_data.get(\"predicted_order\", \"\")\n",
        "        predicted_protocol = json_data.get(\"predicted_protocol\", \"\")\n",
        "        predicted_comments = json_data.get(\"predicted_comments\", \"\")\n",
        "\n",
        "        # 3 points if JSON and has the right keys\n",
        "        required_keys = [\"predicted_order\", \"predicted_protocol\", \"predicted_comments\"]\n",
        "        if all(key in json_data for key in required_keys):\n",
        "            score += 3\n",
        "            # 5 points if 'predicted_protocol' matches the answer\n",
        "            if json_data[\"predicted_protocol\"] == true_data[\"predicted_protocol\"]:\n",
        "                score += 5\n",
        "            # 1 point each if the 'predicted_order' matches\n",
        "            if json_data[\"predicted_order\"] == true_data[\"predicted_order\"]:\n",
        "                score += 1\n",
        "            # 1 point if 'predicted_comments' match (assuming list comparison)\n",
        "            if \"predicted_comments\" in true_data and json_data[\"predicted_comments\"] == true_data[\"predicted_comments\"]:\n",
        "                score += 1\n",
        "\n",
        "    else:\n",
        "      score += 0\n",
        "\n",
        "    score = (score)/max_score\n",
        "    # print(score, accession, predicted_order, predicted_protocol, predicted_comments)\n",
        "    return score, accession, predicted_order, predicted_protocol, predicted_comments\n",
        "\n",
        "\n",
        "def test_model(df, pipe, prompt_instruction=prompt_instruction):\n",
        "  overall_score = 0\n",
        "  results_list = []\n",
        "  for index, row in df.iterrows():\n",
        "    # get a response and extract json portion from it\n",
        "    prompt = prompt_instruction + row['text']\n",
        "    predicted_answer = get_response(prompt, pipe)\n",
        "    print('********\\n')\n",
        "    #print('predicted_answer is ', predicted_answer)\n",
        "    extracted_answer = extract_and_parse_json2(predicted_answer)\n",
        "    print('********\\n')\n",
        "    print('extracted_answer is ', extracted_answer, type(extracted_answer))\n",
        "\n",
        "    # get the ground truth answer\n",
        "    true_answer = row['labels']\n",
        "    #print('true_answer', true_answer, type(true_answer))\n",
        "    true_answer_json = json.loads(true_answer.replace(\"'\", '\"'))\n",
        "\n",
        "    print('true answer json:', true_answer_json, type(true_answer_json))\n",
        "\n",
        "    # #predicted_answer = json.loads(predicted_answer)\n",
        "    # print('predicted_answer:', predicted_answer, type(predicted_answer))\n",
        "\n",
        "    score, accession, predicted_order, predicted_protocol, predicted_comments = response_score(extracted_answer, true_answer_json)\n",
        "    overall_score += score\n",
        "    print(f\"Progress: case {index+1} of {len(df)}\")\n",
        "    print(f\"score this case: {score}\")\n",
        "\n",
        "    # Accumulate the case results\n",
        "    results_list.append({\n",
        "            \"index\": index,\n",
        "\n",
        "\n",
        "            \"protocol\": true_answer_json['predicted_protocol'],\n",
        "            \"predicted_protocol\": predicted_protocol,\n",
        "            \"order\": true_answer_json['predicted_order'],\n",
        "            \"predicted_order\": predicted_order,\n",
        "            \"comments\": true_answer_json['predicted_comments'],\n",
        "            \"predicted_comments\": predicted_comments,\n",
        "            \"score\": score\n",
        "        })\n",
        "\n",
        "  results = pd.DataFrame(results_list)\n",
        "  print(results)\n",
        "  print(f\"Average score: {overall_score/len(df)}\")\n",
        "  results.to_csv('/content/CT_Protocol/data/results.csv', index=False)\n",
        "\n",
        "  return overall_score/len(df)\n",
        "\n"
      ],
      "metadata": {
        "id": "LqodaSijrLrn"
      },
      "execution_count": 6,
      "outputs": []
    },
    {
      "cell_type": "markdown",
      "source": [
        "## Build Datasets"
      ],
      "metadata": {
        "id": "_5dVSXrBXr_T"
      }
    },
    {
      "cell_type": "code",
      "source": [
        "filename = '/content/CT_Protocol/data/dataset031524.xlsx'\n",
        "full_df = build_dataset_from_file(filename)\n",
        "full_df.head()"
      ],
      "metadata": {
        "colab": {
          "base_uri": "https://localhost:8080/",
          "height": 530
        },
        "id": "wF3rle_KsPJQ",
        "outputId": "babdc9e2-577e-4e22-f709-c6348c9a7491"
      },
      "execution_count": 7,
      "outputs": [
        {
          "output_type": "execute_result",
          "data": {
            "text/plain": [
              "  accession                                              order  \\\n",
              "0    800000  CT chest abdomen pelvis cholangiocarcin with c...   \n",
              "1    800001                    CT abdomen pelvis with contrast   \n",
              "2    800002                    CT abdomen pelvis with contrast   \n",
              "3    800003                    CT abdomen pelvis with contrast   \n",
              "4    800004                        CT abdomen without contrast   \n",
              "\n",
              "                                     Reason for Exam prior_order  \\\n",
              "0                             cholangio surveillance               \n",
              "1     Sepsis; Unexplained lactic acidosis with shock               \n",
              "2                             Diffuse abdominal pain               \n",
              "3  s/p small bowel obstruction. Hx of liver trans...               \n",
              "4                Liver transplant; Transplant workup               \n",
              "\n",
              "                                          indication  creatinine  on_dialysis  \\\n",
              "0        cholangio surveillance; Cholangiocarcinoma          1.3            0   \n",
              "1  Sepsis; Unexplained lactic acidosis with shock...         0.8            0   \n",
              "2  Diffuse abdominal pain; Liver transplanted ; I...         0.8            0   \n",
              "3  s/p small bowel obstruction. Hx of liver trans...         0.8            0   \n",
              "4  Liver transplant; Transplant workup; Chronic v...         0.8            0   \n",
              "\n",
              "   contrast_allergy allergy_severity  \\\n",
              "0                 0                    \n",
              "1                 0                    \n",
              "2                 0                    \n",
              "3                 0                    \n",
              "4                 0                    \n",
              "\n",
              "                                     predicted_order  predicted_protocol  \\\n",
              "0  CT chest abdomen pelvis cholangiocarcin with c...  cholangiocarcinoma   \n",
              "1                    CT abdomen pelvis with contrast           cirrhosis   \n",
              "2                    CT abdomen pelvis with contrast           cirrhosis   \n",
              "3                    CT abdomen pelvis with contrast           cirrhosis   \n",
              "4                        CT abdomen without contrast           cirrhosis   \n",
              "\n",
              "            predicted_comments  \\\n",
              "0                                \n",
              "1                                \n",
              "2                                \n",
              "3                                \n",
              "4  ['md reroute for contrast']   \n",
              "\n",
              "                                    clinical_summary  \n",
              "0  The patient is a 58-year-old male with a histo...  \n",
              "1  The patient is a middle-aged male with a histo...  \n",
              "2  The patient is a 55-year-old male with a histo...  \n",
              "3  The patient is a post-liver transplant individ...  \n",
              "4  The patient is a 58-year-old male with a histo...  "
            ],
            "text/html": [
              "\n",
              "  <div id=\"df-86d5dbe5-afde-40a7-90a2-2fb56845ed80\" class=\"colab-df-container\">\n",
              "    <div>\n",
              "<style scoped>\n",
              "    .dataframe tbody tr th:only-of-type {\n",
              "        vertical-align: middle;\n",
              "    }\n",
              "\n",
              "    .dataframe tbody tr th {\n",
              "        vertical-align: top;\n",
              "    }\n",
              "\n",
              "    .dataframe thead th {\n",
              "        text-align: right;\n",
              "    }\n",
              "</style>\n",
              "<table border=\"1\" class=\"dataframe\">\n",
              "  <thead>\n",
              "    <tr style=\"text-align: right;\">\n",
              "      <th></th>\n",
              "      <th>accession</th>\n",
              "      <th>order</th>\n",
              "      <th>Reason for Exam</th>\n",
              "      <th>prior_order</th>\n",
              "      <th>indication</th>\n",
              "      <th>creatinine</th>\n",
              "      <th>on_dialysis</th>\n",
              "      <th>contrast_allergy</th>\n",
              "      <th>allergy_severity</th>\n",
              "      <th>predicted_order</th>\n",
              "      <th>predicted_protocol</th>\n",
              "      <th>predicted_comments</th>\n",
              "      <th>clinical_summary</th>\n",
              "    </tr>\n",
              "  </thead>\n",
              "  <tbody>\n",
              "    <tr>\n",
              "      <th>0</th>\n",
              "      <td>800000</td>\n",
              "      <td>CT chest abdomen pelvis cholangiocarcin with c...</td>\n",
              "      <td>cholangio surveillance</td>\n",
              "      <td></td>\n",
              "      <td>cholangio surveillance; Cholangiocarcinoma</td>\n",
              "      <td>1.3</td>\n",
              "      <td>0</td>\n",
              "      <td>0</td>\n",
              "      <td></td>\n",
              "      <td>CT chest abdomen pelvis cholangiocarcin with c...</td>\n",
              "      <td>cholangiocarcinoma</td>\n",
              "      <td></td>\n",
              "      <td>The patient is a 58-year-old male with a histo...</td>\n",
              "    </tr>\n",
              "    <tr>\n",
              "      <th>1</th>\n",
              "      <td>800001</td>\n",
              "      <td>CT abdomen pelvis with contrast</td>\n",
              "      <td>Sepsis; Unexplained lactic acidosis with shock</td>\n",
              "      <td></td>\n",
              "      <td>Sepsis; Unexplained lactic acidosis with shock...</td>\n",
              "      <td>0.8</td>\n",
              "      <td>0</td>\n",
              "      <td>0</td>\n",
              "      <td></td>\n",
              "      <td>CT abdomen pelvis with contrast</td>\n",
              "      <td>cirrhosis</td>\n",
              "      <td></td>\n",
              "      <td>The patient is a middle-aged male with a histo...</td>\n",
              "    </tr>\n",
              "    <tr>\n",
              "      <th>2</th>\n",
              "      <td>800002</td>\n",
              "      <td>CT abdomen pelvis with contrast</td>\n",
              "      <td>Diffuse abdominal pain</td>\n",
              "      <td></td>\n",
              "      <td>Diffuse abdominal pain; Liver transplanted ; I...</td>\n",
              "      <td>0.8</td>\n",
              "      <td>0</td>\n",
              "      <td>0</td>\n",
              "      <td></td>\n",
              "      <td>CT abdomen pelvis with contrast</td>\n",
              "      <td>cirrhosis</td>\n",
              "      <td></td>\n",
              "      <td>The patient is a 55-year-old male with a histo...</td>\n",
              "    </tr>\n",
              "    <tr>\n",
              "      <th>3</th>\n",
              "      <td>800003</td>\n",
              "      <td>CT abdomen pelvis with contrast</td>\n",
              "      <td>s/p small bowel obstruction. Hx of liver trans...</td>\n",
              "      <td></td>\n",
              "      <td>s/p small bowel obstruction. Hx of liver trans...</td>\n",
              "      <td>0.8</td>\n",
              "      <td>0</td>\n",
              "      <td>0</td>\n",
              "      <td></td>\n",
              "      <td>CT abdomen pelvis with contrast</td>\n",
              "      <td>cirrhosis</td>\n",
              "      <td></td>\n",
              "      <td>The patient is a post-liver transplant individ...</td>\n",
              "    </tr>\n",
              "    <tr>\n",
              "      <th>4</th>\n",
              "      <td>800004</td>\n",
              "      <td>CT abdomen without contrast</td>\n",
              "      <td>Liver transplant; Transplant workup</td>\n",
              "      <td></td>\n",
              "      <td>Liver transplant; Transplant workup; Chronic v...</td>\n",
              "      <td>0.8</td>\n",
              "      <td>0</td>\n",
              "      <td>0</td>\n",
              "      <td></td>\n",
              "      <td>CT abdomen without contrast</td>\n",
              "      <td>cirrhosis</td>\n",
              "      <td>['md reroute for contrast']</td>\n",
              "      <td>The patient is a 58-year-old male with a histo...</td>\n",
              "    </tr>\n",
              "  </tbody>\n",
              "</table>\n",
              "</div>\n",
              "    <div class=\"colab-df-buttons\">\n",
              "\n",
              "  <div class=\"colab-df-container\">\n",
              "    <button class=\"colab-df-convert\" onclick=\"convertToInteractive('df-86d5dbe5-afde-40a7-90a2-2fb56845ed80')\"\n",
              "            title=\"Convert this dataframe to an interactive table.\"\n",
              "            style=\"display:none;\">\n",
              "\n",
              "  <svg xmlns=\"http://www.w3.org/2000/svg\" height=\"24px\" viewBox=\"0 -960 960 960\">\n",
              "    <path d=\"M120-120v-720h720v720H120Zm60-500h600v-160H180v160Zm220 220h160v-160H400v160Zm0 220h160v-160H400v160ZM180-400h160v-160H180v160Zm440 0h160v-160H620v160ZM180-180h160v-160H180v160Zm440 0h160v-160H620v160Z\"/>\n",
              "  </svg>\n",
              "    </button>\n",
              "\n",
              "  <style>\n",
              "    .colab-df-container {\n",
              "      display:flex;\n",
              "      gap: 12px;\n",
              "    }\n",
              "\n",
              "    .colab-df-convert {\n",
              "      background-color: #E8F0FE;\n",
              "      border: none;\n",
              "      border-radius: 50%;\n",
              "      cursor: pointer;\n",
              "      display: none;\n",
              "      fill: #1967D2;\n",
              "      height: 32px;\n",
              "      padding: 0 0 0 0;\n",
              "      width: 32px;\n",
              "    }\n",
              "\n",
              "    .colab-df-convert:hover {\n",
              "      background-color: #E2EBFA;\n",
              "      box-shadow: 0px 1px 2px rgba(60, 64, 67, 0.3), 0px 1px 3px 1px rgba(60, 64, 67, 0.15);\n",
              "      fill: #174EA6;\n",
              "    }\n",
              "\n",
              "    .colab-df-buttons div {\n",
              "      margin-bottom: 4px;\n",
              "    }\n",
              "\n",
              "    [theme=dark] .colab-df-convert {\n",
              "      background-color: #3B4455;\n",
              "      fill: #D2E3FC;\n",
              "    }\n",
              "\n",
              "    [theme=dark] .colab-df-convert:hover {\n",
              "      background-color: #434B5C;\n",
              "      box-shadow: 0px 1px 3px 1px rgba(0, 0, 0, 0.15);\n",
              "      filter: drop-shadow(0px 1px 2px rgba(0, 0, 0, 0.3));\n",
              "      fill: #FFFFFF;\n",
              "    }\n",
              "  </style>\n",
              "\n",
              "    <script>\n",
              "      const buttonEl =\n",
              "        document.querySelector('#df-86d5dbe5-afde-40a7-90a2-2fb56845ed80 button.colab-df-convert');\n",
              "      buttonEl.style.display =\n",
              "        google.colab.kernel.accessAllowed ? 'block' : 'none';\n",
              "\n",
              "      async function convertToInteractive(key) {\n",
              "        const element = document.querySelector('#df-86d5dbe5-afde-40a7-90a2-2fb56845ed80');\n",
              "        const dataTable =\n",
              "          await google.colab.kernel.invokeFunction('convertToInteractive',\n",
              "                                                    [key], {});\n",
              "        if (!dataTable) return;\n",
              "\n",
              "        const docLinkHtml = 'Like what you see? Visit the ' +\n",
              "          '<a target=\"_blank\" href=https://colab.research.google.com/notebooks/data_table.ipynb>data table notebook</a>'\n",
              "          + ' to learn more about interactive tables.';\n",
              "        element.innerHTML = '';\n",
              "        dataTable['output_type'] = 'display_data';\n",
              "        await google.colab.output.renderOutput(dataTable, element);\n",
              "        const docLink = document.createElement('div');\n",
              "        docLink.innerHTML = docLinkHtml;\n",
              "        element.appendChild(docLink);\n",
              "      }\n",
              "    </script>\n",
              "  </div>\n",
              "\n",
              "\n",
              "<div id=\"df-27e3c74a-b7ce-49d2-aedb-249c414ec5ba\">\n",
              "  <button class=\"colab-df-quickchart\" onclick=\"quickchart('df-27e3c74a-b7ce-49d2-aedb-249c414ec5ba')\"\n",
              "            title=\"Suggest charts\"\n",
              "            style=\"display:none;\">\n",
              "\n",
              "<svg xmlns=\"http://www.w3.org/2000/svg\" height=\"24px\"viewBox=\"0 0 24 24\"\n",
              "     width=\"24px\">\n",
              "    <g>\n",
              "        <path d=\"M19 3H5c-1.1 0-2 .9-2 2v14c0 1.1.9 2 2 2h14c1.1 0 2-.9 2-2V5c0-1.1-.9-2-2-2zM9 17H7v-7h2v7zm4 0h-2V7h2v10zm4 0h-2v-4h2v4z\"/>\n",
              "    </g>\n",
              "</svg>\n",
              "  </button>\n",
              "\n",
              "<style>\n",
              "  .colab-df-quickchart {\n",
              "      --bg-color: #E8F0FE;\n",
              "      --fill-color: #1967D2;\n",
              "      --hover-bg-color: #E2EBFA;\n",
              "      --hover-fill-color: #174EA6;\n",
              "      --disabled-fill-color: #AAA;\n",
              "      --disabled-bg-color: #DDD;\n",
              "  }\n",
              "\n",
              "  [theme=dark] .colab-df-quickchart {\n",
              "      --bg-color: #3B4455;\n",
              "      --fill-color: #D2E3FC;\n",
              "      --hover-bg-color: #434B5C;\n",
              "      --hover-fill-color: #FFFFFF;\n",
              "      --disabled-bg-color: #3B4455;\n",
              "      --disabled-fill-color: #666;\n",
              "  }\n",
              "\n",
              "  .colab-df-quickchart {\n",
              "    background-color: var(--bg-color);\n",
              "    border: none;\n",
              "    border-radius: 50%;\n",
              "    cursor: pointer;\n",
              "    display: none;\n",
              "    fill: var(--fill-color);\n",
              "    height: 32px;\n",
              "    padding: 0;\n",
              "    width: 32px;\n",
              "  }\n",
              "\n",
              "  .colab-df-quickchart:hover {\n",
              "    background-color: var(--hover-bg-color);\n",
              "    box-shadow: 0 1px 2px rgba(60, 64, 67, 0.3), 0 1px 3px 1px rgba(60, 64, 67, 0.15);\n",
              "    fill: var(--button-hover-fill-color);\n",
              "  }\n",
              "\n",
              "  .colab-df-quickchart-complete:disabled,\n",
              "  .colab-df-quickchart-complete:disabled:hover {\n",
              "    background-color: var(--disabled-bg-color);\n",
              "    fill: var(--disabled-fill-color);\n",
              "    box-shadow: none;\n",
              "  }\n",
              "\n",
              "  .colab-df-spinner {\n",
              "    border: 2px solid var(--fill-color);\n",
              "    border-color: transparent;\n",
              "    border-bottom-color: var(--fill-color);\n",
              "    animation:\n",
              "      spin 1s steps(1) infinite;\n",
              "  }\n",
              "\n",
              "  @keyframes spin {\n",
              "    0% {\n",
              "      border-color: transparent;\n",
              "      border-bottom-color: var(--fill-color);\n",
              "      border-left-color: var(--fill-color);\n",
              "    }\n",
              "    20% {\n",
              "      border-color: transparent;\n",
              "      border-left-color: var(--fill-color);\n",
              "      border-top-color: var(--fill-color);\n",
              "    }\n",
              "    30% {\n",
              "      border-color: transparent;\n",
              "      border-left-color: var(--fill-color);\n",
              "      border-top-color: var(--fill-color);\n",
              "      border-right-color: var(--fill-color);\n",
              "    }\n",
              "    40% {\n",
              "      border-color: transparent;\n",
              "      border-right-color: var(--fill-color);\n",
              "      border-top-color: var(--fill-color);\n",
              "    }\n",
              "    60% {\n",
              "      border-color: transparent;\n",
              "      border-right-color: var(--fill-color);\n",
              "    }\n",
              "    80% {\n",
              "      border-color: transparent;\n",
              "      border-right-color: var(--fill-color);\n",
              "      border-bottom-color: var(--fill-color);\n",
              "    }\n",
              "    90% {\n",
              "      border-color: transparent;\n",
              "      border-bottom-color: var(--fill-color);\n",
              "    }\n",
              "  }\n",
              "</style>\n",
              "\n",
              "  <script>\n",
              "    async function quickchart(key) {\n",
              "      const quickchartButtonEl =\n",
              "        document.querySelector('#' + key + ' button');\n",
              "      quickchartButtonEl.disabled = true;  // To prevent multiple clicks.\n",
              "      quickchartButtonEl.classList.add('colab-df-spinner');\n",
              "      try {\n",
              "        const charts = await google.colab.kernel.invokeFunction(\n",
              "            'suggestCharts', [key], {});\n",
              "      } catch (error) {\n",
              "        console.error('Error during call to suggestCharts:', error);\n",
              "      }\n",
              "      quickchartButtonEl.classList.remove('colab-df-spinner');\n",
              "      quickchartButtonEl.classList.add('colab-df-quickchart-complete');\n",
              "    }\n",
              "    (() => {\n",
              "      let quickchartButtonEl =\n",
              "        document.querySelector('#df-27e3c74a-b7ce-49d2-aedb-249c414ec5ba button');\n",
              "      quickchartButtonEl.style.display =\n",
              "        google.colab.kernel.accessAllowed ? 'block' : 'none';\n",
              "    })();\n",
              "  </script>\n",
              "</div>\n",
              "\n",
              "    </div>\n",
              "  </div>\n"
            ],
            "application/vnd.google.colaboratory.intrinsic+json": {
              "type": "dataframe",
              "variable_name": "full_df",
              "summary": "{\n  \"name\": \"full_df\",\n  \"rows\": 1177,\n  \"fields\": [\n    {\n      \"column\": \"accession\",\n      \"properties\": {\n        \"dtype\": \"string\",\n        \"num_unique_values\": 1177,\n        \"samples\": [\n          \"800107\",\n          \"800774\",\n          \"800081\"\n        ],\n        \"semantic_type\": \"\",\n        \"description\": \"\"\n      }\n    },\n    {\n      \"column\": \"order\",\n      \"properties\": {\n        \"dtype\": \"category\",\n        \"num_unique_values\": 33,\n        \"samples\": [\n          \"CT chest abdomen pelvis level one trauma with contrast with MIPS protocol\",\n          \"CT abdomen pelvis without contrast\",\n          \"CT abdomen with contrast\"\n        ],\n        \"semantic_type\": \"\",\n        \"description\": \"\"\n      }\n    },\n    {\n      \"column\": \"Reason for Exam\",\n      \"properties\": {\n        \"dtype\": \"string\",\n        \"num_unique_values\": 687,\n        \"samples\": [\n          \"n/v x2 weeks\",\n          \"Polytrauma, penetrating\",\n          \"Abdominal abscess/infection suspected; RLQ abdominal pain ; recent intraabdominal MRSA infection s/p intrathecal pump removal. Tenderness around staple site in RLQ +leukocytosis. Eval for abscess\"\n        ],\n        \"semantic_type\": \"\",\n        \"description\": \"\"\n      }\n    },\n    {\n      \"column\": \"prior_order\",\n      \"properties\": {\n        \"dtype\": \"category\",\n        \"num_unique_values\": 32,\n        \"samples\": [\n          \"CT chest abdomen pelvis level two trauma with contrast with MIPS protocol\",\n          \"CT chest without contrast with 3D MIPS Protocol\",\n          \"CT dual pancreas incl CT abd pel w and CT chest w MIPS\"\n        ],\n        \"semantic_type\": \"\",\n        \"description\": \"\"\n      }\n    },\n    {\n      \"column\": \"indication\",\n      \"properties\": {\n        \"dtype\": \"string\",\n        \"num_unique_values\": 1013,\n        \"samples\": [\n          \"GSW; GSW (gunshot wound)\",\n          \"Thyroid cancer, monitor; restaginng metastatic thyroid cancer; Thyroid carcinoma \",\n          \"Polytrauma, blunt; Trauma\"\n        ],\n        \"semantic_type\": \"\",\n        \"description\": \"\"\n      }\n    },\n    {\n      \"column\": \"creatinine\",\n      \"properties\": {\n        \"dtype\": \"number\",\n        \"std\": 0.28563201773074964,\n        \"min\": 0.8,\n        \"max\": 3.1,\n        \"num_unique_values\": 20,\n        \"samples\": [\n          1.3,\n          3.1,\n          2.5\n        ],\n        \"semantic_type\": \"\",\n        \"description\": \"\"\n      }\n    },\n    {\n      \"column\": \"on_dialysis\",\n      \"properties\": {\n        \"dtype\": \"number\",\n        \"std\": 0,\n        \"min\": 0,\n        \"max\": 1,\n        \"num_unique_values\": 2,\n        \"samples\": [\n          1,\n          0\n        ],\n        \"semantic_type\": \"\",\n        \"description\": \"\"\n      }\n    },\n    {\n      \"column\": \"contrast_allergy\",\n      \"properties\": {\n        \"dtype\": \"number\",\n        \"std\": 0,\n        \"min\": 0,\n        \"max\": 1,\n        \"num_unique_values\": 2,\n        \"samples\": [\n          1,\n          0\n        ],\n        \"semantic_type\": \"\",\n        \"description\": \"\"\n      }\n    },\n    {\n      \"column\": \"allergy_severity\",\n      \"properties\": {\n        \"dtype\": \"category\",\n        \"num_unique_values\": 5,\n        \"samples\": [\n          \"Mild\",\n          \"Moderate\"\n        ],\n        \"semantic_type\": \"\",\n        \"description\": \"\"\n      }\n    },\n    {\n      \"column\": \"predicted_order\",\n      \"properties\": {\n        \"dtype\": \"category\",\n        \"num_unique_values\": 34,\n        \"samples\": [\n          \"CT bowel mesenteric ischemia incl CT abd and pel w contrast\",\n          \"CT chest abdomen without contrast with MIPS\"\n        ],\n        \"semantic_type\": \"\",\n        \"description\": \"\"\n      }\n    },\n    {\n      \"column\": \"predicted_protocol\",\n      \"properties\": {\n        \"dtype\": \"category\",\n        \"num_unique_values\": 20,\n        \"samples\": [\n          \"cholangiocarcinoma\",\n          \"radio embo\"\n        ],\n        \"semantic_type\": \"\",\n        \"description\": \"\"\n      }\n    },\n    {\n      \"column\": \"predicted_comments\",\n      \"properties\": {\n        \"dtype\": \"category\",\n        \"num_unique_values\": 20,\n        \"samples\": [\n          \"\",\n          \"['reroute fistula', ' rectal contrast']\"\n        ],\n        \"semantic_type\": \"\",\n        \"description\": \"\"\n      }\n    },\n    {\n      \"column\": \"clinical_summary\",\n      \"properties\": {\n        \"dtype\": \"string\",\n        \"num_unique_values\": 1175,\n        \"samples\": [\n          \"The patient presented with acute nonlocalized abdominal pain, predominantly in the lower abdomen. They have a history of hypertension and are undergoing a CT scan with IV contrast to investigate the cause of their symptoms.\",\n          \"The patient is a 55-year-old male with a history of Crohn's disease presenting with worsening abdominal pain, vomiting, and increased drainage from a fistula. A CT abdomen pelvis with contrast has been ordered to evaluate the source of the symptoms and assess for potential complications related to the Crohn's disease.\"\n        ],\n        \"semantic_type\": \"\",\n        \"description\": \"\"\n      }\n    }\n  ]\n}"
            }
          },
          "metadata": {},
          "execution_count": 7
        }
      ]
    },
    {
      "cell_type": "code",
      "source": [
        "# percentage of time the order is the correct order\n",
        "len(full_df.loc[full_df['order']==full_df['predicted_order']])/len(full_df)"
      ],
      "metadata": {
        "colab": {
          "base_uri": "https://localhost:8080/"
        },
        "id": "kYZRRHBkbp3v",
        "outputId": "df567a08-2ef0-4f5f-93fa-62a88592d7cf"
      },
      "execution_count": 8,
      "outputs": [
        {
          "output_type": "execute_result",
          "data": {
            "text/plain": [
              "0.9762107051826678"
            ]
          },
          "metadata": {},
          "execution_count": 8
        }
      ]
    },
    {
      "cell_type": "code",
      "source": [
        "# distribution of the protocol class\n",
        "full_df.predicted_protocol.value_counts()"
      ],
      "metadata": {
        "colab": {
          "base_uri": "https://localhost:8080/"
        },
        "id": "E8dTlMmwqXD5",
        "outputId": "8c83a463-7733-4d97-ea17-ea6e0be39c9c"
      },
      "execution_count": 9,
      "outputs": [
        {
          "output_type": "execute_result",
          "data": {
            "text/plain": [
              "routine                686\n",
              "trauma                 106\n",
              "renal stone             78\n",
              "noncon                  75\n",
              "gi bleed                69\n",
              "rcc                     36\n",
              "cirrhosis               35\n",
              "gu                      28\n",
              "pancreas                20\n",
              "tcc                     10\n",
              "cystogram                8\n",
              "mesenteric ischemia      8\n",
              "crohns                   5\n",
              "dual liver               4\n",
              "renal donor              2\n",
              "focused renal cyst       2\n",
              "adrenal                  2\n",
              "cholangiocarcinoma       1\n",
              "radio embo               1\n",
              "hepatic resection        1\n",
              "Name: predicted_protocol, dtype: int64"
            ]
          },
          "metadata": {},
          "execution_count": 9
        }
      ]
    },
    {
      "cell_type": "code",
      "source": [
        "prompt_df = create_prompt_dataframe(full_df)\n",
        "prompt_df.head()"
      ],
      "metadata": {
        "colab": {
          "base_uri": "https://localhost:8080/",
          "height": 289
        },
        "id": "pqwTJrXdluaT",
        "outputId": "2eaaf091-927e-4d12-d635-ad55e1b8b145"
      },
      "execution_count": 10,
      "outputs": [
        {
          "output_type": "execute_result",
          "data": {
            "text/plain": [
              "                                                text  \\\n",
              "0  Order: CT chest abdomen pelvis cholangiocarcin...   \n",
              "1  Order: CT abdomen pelvis with contrast\\nPrior ...   \n",
              "2  Order: CT abdomen pelvis with contrast\\nPrior ...   \n",
              "3  Order: CT abdomen pelvis with contrast\\nPrior ...   \n",
              "4  Order: CT abdomen without contrast\\nPrior Orde...   \n",
              "\n",
              "                                prompt_question_json  \\\n",
              "0  {\"accession\": \"800000\", \"order\": \"CT chest abd...   \n",
              "1  {\"accession\": \"800001\", \"order\": \"CT abdomen p...   \n",
              "2  {\"accession\": \"800002\", \"order\": \"CT abdomen p...   \n",
              "3  {\"accession\": \"800003\", \"order\": \"CT abdomen p...   \n",
              "4  {\"accession\": \"800004\", \"order\": \"CT abdomen w...   \n",
              "\n",
              "                                              labels  \n",
              "0  {\"accession\": \"800000\", \"predicted_order\": \"CT...  \n",
              "1  {\"accession\": \"800001\", \"predicted_order\": \"CT...  \n",
              "2  {\"accession\": \"800002\", \"predicted_order\": \"CT...  \n",
              "3  {\"accession\": \"800003\", \"predicted_order\": \"CT...  \n",
              "4  {\"accession\": \"800004\", \"predicted_order\": \"CT...  "
            ],
            "text/html": [
              "\n",
              "  <div id=\"df-cb7dd3ee-aa58-4fee-8334-1000adee9b89\" class=\"colab-df-container\">\n",
              "    <div>\n",
              "<style scoped>\n",
              "    .dataframe tbody tr th:only-of-type {\n",
              "        vertical-align: middle;\n",
              "    }\n",
              "\n",
              "    .dataframe tbody tr th {\n",
              "        vertical-align: top;\n",
              "    }\n",
              "\n",
              "    .dataframe thead th {\n",
              "        text-align: right;\n",
              "    }\n",
              "</style>\n",
              "<table border=\"1\" class=\"dataframe\">\n",
              "  <thead>\n",
              "    <tr style=\"text-align: right;\">\n",
              "      <th></th>\n",
              "      <th>text</th>\n",
              "      <th>prompt_question_json</th>\n",
              "      <th>labels</th>\n",
              "    </tr>\n",
              "  </thead>\n",
              "  <tbody>\n",
              "    <tr>\n",
              "      <th>0</th>\n",
              "      <td>Order: CT chest abdomen pelvis cholangiocarcin...</td>\n",
              "      <td>{\"accession\": \"800000\", \"order\": \"CT chest abd...</td>\n",
              "      <td>{\"accession\": \"800000\", \"predicted_order\": \"CT...</td>\n",
              "    </tr>\n",
              "    <tr>\n",
              "      <th>1</th>\n",
              "      <td>Order: CT abdomen pelvis with contrast\\nPrior ...</td>\n",
              "      <td>{\"accession\": \"800001\", \"order\": \"CT abdomen p...</td>\n",
              "      <td>{\"accession\": \"800001\", \"predicted_order\": \"CT...</td>\n",
              "    </tr>\n",
              "    <tr>\n",
              "      <th>2</th>\n",
              "      <td>Order: CT abdomen pelvis with contrast\\nPrior ...</td>\n",
              "      <td>{\"accession\": \"800002\", \"order\": \"CT abdomen p...</td>\n",
              "      <td>{\"accession\": \"800002\", \"predicted_order\": \"CT...</td>\n",
              "    </tr>\n",
              "    <tr>\n",
              "      <th>3</th>\n",
              "      <td>Order: CT abdomen pelvis with contrast\\nPrior ...</td>\n",
              "      <td>{\"accession\": \"800003\", \"order\": \"CT abdomen p...</td>\n",
              "      <td>{\"accession\": \"800003\", \"predicted_order\": \"CT...</td>\n",
              "    </tr>\n",
              "    <tr>\n",
              "      <th>4</th>\n",
              "      <td>Order: CT abdomen without contrast\\nPrior Orde...</td>\n",
              "      <td>{\"accession\": \"800004\", \"order\": \"CT abdomen w...</td>\n",
              "      <td>{\"accession\": \"800004\", \"predicted_order\": \"CT...</td>\n",
              "    </tr>\n",
              "  </tbody>\n",
              "</table>\n",
              "</div>\n",
              "    <div class=\"colab-df-buttons\">\n",
              "\n",
              "  <div class=\"colab-df-container\">\n",
              "    <button class=\"colab-df-convert\" onclick=\"convertToInteractive('df-cb7dd3ee-aa58-4fee-8334-1000adee9b89')\"\n",
              "            title=\"Convert this dataframe to an interactive table.\"\n",
              "            style=\"display:none;\">\n",
              "\n",
              "  <svg xmlns=\"http://www.w3.org/2000/svg\" height=\"24px\" viewBox=\"0 -960 960 960\">\n",
              "    <path d=\"M120-120v-720h720v720H120Zm60-500h600v-160H180v160Zm220 220h160v-160H400v160Zm0 220h160v-160H400v160ZM180-400h160v-160H180v160Zm440 0h160v-160H620v160ZM180-180h160v-160H180v160Zm440 0h160v-160H620v160Z\"/>\n",
              "  </svg>\n",
              "    </button>\n",
              "\n",
              "  <style>\n",
              "    .colab-df-container {\n",
              "      display:flex;\n",
              "      gap: 12px;\n",
              "    }\n",
              "\n",
              "    .colab-df-convert {\n",
              "      background-color: #E8F0FE;\n",
              "      border: none;\n",
              "      border-radius: 50%;\n",
              "      cursor: pointer;\n",
              "      display: none;\n",
              "      fill: #1967D2;\n",
              "      height: 32px;\n",
              "      padding: 0 0 0 0;\n",
              "      width: 32px;\n",
              "    }\n",
              "\n",
              "    .colab-df-convert:hover {\n",
              "      background-color: #E2EBFA;\n",
              "      box-shadow: 0px 1px 2px rgba(60, 64, 67, 0.3), 0px 1px 3px 1px rgba(60, 64, 67, 0.15);\n",
              "      fill: #174EA6;\n",
              "    }\n",
              "\n",
              "    .colab-df-buttons div {\n",
              "      margin-bottom: 4px;\n",
              "    }\n",
              "\n",
              "    [theme=dark] .colab-df-convert {\n",
              "      background-color: #3B4455;\n",
              "      fill: #D2E3FC;\n",
              "    }\n",
              "\n",
              "    [theme=dark] .colab-df-convert:hover {\n",
              "      background-color: #434B5C;\n",
              "      box-shadow: 0px 1px 3px 1px rgba(0, 0, 0, 0.15);\n",
              "      filter: drop-shadow(0px 1px 2px rgba(0, 0, 0, 0.3));\n",
              "      fill: #FFFFFF;\n",
              "    }\n",
              "  </style>\n",
              "\n",
              "    <script>\n",
              "      const buttonEl =\n",
              "        document.querySelector('#df-cb7dd3ee-aa58-4fee-8334-1000adee9b89 button.colab-df-convert');\n",
              "      buttonEl.style.display =\n",
              "        google.colab.kernel.accessAllowed ? 'block' : 'none';\n",
              "\n",
              "      async function convertToInteractive(key) {\n",
              "        const element = document.querySelector('#df-cb7dd3ee-aa58-4fee-8334-1000adee9b89');\n",
              "        const dataTable =\n",
              "          await google.colab.kernel.invokeFunction('convertToInteractive',\n",
              "                                                    [key], {});\n",
              "        if (!dataTable) return;\n",
              "\n",
              "        const docLinkHtml = 'Like what you see? Visit the ' +\n",
              "          '<a target=\"_blank\" href=https://colab.research.google.com/notebooks/data_table.ipynb>data table notebook</a>'\n",
              "          + ' to learn more about interactive tables.';\n",
              "        element.innerHTML = '';\n",
              "        dataTable['output_type'] = 'display_data';\n",
              "        await google.colab.output.renderOutput(dataTable, element);\n",
              "        const docLink = document.createElement('div');\n",
              "        docLink.innerHTML = docLinkHtml;\n",
              "        element.appendChild(docLink);\n",
              "      }\n",
              "    </script>\n",
              "  </div>\n",
              "\n",
              "\n",
              "<div id=\"df-6aa3366e-0f0a-49b5-8024-4771802e3939\">\n",
              "  <button class=\"colab-df-quickchart\" onclick=\"quickchart('df-6aa3366e-0f0a-49b5-8024-4771802e3939')\"\n",
              "            title=\"Suggest charts\"\n",
              "            style=\"display:none;\">\n",
              "\n",
              "<svg xmlns=\"http://www.w3.org/2000/svg\" height=\"24px\"viewBox=\"0 0 24 24\"\n",
              "     width=\"24px\">\n",
              "    <g>\n",
              "        <path d=\"M19 3H5c-1.1 0-2 .9-2 2v14c0 1.1.9 2 2 2h14c1.1 0 2-.9 2-2V5c0-1.1-.9-2-2-2zM9 17H7v-7h2v7zm4 0h-2V7h2v10zm4 0h-2v-4h2v4z\"/>\n",
              "    </g>\n",
              "</svg>\n",
              "  </button>\n",
              "\n",
              "<style>\n",
              "  .colab-df-quickchart {\n",
              "      --bg-color: #E8F0FE;\n",
              "      --fill-color: #1967D2;\n",
              "      --hover-bg-color: #E2EBFA;\n",
              "      --hover-fill-color: #174EA6;\n",
              "      --disabled-fill-color: #AAA;\n",
              "      --disabled-bg-color: #DDD;\n",
              "  }\n",
              "\n",
              "  [theme=dark] .colab-df-quickchart {\n",
              "      --bg-color: #3B4455;\n",
              "      --fill-color: #D2E3FC;\n",
              "      --hover-bg-color: #434B5C;\n",
              "      --hover-fill-color: #FFFFFF;\n",
              "      --disabled-bg-color: #3B4455;\n",
              "      --disabled-fill-color: #666;\n",
              "  }\n",
              "\n",
              "  .colab-df-quickchart {\n",
              "    background-color: var(--bg-color);\n",
              "    border: none;\n",
              "    border-radius: 50%;\n",
              "    cursor: pointer;\n",
              "    display: none;\n",
              "    fill: var(--fill-color);\n",
              "    height: 32px;\n",
              "    padding: 0;\n",
              "    width: 32px;\n",
              "  }\n",
              "\n",
              "  .colab-df-quickchart:hover {\n",
              "    background-color: var(--hover-bg-color);\n",
              "    box-shadow: 0 1px 2px rgba(60, 64, 67, 0.3), 0 1px 3px 1px rgba(60, 64, 67, 0.15);\n",
              "    fill: var(--button-hover-fill-color);\n",
              "  }\n",
              "\n",
              "  .colab-df-quickchart-complete:disabled,\n",
              "  .colab-df-quickchart-complete:disabled:hover {\n",
              "    background-color: var(--disabled-bg-color);\n",
              "    fill: var(--disabled-fill-color);\n",
              "    box-shadow: none;\n",
              "  }\n",
              "\n",
              "  .colab-df-spinner {\n",
              "    border: 2px solid var(--fill-color);\n",
              "    border-color: transparent;\n",
              "    border-bottom-color: var(--fill-color);\n",
              "    animation:\n",
              "      spin 1s steps(1) infinite;\n",
              "  }\n",
              "\n",
              "  @keyframes spin {\n",
              "    0% {\n",
              "      border-color: transparent;\n",
              "      border-bottom-color: var(--fill-color);\n",
              "      border-left-color: var(--fill-color);\n",
              "    }\n",
              "    20% {\n",
              "      border-color: transparent;\n",
              "      border-left-color: var(--fill-color);\n",
              "      border-top-color: var(--fill-color);\n",
              "    }\n",
              "    30% {\n",
              "      border-color: transparent;\n",
              "      border-left-color: var(--fill-color);\n",
              "      border-top-color: var(--fill-color);\n",
              "      border-right-color: var(--fill-color);\n",
              "    }\n",
              "    40% {\n",
              "      border-color: transparent;\n",
              "      border-right-color: var(--fill-color);\n",
              "      border-top-color: var(--fill-color);\n",
              "    }\n",
              "    60% {\n",
              "      border-color: transparent;\n",
              "      border-right-color: var(--fill-color);\n",
              "    }\n",
              "    80% {\n",
              "      border-color: transparent;\n",
              "      border-right-color: var(--fill-color);\n",
              "      border-bottom-color: var(--fill-color);\n",
              "    }\n",
              "    90% {\n",
              "      border-color: transparent;\n",
              "      border-bottom-color: var(--fill-color);\n",
              "    }\n",
              "  }\n",
              "</style>\n",
              "\n",
              "  <script>\n",
              "    async function quickchart(key) {\n",
              "      const quickchartButtonEl =\n",
              "        document.querySelector('#' + key + ' button');\n",
              "      quickchartButtonEl.disabled = true;  // To prevent multiple clicks.\n",
              "      quickchartButtonEl.classList.add('colab-df-spinner');\n",
              "      try {\n",
              "        const charts = await google.colab.kernel.invokeFunction(\n",
              "            'suggestCharts', [key], {});\n",
              "      } catch (error) {\n",
              "        console.error('Error during call to suggestCharts:', error);\n",
              "      }\n",
              "      quickchartButtonEl.classList.remove('colab-df-spinner');\n",
              "      quickchartButtonEl.classList.add('colab-df-quickchart-complete');\n",
              "    }\n",
              "    (() => {\n",
              "      let quickchartButtonEl =\n",
              "        document.querySelector('#df-6aa3366e-0f0a-49b5-8024-4771802e3939 button');\n",
              "      quickchartButtonEl.style.display =\n",
              "        google.colab.kernel.accessAllowed ? 'block' : 'none';\n",
              "    })();\n",
              "  </script>\n",
              "</div>\n",
              "\n",
              "    </div>\n",
              "  </div>\n"
            ],
            "application/vnd.google.colaboratory.intrinsic+json": {
              "type": "dataframe",
              "variable_name": "prompt_df",
              "summary": "{\n  \"name\": \"prompt_df\",\n  \"rows\": 1177,\n  \"fields\": [\n    {\n      \"column\": \"text\",\n      \"properties\": {\n        \"dtype\": \"string\",\n        \"num_unique_values\": 1177,\n        \"samples\": [\n          \"Order: CT occult GI bleed incl dual abdomen pelvis with and without contrast\\nPrior Order: \\nReason for Exam: GI bleed; Abdominal abscess/infection suspected; Abdominal pain, unspecified abdominal location\\nContrast Allergy: False\\nAllergy severity: \\nCreatinine: 1.0\\nOn Dialysis: False\\nClinical Summary: The patient is a 65-year-old male with a history of hypertension and recent weight loss presenting with abdominal pain of unspecified location and suspected abdominal abscess or infection. Given the concern for a gastrointestinal bleed, a CT scan has been ordered to further evaluate the source of bleeding and assess for any potential complications.\\n\",\n          \"Order: CT chest abdomen pelvis with contrast w MIPS\\nPrior Order: \\nReason for Exam: Hematologic malignancy, assess treatment response; chronic cough in patient with CLL question infeciton or progression; Cough, persistent; CLL (chronic lymphocytic leukemia) \\nContrast Allergy: False\\nAllergy severity: \\nCreatinine: 1.0\\nOn Dialysis: False\\nClinical Summary: The patient with chronic lymphocytic leukemia (CLL) presented with a persistent cough, raising concerns for infection or disease progression. The CT scan is being performed to assess treatment response for the hematologic malignancy and to investigate the underlying cause of the chronic cough.\\n\",\n          \"Order: CT occult GI bleed incl dual abdomen pelvis with and without contrast\\nPrior Order: \\nReason for Exam: Bloody stool; Bloody stool\\nContrast Allergy: False\\nAllergy severity: \\nCreatinine: 0.8\\nOn Dialysis: False\\nClinical Summary: A 55-year-old male with a history of hypertension presented with a two-week history of intermittent bloody stools. He denied abdominal pain or weight loss but reported feeling fatigued. Initial workup including stool studies was inconclusive, prompting the decision to proceed with a CT scan to investigate for a possible occult gastrointestinal bleed.\\n\"\n        ],\n        \"semantic_type\": \"\",\n        \"description\": \"\"\n      }\n    },\n    {\n      \"column\": \"prompt_question_json\",\n      \"properties\": {\n        \"dtype\": \"string\",\n        \"num_unique_values\": 1177,\n        \"samples\": [\n          \"{\\\"accession\\\": \\\"800107\\\", \\\"order\\\": \\\"CT occult GI bleed incl dual abdomen pelvis with and without contrast\\\", \\\"Reason for Exam\\\": \\\"GI bleed; Abdominal abscess/infection suspected\\\", \\\"prior_order\\\": \\\"\\\", \\\"indication\\\": \\\"GI bleed; Abdominal abscess/infection suspected; Abdominal pain, unspecified abdominal location\\\", \\\"creatinine\\\": 1.0, \\\"on_dialysis\\\": 0, \\\"contrast_allergy\\\": 0, \\\"allergy_severity\\\": \\\"\\\", \\\"clinical_summary\\\": \\\"The patient is a 65-year-old male with a history of hypertension and recent weight loss presenting with abdominal pain of unspecified location and suspected abdominal abscess or infection. Given the concern for a gastrointestinal bleed, a CT scan has been ordered to further evaluate the source of bleeding and assess for any potential complications.\\\"}\",\n          \"{\\\"accession\\\": \\\"800774\\\", \\\"order\\\": \\\"CT chest abdomen pelvis with contrast w MIPS\\\", \\\"Reason for Exam\\\": \\\"Hematologic malignancy, assess treatment response; chronic cough in patient with CLL question infeciton or progression\\\", \\\"prior_order\\\": \\\"\\\", \\\"indication\\\": \\\"Hematologic malignancy, assess treatment response; chronic cough in patient with CLL question infeciton or progression; Cough, persistent; CLL (chronic lymphocytic leukemia) \\\", \\\"creatinine\\\": 1.0, \\\"on_dialysis\\\": 0, \\\"contrast_allergy\\\": 0, \\\"allergy_severity\\\": \\\"\\\", \\\"clinical_summary\\\": \\\"The patient with chronic lymphocytic leukemia (CLL) presented with a persistent cough, raising concerns for infection or disease progression. The CT scan is being performed to assess treatment response for the hematologic malignancy and to investigate the underlying cause of the chronic cough.\\\"}\",\n          \"{\\\"accession\\\": \\\"800081\\\", \\\"order\\\": \\\"CT occult GI bleed incl dual abdomen pelvis with and without contrast\\\", \\\"Reason for Exam\\\": \\\"Bloody stool\\\", \\\"prior_order\\\": \\\"\\\", \\\"indication\\\": \\\"Bloody stool; Bloody stool\\\", \\\"creatinine\\\": 0.8, \\\"on_dialysis\\\": 0, \\\"contrast_allergy\\\": 0, \\\"allergy_severity\\\": \\\"\\\", \\\"clinical_summary\\\": \\\"A 55-year-old male with a history of hypertension presented with a two-week history of intermittent bloody stools. He denied abdominal pain or weight loss but reported feeling fatigued. Initial workup including stool studies was inconclusive, prompting the decision to proceed with a CT scan to investigate for a possible occult gastrointestinal bleed.\\\"}\"\n        ],\n        \"semantic_type\": \"\",\n        \"description\": \"\"\n      }\n    },\n    {\n      \"column\": \"labels\",\n      \"properties\": {\n        \"dtype\": \"string\",\n        \"num_unique_values\": 1177,\n        \"samples\": [\n          \"{\\\"accession\\\": \\\"800107\\\", \\\"predicted_order\\\": \\\"CT occult GI bleed incl dual abdomen pelvis with and without contrast\\\", \\\"predicted_protocol\\\": \\\"gi bleed\\\", \\\"predicted_comments\\\": []}\",\n          \"{\\\"accession\\\": \\\"800774\\\", \\\"predicted_order\\\": \\\"CT chest abdomen pelvis with contrast w MIPS\\\", \\\"predicted_protocol\\\": \\\"routine\\\", \\\"predicted_comments\\\": []}\",\n          \"{\\\"accession\\\": \\\"800081\\\", \\\"predicted_order\\\": \\\"CT occult GI bleed incl dual abdomen pelvis with and without contrast\\\", \\\"predicted_protocol\\\": \\\"gi bleed\\\", \\\"predicted_comments\\\": []}\"\n        ],\n        \"semantic_type\": \"\",\n        \"description\": \"\"\n      }\n    }\n  ]\n}"
            }
          },
          "metadata": {},
          "execution_count": 10
        }
      ]
    },
    {
      "cell_type": "code",
      "source": [
        "dataset = Dataset(pa.Table.from_pandas(prompt_df))\n",
        "\n"
      ],
      "metadata": {
        "id": "ouFXDQsMY4nD"
      },
      "execution_count": 11,
      "outputs": []
    },
    {
      "cell_type": "code",
      "source": [
        "train_data, test_data = train_test_split(dataset, test_size=0.2, random_state=12)\n"
      ],
      "metadata": {
        "id": "9RuBgAmGoKk-"
      },
      "execution_count": 12,
      "outputs": []
    },
    {
      "cell_type": "code",
      "source": [
        "test_data_df = pd.DataFrame(test_data)\n",
        "test_data_df"
      ],
      "metadata": {
        "colab": {
          "base_uri": "https://localhost:8080/",
          "height": 1000
        },
        "id": "dnfft-wBohbf",
        "outputId": "c0d01cbf-f37a-40b1-e559-789804706f9f"
      },
      "execution_count": 13,
      "outputs": [
        {
          "output_type": "execute_result",
          "data": {
            "text/plain": [
              "                                                  text  \\\n",
              "0    Order: CT abdomen pelvis with contrast\\nPrior ...   \n",
              "1    Order: CT chest abdomen pelvis with contrast w...   \n",
              "2    Order: CT abdomen pelvis with contrast\\nPrior ...   \n",
              "3    Order: CT abdomen pelvis with contrast\\nPrior ...   \n",
              "4    Order: CT RCC protocol incl chest w MIPS and d...   \n",
              "..                                                 ...   \n",
              "231  Order: CT abdomen pelvis with contrast\\nPrior ...   \n",
              "232  Order: CT renal stone protocol inc CT abd and ...   \n",
              "233  Order: CT occult GI bleed incl dual abdomen pe...   \n",
              "234  Order: CT chest abdomen pelvis with contrast w...   \n",
              "235  Order: CT abdomen pelvis with contrast\\nPrior ...   \n",
              "\n",
              "                                  prompt_question_json  \\\n",
              "0    {\"accession\": \"800811\", \"order\": \"CT abdomen p...   \n",
              "1    {\"accession\": \"800780\", \"order\": \"CT chest abd...   \n",
              "2    {\"accession\": \"800819\", \"order\": \"CT abdomen p...   \n",
              "3    {\"accession\": \"800421\", \"order\": \"CT abdomen p...   \n",
              "4    {\"accession\": \"800274\", \"order\": \"CT RCC proto...   \n",
              "..                                                 ...   \n",
              "231  {\"accession\": \"800936\", \"order\": \"CT abdomen p...   \n",
              "232  {\"accession\": \"800316\", \"order\": \"CT renal sto...   \n",
              "233  {\"accession\": \"800056\", \"order\": \"CT occult GI...   \n",
              "234  {\"accession\": \"800960\", \"order\": \"CT chest abd...   \n",
              "235  {\"accession\": \"800923\", \"order\": \"CT abdomen p...   \n",
              "\n",
              "                                                labels  __index_level_0__  \n",
              "0    {\"accession\": \"800811\", \"predicted_order\": \"CT...                811  \n",
              "1    {\"accession\": \"800780\", \"predicted_order\": \"CT...                780  \n",
              "2    {\"accession\": \"800819\", \"predicted_order\": \"CT...                819  \n",
              "3    {\"accession\": \"800421\", \"predicted_order\": \"CT...                421  \n",
              "4    {\"accession\": \"800274\", \"predicted_order\": \"CT...                274  \n",
              "..                                                 ...                ...  \n",
              "231  {\"accession\": \"800936\", \"predicted_order\": \"CT...                936  \n",
              "232  {\"accession\": \"800316\", \"predicted_order\": \"CT...                316  \n",
              "233  {\"accession\": \"800056\", \"predicted_order\": \"CT...                 56  \n",
              "234  {\"accession\": \"800960\", \"predicted_order\": \"CT...                960  \n",
              "235  {\"accession\": \"800923\", \"predicted_order\": \"CT...                923  \n",
              "\n",
              "[236 rows x 4 columns]"
            ],
            "text/html": [
              "\n",
              "  <div id=\"df-8da48b8e-b513-4715-be41-bcb5f906ae60\" class=\"colab-df-container\">\n",
              "    <div>\n",
              "<style scoped>\n",
              "    .dataframe tbody tr th:only-of-type {\n",
              "        vertical-align: middle;\n",
              "    }\n",
              "\n",
              "    .dataframe tbody tr th {\n",
              "        vertical-align: top;\n",
              "    }\n",
              "\n",
              "    .dataframe thead th {\n",
              "        text-align: right;\n",
              "    }\n",
              "</style>\n",
              "<table border=\"1\" class=\"dataframe\">\n",
              "  <thead>\n",
              "    <tr style=\"text-align: right;\">\n",
              "      <th></th>\n",
              "      <th>text</th>\n",
              "      <th>prompt_question_json</th>\n",
              "      <th>labels</th>\n",
              "      <th>__index_level_0__</th>\n",
              "    </tr>\n",
              "  </thead>\n",
              "  <tbody>\n",
              "    <tr>\n",
              "      <th>0</th>\n",
              "      <td>Order: CT abdomen pelvis with contrast\\nPrior ...</td>\n",
              "      <td>{\"accession\": \"800811\", \"order\": \"CT abdomen p...</td>\n",
              "      <td>{\"accession\": \"800811\", \"predicted_order\": \"CT...</td>\n",
              "      <td>811</td>\n",
              "    </tr>\n",
              "    <tr>\n",
              "      <th>1</th>\n",
              "      <td>Order: CT chest abdomen pelvis with contrast w...</td>\n",
              "      <td>{\"accession\": \"800780\", \"order\": \"CT chest abd...</td>\n",
              "      <td>{\"accession\": \"800780\", \"predicted_order\": \"CT...</td>\n",
              "      <td>780</td>\n",
              "    </tr>\n",
              "    <tr>\n",
              "      <th>2</th>\n",
              "      <td>Order: CT abdomen pelvis with contrast\\nPrior ...</td>\n",
              "      <td>{\"accession\": \"800819\", \"order\": \"CT abdomen p...</td>\n",
              "      <td>{\"accession\": \"800819\", \"predicted_order\": \"CT...</td>\n",
              "      <td>819</td>\n",
              "    </tr>\n",
              "    <tr>\n",
              "      <th>3</th>\n",
              "      <td>Order: CT abdomen pelvis with contrast\\nPrior ...</td>\n",
              "      <td>{\"accession\": \"800421\", \"order\": \"CT abdomen p...</td>\n",
              "      <td>{\"accession\": \"800421\", \"predicted_order\": \"CT...</td>\n",
              "      <td>421</td>\n",
              "    </tr>\n",
              "    <tr>\n",
              "      <th>4</th>\n",
              "      <td>Order: CT RCC protocol incl chest w MIPS and d...</td>\n",
              "      <td>{\"accession\": \"800274\", \"order\": \"CT RCC proto...</td>\n",
              "      <td>{\"accession\": \"800274\", \"predicted_order\": \"CT...</td>\n",
              "      <td>274</td>\n",
              "    </tr>\n",
              "    <tr>\n",
              "      <th>...</th>\n",
              "      <td>...</td>\n",
              "      <td>...</td>\n",
              "      <td>...</td>\n",
              "      <td>...</td>\n",
              "    </tr>\n",
              "    <tr>\n",
              "      <th>231</th>\n",
              "      <td>Order: CT abdomen pelvis with contrast\\nPrior ...</td>\n",
              "      <td>{\"accession\": \"800936\", \"order\": \"CT abdomen p...</td>\n",
              "      <td>{\"accession\": \"800936\", \"predicted_order\": \"CT...</td>\n",
              "      <td>936</td>\n",
              "    </tr>\n",
              "    <tr>\n",
              "      <th>232</th>\n",
              "      <td>Order: CT renal stone protocol inc CT abd and ...</td>\n",
              "      <td>{\"accession\": \"800316\", \"order\": \"CT renal sto...</td>\n",
              "      <td>{\"accession\": \"800316\", \"predicted_order\": \"CT...</td>\n",
              "      <td>316</td>\n",
              "    </tr>\n",
              "    <tr>\n",
              "      <th>233</th>\n",
              "      <td>Order: CT occult GI bleed incl dual abdomen pe...</td>\n",
              "      <td>{\"accession\": \"800056\", \"order\": \"CT occult GI...</td>\n",
              "      <td>{\"accession\": \"800056\", \"predicted_order\": \"CT...</td>\n",
              "      <td>56</td>\n",
              "    </tr>\n",
              "    <tr>\n",
              "      <th>234</th>\n",
              "      <td>Order: CT chest abdomen pelvis with contrast w...</td>\n",
              "      <td>{\"accession\": \"800960\", \"order\": \"CT chest abd...</td>\n",
              "      <td>{\"accession\": \"800960\", \"predicted_order\": \"CT...</td>\n",
              "      <td>960</td>\n",
              "    </tr>\n",
              "    <tr>\n",
              "      <th>235</th>\n",
              "      <td>Order: CT abdomen pelvis with contrast\\nPrior ...</td>\n",
              "      <td>{\"accession\": \"800923\", \"order\": \"CT abdomen p...</td>\n",
              "      <td>{\"accession\": \"800923\", \"predicted_order\": \"CT...</td>\n",
              "      <td>923</td>\n",
              "    </tr>\n",
              "  </tbody>\n",
              "</table>\n",
              "<p>236 rows × 4 columns</p>\n",
              "</div>\n",
              "    <div class=\"colab-df-buttons\">\n",
              "\n",
              "  <div class=\"colab-df-container\">\n",
              "    <button class=\"colab-df-convert\" onclick=\"convertToInteractive('df-8da48b8e-b513-4715-be41-bcb5f906ae60')\"\n",
              "            title=\"Convert this dataframe to an interactive table.\"\n",
              "            style=\"display:none;\">\n",
              "\n",
              "  <svg xmlns=\"http://www.w3.org/2000/svg\" height=\"24px\" viewBox=\"0 -960 960 960\">\n",
              "    <path d=\"M120-120v-720h720v720H120Zm60-500h600v-160H180v160Zm220 220h160v-160H400v160Zm0 220h160v-160H400v160ZM180-400h160v-160H180v160Zm440 0h160v-160H620v160ZM180-180h160v-160H180v160Zm440 0h160v-160H620v160Z\"/>\n",
              "  </svg>\n",
              "    </button>\n",
              "\n",
              "  <style>\n",
              "    .colab-df-container {\n",
              "      display:flex;\n",
              "      gap: 12px;\n",
              "    }\n",
              "\n",
              "    .colab-df-convert {\n",
              "      background-color: #E8F0FE;\n",
              "      border: none;\n",
              "      border-radius: 50%;\n",
              "      cursor: pointer;\n",
              "      display: none;\n",
              "      fill: #1967D2;\n",
              "      height: 32px;\n",
              "      padding: 0 0 0 0;\n",
              "      width: 32px;\n",
              "    }\n",
              "\n",
              "    .colab-df-convert:hover {\n",
              "      background-color: #E2EBFA;\n",
              "      box-shadow: 0px 1px 2px rgba(60, 64, 67, 0.3), 0px 1px 3px 1px rgba(60, 64, 67, 0.15);\n",
              "      fill: #174EA6;\n",
              "    }\n",
              "\n",
              "    .colab-df-buttons div {\n",
              "      margin-bottom: 4px;\n",
              "    }\n",
              "\n",
              "    [theme=dark] .colab-df-convert {\n",
              "      background-color: #3B4455;\n",
              "      fill: #D2E3FC;\n",
              "    }\n",
              "\n",
              "    [theme=dark] .colab-df-convert:hover {\n",
              "      background-color: #434B5C;\n",
              "      box-shadow: 0px 1px 3px 1px rgba(0, 0, 0, 0.15);\n",
              "      filter: drop-shadow(0px 1px 2px rgba(0, 0, 0, 0.3));\n",
              "      fill: #FFFFFF;\n",
              "    }\n",
              "  </style>\n",
              "\n",
              "    <script>\n",
              "      const buttonEl =\n",
              "        document.querySelector('#df-8da48b8e-b513-4715-be41-bcb5f906ae60 button.colab-df-convert');\n",
              "      buttonEl.style.display =\n",
              "        google.colab.kernel.accessAllowed ? 'block' : 'none';\n",
              "\n",
              "      async function convertToInteractive(key) {\n",
              "        const element = document.querySelector('#df-8da48b8e-b513-4715-be41-bcb5f906ae60');\n",
              "        const dataTable =\n",
              "          await google.colab.kernel.invokeFunction('convertToInteractive',\n",
              "                                                    [key], {});\n",
              "        if (!dataTable) return;\n",
              "\n",
              "        const docLinkHtml = 'Like what you see? Visit the ' +\n",
              "          '<a target=\"_blank\" href=https://colab.research.google.com/notebooks/data_table.ipynb>data table notebook</a>'\n",
              "          + ' to learn more about interactive tables.';\n",
              "        element.innerHTML = '';\n",
              "        dataTable['output_type'] = 'display_data';\n",
              "        await google.colab.output.renderOutput(dataTable, element);\n",
              "        const docLink = document.createElement('div');\n",
              "        docLink.innerHTML = docLinkHtml;\n",
              "        element.appendChild(docLink);\n",
              "      }\n",
              "    </script>\n",
              "  </div>\n",
              "\n",
              "\n",
              "<div id=\"df-fa05feb4-d379-4cf5-9e52-8da5b579c2b4\">\n",
              "  <button class=\"colab-df-quickchart\" onclick=\"quickchart('df-fa05feb4-d379-4cf5-9e52-8da5b579c2b4')\"\n",
              "            title=\"Suggest charts\"\n",
              "            style=\"display:none;\">\n",
              "\n",
              "<svg xmlns=\"http://www.w3.org/2000/svg\" height=\"24px\"viewBox=\"0 0 24 24\"\n",
              "     width=\"24px\">\n",
              "    <g>\n",
              "        <path d=\"M19 3H5c-1.1 0-2 .9-2 2v14c0 1.1.9 2 2 2h14c1.1 0 2-.9 2-2V5c0-1.1-.9-2-2-2zM9 17H7v-7h2v7zm4 0h-2V7h2v10zm4 0h-2v-4h2v4z\"/>\n",
              "    </g>\n",
              "</svg>\n",
              "  </button>\n",
              "\n",
              "<style>\n",
              "  .colab-df-quickchart {\n",
              "      --bg-color: #E8F0FE;\n",
              "      --fill-color: #1967D2;\n",
              "      --hover-bg-color: #E2EBFA;\n",
              "      --hover-fill-color: #174EA6;\n",
              "      --disabled-fill-color: #AAA;\n",
              "      --disabled-bg-color: #DDD;\n",
              "  }\n",
              "\n",
              "  [theme=dark] .colab-df-quickchart {\n",
              "      --bg-color: #3B4455;\n",
              "      --fill-color: #D2E3FC;\n",
              "      --hover-bg-color: #434B5C;\n",
              "      --hover-fill-color: #FFFFFF;\n",
              "      --disabled-bg-color: #3B4455;\n",
              "      --disabled-fill-color: #666;\n",
              "  }\n",
              "\n",
              "  .colab-df-quickchart {\n",
              "    background-color: var(--bg-color);\n",
              "    border: none;\n",
              "    border-radius: 50%;\n",
              "    cursor: pointer;\n",
              "    display: none;\n",
              "    fill: var(--fill-color);\n",
              "    height: 32px;\n",
              "    padding: 0;\n",
              "    width: 32px;\n",
              "  }\n",
              "\n",
              "  .colab-df-quickchart:hover {\n",
              "    background-color: var(--hover-bg-color);\n",
              "    box-shadow: 0 1px 2px rgba(60, 64, 67, 0.3), 0 1px 3px 1px rgba(60, 64, 67, 0.15);\n",
              "    fill: var(--button-hover-fill-color);\n",
              "  }\n",
              "\n",
              "  .colab-df-quickchart-complete:disabled,\n",
              "  .colab-df-quickchart-complete:disabled:hover {\n",
              "    background-color: var(--disabled-bg-color);\n",
              "    fill: var(--disabled-fill-color);\n",
              "    box-shadow: none;\n",
              "  }\n",
              "\n",
              "  .colab-df-spinner {\n",
              "    border: 2px solid var(--fill-color);\n",
              "    border-color: transparent;\n",
              "    border-bottom-color: var(--fill-color);\n",
              "    animation:\n",
              "      spin 1s steps(1) infinite;\n",
              "  }\n",
              "\n",
              "  @keyframes spin {\n",
              "    0% {\n",
              "      border-color: transparent;\n",
              "      border-bottom-color: var(--fill-color);\n",
              "      border-left-color: var(--fill-color);\n",
              "    }\n",
              "    20% {\n",
              "      border-color: transparent;\n",
              "      border-left-color: var(--fill-color);\n",
              "      border-top-color: var(--fill-color);\n",
              "    }\n",
              "    30% {\n",
              "      border-color: transparent;\n",
              "      border-left-color: var(--fill-color);\n",
              "      border-top-color: var(--fill-color);\n",
              "      border-right-color: var(--fill-color);\n",
              "    }\n",
              "    40% {\n",
              "      border-color: transparent;\n",
              "      border-right-color: var(--fill-color);\n",
              "      border-top-color: var(--fill-color);\n",
              "    }\n",
              "    60% {\n",
              "      border-color: transparent;\n",
              "      border-right-color: var(--fill-color);\n",
              "    }\n",
              "    80% {\n",
              "      border-color: transparent;\n",
              "      border-right-color: var(--fill-color);\n",
              "      border-bottom-color: var(--fill-color);\n",
              "    }\n",
              "    90% {\n",
              "      border-color: transparent;\n",
              "      border-bottom-color: var(--fill-color);\n",
              "    }\n",
              "  }\n",
              "</style>\n",
              "\n",
              "  <script>\n",
              "    async function quickchart(key) {\n",
              "      const quickchartButtonEl =\n",
              "        document.querySelector('#' + key + ' button');\n",
              "      quickchartButtonEl.disabled = true;  // To prevent multiple clicks.\n",
              "      quickchartButtonEl.classList.add('colab-df-spinner');\n",
              "      try {\n",
              "        const charts = await google.colab.kernel.invokeFunction(\n",
              "            'suggestCharts', [key], {});\n",
              "      } catch (error) {\n",
              "        console.error('Error during call to suggestCharts:', error);\n",
              "      }\n",
              "      quickchartButtonEl.classList.remove('colab-df-spinner');\n",
              "      quickchartButtonEl.classList.add('colab-df-quickchart-complete');\n",
              "    }\n",
              "    (() => {\n",
              "      let quickchartButtonEl =\n",
              "        document.querySelector('#df-fa05feb4-d379-4cf5-9e52-8da5b579c2b4 button');\n",
              "      quickchartButtonEl.style.display =\n",
              "        google.colab.kernel.accessAllowed ? 'block' : 'none';\n",
              "    })();\n",
              "  </script>\n",
              "</div>\n",
              "\n",
              "  <div id=\"id_f8b22f7e-7760-4729-b8ae-bc114eb5e886\">\n",
              "    <style>\n",
              "      .colab-df-generate {\n",
              "        background-color: #E8F0FE;\n",
              "        border: none;\n",
              "        border-radius: 50%;\n",
              "        cursor: pointer;\n",
              "        display: none;\n",
              "        fill: #1967D2;\n",
              "        height: 32px;\n",
              "        padding: 0 0 0 0;\n",
              "        width: 32px;\n",
              "      }\n",
              "\n",
              "      .colab-df-generate:hover {\n",
              "        background-color: #E2EBFA;\n",
              "        box-shadow: 0px 1px 2px rgba(60, 64, 67, 0.3), 0px 1px 3px 1px rgba(60, 64, 67, 0.15);\n",
              "        fill: #174EA6;\n",
              "      }\n",
              "\n",
              "      [theme=dark] .colab-df-generate {\n",
              "        background-color: #3B4455;\n",
              "        fill: #D2E3FC;\n",
              "      }\n",
              "\n",
              "      [theme=dark] .colab-df-generate:hover {\n",
              "        background-color: #434B5C;\n",
              "        box-shadow: 0px 1px 3px 1px rgba(0, 0, 0, 0.15);\n",
              "        filter: drop-shadow(0px 1px 2px rgba(0, 0, 0, 0.3));\n",
              "        fill: #FFFFFF;\n",
              "      }\n",
              "    </style>\n",
              "    <button class=\"colab-df-generate\" onclick=\"generateWithVariable('test_data_df')\"\n",
              "            title=\"Generate code using this dataframe.\"\n",
              "            style=\"display:none;\">\n",
              "\n",
              "  <svg xmlns=\"http://www.w3.org/2000/svg\" height=\"24px\"viewBox=\"0 0 24 24\"\n",
              "       width=\"24px\">\n",
              "    <path d=\"M7,19H8.4L18.45,9,17,7.55,7,17.6ZM5,21V16.75L18.45,3.32a2,2,0,0,1,2.83,0l1.4,1.43a1.91,1.91,0,0,1,.58,1.4,1.91,1.91,0,0,1-.58,1.4L9.25,21ZM18.45,9,17,7.55Zm-12,3A5.31,5.31,0,0,0,4.9,8.1,5.31,5.31,0,0,0,1,6.5,5.31,5.31,0,0,0,4.9,4.9,5.31,5.31,0,0,0,6.5,1,5.31,5.31,0,0,0,8.1,4.9,5.31,5.31,0,0,0,12,6.5,5.46,5.46,0,0,0,6.5,12Z\"/>\n",
              "  </svg>\n",
              "    </button>\n",
              "    <script>\n",
              "      (() => {\n",
              "      const buttonEl =\n",
              "        document.querySelector('#id_f8b22f7e-7760-4729-b8ae-bc114eb5e886 button.colab-df-generate');\n",
              "      buttonEl.style.display =\n",
              "        google.colab.kernel.accessAllowed ? 'block' : 'none';\n",
              "\n",
              "      buttonEl.onclick = () => {\n",
              "        google.colab.notebook.generateWithVariable('test_data_df');\n",
              "      }\n",
              "      })();\n",
              "    </script>\n",
              "  </div>\n",
              "\n",
              "    </div>\n",
              "  </div>\n"
            ],
            "application/vnd.google.colaboratory.intrinsic+json": {
              "type": "dataframe",
              "variable_name": "test_data_df",
              "summary": "{\n  \"name\": \"test_data_df\",\n  \"rows\": 236,\n  \"fields\": [\n    {\n      \"column\": \"text\",\n      \"properties\": {\n        \"dtype\": \"string\",\n        \"num_unique_values\": 236,\n        \"samples\": [\n          \"Order: CT abdomen pelvis with contrast\\nPrior Order: \\nReason for Exam: post operative fluctuance and erythema and pain, concern for post-op infection; Infection of superficial incisional surgical site after procedure, initial encounter; IV Contrast Only\\nContrast Allergy: False\\nAllergy severity: \\nCreatinine: 1.1\\nOn Dialysis: False\\nClinical Summary: The patient is a 45-year-old female who recently underwent surgery and is now presenting with post-operative fluctuance, erythema, and pain at the surgical site, raising concern for a possible post-operative infection. The CT scan is being ordered to evaluate for any signs of infection in the abdomen and pelvis following the surgical procedure.\\n\",\n          \"Order: CT chest abdomen pelvis with contrast w MIPS\\nPrior Order: CT chest with contrast with 3D MIPS protocol\\nReason for Exam: mvc; Motor vehicle collision, initial encounter\\nContrast Allergy: False\\nAllergy severity: \\nCreatinine: 1.3\\nOn Dialysis: False\\nClinical Summary: The patient, a 45-year-old female, presented following a motor vehicle collision with complaints of chest and abdominal pain. She has a history of hypertension and no significant surgical history. The leading diagnosis is to rule out any internal injuries following the trauma from the MVC.\\n\",\n          \"Order: CT abdomen pelvis with contrast\\nPrior Order: \\nReason for Exam: Appendiceal cancer, surveillance; perforated LAMN in 4/2021; annual surveillance; Low grade mucinous neoplasm of appendix\\nContrast Allergy: False\\nAllergy severity: \\nCreatinine: 0.9\\nOn Dialysis: False\\nClinical Summary: The patient is a 58-year-old female with a history of appendiceal cancer and a perforated low-grade mucinous neoplasm of the appendix in April 2021. She is scheduled for annual surveillance, and the CT abdomen pelvis with contrast has been ordered to monitor the progression of the disease and assess for any recurrence or metastasis.\\n\"\n        ],\n        \"semantic_type\": \"\",\n        \"description\": \"\"\n      }\n    },\n    {\n      \"column\": \"prompt_question_json\",\n      \"properties\": {\n        \"dtype\": \"string\",\n        \"num_unique_values\": 236,\n        \"samples\": [\n          \"{\\\"accession\\\": \\\"800861\\\", \\\"order\\\": \\\"CT abdomen pelvis with contrast\\\", \\\"Reason for Exam\\\": \\\"post operative fluctuance and erythema and pain, concern for post-op infection\\\", \\\"prior_order\\\": \\\"\\\", \\\"indication\\\": \\\"post operative fluctuance and erythema and pain, concern for post-op infection; Infection of superficial incisional surgical site after procedure, initial encounter; IV Contrast Only\\\", \\\"creatinine\\\": 1.1, \\\"on_dialysis\\\": 0, \\\"contrast_allergy\\\": 0, \\\"allergy_severity\\\": \\\"\\\", \\\"clinical_summary\\\": \\\"The patient is a 45-year-old female who recently underwent surgery and is now presenting with post-operative fluctuance, erythema, and pain at the surgical site, raising concern for a possible post-operative infection. The CT scan is being ordered to evaluate for any signs of infection in the abdomen and pelvis following the surgical procedure.\\\"}\",\n          \"{\\\"accession\\\": \\\"801145\\\", \\\"order\\\": \\\"CT chest abdomen pelvis with contrast w MIPS\\\", \\\"Reason for Exam\\\": \\\"mvc\\\", \\\"prior_order\\\": \\\"CT chest with contrast with 3D MIPS protocol\\\", \\\"indication\\\": \\\"mvc; Motor vehicle collision, initial encounter\\\", \\\"creatinine\\\": 1.3, \\\"on_dialysis\\\": 0, \\\"contrast_allergy\\\": 0, \\\"allergy_severity\\\": \\\"\\\", \\\"clinical_summary\\\": \\\"The patient, a 45-year-old female, presented following a motor vehicle collision with complaints of chest and abdominal pain. She has a history of hypertension and no significant surgical history. The leading diagnosis is to rule out any internal injuries following the trauma from the MVC.\\\"}\",\n          \"{\\\"accession\\\": \\\"800634\\\", \\\"order\\\": \\\"CT abdomen pelvis with contrast\\\", \\\"Reason for Exam\\\": \\\"Appendiceal cancer, surveillance; perforated LAMN in 4/2021; annual surveillance\\\", \\\"prior_order\\\": \\\"\\\", \\\"indication\\\": \\\"Appendiceal cancer, surveillance; perforated LAMN in 4/2021; annual surveillance; Low grade mucinous neoplasm of appendix\\\", \\\"creatinine\\\": 0.9, \\\"on_dialysis\\\": 0, \\\"contrast_allergy\\\": 0, \\\"allergy_severity\\\": \\\"\\\", \\\"clinical_summary\\\": \\\"The patient is a 58-year-old female with a history of appendiceal cancer and a perforated low-grade mucinous neoplasm of the appendix in April 2021. She is scheduled for annual surveillance, and the CT abdomen pelvis with contrast has been ordered to monitor the progression of the disease and assess for any recurrence or metastasis.\\\"}\"\n        ],\n        \"semantic_type\": \"\",\n        \"description\": \"\"\n      }\n    },\n    {\n      \"column\": \"labels\",\n      \"properties\": {\n        \"dtype\": \"string\",\n        \"num_unique_values\": 236,\n        \"samples\": [\n          \"{\\\"accession\\\": \\\"800861\\\", \\\"predicted_order\\\": \\\"CT abdomen pelvis with contrast\\\", \\\"predicted_protocol\\\": \\\"routine\\\", \\\"predicted_comments\\\": []}\",\n          \"{\\\"accession\\\": \\\"801145\\\", \\\"predicted_order\\\": \\\"CT chest abdomen pelvis with contrast w MIPS\\\", \\\"predicted_protocol\\\": \\\"trauma\\\", \\\"predicted_comments\\\": []}\",\n          \"{\\\"accession\\\": \\\"800634\\\", \\\"predicted_order\\\": \\\"CT abdomen pelvis with contrast\\\", \\\"predicted_protocol\\\": \\\"routine\\\", \\\"predicted_comments\\\": []}\"\n        ],\n        \"semantic_type\": \"\",\n        \"description\": \"\"\n      }\n    },\n    {\n      \"column\": \"__index_level_0__\",\n      \"properties\": {\n        \"dtype\": \"number\",\n        \"std\": 340,\n        \"min\": 3,\n        \"max\": 1172,\n        \"num_unique_values\": 236,\n        \"samples\": [\n          861,\n          1145,\n          634\n        ],\n        \"semantic_type\": \"\",\n        \"description\": \"\"\n      }\n    }\n  ]\n}"
            }
          },
          "metadata": {},
          "execution_count": 13
        }
      ]
    },
    {
      "cell_type": "code",
      "source": [],
      "metadata": {
        "id": "ECxEy5h_JKjP"
      },
      "execution_count": 13,
      "outputs": []
    },
    {
      "cell_type": "code",
      "source": [
        "test_data_df.to_csv('/content/CT_Protocol/data/test_data_.csv')"
      ],
      "metadata": {
        "id": "3cbJqQCpoGnW"
      },
      "execution_count": 14,
      "outputs": []
    },
    {
      "cell_type": "markdown",
      "source": [],
      "metadata": {
        "id": "1xNv_76yud-Z"
      }
    },
    {
      "cell_type": "code",
      "source": [
        "# Test the function with strings demonstrating different scenarios\n",
        "test_str1 = '{\"predicted_order\": \"CT abdomen pelvis with contrast\", \"predicted_protocol\": \"routine\", \"predicted_comments\": [\"oral contrast\"]}'\n",
        "test_str2 = '{\"predicted_order\": \"CT abdomen pelvis without contrast\", \"predicted_protocol\": \"noncon\", \"predicted_comments\": \"\"}'\n",
        "test_str3 = '{\"predicted_order\": \"CT abdomen pelvis with contrast\", \"predicted_protocol\": \"routine\", \"predicted_comments\": \"[]\"}'\n",
        "test_str4 = '{\"predicted_order\": \"CT abdomen pelvis with contrast\", \"predicted_protocol\": \"routine\", \"predicted_comments\": [\"list1\", \"list2\"]}'\n",
        "test_str5 = '{\"predicted_order\": \"CT abdomen pelvis with contrast\", \"predicted_protocol\": \"routine\", \"predicted_comments\": [\"list1\", \"list2\"]}'\n",
        "\n",
        "test_json1 = json.loads(test_str1)\n",
        "test_json2 = json.loads(test_str2)\n",
        "test_json3 = json.loads(test_str3)\n",
        "test_json4 = json.loads(test_str4)\n",
        "test_json5 = json.loads(test_str5)\n",
        "\n",
        "print(test_json1, type(test_json1))\n",
        "print(test_json2, type(test_json2))\n",
        "print(test_json3, type(test_json3))\n",
        "print(test_json4, type(test_json4))\n",
        "print(test_json5, type(test_json5))\n",
        "\n",
        "\n",
        "score, accession, predicted_order, predicted_protocol, predicted_comments = response_score(test_json1, test_json2)\n",
        "\n",
        "for test_str in [test_str1, test_str2, test_str3, test_str4, test_str5]:\n",
        "    print('\\nOriginal string:', test_str)\n",
        "    parsed_json = extract_and_parse_json2(test_str)\n",
        "    print('Parsed JSON:', parsed_json)"
      ],
      "metadata": {
        "id": "tEF8UHauXFIM",
        "colab": {
          "base_uri": "https://localhost:8080/"
        },
        "outputId": "ba6abe1f-a9f2-44fc-ed57-c0bf06f53dab"
      },
      "execution_count": 15,
      "outputs": [
        {
          "output_type": "stream",
          "name": "stdout",
          "text": [
            "{'predicted_order': 'CT abdomen pelvis with contrast', 'predicted_protocol': 'routine', 'predicted_comments': ['oral contrast']} <class 'dict'>\n",
            "{'predicted_order': 'CT abdomen pelvis without contrast', 'predicted_protocol': 'noncon', 'predicted_comments': ''} <class 'dict'>\n",
            "{'predicted_order': 'CT abdomen pelvis with contrast', 'predicted_protocol': 'routine', 'predicted_comments': '[]'} <class 'dict'>\n",
            "{'predicted_order': 'CT abdomen pelvis with contrast', 'predicted_protocol': 'routine', 'predicted_comments': ['list1', 'list2']} <class 'dict'>\n",
            "{'predicted_order': 'CT abdomen pelvis with contrast', 'predicted_protocol': 'routine', 'predicted_comments': ['list1', 'list2']} <class 'dict'>\n",
            "\n",
            "Original string: {\"predicted_order\": \"CT abdomen pelvis with contrast\", \"predicted_protocol\": \"routine\", \"predicted_comments\": [\"oral contrast\"]}\n",
            "Parsed JSON: {'predicted_order': 'CT abdomen pelvis with contrast', 'predicted_protocol': 'routine', 'predicted_comments': ['oral contrast']}\n",
            "\n",
            "Original string: {\"predicted_order\": \"CT abdomen pelvis without contrast\", \"predicted_protocol\": \"noncon\", \"predicted_comments\": \"\"}\n",
            "Parsed JSON: {'predicted_order': 'CT abdomen pelvis without contrast', 'predicted_protocol': 'noncon', 'predicted_comments': []}\n",
            "\n",
            "Original string: {\"predicted_order\": \"CT abdomen pelvis with contrast\", \"predicted_protocol\": \"routine\", \"predicted_comments\": \"[]\"}\n",
            "Parsed JSON: {'predicted_order': 'CT abdomen pelvis with contrast', 'predicted_protocol': 'routine', 'predicted_comments': []}\n",
            "\n",
            "Original string: {\"predicted_order\": \"CT abdomen pelvis with contrast\", \"predicted_protocol\": \"routine\", \"predicted_comments\": [\"list1\", \"list2\"]}\n",
            "Parsed JSON: {'predicted_order': 'CT abdomen pelvis with contrast', 'predicted_protocol': 'routine', 'predicted_comments': ['list1', 'list2']}\n",
            "\n",
            "Original string: {\"predicted_order\": \"CT abdomen pelvis with contrast\", \"predicted_protocol\": \"routine\", \"predicted_comments\": [\"list1\", \"list2\"]}\n",
            "Parsed JSON: {'predicted_order': 'CT abdomen pelvis with contrast', 'predicted_protocol': 'routine', 'predicted_comments': ['list1', 'list2']}\n"
          ]
        }
      ]
    },
    {
      "cell_type": "markdown",
      "source": [
        "## Base Model Performance"
      ],
      "metadata": {
        "id": "8-gpNgbHuz16"
      }
    },
    {
      "cell_type": "code",
      "source": [
        "from google.colab import userdata\n",
        "token = userdata.get('HUGGINGFACE_TOKEN')\n",
        "api = HfApi(token=token)\n",
        "\n",
        "# log into HuggingFace\n",
        "\n",
        "!huggingface-cli login --token $token\n",
        "\n"
      ],
      "metadata": {
        "colab": {
          "base_uri": "https://localhost:8080/"
        },
        "id": "MBZXrDWK5qOV",
        "outputId": "0b04b4ca-1d53-4fe2-f907-285bb7f67820"
      },
      "execution_count": 16,
      "outputs": [
        {
          "output_type": "stream",
          "name": "stdout",
          "text": [
            "Token will not been saved to git credential helper. Pass `add_to_git_credential=True` if you want to set the git credential as well.\n",
            "Token is valid (permission: read).\n",
            "Your token has been saved to /root/.cache/huggingface/token\n",
            "Login successful\n"
          ]
        }
      ]
    },
    {
      "cell_type": "code",
      "execution_count": 17,
      "metadata": {
        "id": "nCrcbucuTviV"
      },
      "outputs": [],
      "source": [
        "# base model from huggingFace or path to model\n",
        "base_model = \"mistralai/Mistral-7B-Instruct-v0.2\"\n",
        "new_model = \"auto_protocol2\"\n",
        "\n"
      ]
    },
    {
      "cell_type": "code",
      "source": [
        "# configure the model\n",
        "tokenizer = AutoTokenizer.from_pretrained(base_model)\n",
        "bnb_config = BitsAndBytesConfig(\n",
        "    load_in_4bit=True,\n",
        "    bnb_4bit_quant_type=\"nf4\",\n",
        "    bnb_4bit_use_double_quant=True,\n",
        ")\n",
        "\n",
        "model = AutoModelForCausalLM.from_pretrained(\n",
        "        base_model,\n",
        "        load_in_4bit=True,\n",
        "        quantization_config=bnb_config,\n",
        "        torch_dtype=torch.bfloat16,\n",
        "        device_map=\"auto\",\n",
        "        trust_remote_code=True,\n",
        "    )\n",
        "\n",
        "pipe = pipeline(\n",
        "    \"text-generation\",\n",
        "    model=model,\n",
        "    tokenizer = tokenizer,\n",
        "    torch_dtype=torch.bfloat16,\n",
        "    device_map=\"auto\"\n",
        ")"
      ],
      "metadata": {
        "id": "517DYjnOHEm3",
        "colab": {
          "base_uri": "https://localhost:8080/",
          "height": 607,
          "referenced_widgets": [
            "dc278ab3882a44f0a0f723e597f8980a",
            "c8f31ad252164e77a822e7d006304eea",
            "af1a3118ef044cdb846e6b3e66f3b141",
            "93e11b9337714f5eba43af3c3b2ef619",
            "d6a00d9b9fc84326980fadfbee739a58",
            "a67f8e3f75ac4396ac4162800f991406",
            "2d2a1c4f8c8143a4b7430bbe5adc1fa9",
            "c665abdf60964ebb9cb4f13199467744",
            "213cbc3d2a1a4fc583f38d046f7a7c96",
            "ea03f3bfe6324912b57553ac644530e3",
            "be4b73e546354301b7977d8ef1a20bc0",
            "e2044d2a7f0c44b59cb60a070408ba9b",
            "f0a5a4b61d4e40dd862d7b26b1d4d4ae",
            "8f2891a6c0f648288e6422c52bd8d6a4",
            "eccd65394beb436191c8179e90416900",
            "142a88f2544c4cdb84f2f575954ea857",
            "703db74828ed4c00b0a042c95d86d1b9",
            "fb52ed6973c141a4906e9dba8bd342a4",
            "87f672f140d141849c2b4a37154fb929",
            "5e0232753b72478dacb89f2f3d5853bb",
            "201b3a7183db4e028f779e9cb4d809a0",
            "fd3bacf260ff444496a167100299f52a",
            "bc8fcae01a3d47c4b9d8be540d74fd81",
            "b0c26a80d14742158cff97a1edba6148",
            "b7ca9c0e662448ecb6666560d0b90f08",
            "f79e91566f5d465e99ff0180733ffffe",
            "6f09d7aa57d04015866f7a86ea2ccacf",
            "bfea8b66edb342afa762f4c1b4264e5f",
            "8be46eb30b9947b482dd07691fad08db",
            "50c311dc5ce942689798f099e55859bc",
            "b85e0c4e07f143a88c8633ece0beb0bc",
            "66725d2394c94a1da536b9021209cf84",
            "b965afc26e1646a9a4546f0138ef6b7c",
            "0d52e90162c14bbf9c925c64413f9f3e",
            "deec1d7f76624e34bee2f5e6527ebe1d",
            "9308ed4acd8544e4809d8ad54df44d39",
            "9d3eb452509a4df6b14ce655788f14b7",
            "930348a653c04d04a6fa435f7bdc21b9",
            "d80e372f4c594f70ab4785c2a3965b42",
            "ffc975f13c3f446186a99c44c28f2477",
            "c53911a796e94453807f45d96d1f892f",
            "3355ee6cfbf54a66a5c896d3209d5af8",
            "6d612ee724e947718115704f6c2d51a4",
            "1884f90fa164472e98f52ad756320f0d",
            "7a815cd8a9c44c8493acf50bfcf293f5",
            "ae38115a9f504652ae3e76db59dbd131",
            "9e09a75b523140d9a57192283dc6823e",
            "d4e40208dba04f1aa0741c5319d2d0be",
            "f4000f9781f94f79b59a9c53c97e2cf0",
            "19d7104bc7cd47c99a4d90f5211c026d",
            "1de5e408735844ef9639ce261b6dcaf4",
            "58b8366a9c4c43f48cc20629c1d4f136",
            "fc60c1f7854e4178ba2a4e87650c2c87",
            "1e6127ead6424d95ae09fb3f809a1e63",
            "6e9d35ebc8534cf5af25d5899fa9abfb",
            "d5fc084745a64d11967f888d9b6e3ace",
            "2c3375b298d44a91b07d4a6d27d7d63a",
            "4dc0067ffd38459bab991f8e8c7a05ad",
            "885d5d05513d4bf28e9c320e0473c3a2",
            "5a214d9dda3e45c1a8c6484aeaa7e55d",
            "5a9efe2a992245feb0082167706708d2",
            "052c82913eb24bdea3e64fe8b50fb2d5",
            "1ce2c5f51f2b4d1c97bcbd71a95d21fc",
            "e72d06774ef24494b3aee115c13ac92e",
            "f787083e4c594a73bbb94a89fb9d4bca",
            "fc43ca0dfd9e4fb09227c3dc83dc049d",
            "e8eed3ed5160417bbb0a68aa281f6505",
            "accfbec0765a48759f015fa3d5602ce8",
            "2e50445801de4ae1b4f0f7af84f20e2f",
            "21ec81dd1f6c4f8e927e4d6d96ac2812",
            "aa199e449f7f4328bdaf5f6eca1e7e19",
            "28aa9cf613ae4476b0a1856417160f5d",
            "77805702799b4458a54e13db1bab59a3",
            "438f8463b92c4f3b9b424c9d76b9d36b",
            "bcf465709cae43f4a3772adaf0b688a2",
            "90f91d9a52744788bf1249973311215e",
            "2459c726361b4cbf947f5d2c60eb2b19",
            "ccacdd2f82564b2286efc17eae15dfc8",
            "0a48315827d943d39fc507fa00f978ab",
            "5b21d81e51784be380ce0312546b9791",
            "6cad2367c8804295aee6a60c0f66eb08",
            "5fb567456a7d49279a62ffa4e220d2a2",
            "5bee79707b7b4bb495aecdd36067bd45",
            "637153e01dec4d9bb89e2310a7ebba0e",
            "88f2ed250e7b48199fe471011c98b2b1",
            "2b4a25bf739c449ca7a43a600015b104",
            "ba0ac43081694a9e81b36408b63ebaaf",
            "fdb06130a5584baf8a218f5f53253d00",
            "977478232587497797187e3f1f0bedf3",
            "11baf9d3f4c14884be1aaaa798b6e4d9",
            "00f36bc9604649c69b709fe3ead5cffa",
            "b78bd7e6b5d94d34a4f1c00c14fbfd05",
            "ff9b570f9ba14e10a9444def06fa96cf",
            "b7466acba6e74200831d88ce5faa7f10",
            "489efd7e54a146a49fd63896b6ccdb0a",
            "0dce160c2d164e02a1e6b3fbe1a3b59a",
            "e67948ad5d0f4bae9cda0f69f3393071",
            "a59ee67ec9254bdaa7271d5ee0b847dc",
            "63ff0886b55c45f68b244626439ed04c",
            "a32df66fb931409e90086fa8a16cc0c0",
            "7110eaa0c99f4fceb9b5fd1c3e6fe32a",
            "0fd2f44b8861433c8eab532c344bd04a",
            "b602f363fc824ebebf503d108b0d1983",
            "22249d64b2284424899617a7aec8f9f4",
            "9e50cca94be9419b8ae1df4e1fb2789b",
            "ee258536374b4ecf9a1a22d837861207",
            "59a61ca963e1427388af42cb94081431",
            "99ae89dc0afb499aae19d810148d9619",
            "efa172413aaf47a49a09a6bef00cb150",
            "786ae96ff26b4a619824d11cdb86563a",
            "e395e1ccd5e049bbb72207dec4ccec04",
            "040906cbfb2348db9fdb85b4d35d1825",
            "a990ea3690f24976aecc05031349876c",
            "ea925a9321554ebbb551d79cb6015851",
            "fd882764f50c4ea9a2d2b59f11a978ed",
            "86e38a35a2a6427c8f5934b3ac8a5d21",
            "f88389cf4c874781928bcba0f7a2b004",
            "cf8426e8a51e4d229b43ecf33093a200",
            "6df5a6c5b57e439db5d1c54d5c524fdf",
            "d17890eaf659437091596d6cd2ecf391",
            "8f8479f2a1c946c3892d3a28d4216cfb",
            "fe9b351675604e7d8bffdb64348e2109",
            "82971142f9824679881d1582b35a71e7",
            "a3d783f4305245b0b702c90b1fefcb69",
            "3da278226f5a409fb2149827fdcbd59b",
            "a1b2c9d05c54474db97768aff71c82aa",
            "e41bfe2301af44e19aae3eb351241e6a",
            "b2c2a13b0313486e80a37764c7307d5a",
            "66ffde80aead45a5be698f7c1a7a202f",
            "6225030fa43d4ee4ad0d49c9536bf0d7",
            "d0c24ffa70dc407ebd947567ecdb1929",
            "cc75650566d24b8bb4119416d2bd14df"
          ]
        },
        "outputId": "8eee78cc-8fa7-4b4a-eb7e-27478a23fcdc"
      },
      "execution_count": 18,
      "outputs": [
        {
          "output_type": "stream",
          "name": "stderr",
          "text": [
            "/usr/local/lib/python3.10/dist-packages/huggingface_hub/utils/_token.py:88: UserWarning: \n",
            "The secret `HF_TOKEN` does not exist in your Colab secrets.\n",
            "To authenticate with the Hugging Face Hub, create a token in your settings tab (https://huggingface.co/settings/tokens), set it as secret in your Google Colab and restart your session.\n",
            "You will be able to reuse this secret in all of your notebooks.\n",
            "Please note that authentication is recommended but still optional to access public models or datasets.\n",
            "  warnings.warn(\n"
          ]
        },
        {
          "output_type": "display_data",
          "data": {
            "text/plain": [
              "tokenizer_config.json:   0%|          | 0.00/1.46k [00:00<?, ?B/s]"
            ],
            "application/vnd.jupyter.widget-view+json": {
              "version_major": 2,
              "version_minor": 0,
              "model_id": "dc278ab3882a44f0a0f723e597f8980a"
            }
          },
          "metadata": {}
        },
        {
          "output_type": "display_data",
          "data": {
            "text/plain": [
              "tokenizer.model:   0%|          | 0.00/493k [00:00<?, ?B/s]"
            ],
            "application/vnd.jupyter.widget-view+json": {
              "version_major": 2,
              "version_minor": 0,
              "model_id": "e2044d2a7f0c44b59cb60a070408ba9b"
            }
          },
          "metadata": {}
        },
        {
          "output_type": "display_data",
          "data": {
            "text/plain": [
              "tokenizer.json:   0%|          | 0.00/1.80M [00:00<?, ?B/s]"
            ],
            "application/vnd.jupyter.widget-view+json": {
              "version_major": 2,
              "version_minor": 0,
              "model_id": "bc8fcae01a3d47c4b9d8be540d74fd81"
            }
          },
          "metadata": {}
        },
        {
          "output_type": "display_data",
          "data": {
            "text/plain": [
              "special_tokens_map.json:   0%|          | 0.00/72.0 [00:00<?, ?B/s]"
            ],
            "application/vnd.jupyter.widget-view+json": {
              "version_major": 2,
              "version_minor": 0,
              "model_id": "0d52e90162c14bbf9c925c64413f9f3e"
            }
          },
          "metadata": {}
        },
        {
          "output_type": "display_data",
          "data": {
            "text/plain": [
              "config.json:   0%|          | 0.00/596 [00:00<?, ?B/s]"
            ],
            "application/vnd.jupyter.widget-view+json": {
              "version_major": 2,
              "version_minor": 0,
              "model_id": "7a815cd8a9c44c8493acf50bfcf293f5"
            }
          },
          "metadata": {}
        },
        {
          "output_type": "display_data",
          "data": {
            "text/plain": [
              "model.safetensors.index.json:   0%|          | 0.00/25.1k [00:00<?, ?B/s]"
            ],
            "application/vnd.jupyter.widget-view+json": {
              "version_major": 2,
              "version_minor": 0,
              "model_id": "d5fc084745a64d11967f888d9b6e3ace"
            }
          },
          "metadata": {}
        },
        {
          "output_type": "display_data",
          "data": {
            "text/plain": [
              "Downloading shards:   0%|          | 0/3 [00:00<?, ?it/s]"
            ],
            "application/vnd.jupyter.widget-view+json": {
              "version_major": 2,
              "version_minor": 0,
              "model_id": "e8eed3ed5160417bbb0a68aa281f6505"
            }
          },
          "metadata": {}
        },
        {
          "output_type": "display_data",
          "data": {
            "text/plain": [
              "model-00001-of-00003.safetensors:   0%|          | 0.00/4.94G [00:00<?, ?B/s]"
            ],
            "application/vnd.jupyter.widget-view+json": {
              "version_major": 2,
              "version_minor": 0,
              "model_id": "ccacdd2f82564b2286efc17eae15dfc8"
            }
          },
          "metadata": {}
        },
        {
          "output_type": "display_data",
          "data": {
            "text/plain": [
              "model-00002-of-00003.safetensors:   0%|          | 0.00/5.00G [00:00<?, ?B/s]"
            ],
            "application/vnd.jupyter.widget-view+json": {
              "version_major": 2,
              "version_minor": 0,
              "model_id": "977478232587497797187e3f1f0bedf3"
            }
          },
          "metadata": {}
        },
        {
          "output_type": "display_data",
          "data": {
            "text/plain": [
              "model-00003-of-00003.safetensors:   0%|          | 0.00/4.54G [00:00<?, ?B/s]"
            ],
            "application/vnd.jupyter.widget-view+json": {
              "version_major": 2,
              "version_minor": 0,
              "model_id": "a32df66fb931409e90086fa8a16cc0c0"
            }
          },
          "metadata": {}
        },
        {
          "output_type": "display_data",
          "data": {
            "text/plain": [
              "Loading checkpoint shards:   0%|          | 0/3 [00:00<?, ?it/s]"
            ],
            "application/vnd.jupyter.widget-view+json": {
              "version_major": 2,
              "version_minor": 0,
              "model_id": "e395e1ccd5e049bbb72207dec4ccec04"
            }
          },
          "metadata": {}
        },
        {
          "output_type": "display_data",
          "data": {
            "text/plain": [
              "generation_config.json:   0%|          | 0.00/111 [00:00<?, ?B/s]"
            ],
            "application/vnd.jupyter.widget-view+json": {
              "version_major": 2,
              "version_minor": 0,
              "model_id": "fe9b351675604e7d8bffdb64348e2109"
            }
          },
          "metadata": {}
        }
      ]
    },
    {
      "cell_type": "code",
      "source": [
        "base_model_score = test_model(test_data_df, pipe)\n",
        "print(base_model_score)\n"
      ],
      "metadata": {
        "id": "pJK-kZDd9ohs",
        "colab": {
          "base_uri": "https://localhost:8080/"
        },
        "outputId": "741b4a57-f07a-4ded-fd93-00e55940ebd8"
      },
      "execution_count": 19,
      "outputs": [
        {
          "output_type": "stream",
          "name": "stderr",
          "text": [
            "Setting `pad_token_id` to `eos_token_id`:2 for open-end generation.\n",
            "Setting `pad_token_id` to `eos_token_id`:2 for open-end generation.\n"
          ]
        },
        {
          "output_type": "stream",
          "name": "stdout",
          "text": [
            "********\n",
            "\n",
            "********\n",
            "\n",
            "extracted_answer is  {'predicted_order': 'CT abdomen pelvis with contrast', 'predicted_protocol': 'routine', 'predicted_comments': ['oral contrast']} <class 'dict'>\n",
            "true answer json: {'accession': '800811', 'predicted_order': 'CT abdomen pelvis with contrast', 'predicted_protocol': 'routine', 'predicted_comments': []} <class 'dict'>\n",
            "Progress: case 1 of 236\n",
            "score this case: 0.9\n"
          ]
        },
        {
          "output_type": "stream",
          "name": "stderr",
          "text": [
            "Setting `pad_token_id` to `eos_token_id`:2 for open-end generation.\n"
          ]
        },
        {
          "output_type": "stream",
          "name": "stdout",
          "text": [
            "********\n",
            "\n",
            "********\n",
            "\n",
            "extracted_answer is  {'predicted_order': 'CT chest abdomen pelvis with contrast', 'predicted_protocol': 'routine', 'predicted_comments': ['oral contrast']} <class 'dict'>\n",
            "true answer json: {'accession': '800780', 'predicted_order': 'CT chest abdomen pelvis with contrast w MIPS', 'predicted_protocol': 'routine', 'predicted_comments': []} <class 'dict'>\n",
            "Progress: case 2 of 236\n",
            "score this case: 0.8\n"
          ]
        },
        {
          "output_type": "stream",
          "name": "stderr",
          "text": [
            "Setting `pad_token_id` to `eos_token_id`:2 for open-end generation.\n"
          ]
        },
        {
          "output_type": "stream",
          "name": "stdout",
          "text": [
            "********\n",
            "\n",
            "********\n",
            "\n",
            "extracted_answer is  {'predicted_order': 'CT abdomen pelvis with contrast', 'predicted_protocol': 'routine', 'predicted_comments': ['oral contrast']} <class 'dict'>\n",
            "true answer json: {'accession': '800819', 'predicted_order': 'CT abdomen pelvis with contrast', 'predicted_protocol': 'routine', 'predicted_comments': []} <class 'dict'>\n",
            "Progress: case 3 of 236\n",
            "score this case: 0.9\n"
          ]
        },
        {
          "output_type": "stream",
          "name": "stderr",
          "text": [
            "Setting `pad_token_id` to `eos_token_id`:2 for open-end generation.\n"
          ]
        },
        {
          "output_type": "stream",
          "name": "stdout",
          "text": [
            "********\n",
            "\n",
            "********\n",
            "\n",
            "extracted_answer is  {'predicted_order': 'CT abdomen pelvis with contrast', 'predicted_protocol': 'routine', 'predicted_comments': ['oral contrast']} <class 'dict'>\n",
            "true answer json: {'accession': '800421', 'predicted_order': 'CT abdomen pelvis with contrast', 'predicted_protocol': 'routine', 'predicted_comments': []} <class 'dict'>\n",
            "Progress: case 4 of 236\n",
            "score this case: 0.9\n"
          ]
        },
        {
          "output_type": "stream",
          "name": "stderr",
          "text": [
            "Setting `pad_token_id` to `eos_token_id`:2 for open-end generation.\n"
          ]
        },
        {
          "output_type": "stream",
          "name": "stdout",
          "text": [
            "********\n",
            "\n",
            "********\n",
            "\n",
            "extracted_answer is  {'predicted_order': 'CT abdomen pelvis with contrast', 'predicted_protocol': 'rcc', 'predicted_comments': ['']} <class 'dict'>\n",
            "true answer json: {'accession': '800274', 'predicted_order': 'CT RCC protocol incl chest w MIPS and dual abd pel w wo', 'predicted_protocol': 'rcc', 'predicted_comments': []} <class 'dict'>\n",
            "Progress: case 5 of 236\n",
            "score this case: 0.8\n"
          ]
        },
        {
          "output_type": "stream",
          "name": "stderr",
          "text": [
            "Setting `pad_token_id` to `eos_token_id`:2 for open-end generation.\n"
          ]
        },
        {
          "output_type": "stream",
          "name": "stdout",
          "text": [
            "********\n",
            "\n",
            "********\n",
            "\n",
            "extracted_answer is  {'predicted_order': 'CT abdomen pelvis with and without contrast', 'predicted_protocol': 'GI bleed', 'predicted_comments': ['']} <class 'dict'>\n",
            "true answer json: {'accession': '800106', 'predicted_order': 'CT occult GI bleed incl dual abdomen pelvis with and without contrast', 'predicted_protocol': 'gi bleed', 'predicted_comments': []} <class 'dict'>\n",
            "Progress: case 6 of 236\n",
            "score this case: 0.3\n"
          ]
        },
        {
          "output_type": "stream",
          "name": "stderr",
          "text": [
            "Setting `pad_token_id` to `eos_token_id`:2 for open-end generation.\n"
          ]
        },
        {
          "output_type": "stream",
          "name": "stdout",
          "text": [
            "********\n",
            "\n",
            "********\n",
            "\n",
            "extracted_answer is  {'predicted_order': 'CT pelvis with contrast', 'predicted_protocol': 'routine', 'predicted_comments': ['']} <class 'dict'>\n",
            "true answer json: {'accession': '801003', 'predicted_order': 'CT pelvis with contrast', 'predicted_protocol': 'routine', 'predicted_comments': []} <class 'dict'>\n",
            "Progress: case 7 of 236\n",
            "score this case: 0.9\n"
          ]
        },
        {
          "output_type": "stream",
          "name": "stderr",
          "text": [
            "Setting `pad_token_id` to `eos_token_id`:2 for open-end generation.\n"
          ]
        },
        {
          "output_type": "stream",
          "name": "stdout",
          "text": [
            "********\n",
            "\n",
            "********\n",
            "\n",
            "extracted_answer is  {'predicted_order': 'CT abdomen pelvis with contrast', 'predicted_protocol': 'routine', 'predicted_comments': ['']} <class 'dict'>\n",
            "true answer json: {'accession': '800897', 'predicted_order': 'CT abdomen pelvis with contrast', 'predicted_protocol': 'routine', 'predicted_comments': []} <class 'dict'>\n",
            "Progress: case 8 of 236\n",
            "score this case: 0.9\n"
          ]
        },
        {
          "output_type": "stream",
          "name": "stderr",
          "text": [
            "Setting `pad_token_id` to `eos_token_id`:2 for open-end generation.\n"
          ]
        },
        {
          "output_type": "stream",
          "name": "stdout",
          "text": [
            "********\n",
            "\n",
            "********\n",
            "\n",
            "extracted_answer is  {'predicted_order': 'CT chest abdomen pelvis with contrast', 'predicted_protocol': 'routine', 'predicted_comments': ['']} <class 'dict'>\n",
            "true answer json: {'accession': '800982', 'predicted_order': 'CT chest abdomen pelvis with contrast w MIPS', 'predicted_protocol': 'routine', 'predicted_comments': []} <class 'dict'>\n",
            "Progress: case 9 of 236\n",
            "score this case: 0.8\n"
          ]
        },
        {
          "output_type": "stream",
          "name": "stderr",
          "text": [
            "/usr/local/lib/python3.10/dist-packages/transformers/pipelines/base.py:1101: UserWarning: You seem to be using the pipelines sequentially on GPU. In order to maximize efficiency please use a dataset\n",
            "  warnings.warn(\n",
            "Setting `pad_token_id` to `eos_token_id`:2 for open-end generation.\n"
          ]
        },
        {
          "output_type": "stream",
          "name": "stdout",
          "text": [
            "********\n",
            "\n",
            "********\n",
            "\n",
            "extracted_answer is  {'predicted_order': 'CT abdomen pelvis without contrast', 'predicted_protocol': 'noncon', 'predicted_comments': []} <class 'dict'>\n",
            "true answer json: {'accession': '800190', 'predicted_order': 'CT abdomen pelvis without contrast', 'predicted_protocol': 'noncon', 'predicted_comments': []} <class 'dict'>\n",
            "Progress: case 10 of 236\n",
            "score this case: 1.0\n"
          ]
        },
        {
          "output_type": "stream",
          "name": "stderr",
          "text": [
            "Setting `pad_token_id` to `eos_token_id`:2 for open-end generation.\n"
          ]
        },
        {
          "output_type": "stream",
          "name": "stdout",
          "text": [
            "********\n",
            "\n",
            "********\n",
            "\n",
            "extracted_answer is  {'predicted_order': 'CT chest abdomen pelvis with contrast', 'predicted_protocol': 'routine', 'predicted_comments': ['']} <class 'dict'>\n",
            "true answer json: {'accession': '800620', 'predicted_order': 'CT chest abdomen pelvis with contrast w MIPS', 'predicted_protocol': 'routine', 'predicted_comments': ['split']} <class 'dict'>\n",
            "Progress: case 11 of 236\n",
            "score this case: 0.8\n"
          ]
        },
        {
          "output_type": "stream",
          "name": "stderr",
          "text": [
            "Setting `pad_token_id` to `eos_token_id`:2 for open-end generation.\n"
          ]
        },
        {
          "output_type": "stream",
          "name": "stdout",
          "text": [
            "********\n",
            "\n",
            "********\n",
            "\n",
            "extracted_answer is  {'predicted_order': 'CT abdomen pelvis with contrast', 'predicted_protocol': 'routine', 'predicted_comments': ['oral contrast']} <class 'dict'>\n",
            "true answer json: {'accession': '800172', 'predicted_order': 'CT abdomen pelvis without contrast', 'predicted_protocol': 'noncon', 'predicted_comments': ['oral contrast']} <class 'dict'>\n",
            "Progress: case 12 of 236\n",
            "score this case: 0.4\n"
          ]
        },
        {
          "output_type": "stream",
          "name": "stderr",
          "text": [
            "Setting `pad_token_id` to `eos_token_id`:2 for open-end generation.\n"
          ]
        },
        {
          "output_type": "stream",
          "name": "stdout",
          "text": [
            "********\n",
            "\n",
            "********\n",
            "\n",
            "extracted_answer is  {'predicted_order': 'CT abdomen pelvis with contrast', 'predicted_protocol': 'routine', 'predicted_comments': ['oral contrast']} <class 'dict'>\n",
            "true answer json: {'accession': '800720', 'predicted_order': 'CT abdomen pelvis with contrast', 'predicted_protocol': 'routine', 'predicted_comments': ['split']} <class 'dict'>\n",
            "Progress: case 13 of 236\n",
            "score this case: 0.9\n"
          ]
        },
        {
          "output_type": "stream",
          "name": "stderr",
          "text": [
            "Setting `pad_token_id` to `eos_token_id`:2 for open-end generation.\n"
          ]
        },
        {
          "output_type": "stream",
          "name": "stdout",
          "text": [
            "********\n",
            "\n",
            "********\n",
            "\n",
            "extracted_answer is  {'predicted_order': 'CT chest abdomen pelvis with contrast', 'predicted_protocol': 'routine', 'predicted_comments': ['']} <class 'dict'>\n",
            "true answer json: {'accession': '800782', 'predicted_order': 'CT chest abdomen pelvis with contrast w MIPS', 'predicted_protocol': 'routine', 'predicted_comments': []} <class 'dict'>\n",
            "Progress: case 14 of 236\n",
            "score this case: 0.8\n"
          ]
        },
        {
          "output_type": "stream",
          "name": "stderr",
          "text": [
            "Setting `pad_token_id` to `eos_token_id`:2 for open-end generation.\n"
          ]
        },
        {
          "output_type": "stream",
          "name": "stdout",
          "text": [
            "********\n",
            "\n",
            "********\n",
            "\n",
            "extracted_answer is  {'predicted_order': 'CT abdomen pelvis with contrast', 'predicted_protocol': 'routine', 'predicted_comments': ['oral contrast']} <class 'dict'>\n",
            "true answer json: {'accession': '801025', 'predicted_order': 'CT abdomen pelvis with contrast', 'predicted_protocol': 'routine', 'predicted_comments': []} <class 'dict'>\n",
            "Progress: case 15 of 236\n",
            "score this case: 0.9\n"
          ]
        },
        {
          "output_type": "stream",
          "name": "stderr",
          "text": [
            "Setting `pad_token_id` to `eos_token_id`:2 for open-end generation.\n"
          ]
        },
        {
          "output_type": "stream",
          "name": "stdout",
          "text": [
            "********\n",
            "\n",
            "********\n",
            "\n",
            "extracted_answer is  {'predicted_order': 'CT abdomen pelvis with contrast', 'predicted_protocol': 'routine', 'predicted_comments': ['oral contrast']} <class 'dict'>\n",
            "true answer json: {'accession': '800122', 'predicted_order': 'CT abdomen pelvis with and without contrast', 'predicted_protocol': 'gu', 'predicted_comments': []} <class 'dict'>\n",
            "Progress: case 16 of 236\n",
            "score this case: 0.3\n"
          ]
        },
        {
          "output_type": "stream",
          "name": "stderr",
          "text": [
            "Setting `pad_token_id` to `eos_token_id`:2 for open-end generation.\n"
          ]
        },
        {
          "output_type": "stream",
          "name": "stdout",
          "text": [
            "********\n",
            "\n",
            "********\n",
            "\n",
            "extracted_answer is  {'predicted_order': 'CT abdomen pelvis with contrast', 'predicted_protocol': 'routine', 'predicted_comments': ['oral contrast']} <class 'dict'>\n",
            "true answer json: {'accession': '801162', 'predicted_order': 'CT abdomen pelvis with contrast', 'predicted_protocol': 'routine', 'predicted_comments': ['oral contrast']} <class 'dict'>\n",
            "Progress: case 17 of 236\n",
            "score this case: 1.0\n"
          ]
        },
        {
          "output_type": "stream",
          "name": "stderr",
          "text": [
            "Setting `pad_token_id` to `eos_token_id`:2 for open-end generation.\n"
          ]
        },
        {
          "output_type": "stream",
          "name": "stdout",
          "text": [
            "********\n",
            "\n",
            "********\n",
            "\n",
            "extracted_answer is  {'predicted_order': 'CT chest abdomen pelvis with contrast', 'predicted_protocol': 'routine', 'predicted_comments': ['']} <class 'dict'>\n",
            "true answer json: {'accession': '800762', 'predicted_order': 'CT chest abdomen pelvis with contrast w MIPS', 'predicted_protocol': 'routine', 'predicted_comments': []} <class 'dict'>\n",
            "Progress: case 18 of 236\n",
            "score this case: 0.8\n"
          ]
        },
        {
          "output_type": "stream",
          "name": "stderr",
          "text": [
            "Setting `pad_token_id` to `eos_token_id`:2 for open-end generation.\n"
          ]
        },
        {
          "output_type": "stream",
          "name": "stdout",
          "text": [
            "********\n",
            "\n",
            "********\n",
            "\n",
            "extracted_answer is  {'predicted_order': 'CT abdomen pelvis with contrast', 'predicted_protocol': 'routine', 'predicted_comments': ['oral contrast']} <class 'dict'>\n",
            "true answer json: {'accession': '800461', 'predicted_order': 'CT abdomen pelvis with contrast', 'predicted_protocol': 'routine', 'predicted_comments': []} <class 'dict'>\n",
            "Progress: case 19 of 236\n",
            "score this case: 0.9\n"
          ]
        },
        {
          "output_type": "stream",
          "name": "stderr",
          "text": [
            "Setting `pad_token_id` to `eos_token_id`:2 for open-end generation.\n"
          ]
        },
        {
          "output_type": "stream",
          "name": "stdout",
          "text": [
            "********\n",
            "\n",
            "********\n",
            "\n",
            "extracted_answer is  {'predicted_order': 'CT chest abdomen pelvis with contrast', 'predicted_protocol': 'routine', 'predicted_comments': ['']} <class 'dict'>\n",
            "true answer json: {'accession': '801077', 'predicted_order': 'CT chest abdomen pelvis with contrast w MIPS', 'predicted_protocol': 'trauma', 'predicted_comments': []} <class 'dict'>\n",
            "Progress: case 20 of 236\n",
            "score this case: 0.3\n"
          ]
        },
        {
          "output_type": "stream",
          "name": "stderr",
          "text": [
            "Setting `pad_token_id` to `eos_token_id`:2 for open-end generation.\n"
          ]
        },
        {
          "output_type": "stream",
          "name": "stdout",
          "text": [
            "********\n",
            "\n",
            "********\n",
            "\n",
            "extracted_answer is  {'predicted_order': 'CT chest abdomen pelvis with contrast', 'predicted_protocol': 'routine', 'predicted_comments': ['']} <class 'dict'>\n",
            "true answer json: {'accession': '800963', 'predicted_order': 'CT chest abdomen pelvis with contrast w MIPS', 'predicted_protocol': 'routine', 'predicted_comments': []} <class 'dict'>\n",
            "Progress: case 21 of 236\n",
            "score this case: 0.8\n"
          ]
        },
        {
          "output_type": "stream",
          "name": "stderr",
          "text": [
            "Setting `pad_token_id` to `eos_token_id`:2 for open-end generation.\n"
          ]
        },
        {
          "output_type": "stream",
          "name": "stdout",
          "text": [
            "********\n",
            "\n",
            "********\n",
            "\n",
            "extracted_answer is  {'predicted_order': 'CT chest abdomen pelvis with contrast', 'predicted_protocol': 'routine', 'predicted_comments': ['']} <class 'dict'>\n",
            "true answer json: {'accession': '800990', 'predicted_order': 'CT chest abdomen pelvis without contrast with MIPS', 'predicted_protocol': 'routine', 'predicted_comments': []} <class 'dict'>\n",
            "Progress: case 22 of 236\n",
            "score this case: 0.8\n"
          ]
        },
        {
          "output_type": "stream",
          "name": "stderr",
          "text": [
            "Setting `pad_token_id` to `eos_token_id`:2 for open-end generation.\n"
          ]
        },
        {
          "output_type": "stream",
          "name": "stdout",
          "text": [
            "********\n",
            "\n",
            "********\n",
            "\n",
            "extracted_answer is  {'predicted_order': 'CT chest abdomen pelvis with contrast', 'predicted_protocol': 'routine', 'predicted_comments': ['']} <class 'dict'>\n",
            "true answer json: {'accession': '800975', 'predicted_order': 'CT chest abdomen pelvis with contrast w MIPS', 'predicted_protocol': 'routine', 'predicted_comments': []} <class 'dict'>\n",
            "Progress: case 23 of 236\n",
            "score this case: 0.8\n"
          ]
        },
        {
          "output_type": "stream",
          "name": "stderr",
          "text": [
            "Setting `pad_token_id` to `eos_token_id`:2 for open-end generation.\n"
          ]
        },
        {
          "output_type": "stream",
          "name": "stdout",
          "text": [
            "********\n",
            "\n",
            "********\n",
            "\n",
            "extracted_answer is  {'predicted_order': 'CT abdomen pelvis with and without contrast', 'predicted_protocol': 'dual liver', 'predicted_comments': ['oral contrast']} <class 'dict'>\n",
            "true answer json: {'accession': '800111', 'predicted_order': 'CT occult GI bleed incl dual abdomen pelvis with and without contrast', 'predicted_protocol': 'gi bleed', 'predicted_comments': []} <class 'dict'>\n",
            "Progress: case 24 of 236\n",
            "score this case: 0.3\n"
          ]
        },
        {
          "output_type": "stream",
          "name": "stderr",
          "text": [
            "Setting `pad_token_id` to `eos_token_id`:2 for open-end generation.\n"
          ]
        },
        {
          "output_type": "stream",
          "name": "stdout",
          "text": [
            "********\n",
            "\n",
            "********\n",
            "\n",
            "extracted_answer is  {'predicted_order': 'CT chest abdomen pelvis with contrast', 'predicted_protocol': 'routine', 'predicted_comments': ['']} <class 'dict'>\n",
            "true answer json: {'accession': '801090', 'predicted_order': 'CT chest abdomen pelvis with contrast w MIPS', 'predicted_protocol': 'trauma', 'predicted_comments': []} <class 'dict'>\n",
            "Progress: case 25 of 236\n",
            "score this case: 0.3\n"
          ]
        },
        {
          "output_type": "stream",
          "name": "stderr",
          "text": [
            "Setting `pad_token_id` to `eos_token_id`:2 for open-end generation.\n"
          ]
        },
        {
          "output_type": "stream",
          "name": "stdout",
          "text": [
            "********\n",
            "\n",
            "********\n",
            "\n",
            "extracted_answer is  {'predicted_order': 'CT abdomen pelvis with contrast', 'predicted_protocol': 'routine', 'predicted_comments': ['oral contrast']} <class 'dict'>\n",
            "true answer json: {'accession': '800859', 'predicted_order': 'CT abdomen pelvis with contrast', 'predicted_protocol': 'routine', 'predicted_comments': []} <class 'dict'>\n",
            "Progress: case 26 of 236\n",
            "score this case: 0.9\n"
          ]
        },
        {
          "output_type": "stream",
          "name": "stderr",
          "text": [
            "Setting `pad_token_id` to `eos_token_id`:2 for open-end generation.\n"
          ]
        },
        {
          "output_type": "stream",
          "name": "stdout",
          "text": [
            "********\n",
            "\n",
            "********\n",
            "\n",
            "extracted_answer is  {'predicted_order': 'CT abdomen pelvis with contrast', 'predicted_protocol': 'routine', 'predicted_comments': ['oral contrast']} <class 'dict'>\n",
            "true answer json: {'accession': '801034', 'predicted_order': 'CT abdomen pelvis with contrast', 'predicted_protocol': 'routine', 'predicted_comments': []} <class 'dict'>\n",
            "Progress: case 27 of 236\n",
            "score this case: 0.9\n"
          ]
        },
        {
          "output_type": "stream",
          "name": "stderr",
          "text": [
            "Setting `pad_token_id` to `eos_token_id`:2 for open-end generation.\n"
          ]
        },
        {
          "output_type": "stream",
          "name": "stdout",
          "text": [
            "********\n",
            "\n",
            "********\n",
            "\n",
            "extracted_answer is  {'predicted_order': 'CT chest abdomen pelvis with contrast', 'predicted_protocol': 'routine', 'predicted_comments': ['']} <class 'dict'>\n",
            "true answer json: {'accession': '801117', 'predicted_order': 'CT chest abdomen pelvis with contrast w MIPS', 'predicted_protocol': 'trauma', 'predicted_comments': []} <class 'dict'>\n",
            "Progress: case 28 of 236\n",
            "score this case: 0.3\n"
          ]
        },
        {
          "output_type": "stream",
          "name": "stderr",
          "text": [
            "Setting `pad_token_id` to `eos_token_id`:2 for open-end generation.\n"
          ]
        },
        {
          "output_type": "stream",
          "name": "stdout",
          "text": [
            "********\n",
            "\n",
            "********\n",
            "\n",
            "extracted_answer is  {'predicted_order': 'CT chest with MIPS and CT abdomen pelvis with dual liver protocol', 'predicted_protocol': 'dual liver', 'predicted_comments': ['reroute coverage']} <class 'dict'>\n",
            "true answer json: {'accession': '800267', 'predicted_order': 'CT RCC protocol incl chest w MIPS and dual abd pel w wo', 'predicted_protocol': 'rcc', 'predicted_comments': []} <class 'dict'>\n",
            "Progress: case 29 of 236\n",
            "score this case: 0.3\n"
          ]
        },
        {
          "output_type": "stream",
          "name": "stderr",
          "text": [
            "Setting `pad_token_id` to `eos_token_id`:2 for open-end generation.\n"
          ]
        },
        {
          "output_type": "stream",
          "name": "stdout",
          "text": [
            "********\n",
            "\n",
            "********\n",
            "\n",
            "extracted_answer is  {'predicted_order': 'CT abdomen pelvis with contrast', 'predicted_protocol': 'routine', 'predicted_comments': ['oral contrast']} <class 'dict'>\n",
            "true answer json: {'accession': '800147', 'predicted_order': 'CT abdomen pelvis with and without contrast', 'predicted_protocol': 'gu', 'predicted_comments': []} <class 'dict'>\n",
            "Progress: case 30 of 236\n",
            "score this case: 0.3\n"
          ]
        },
        {
          "output_type": "stream",
          "name": "stderr",
          "text": [
            "Setting `pad_token_id` to `eos_token_id`:2 for open-end generation.\n"
          ]
        },
        {
          "output_type": "stream",
          "name": "stdout",
          "text": [
            "********\n",
            "\n",
            "********\n",
            "\n",
            "extracted_answer is  {'predicted_order': 'CT abdomen pelvis with oral contrast', 'predicted_protocol': 'crohns', 'predicted_comments': ['oral contrast']} <class 'dict'>\n",
            "true answer json: {'accession': '800216', 'predicted_order': 'CT abdomen pelvis without contrast', 'predicted_protocol': 'noncon', 'predicted_comments': ['oral contrast']} <class 'dict'>\n",
            "Progress: case 31 of 236\n",
            "score this case: 0.4\n"
          ]
        },
        {
          "output_type": "stream",
          "name": "stderr",
          "text": [
            "Setting `pad_token_id` to `eos_token_id`:2 for open-end generation.\n"
          ]
        },
        {
          "output_type": "stream",
          "name": "stdout",
          "text": [
            "********\n",
            "\n",
            "********\n",
            "\n",
            "extracted_answer is  {'predicted_order': 'CT abdomen pelvis with contrast', 'predicted_protocol': 'routine', 'predicted_comments': ['']} <class 'dict'>\n",
            "true answer json: {'accession': '800878', 'predicted_order': 'CT abdomen pelvis with contrast', 'predicted_protocol': 'routine', 'predicted_comments': []} <class 'dict'>\n",
            "Progress: case 32 of 236\n",
            "score this case: 0.9\n"
          ]
        },
        {
          "output_type": "stream",
          "name": "stderr",
          "text": [
            "Setting `pad_token_id` to `eos_token_id`:2 for open-end generation.\n"
          ]
        },
        {
          "output_type": "stream",
          "name": "stdout",
          "text": [
            "********\n",
            "\n",
            "********\n",
            "\n",
            "extracted_answer is  {'predicted_order': 'CT abdomen pelvis with contrast', 'predicted_protocol': 'routine', 'predicted_comments': ['oral contrast']} <class 'dict'>\n",
            "true answer json: {'accession': '800806', 'predicted_order': 'CT abdomen pelvis with contrast', 'predicted_protocol': 'routine', 'predicted_comments': []} <class 'dict'>\n",
            "Progress: case 33 of 236\n",
            "score this case: 0.9\n"
          ]
        },
        {
          "output_type": "stream",
          "name": "stderr",
          "text": [
            "Setting `pad_token_id` to `eos_token_id`:2 for open-end generation.\n"
          ]
        },
        {
          "output_type": "stream",
          "name": "stdout",
          "text": [
            "********\n",
            "\n",
            "********\n",
            "\n",
            "extracted_answer is  {'predicted_order': 'CT abdomen pelvis with contrast', 'predicted_protocol': 'routine', 'predicted_comments': ['']} <class 'dict'>\n",
            "true answer json: {'accession': '800441', 'predicted_order': 'CT abdomen pelvis with contrast', 'predicted_protocol': 'routine', 'predicted_comments': []} <class 'dict'>\n",
            "Progress: case 34 of 236\n",
            "score this case: 0.9\n"
          ]
        },
        {
          "output_type": "stream",
          "name": "stderr",
          "text": [
            "Setting `pad_token_id` to `eos_token_id`:2 for open-end generation.\n"
          ]
        },
        {
          "output_type": "stream",
          "name": "stdout",
          "text": [
            "********\n",
            "\n",
            "********\n",
            "\n",
            "extracted_answer is  {'predicted_order': 'CT abdomen pelvis with contrast', 'predicted_protocol': 'routine', 'predicted_comments': ['oral contrast']} <class 'dict'>\n",
            "true answer json: {'accession': '800403', 'predicted_order': 'CT abdomen pelvis with contrast', 'predicted_protocol': 'routine', 'predicted_comments': []} <class 'dict'>\n",
            "Progress: case 35 of 236\n",
            "score this case: 0.9\n"
          ]
        },
        {
          "output_type": "stream",
          "name": "stderr",
          "text": [
            "Setting `pad_token_id` to `eos_token_id`:2 for open-end generation.\n"
          ]
        },
        {
          "output_type": "stream",
          "name": "stdout",
          "text": [
            "********\n",
            "\n",
            "********\n",
            "\n",
            "extracted_answer is  {'predicted_order': 'CT abdomen pelvis with contrast', 'predicted_protocol': 'routine', 'predicted_comments': ['']} <class 'dict'>\n",
            "true answer json: {'accession': '800920', 'predicted_order': 'CT abdomen pelvis with contrast', 'predicted_protocol': 'routine', 'predicted_comments': []} <class 'dict'>\n",
            "Progress: case 36 of 236\n",
            "score this case: 0.9\n"
          ]
        },
        {
          "output_type": "stream",
          "name": "stderr",
          "text": [
            "Setting `pad_token_id` to `eos_token_id`:2 for open-end generation.\n"
          ]
        },
        {
          "output_type": "stream",
          "name": "stdout",
          "text": [
            "********\n",
            "\n",
            "********\n",
            "\n",
            "extracted_answer is  {'predicted_order': 'CT chest abdomen pelvis with contrast', 'predicted_protocol': 'trauma', 'predicted_comments': ['']} <class 'dict'>\n",
            "true answer json: {'accession': '800987', 'predicted_order': 'CT chest abdomen pelvis with contrast w MIPS', 'predicted_protocol': 'routine', 'predicted_comments': ['split']} <class 'dict'>\n",
            "Progress: case 37 of 236\n",
            "score this case: 0.3\n"
          ]
        },
        {
          "output_type": "stream",
          "name": "stderr",
          "text": [
            "Setting `pad_token_id` to `eos_token_id`:2 for open-end generation.\n"
          ]
        },
        {
          "output_type": "stream",
          "name": "stdout",
          "text": [
            "********\n",
            "\n",
            "********\n",
            "\n",
            "extracted_answer is  {'predicted_order': 'CT chest abdomen pelvis with contrast', 'predicted_protocol': 'routine', 'predicted_comments': ['oral contrast']} <class 'dict'>\n",
            "true answer json: {'accession': '800790', 'predicted_order': 'CT chest abdomen pelvis with contrast w MIPS', 'predicted_protocol': 'routine', 'predicted_comments': []} <class 'dict'>\n",
            "Progress: case 38 of 236\n",
            "score this case: 0.8\n"
          ]
        },
        {
          "output_type": "stream",
          "name": "stderr",
          "text": [
            "Setting `pad_token_id` to `eos_token_id`:2 for open-end generation.\n"
          ]
        },
        {
          "output_type": "stream",
          "name": "stdout",
          "text": [
            "********\n",
            "\n",
            "********\n",
            "\n",
            "extracted_answer is  {'predicted_order': 'CT dual pancreas', 'predicted_protocol': 'pancreas', 'predicted_comments': []} <class 'dict'>\n",
            "true answer json: {'accession': '800237', 'predicted_order': 'CT dual pancreas incl CT abd pel w and CT chest w MIPS', 'predicted_protocol': 'pancreas', 'predicted_comments': []} <class 'dict'>\n",
            "Progress: case 39 of 236\n",
            "score this case: 0.9\n"
          ]
        },
        {
          "output_type": "stream",
          "name": "stderr",
          "text": [
            "Setting `pad_token_id` to `eos_token_id`:2 for open-end generation.\n"
          ]
        },
        {
          "output_type": "stream",
          "name": "stdout",
          "text": [
            "********\n",
            "\n",
            "********\n",
            "\n",
            "extracted_answer is  {'predicted_order': 'CT abdomen pelvis', 'predicted_protocol': 'crohns', 'predicted_comments': ['']} <class 'dict'>\n",
            "true answer json: {'accession': '800176', 'predicted_order': 'CT abdomen pelvis without contrast', 'predicted_protocol': 'noncon', 'predicted_comments': ['reroute ']} <class 'dict'>\n",
            "Progress: case 40 of 236\n",
            "score this case: 0.3\n"
          ]
        },
        {
          "output_type": "stream",
          "name": "stderr",
          "text": [
            "Setting `pad_token_id` to `eos_token_id`:2 for open-end generation.\n"
          ]
        },
        {
          "output_type": "stream",
          "name": "stdout",
          "text": [
            "********\n",
            "\n",
            "********\n",
            "\n",
            "extracted_answer is  {'predicted_order': 'CT abdomen pelvis with contrast', 'predicted_protocol': 'routine', 'predicted_comments': ['oral contrast']} <class 'dict'>\n",
            "true answer json: {'accession': '800400', 'predicted_order': 'CT abdomen pelvis with contrast', 'predicted_protocol': 'routine', 'predicted_comments': []} <class 'dict'>\n",
            "Progress: case 41 of 236\n",
            "score this case: 0.9\n"
          ]
        },
        {
          "output_type": "stream",
          "name": "stderr",
          "text": [
            "Setting `pad_token_id` to `eos_token_id`:2 for open-end generation.\n"
          ]
        },
        {
          "output_type": "stream",
          "name": "stdout",
          "text": [
            "********\n",
            "\n",
            "********\n",
            "\n",
            "extracted_answer is  {'predicted_order': 'CT abdomen pelvis with contrast', 'predicted_protocol': 'routine', 'predicted_comments': ['oral contrast']} <class 'dict'>\n",
            "true answer json: {'accession': '800707', 'predicted_order': 'CT abdomen pelvis with contrast', 'predicted_protocol': 'routine', 'predicted_comments': []} <class 'dict'>\n",
            "Progress: case 42 of 236\n",
            "score this case: 0.9\n"
          ]
        },
        {
          "output_type": "stream",
          "name": "stderr",
          "text": [
            "Setting `pad_token_id` to `eos_token_id`:2 for open-end generation.\n"
          ]
        },
        {
          "output_type": "stream",
          "name": "stdout",
          "text": [
            "********\n",
            "\n",
            "********\n",
            "\n",
            "extracted_answer is  {'predicted_order': 'CT abdomen pelvis with and without contrast', 'predicted_protocol': 'dual liver', 'predicted_comments': ['oral contrast']} <class 'dict'>\n",
            "true answer json: {'accession': '800103', 'predicted_order': 'CT occult GI bleed incl dual abdomen pelvis with and without contrast', 'predicted_protocol': 'gi bleed', 'predicted_comments': []} <class 'dict'>\n",
            "Progress: case 43 of 236\n",
            "score this case: 0.3\n"
          ]
        },
        {
          "output_type": "stream",
          "name": "stderr",
          "text": [
            "Setting `pad_token_id` to `eos_token_id`:2 for open-end generation.\n"
          ]
        },
        {
          "output_type": "stream",
          "name": "stdout",
          "text": [
            "********\n",
            "\n",
            "********\n",
            "\n",
            "extracted_answer is  {'predicted_order': 'CT abdomen pelvis with contrast', 'predicted_protocol': 'routine', 'predicted_comments': ['oral contrast']} <class 'dict'>\n",
            "true answer json: {'accession': '800485', 'predicted_order': 'CT abdomen pelvis with contrast', 'predicted_protocol': 'routine', 'predicted_comments': []} <class 'dict'>\n",
            "Progress: case 44 of 236\n",
            "score this case: 0.9\n"
          ]
        },
        {
          "output_type": "stream",
          "name": "stderr",
          "text": [
            "Setting `pad_token_id` to `eos_token_id`:2 for open-end generation.\n"
          ]
        },
        {
          "output_type": "stream",
          "name": "stdout",
          "text": [
            "********\n",
            "\n",
            "********\n",
            "\n",
            "extracted_answer is  {'predicted_order': 'CT renal stone protocol', 'predicted_protocol': 'renal stone', 'predicted_comments': []} <class 'dict'>\n",
            "true answer json: {'accession': '800310', 'predicted_order': 'CT renal stone protocol inc CT abd and pelvis wo contrast', 'predicted_protocol': 'renal stone', 'predicted_comments': []} <class 'dict'>\n",
            "Progress: case 45 of 236\n",
            "score this case: 0.9\n"
          ]
        },
        {
          "output_type": "stream",
          "name": "stderr",
          "text": [
            "Setting `pad_token_id` to `eos_token_id`:2 for open-end generation.\n"
          ]
        },
        {
          "output_type": "stream",
          "name": "stdout",
          "text": [
            "********\n",
            "\n",
            "********\n",
            "\n",
            "extracted_answer is  {'predicted_order': 'CT abdomen pelvis with contrast', 'predicted_protocol': 'routine', 'predicted_comments': ['oral contrast']} <class 'dict'>\n",
            "true answer json: {'accession': '800426', 'predicted_order': 'CT abdomen pelvis with contrast', 'predicted_protocol': 'routine', 'predicted_comments': []} <class 'dict'>\n",
            "Progress: case 46 of 236\n",
            "score this case: 0.9\n"
          ]
        },
        {
          "output_type": "stream",
          "name": "stderr",
          "text": [
            "Setting `pad_token_id` to `eos_token_id`:2 for open-end generation.\n"
          ]
        },
        {
          "output_type": "stream",
          "name": "stdout",
          "text": [
            "********\n",
            "\n",
            "********\n",
            "\n",
            "extracted_answer is  {'predicted_order': 'CT abdomen pelvis with contrast', 'predicted_protocol': 'routine', 'predicted_comments': ['']} <class 'dict'>\n",
            "true answer json: {'accession': '800509', 'predicted_order': 'CT abdomen pelvis with contrast', 'predicted_protocol': 'routine', 'predicted_comments': []} <class 'dict'>\n",
            "Progress: case 47 of 236\n",
            "score this case: 0.9\n"
          ]
        },
        {
          "output_type": "stream",
          "name": "stderr",
          "text": [
            "Setting `pad_token_id` to `eos_token_id`:2 for open-end generation.\n"
          ]
        },
        {
          "output_type": "stream",
          "name": "stdout",
          "text": [
            "********\n",
            "\n",
            "********\n",
            "\n",
            "extracted_answer is  {'predicted_order': 'CT abdomen with noncontrast protocol', 'predicted_protocol': 'noncon', 'predicted_comments': ['reroute coverage']} <class 'dict'>\n",
            "true answer json: {'accession': '800275', 'predicted_order': 'CT RCC protocol inc CT dual abd and pelvis w wo contrast', 'predicted_protocol': 'rcc', 'predicted_comments': []} <class 'dict'>\n",
            "Progress: case 48 of 236\n",
            "score this case: 0.3\n"
          ]
        },
        {
          "output_type": "stream",
          "name": "stderr",
          "text": [
            "Setting `pad_token_id` to `eos_token_id`:2 for open-end generation.\n"
          ]
        },
        {
          "output_type": "stream",
          "name": "stdout",
          "text": [
            "********\n",
            "\n",
            "********\n",
            "\n",
            "extracted_answer is  {'predicted_order': 'CT abdomen pelvis with contrast', 'predicted_protocol': 'routine', 'predicted_comments': ['oral contrast']} <class 'dict'>\n",
            "true answer json: {'accession': '800470', 'predicted_order': 'CT abdomen pelvis with contrast', 'predicted_protocol': 'routine', 'predicted_comments': []} <class 'dict'>\n",
            "Progress: case 49 of 236\n",
            "score this case: 0.9\n"
          ]
        },
        {
          "output_type": "stream",
          "name": "stderr",
          "text": [
            "Setting `pad_token_id` to `eos_token_id`:2 for open-end generation.\n"
          ]
        },
        {
          "output_type": "stream",
          "name": "stdout",
          "text": [
            "********\n",
            "\n",
            "********\n",
            "\n",
            "extracted_answer is  {'predicted_order': 'CT abdomen pelvis noncon', 'predicted_protocol': 'noncon', 'predicted_comments': []} <class 'dict'>\n",
            "true answer json: {'accession': '800164', 'predicted_order': 'CT abdomen pelvis without contrast', 'predicted_protocol': 'noncon', 'predicted_comments': []} <class 'dict'>\n",
            "Progress: case 50 of 236\n",
            "score this case: 0.9\n"
          ]
        },
        {
          "output_type": "stream",
          "name": "stderr",
          "text": [
            "Setting `pad_token_id` to `eos_token_id`:2 for open-end generation.\n"
          ]
        },
        {
          "output_type": "stream",
          "name": "stdout",
          "text": [
            "********\n",
            "\n",
            "********\n",
            "\n",
            "extracted_answer is  {'predicted_order': 'CT abdomen pelvis with contrast', 'predicted_protocol': 'routine', 'predicted_comments': ['']} <class 'dict'>\n",
            "true answer json: {'accession': '800868', 'predicted_order': 'CT abdomen pelvis with contrast', 'predicted_protocol': 'routine', 'predicted_comments': []} <class 'dict'>\n",
            "Progress: case 51 of 236\n",
            "score this case: 0.9\n"
          ]
        },
        {
          "output_type": "stream",
          "name": "stderr",
          "text": [
            "Setting `pad_token_id` to `eos_token_id`:2 for open-end generation.\n"
          ]
        },
        {
          "output_type": "stream",
          "name": "stdout",
          "text": [
            "********\n",
            "\n",
            "********\n",
            "\n",
            "extracted_answer is  {'predicted_order': 'CT abdomen pelvis with contrast', 'predicted_protocol': 'routine', 'predicted_comments': ['oral contrast']} <class 'dict'>\n",
            "true answer json: {'accession': '800408', 'predicted_order': 'CT abdomen pelvis with contrast', 'predicted_protocol': 'routine', 'predicted_comments': []} <class 'dict'>\n",
            "Progress: case 52 of 236\n",
            "score this case: 0.9\n"
          ]
        },
        {
          "output_type": "stream",
          "name": "stderr",
          "text": [
            "Setting `pad_token_id` to `eos_token_id`:2 for open-end generation.\n"
          ]
        },
        {
          "output_type": "stream",
          "name": "stdout",
          "text": [
            "********\n",
            "\n",
            "********\n",
            "\n",
            "extracted_answer is  {'predicted_order': 'CT chest abdomen pelvis with contrast', 'predicted_protocol': 'routine', 'predicted_comments': ['']} <class 'dict'>\n",
            "true answer json: {'accession': '800598', 'predicted_order': 'CT chest abdomen pelvis with contrast w MIPS', 'predicted_protocol': 'routine', 'predicted_comments': []} <class 'dict'>\n",
            "Progress: case 53 of 236\n",
            "score this case: 0.8\n"
          ]
        },
        {
          "output_type": "stream",
          "name": "stderr",
          "text": [
            "Setting `pad_token_id` to `eos_token_id`:2 for open-end generation.\n"
          ]
        },
        {
          "output_type": "stream",
          "name": "stdout",
          "text": [
            "********\n",
            "\n",
            "********\n",
            "\n",
            "extracted_answer is  {'predicted_order': 'CT chest abdomen pelvis with contrast', 'predicted_protocol': 'routine', 'predicted_comments': ['']} <class 'dict'>\n",
            "true answer json: {'accession': '801066', 'predicted_order': 'CT chest abdomen pelvis with contrast w MIPS', 'predicted_protocol': 'trauma', 'predicted_comments': []} <class 'dict'>\n",
            "Progress: case 54 of 236\n",
            "score this case: 0.3\n"
          ]
        },
        {
          "output_type": "stream",
          "name": "stderr",
          "text": [
            "Setting `pad_token_id` to `eos_token_id`:2 for open-end generation.\n"
          ]
        },
        {
          "output_type": "stream",
          "name": "stdout",
          "text": [
            "********\n",
            "\n",
            "********\n",
            "\n",
            "extracted_answer is  {'predicted_order': 'CT renal stone protocol', 'predicted_protocol': 'renal stone', 'predicted_comments': ['']} <class 'dict'>\n",
            "true answer json: {'accession': '800317', 'predicted_order': 'CT renal stone protocol inc CT abd and pelvis wo contrast', 'predicted_protocol': 'renal stone', 'predicted_comments': []} <class 'dict'>\n",
            "Progress: case 55 of 236\n",
            "score this case: 0.8\n"
          ]
        },
        {
          "output_type": "stream",
          "name": "stderr",
          "text": [
            "Setting `pad_token_id` to `eos_token_id`:2 for open-end generation.\n"
          ]
        },
        {
          "output_type": "stream",
          "name": "stdout",
          "text": [
            "********\n",
            "\n",
            "********\n",
            "\n",
            "extracted_answer is  {'predicted_order': 'CT abdomen pelvis with contrast', 'predicted_protocol': 'routine', 'predicted_comments': ['oral contrast']} <class 'dict'>\n",
            "true answer json: {'accession': '800526', 'predicted_order': 'CT abdomen pelvis with contrast', 'predicted_protocol': 'routine', 'predicted_comments': ['low pelvis']} <class 'dict'>\n",
            "Progress: case 56 of 236\n",
            "score this case: 0.9\n"
          ]
        },
        {
          "output_type": "stream",
          "name": "stderr",
          "text": [
            "Setting `pad_token_id` to `eos_token_id`:2 for open-end generation.\n"
          ]
        },
        {
          "output_type": "stream",
          "name": "stdout",
          "text": [
            "********\n",
            "\n",
            "********\n",
            "\n",
            "extracted_answer is  {'predicted_order': 'CT chest abdomen pelvis with contrast', 'predicted_protocol': 'routine', 'predicted_comments': ['oral contrast']} <class 'dict'>\n",
            "true answer json: {'accession': '800777', 'predicted_order': 'CT chest abdomen pelvis with contrast w MIPS', 'predicted_protocol': 'routine', 'predicted_comments': []} <class 'dict'>\n",
            "Progress: case 57 of 236\n",
            "score this case: 0.8\n"
          ]
        },
        {
          "output_type": "stream",
          "name": "stderr",
          "text": [
            "Setting `pad_token_id` to `eos_token_id`:2 for open-end generation.\n"
          ]
        },
        {
          "output_type": "stream",
          "name": "stdout",
          "text": [
            "********\n",
            "\n",
            "********\n",
            "\n",
            "extracted_answer is  {'predicted_order': 'CT renal stone protocol', 'predicted_protocol': 'renal stone', 'predicted_comments': []} <class 'dict'>\n",
            "true answer json: {'accession': '800325', 'predicted_order': 'CT renal stone protocol inc CT abd and pelvis wo contrast', 'predicted_protocol': 'renal stone', 'predicted_comments': []} <class 'dict'>\n",
            "Progress: case 58 of 236\n",
            "score this case: 0.9\n"
          ]
        },
        {
          "output_type": "stream",
          "name": "stderr",
          "text": [
            "Setting `pad_token_id` to `eos_token_id`:2 for open-end generation.\n"
          ]
        },
        {
          "output_type": "stream",
          "name": "stdout",
          "text": [
            "********\n",
            "\n",
            "********\n",
            "\n",
            "extracted_answer is  {'predicted_order': 'CT abdomen pelvis with contrast', 'predicted_protocol': 'routine', 'predicted_comments': ['oral contrast']} <class 'dict'>\n",
            "true answer json: {'accession': '800538', 'predicted_order': 'CT abdomen pelvis with contrast', 'predicted_protocol': 'routine', 'predicted_comments': ['low pelvis']} <class 'dict'>\n",
            "Progress: case 59 of 236\n",
            "score this case: 0.9\n"
          ]
        },
        {
          "output_type": "stream",
          "name": "stderr",
          "text": [
            "Setting `pad_token_id` to `eos_token_id`:2 for open-end generation.\n"
          ]
        },
        {
          "output_type": "stream",
          "name": "stdout",
          "text": [
            "********\n",
            "\n",
            "********\n",
            "\n",
            "extracted_answer is  {'predicted_order': 'CT abdomen pelvis with contrast', 'predicted_protocol': 'routine', 'predicted_comments': ['oral contrast']} <class 'dict'>\n",
            "true answer json: {'accession': '800388', 'predicted_order': 'CT abdomen pelvis with contrast', 'predicted_protocol': 'routine', 'predicted_comments': []} <class 'dict'>\n",
            "Progress: case 60 of 236\n",
            "score this case: 0.9\n"
          ]
        },
        {
          "output_type": "stream",
          "name": "stderr",
          "text": [
            "Setting `pad_token_id` to `eos_token_id`:2 for open-end generation.\n"
          ]
        },
        {
          "output_type": "stream",
          "name": "stdout",
          "text": [
            "********\n",
            "\n",
            "********\n",
            "\n",
            "extracted_answer is  {'predicted_order': 'CT dual pancreas protocol', 'predicted_protocol': 'pancreas', 'predicted_comments': []} <class 'dict'>\n",
            "true answer json: {'accession': '800247', 'predicted_order': 'CT dual pancreas protocol incl CT abd pel w contrast', 'predicted_protocol': 'pancreas', 'predicted_comments': []} <class 'dict'>\n",
            "Progress: case 61 of 236\n",
            "score this case: 0.9\n"
          ]
        },
        {
          "output_type": "stream",
          "name": "stderr",
          "text": [
            "Setting `pad_token_id` to `eos_token_id`:2 for open-end generation.\n"
          ]
        },
        {
          "output_type": "stream",
          "name": "stdout",
          "text": [
            "********\n",
            "\n",
            "********\n",
            "\n",
            "extracted_answer is  {'predicted_order': 'CT abdomen pelvis with contrast', 'predicted_protocol': 'routine', 'predicted_comments': ['oral contrast']} <class 'dict'>\n",
            "true answer json: {'accession': '801170', 'predicted_order': 'CT abdomen pelvis with contrast', 'predicted_protocol': 'routine', 'predicted_comments': ['low pelvis']} <class 'dict'>\n",
            "Progress: case 62 of 236\n",
            "score this case: 0.9\n"
          ]
        },
        {
          "output_type": "stream",
          "name": "stderr",
          "text": [
            "Setting `pad_token_id` to `eos_token_id`:2 for open-end generation.\n"
          ]
        },
        {
          "output_type": "stream",
          "name": "stdout",
          "text": [
            "********\n",
            "\n",
            "********\n",
            "\n",
            "extracted_answer is  {'predicted_order': 'CT abdomen pelvis with contrast', 'predicted_protocol': 'crohns', 'predicted_comments': ['oral contrast']} <class 'dict'>\n",
            "true answer json: {'accession': '800036', 'predicted_order': 'CT abdomen pelvis with contrast', 'predicted_protocol': 'crohns', 'predicted_comments': []} <class 'dict'>\n",
            "Progress: case 63 of 236\n",
            "score this case: 0.9\n"
          ]
        },
        {
          "output_type": "stream",
          "name": "stderr",
          "text": [
            "Setting `pad_token_id` to `eos_token_id`:2 for open-end generation.\n"
          ]
        },
        {
          "output_type": "stream",
          "name": "stdout",
          "text": [
            "********\n",
            "\n",
            "********\n",
            "\n",
            "extracted_answer is  {'predicted_order': 'CT abdomen pelvis with contrast', 'predicted_protocol': 'routine', 'predicted_comments': ['oral contrast']} <class 'dict'>\n",
            "true answer json: {'accession': '800856', 'predicted_order': 'CT abdomen pelvis with contrast', 'predicted_protocol': 'routine', 'predicted_comments': []} <class 'dict'>\n",
            "Progress: case 64 of 236\n",
            "score this case: 0.9\n"
          ]
        },
        {
          "output_type": "stream",
          "name": "stderr",
          "text": [
            "Setting `pad_token_id` to `eos_token_id`:2 for open-end generation.\n"
          ]
        },
        {
          "output_type": "stream",
          "name": "stdout",
          "text": [
            "********\n",
            "\n",
            "********\n",
            "\n",
            "extracted_answer is  {'predicted_order': 'CT abdomen pelvis with contrast', 'predicted_protocol': 'routine', 'predicted_comments': ['oral contrast']} <class 'dict'>\n",
            "true answer json: {'accession': '801163', 'predicted_order': 'CT abdomen pelvis with contrast', 'predicted_protocol': 'routine', 'predicted_comments': []} <class 'dict'>\n",
            "Progress: case 65 of 236\n",
            "score this case: 0.9\n"
          ]
        },
        {
          "output_type": "stream",
          "name": "stderr",
          "text": [
            "Setting `pad_token_id` to `eos_token_id`:2 for open-end generation.\n"
          ]
        },
        {
          "output_type": "stream",
          "name": "stdout",
          "text": [
            "********\n",
            "\n",
            "********\n",
            "\n",
            "extracted_answer is  {'predicted_order': 'CT abdomen pelvis with contrast', 'predicted_protocol': 'routine', 'predicted_comments': ['oral contrast']} <class 'dict'>\n",
            "true answer json: {'accession': '800434', 'predicted_order': 'CT abdomen pelvis with contrast', 'predicted_protocol': 'routine', 'predicted_comments': []} <class 'dict'>\n",
            "Progress: case 66 of 236\n",
            "score this case: 0.9\n"
          ]
        },
        {
          "output_type": "stream",
          "name": "stderr",
          "text": [
            "Setting `pad_token_id` to `eos_token_id`:2 for open-end generation.\n"
          ]
        },
        {
          "output_type": "stream",
          "name": "stdout",
          "text": [
            "********\n",
            "\n",
            "********\n",
            "\n",
            "extracted_answer is  {'predicted_order': 'CT chest abdomen pelvis with contrast', 'predicted_protocol': 'routine', 'predicted_comments': ['oral contrast']} <class 'dict'>\n",
            "true answer json: {'accession': '801113', 'predicted_order': 'CT chest abdomen pelvis with contrast w MIPS', 'predicted_protocol': 'trauma', 'predicted_comments': []} <class 'dict'>\n",
            "Progress: case 67 of 236\n",
            "score this case: 0.3\n"
          ]
        },
        {
          "output_type": "stream",
          "name": "stderr",
          "text": [
            "Setting `pad_token_id` to `eos_token_id`:2 for open-end generation.\n"
          ]
        },
        {
          "output_type": "stream",
          "name": "stdout",
          "text": [
            "********\n",
            "\n",
            "********\n",
            "\n",
            "extracted_answer is  {'predicted_order': 'CT abdomen pelvis with contrast', 'predicted_protocol': 'cirrhosis', 'predicted_comments': ['']} <class 'dict'>\n",
            "true answer json: {'accession': '800014', 'predicted_order': 'CT cirrhosis abdomen pelvis w contrast protocol', 'predicted_protocol': 'cirrhosis', 'predicted_comments': []} <class 'dict'>\n",
            "Progress: case 68 of 236\n",
            "score this case: 0.8\n"
          ]
        },
        {
          "output_type": "stream",
          "name": "stderr",
          "text": [
            "Setting `pad_token_id` to `eos_token_id`:2 for open-end generation.\n"
          ]
        },
        {
          "output_type": "stream",
          "name": "stdout",
          "text": [
            "********\n",
            "\n",
            "********\n",
            "\n",
            "extracted_answer is  {'predicted_order': 'CT chest abdomen pelvis with contrast', 'predicted_protocol': 'routine', 'predicted_comments': ['']} <class 'dict'>\n",
            "true answer json: {'accession': '800583', 'predicted_order': 'CT chest abdomen pelvis with contrast w MIPS', 'predicted_protocol': 'routine', 'predicted_comments': ['low pelvis']} <class 'dict'>\n",
            "Progress: case 69 of 236\n",
            "score this case: 0.8\n"
          ]
        },
        {
          "output_type": "stream",
          "name": "stderr",
          "text": [
            "Setting `pad_token_id` to `eos_token_id`:2 for open-end generation.\n"
          ]
        },
        {
          "output_type": "stream",
          "name": "stdout",
          "text": [
            "********\n",
            "\n",
            "********\n",
            "\n",
            "extracted_answer is  {'predicted_order': 'CT abdomen pelvis with contrast', 'predicted_protocol': 'routine', 'predicted_comments': ['oral contrast']} <class 'dict'>\n",
            "true answer json: {'accession': '800861', 'predicted_order': 'CT abdomen pelvis with contrast', 'predicted_protocol': 'routine', 'predicted_comments': []} <class 'dict'>\n",
            "Progress: case 70 of 236\n",
            "score this case: 0.9\n"
          ]
        },
        {
          "output_type": "stream",
          "name": "stderr",
          "text": [
            "Setting `pad_token_id` to `eos_token_id`:2 for open-end generation.\n"
          ]
        },
        {
          "output_type": "stream",
          "name": "stdout",
          "text": [
            "********\n",
            "\n",
            "********\n",
            "\n",
            "extracted_answer is  {'predicted_order': 'CT renal stone', 'predicted_protocol': 'renal stone', 'predicted_comments': []} <class 'dict'>\n",
            "true answer json: {'accession': '800302', 'predicted_order': 'CT renal stone protocol inc CT abd and pelvis wo contrast', 'predicted_protocol': 'renal stone', 'predicted_comments': []} <class 'dict'>\n",
            "Progress: case 71 of 236\n",
            "score this case: 0.9\n"
          ]
        },
        {
          "output_type": "stream",
          "name": "stderr",
          "text": [
            "Setting `pad_token_id` to `eos_token_id`:2 for open-end generation.\n"
          ]
        },
        {
          "output_type": "stream",
          "name": "stdout",
          "text": [
            "********\n",
            "\n",
            "********\n",
            "\n",
            "extracted_answer is  {'predicted_order': 'CT chest abdomen pelvis without contrast', 'predicted_protocol': 'noncon', 'predicted_comments': ['']} <class 'dict'>\n",
            "true answer json: {'accession': '800224', 'predicted_order': 'CT chest abdomen pelvis without contrast with MIPS', 'predicted_protocol': 'noncon', 'predicted_comments': []} <class 'dict'>\n",
            "Progress: case 72 of 236\n",
            "score this case: 0.8\n"
          ]
        },
        {
          "output_type": "stream",
          "name": "stderr",
          "text": [
            "Setting `pad_token_id` to `eos_token_id`:2 for open-end generation.\n"
          ]
        },
        {
          "output_type": "stream",
          "name": "stdout",
          "text": [
            "********\n",
            "\n",
            "********\n",
            "\n",
            "extracted_answer is  {'predicted_order': 'CT pelvis with contrast', 'predicted_protocol': 'routine', 'predicted_comments': ['']} <class 'dict'>\n",
            "true answer json: {'accession': '800798', 'predicted_order': 'CT pelvis with contrast', 'predicted_protocol': 'routine', 'predicted_comments': ['low pelvis']} <class 'dict'>\n",
            "Progress: case 73 of 236\n",
            "score this case: 0.9\n"
          ]
        },
        {
          "output_type": "stream",
          "name": "stderr",
          "text": [
            "Setting `pad_token_id` to `eos_token_id`:2 for open-end generation.\n"
          ]
        },
        {
          "output_type": "stream",
          "name": "stdout",
          "text": [
            "********\n",
            "\n",
            "********\n",
            "\n",
            "extracted_answer is  {'predicted_order': 'CT abdomen pelvis with contrast', 'predicted_protocol': 'routine', 'predicted_comments': ['oral contrast']} <class 'dict'>\n",
            "true answer json: {'accession': '801032', 'predicted_order': 'CT abdomen pelvis with contrast', 'predicted_protocol': 'routine', 'predicted_comments': []} <class 'dict'>\n",
            "Progress: case 74 of 236\n",
            "score this case: 0.9\n"
          ]
        },
        {
          "output_type": "stream",
          "name": "stderr",
          "text": [
            "Setting `pad_token_id` to `eos_token_id`:2 for open-end generation.\n"
          ]
        },
        {
          "output_type": "stream",
          "name": "stdout",
          "text": [
            "********\n",
            "\n",
            "********\n",
            "\n",
            "extracted_answer is  {'predicted_order': 'CT abdomen pelvis with contrast', 'predicted_protocol': 'routine', 'predicted_comments': ['oral contrast']} <class 'dict'>\n",
            "true answer json: {'accession': '800401', 'predicted_order': 'CT abdomen pelvis with contrast', 'predicted_protocol': 'routine', 'predicted_comments': []} <class 'dict'>\n",
            "Progress: case 75 of 236\n",
            "score this case: 0.9\n"
          ]
        },
        {
          "output_type": "stream",
          "name": "stderr",
          "text": [
            "Setting `pad_token_id` to `eos_token_id`:2 for open-end generation.\n"
          ]
        },
        {
          "output_type": "stream",
          "name": "stdout",
          "text": [
            "********\n",
            "\n",
            "********\n",
            "\n",
            "extracted_answer is  {'predicted_order': 'CT abdomen pelvis with contrast', 'predicted_protocol': 'routine', 'predicted_comments': ['oral contrast']} <class 'dict'>\n",
            "true answer json: {'accession': '800828', 'predicted_order': 'CT abdomen pelvis with contrast', 'predicted_protocol': 'routine', 'predicted_comments': []} <class 'dict'>\n",
            "Progress: case 76 of 236\n",
            "score this case: 0.9\n"
          ]
        },
        {
          "output_type": "stream",
          "name": "stderr",
          "text": [
            "Setting `pad_token_id` to `eos_token_id`:2 for open-end generation.\n"
          ]
        },
        {
          "output_type": "stream",
          "name": "stdout",
          "text": [
            "********\n",
            "\n",
            "********\n",
            "\n",
            "extracted_answer is  {'predicted_order': 'CT abdomen pelvis with contrast', 'predicted_protocol': 'crohns', 'predicted_comments': ['oral contrast']} <class 'dict'>\n",
            "true answer json: {'accession': '800542', 'predicted_order': 'CT abdomen pelvis with contrast', 'predicted_protocol': 'routine', 'predicted_comments': ['md check for drain']} <class 'dict'>\n",
            "Progress: case 77 of 236\n",
            "score this case: 0.4\n"
          ]
        },
        {
          "output_type": "stream",
          "name": "stderr",
          "text": [
            "Setting `pad_token_id` to `eos_token_id`:2 for open-end generation.\n"
          ]
        },
        {
          "output_type": "stream",
          "name": "stdout",
          "text": [
            "********\n",
            "\n",
            "********\n",
            "\n",
            "extracted_answer is  {'predicted_order': 'CT abdomen pelvis with contrast', 'predicted_protocol': 'routine', 'predicted_comments': ['oral contrast']} <class 'dict'>\n",
            "true answer json: {'accession': '800450', 'predicted_order': 'CT abdomen pelvis with contrast', 'predicted_protocol': 'routine', 'predicted_comments': []} <class 'dict'>\n",
            "Progress: case 78 of 236\n",
            "score this case: 0.9\n"
          ]
        },
        {
          "output_type": "stream",
          "name": "stderr",
          "text": [
            "Setting `pad_token_id` to `eos_token_id`:2 for open-end generation.\n"
          ]
        },
        {
          "output_type": "stream",
          "name": "stdout",
          "text": [
            "********\n",
            "\n",
            "********\n",
            "\n",
            "extracted_answer is  {'predicted_order': 'CT abdomen pelvis with contrast', 'predicted_protocol': 'routine', 'predicted_comments': ['oral contrast']} <class 'dict'>\n",
            "true answer json: {'accession': '801008', 'predicted_order': 'CT abdomen pelvis with contrast', 'predicted_protocol': 'routine', 'predicted_comments': []} <class 'dict'>\n",
            "Progress: case 79 of 236\n",
            "score this case: 0.9\n"
          ]
        },
        {
          "output_type": "stream",
          "name": "stderr",
          "text": [
            "Setting `pad_token_id` to `eos_token_id`:2 for open-end generation.\n"
          ]
        },
        {
          "output_type": "stream",
          "name": "stdout",
          "text": [
            "********\n",
            "\n",
            "********\n",
            "\n",
            "extracted_answer is  {'predicted_order': 'CT abdomen pelvis with contrast', 'predicted_protocol': 'routine', 'predicted_comments': ['oral contrast']} <class 'dict'>\n",
            "true answer json: {'accession': '800886', 'predicted_order': 'CT abdomen pelvis with contrast', 'predicted_protocol': 'routine', 'predicted_comments': []} <class 'dict'>\n",
            "Progress: case 80 of 236\n",
            "score this case: 0.9\n"
          ]
        },
        {
          "output_type": "stream",
          "name": "stderr",
          "text": [
            "Setting `pad_token_id` to `eos_token_id`:2 for open-end generation.\n"
          ]
        },
        {
          "output_type": "stream",
          "name": "stdout",
          "text": [
            "********\n",
            "\n",
            "********\n",
            "\n",
            "extracted_answer is  {'predicted_order': 'CT abdomen pelvis with contrast', 'predicted_protocol': 'hepatic resection', 'predicted_comments': ['oral contrast']} <class 'dict'>\n",
            "true answer json: {'accession': '801172', 'predicted_order': 'CT abdomen pelvis with contrast', 'predicted_protocol': 'radio embo', 'predicted_comments': []} <class 'dict'>\n",
            "Progress: case 81 of 236\n",
            "score this case: 0.4\n"
          ]
        },
        {
          "output_type": "stream",
          "name": "stderr",
          "text": [
            "Setting `pad_token_id` to `eos_token_id`:2 for open-end generation.\n"
          ]
        },
        {
          "output_type": "stream",
          "name": "stdout",
          "text": [
            "********\n",
            "\n",
            "********\n",
            "\n",
            "extracted_answer is  {'predicted_order': 'CT abdomen and pelvis with and without contrast', 'predicted_protocol': 'dual liver', 'predicted_comments': ['oral contrast']} <class 'dict'>\n",
            "true answer json: {'accession': '800137', 'predicted_order': 'CT GU protocol inc CT dual abd and pelvis with and without contrast', 'predicted_protocol': 'gu', 'predicted_comments': []} <class 'dict'>\n",
            "Progress: case 82 of 236\n",
            "score this case: 0.3\n"
          ]
        },
        {
          "output_type": "stream",
          "name": "stderr",
          "text": [
            "Setting `pad_token_id` to `eos_token_id`:2 for open-end generation.\n"
          ]
        },
        {
          "output_type": "stream",
          "name": "stdout",
          "text": [
            "********\n",
            "\n",
            "********\n",
            "\n",
            "extracted_answer is  {'predicted_order': 'CT abdomen pelvis with rectal contrast', 'predicted_protocol': 'gu', 'predicted_comments': ['oral contrast']} <class 'dict'>\n",
            "true answer json: {'accession': '800683', 'predicted_order': 'CT abdomen pelvis with contrast', 'predicted_protocol': 'routine', 'predicted_comments': ['rectal contrast']} <class 'dict'>\n",
            "Progress: case 83 of 236\n",
            "score this case: 0.3\n"
          ]
        },
        {
          "output_type": "stream",
          "name": "stderr",
          "text": [
            "Setting `pad_token_id` to `eos_token_id`:2 for open-end generation.\n"
          ]
        },
        {
          "output_type": "stream",
          "name": "stdout",
          "text": [
            "********\n",
            "\n",
            "********\n",
            "\n",
            "extracted_answer is  {'predicted_order': 'CT abdomen pelvis with contrast', 'predicted_protocol': 'routine', 'predicted_comments': ['oral contrast']} <class 'dict'>\n",
            "true answer json: {'accession': '800497', 'predicted_order': 'CT abdomen pelvis with contrast', 'predicted_protocol': 'routine', 'predicted_comments': []} <class 'dict'>\n",
            "Progress: case 84 of 236\n",
            "score this case: 0.9\n"
          ]
        },
        {
          "output_type": "stream",
          "name": "stderr",
          "text": [
            "Setting `pad_token_id` to `eos_token_id`:2 for open-end generation.\n"
          ]
        },
        {
          "output_type": "stream",
          "name": "stdout",
          "text": [
            "********\n",
            "\n",
            "********\n",
            "\n",
            "extracted_answer is  {'predicted_order': 'CT abdomen pelvis with contrast', 'predicted_protocol': 'routine', 'predicted_comments': ['oral contrast']} <class 'dict'>\n",
            "true answer json: {'accession': '800502', 'predicted_order': 'CT abdomen pelvis with contrast', 'predicted_protocol': 'routine', 'predicted_comments': []} <class 'dict'>\n",
            "Progress: case 85 of 236\n",
            "score this case: 0.9\n"
          ]
        },
        {
          "output_type": "stream",
          "name": "stderr",
          "text": [
            "Setting `pad_token_id` to `eos_token_id`:2 for open-end generation.\n"
          ]
        },
        {
          "output_type": "stream",
          "name": "stdout",
          "text": [
            "********\n",
            "\n",
            "********\n",
            "\n",
            "extracted_answer is  {'predicted_order': 'CT abdomen pelvis with contrast', 'predicted_protocol': 'routine', 'predicted_comments': ['oral contrast']} <class 'dict'>\n",
            "true answer json: {'accession': '800921', 'predicted_order': 'CT abdomen pelvis with contrast', 'predicted_protocol': 'routine', 'predicted_comments': []} <class 'dict'>\n",
            "Progress: case 86 of 236\n",
            "score this case: 0.9\n"
          ]
        },
        {
          "output_type": "stream",
          "name": "stderr",
          "text": [
            "Setting `pad_token_id` to `eos_token_id`:2 for open-end generation.\n"
          ]
        },
        {
          "output_type": "stream",
          "name": "stdout",
          "text": [
            "********\n",
            "\n",
            "********\n",
            "\n",
            "extracted_answer is  {'predicted_order': 'CT abdomen pelvis with contrast', 'predicted_protocol': 'routine', 'predicted_comments': ['oral contrast']} <class 'dict'>\n",
            "true answer json: {'accession': '800462', 'predicted_order': 'CT abdomen pelvis with contrast', 'predicted_protocol': 'routine', 'predicted_comments': []} <class 'dict'>\n",
            "Progress: case 87 of 236\n",
            "score this case: 0.9\n"
          ]
        },
        {
          "output_type": "stream",
          "name": "stderr",
          "text": [
            "Setting `pad_token_id` to `eos_token_id`:2 for open-end generation.\n"
          ]
        },
        {
          "output_type": "stream",
          "name": "stdout",
          "text": [
            "********\n",
            "\n",
            "********\n",
            "\n",
            "extracted_answer is  {'predicted_order': 'CT abdomen pelvis with contrast', 'predicted_protocol': 'routine', 'predicted_comments': ['oral contrast']} <class 'dict'>\n",
            "true answer json: {'accession': '800003', 'predicted_order': 'CT abdomen pelvis with contrast', 'predicted_protocol': 'cirrhosis', 'predicted_comments': []} <class 'dict'>\n",
            "Progress: case 88 of 236\n",
            "score this case: 0.4\n"
          ]
        },
        {
          "output_type": "stream",
          "name": "stderr",
          "text": [
            "Setting `pad_token_id` to `eos_token_id`:2 for open-end generation.\n"
          ]
        },
        {
          "output_type": "stream",
          "name": "stdout",
          "text": [
            "********\n",
            "\n",
            "********\n",
            "\n",
            "extracted_answer is  {'predicted_order': 'CT abdomen pelvis with contrast', 'predicted_protocol': 'split', 'predicted_comments': ['oral contrast']} <class 'dict'>\n",
            "true answer json: {'accession': '800393', 'predicted_order': 'CT abdomen pelvis with contrast', 'predicted_protocol': 'routine', 'predicted_comments': ['split']} <class 'dict'>\n",
            "Progress: case 89 of 236\n",
            "score this case: 0.4\n"
          ]
        },
        {
          "output_type": "stream",
          "name": "stderr",
          "text": [
            "Setting `pad_token_id` to `eos_token_id`:2 for open-end generation.\n"
          ]
        },
        {
          "output_type": "stream",
          "name": "stdout",
          "text": [
            "********\n",
            "\n",
            "********\n",
            "\n",
            "extracted_answer is  {'predicted_order': 'CT renal stone protocol', 'predicted_protocol': 'renal stone', 'predicted_comments': []} <class 'dict'>\n",
            "true answer json: {'accession': '800311', 'predicted_order': 'CT renal stone protocol inc CT abd and pelvis wo contrast', 'predicted_protocol': 'renal stone', 'predicted_comments': []} <class 'dict'>\n",
            "Progress: case 90 of 236\n",
            "score this case: 0.9\n"
          ]
        },
        {
          "output_type": "stream",
          "name": "stderr",
          "text": [
            "Setting `pad_token_id` to `eos_token_id`:2 for open-end generation.\n"
          ]
        },
        {
          "output_type": "stream",
          "name": "stdout",
          "text": [
            "********\n",
            "\n",
            "********\n",
            "\n",
            "extracted_answer is  {'predicted_order': 'CT abdomen pelvis with contrast', 'predicted_protocol': 'routine', 'predicted_comments': ['']} <class 'dict'>\n",
            "true answer json: {'accession': '801051', 'predicted_order': 'CT abdomen pelvis with contrast', 'predicted_protocol': 'trauma', 'predicted_comments': []} <class 'dict'>\n",
            "Progress: case 91 of 236\n",
            "score this case: 0.4\n"
          ]
        },
        {
          "output_type": "stream",
          "name": "stderr",
          "text": [
            "Setting `pad_token_id` to `eos_token_id`:2 for open-end generation.\n"
          ]
        },
        {
          "output_type": "stream",
          "name": "stdout",
          "text": [
            "********\n",
            "\n",
            "********\n",
            "\n",
            "extracted_answer is  {'predicted_order': 'CT abdomen pelvis with contrast', 'predicted_protocol': 'routine', 'predicted_comments': ['oral contrast']} <class 'dict'>\n",
            "true answer json: {'accession': '800449', 'predicted_order': 'CT abdomen pelvis with contrast', 'predicted_protocol': 'routine', 'predicted_comments': ['md check for drain']} <class 'dict'>\n",
            "Progress: case 92 of 236\n",
            "score this case: 0.9\n"
          ]
        },
        {
          "output_type": "stream",
          "name": "stderr",
          "text": [
            "Setting `pad_token_id` to `eos_token_id`:2 for open-end generation.\n"
          ]
        },
        {
          "output_type": "stream",
          "name": "stdout",
          "text": [
            "********\n",
            "\n",
            "********\n",
            "\n",
            "extracted_answer is  {'predicted_order': 'CT abdomen pelvis with contrast', 'predicted_protocol': 'routine', 'predicted_comments': ['oral contrast']} <class 'dict'>\n",
            "true answer json: {'accession': '800398', 'predicted_order': 'CT abdomen pelvis with contrast', 'predicted_protocol': 'routine', 'predicted_comments': []} <class 'dict'>\n",
            "Progress: case 93 of 236\n",
            "score this case: 0.9\n"
          ]
        },
        {
          "output_type": "stream",
          "name": "stderr",
          "text": [
            "Setting `pad_token_id` to `eos_token_id`:2 for open-end generation.\n"
          ]
        },
        {
          "output_type": "stream",
          "name": "stdout",
          "text": [
            "********\n",
            "\n",
            "********\n",
            "\n",
            "extracted_answer is  {'predicted_order': 'CT abdomen pelvis with contrast', 'predicted_protocol': 'routine', 'predicted_comments': ['oral contrast']} <class 'dict'>\n",
            "true answer json: {'accession': '800727', 'predicted_order': 'CT abdomen pelvis with contrast', 'predicted_protocol': 'routine', 'predicted_comments': ['oral contrast']} <class 'dict'>\n",
            "Progress: case 94 of 236\n",
            "score this case: 1.0\n"
          ]
        },
        {
          "output_type": "stream",
          "name": "stderr",
          "text": [
            "Setting `pad_token_id` to `eos_token_id`:2 for open-end generation.\n"
          ]
        },
        {
          "output_type": "stream",
          "name": "stdout",
          "text": [
            "********\n",
            "\n",
            "********\n",
            "\n",
            "extracted_answer is  {'predicted_order': 'CT chest abdomen pelvis with contrast', 'predicted_protocol': 'trauma', 'predicted_comments': ['']} <class 'dict'>\n",
            "true answer json: {'accession': '801130', 'predicted_order': 'CT chest abdomen pelvis level two trauma with contrast with MIPS protocol', 'predicted_protocol': 'trauma', 'predicted_comments': []} <class 'dict'>\n",
            "Progress: case 95 of 236\n",
            "score this case: 0.8\n"
          ]
        },
        {
          "output_type": "stream",
          "name": "stderr",
          "text": [
            "Setting `pad_token_id` to `eos_token_id`:2 for open-end generation.\n"
          ]
        },
        {
          "output_type": "stream",
          "name": "stdout",
          "text": [
            "********\n",
            "\n",
            "********\n",
            "\n",
            "extracted_answer is  {'predicted_order': 'CT abdomen pelvis with contrast', 'predicted_protocol': 'routine', 'predicted_comments': ['oral contrast']} <class 'dict'>\n",
            "true answer json: {'accession': '800803', 'predicted_order': 'CT abdomen pelvis with contrast', 'predicted_protocol': 'routine', 'predicted_comments': ['split']} <class 'dict'>\n",
            "Progress: case 96 of 236\n",
            "score this case: 0.9\n"
          ]
        },
        {
          "output_type": "stream",
          "name": "stderr",
          "text": [
            "Setting `pad_token_id` to `eos_token_id`:2 for open-end generation.\n"
          ]
        },
        {
          "output_type": "stream",
          "name": "stdout",
          "text": [
            "********\n",
            "\n",
            "********\n",
            "\n",
            "extracted_answer is  {'predicted_order': 'CT abdomen with contrast', 'predicted_protocol': 'crohns', 'predicted_comments': ['oral contrast']} <class 'dict'>\n",
            "true answer json: {'accession': '800690', 'predicted_order': 'CT abdomen pelvis with contrast', 'predicted_protocol': 'routine', 'predicted_comments': ['md check for drain']} <class 'dict'>\n",
            "Progress: case 97 of 236\n",
            "score this case: 0.3\n"
          ]
        },
        {
          "output_type": "stream",
          "name": "stderr",
          "text": [
            "Setting `pad_token_id` to `eos_token_id`:2 for open-end generation.\n"
          ]
        },
        {
          "output_type": "stream",
          "name": "stdout",
          "text": [
            "********\n",
            "\n",
            "********\n",
            "\n",
            "extracted_answer is  {'predicted_order': 'CT chest abdomen pelvis noncon', 'predicted_protocol': 'noncon', 'predicted_comments': ['']} <class 'dict'>\n",
            "true answer json: {'accession': '800195', 'predicted_order': 'CT chest abdomen pelvis without contrast with MIPS', 'predicted_protocol': 'noncon', 'predicted_comments': []} <class 'dict'>\n",
            "Progress: case 98 of 236\n",
            "score this case: 0.8\n"
          ]
        },
        {
          "output_type": "stream",
          "name": "stderr",
          "text": [
            "Setting `pad_token_id` to `eos_token_id`:2 for open-end generation.\n"
          ]
        },
        {
          "output_type": "stream",
          "name": "stdout",
          "text": [
            "********\n",
            "\n",
            "********\n",
            "\n",
            "extracted_answer is  {'predicted_order': 'CT chest abdomen pelvis with contrast', 'predicted_protocol': 'routine', 'predicted_comments': ['oral contrast']} <class 'dict'>\n",
            "true answer json: {'accession': '800594', 'predicted_order': 'CT chest abdomen pelvis with contrast w MIPS', 'predicted_protocol': 'routine', 'predicted_comments': []} <class 'dict'>\n",
            "Progress: case 99 of 236\n",
            "score this case: 0.8\n"
          ]
        },
        {
          "output_type": "stream",
          "name": "stderr",
          "text": [
            "Setting `pad_token_id` to `eos_token_id`:2 for open-end generation.\n"
          ]
        },
        {
          "output_type": "stream",
          "name": "stdout",
          "text": [
            "********\n",
            "\n",
            "********\n",
            "\n",
            "extracted_answer is  {'predicted_order': 'CT abdomen pelvis with contrast', 'predicted_protocol': 'routine', 'predicted_comments': ['oral contrast']} <class 'dict'>\n",
            "true answer json: {'accession': '800710', 'predicted_order': 'CT abdomen pelvis with contrast', 'predicted_protocol': 'routine', 'predicted_comments': []} <class 'dict'>\n",
            "Progress: case 100 of 236\n",
            "score this case: 0.9\n"
          ]
        },
        {
          "output_type": "stream",
          "name": "stderr",
          "text": [
            "Setting `pad_token_id` to `eos_token_id`:2 for open-end generation.\n"
          ]
        },
        {
          "output_type": "stream",
          "name": "stdout",
          "text": [
            "********\n",
            "\n",
            "********\n",
            "\n",
            "extracted_answer is  {'predicted_order': 'CT abdomen pelvis with contrast', 'predicted_protocol': 'routine', 'predicted_comments': ['']} <class 'dict'>\n",
            "true answer json: {'accession': '800562', 'predicted_order': 'CT abdomen pelvis with contrast', 'predicted_protocol': 'routine', 'predicted_comments': []} <class 'dict'>\n",
            "Progress: case 101 of 236\n",
            "score this case: 0.9\n"
          ]
        },
        {
          "output_type": "stream",
          "name": "stderr",
          "text": [
            "Setting `pad_token_id` to `eos_token_id`:2 for open-end generation.\n"
          ]
        },
        {
          "output_type": "stream",
          "name": "stdout",
          "text": [
            "********\n",
            "\n",
            "********\n",
            "\n",
            "extracted_answer is  {'predicted_order': 'CT abdomen pelvis with contrast', 'predicted_protocol': 'routine', 'predicted_comments': ['oral contrast']} <class 'dict'>\n",
            "true answer json: {'accession': '800372', 'predicted_order': 'CT abdomen pelvis with contrast', 'predicted_protocol': 'routine', 'predicted_comments': []} <class 'dict'>\n",
            "Progress: case 102 of 236\n",
            "score this case: 0.9\n"
          ]
        },
        {
          "output_type": "stream",
          "name": "stderr",
          "text": [
            "Setting `pad_token_id` to `eos_token_id`:2 for open-end generation.\n"
          ]
        },
        {
          "output_type": "stream",
          "name": "stdout",
          "text": [
            "********\n",
            "\n",
            "********\n",
            "\n",
            "extracted_answer is  {'predicted_order': 'CT abdomen pelvis with contrast', 'predicted_protocol': 'routine', 'predicted_comments': ['']} <class 'dict'>\n",
            "true answer json: {'accession': '800810', 'predicted_order': 'CT abdomen pelvis with contrast', 'predicted_protocol': 'routine', 'predicted_comments': ['split']} <class 'dict'>\n",
            "Progress: case 103 of 236\n",
            "score this case: 0.9\n"
          ]
        },
        {
          "output_type": "stream",
          "name": "stderr",
          "text": [
            "Setting `pad_token_id` to `eos_token_id`:2 for open-end generation.\n"
          ]
        },
        {
          "output_type": "stream",
          "name": "stdout",
          "text": [
            "********\n",
            "\n",
            "********\n",
            "\n",
            "extracted_answer is  {'predicted_order': 'CT abdomen pelvis with contrast', 'predicted_protocol': 'cholangiocarcinoma', 'predicted_comments': ['oral contrast']} <class 'dict'>\n",
            "true answer json: {'accession': '800512', 'predicted_order': 'CT abdomen pelvis with contrast', 'predicted_protocol': 'routine', 'predicted_comments': []} <class 'dict'>\n",
            "Progress: case 104 of 236\n",
            "score this case: 0.4\n"
          ]
        },
        {
          "output_type": "stream",
          "name": "stderr",
          "text": [
            "Setting `pad_token_id` to `eos_token_id`:2 for open-end generation.\n"
          ]
        },
        {
          "output_type": "stream",
          "name": "stdout",
          "text": [
            "********\n",
            "\n",
            "********\n",
            "\n",
            "extracted_answer is  {'predicted_order': 'CT abdomen pelvis with contrast', 'predicted_protocol': 'routine', 'predicted_comments': ['oral contrast']} <class 'dict'>\n",
            "true answer json: {'accession': '800805', 'predicted_order': 'CT abdomen pelvis with contrast', 'predicted_protocol': 'routine', 'predicted_comments': []} <class 'dict'>\n",
            "Progress: case 105 of 236\n",
            "score this case: 0.9\n"
          ]
        },
        {
          "output_type": "stream",
          "name": "stderr",
          "text": [
            "Setting `pad_token_id` to `eos_token_id`:2 for open-end generation.\n"
          ]
        },
        {
          "output_type": "stream",
          "name": "stdout",
          "text": [
            "********\n",
            "\n",
            "********\n",
            "\n",
            "extracted_answer is  {'predicted_order': 'CT chest abdomen pelvis with contrast', 'predicted_protocol': 'routine', 'predicted_comments': ['oral contrast']} <class 'dict'>\n",
            "true answer json: {'accession': '800953', 'predicted_order': 'CT chest abdomen pelvis with contrast w MIPS', 'predicted_protocol': 'routine', 'predicted_comments': []} <class 'dict'>\n",
            "Progress: case 106 of 236\n",
            "score this case: 0.8\n"
          ]
        },
        {
          "output_type": "stream",
          "name": "stderr",
          "text": [
            "Setting `pad_token_id` to `eos_token_id`:2 for open-end generation.\n"
          ]
        },
        {
          "output_type": "stream",
          "name": "stdout",
          "text": [
            "********\n",
            "\n",
            "********\n",
            "\n",
            "extracted_answer is  {'predicted_order': 'CT abdomen pelvis with contrast', 'predicted_protocol': 'routine', 'predicted_comments': ['']} <class 'dict'>\n",
            "true answer json: {'accession': '800932', 'predicted_order': 'CT abdomen pelvis with contrast', 'predicted_protocol': 'routine', 'predicted_comments': []} <class 'dict'>\n",
            "Progress: case 107 of 236\n",
            "score this case: 0.9\n"
          ]
        },
        {
          "output_type": "stream",
          "name": "stderr",
          "text": [
            "Setting `pad_token_id` to `eos_token_id`:2 for open-end generation.\n"
          ]
        },
        {
          "output_type": "stream",
          "name": "stdout",
          "text": [
            "********\n",
            "\n",
            "********\n",
            "\n",
            "extracted_answer is  {'predicted_order': 'CT abdomen pelvis with contrast', 'predicted_protocol': 'routine', 'predicted_comments': ['oral contrast']} <class 'dict'>\n",
            "true answer json: {'accession': '800440', 'predicted_order': 'CT abdomen pelvis with contrast', 'predicted_protocol': 'routine', 'predicted_comments': []} <class 'dict'>\n",
            "Progress: case 108 of 236\n",
            "score this case: 0.9\n"
          ]
        },
        {
          "output_type": "stream",
          "name": "stderr",
          "text": [
            "Setting `pad_token_id` to `eos_token_id`:2 for open-end generation.\n"
          ]
        },
        {
          "output_type": "stream",
          "name": "stdout",
          "text": [
            "********\n",
            "\n",
            "********\n",
            "\n",
            "extracted_answer is  {'predicted_order': 'CT abdomen with dual liver protocol', 'predicted_protocol': 'dual liver', 'predicted_comments': ['']} <class 'dict'>\n",
            "true answer json: {'accession': '800010', 'predicted_order': 'CT cirrhosis abdomen only w contrast protocol', 'predicted_protocol': 'cirrhosis', 'predicted_comments': []} <class 'dict'>\n",
            "Progress: case 109 of 236\n",
            "score this case: 0.3\n"
          ]
        },
        {
          "output_type": "stream",
          "name": "stderr",
          "text": [
            "Setting `pad_token_id` to `eos_token_id`:2 for open-end generation.\n"
          ]
        },
        {
          "output_type": "stream",
          "name": "stdout",
          "text": [
            "********\n",
            "\n",
            "********\n",
            "\n",
            "extracted_answer is  {'predicted_order': 'CT chest abdomen pelvis with contrast', 'predicted_protocol': 'routine', 'predicted_comments': ['']} <class 'dict'>\n",
            "true answer json: {'accession': '800774', 'predicted_order': 'CT chest abdomen pelvis with contrast w MIPS', 'predicted_protocol': 'routine', 'predicted_comments': []} <class 'dict'>\n",
            "Progress: case 110 of 236\n",
            "score this case: 0.8\n"
          ]
        },
        {
          "output_type": "stream",
          "name": "stderr",
          "text": [
            "Setting `pad_token_id` to `eos_token_id`:2 for open-end generation.\n"
          ]
        },
        {
          "output_type": "stream",
          "name": "stdout",
          "text": [
            "********\n",
            "\n",
            "********\n",
            "\n",
            "extracted_answer is  {'predicted_order': 'CT abdomen pelvis with contrast', 'predicted_protocol': 'cirrhosis', 'predicted_comments': ['oral contrast']} <class 'dict'>\n",
            "true answer json: {'accession': '800013', 'predicted_order': 'CT cirrhosis abdomen pelvis w contrast protocol', 'predicted_protocol': 'cirrhosis', 'predicted_comments': ['steroid prep']} <class 'dict'>\n",
            "Progress: case 111 of 236\n",
            "score this case: 0.8\n"
          ]
        },
        {
          "output_type": "stream",
          "name": "stderr",
          "text": [
            "Setting `pad_token_id` to `eos_token_id`:2 for open-end generation.\n"
          ]
        },
        {
          "output_type": "stream",
          "name": "stdout",
          "text": [
            "********\n",
            "\n",
            "********\n",
            "\n",
            "extracted_answer is  {'predicted_order': 'CT abdomen pelvis with contrast', 'predicted_protocol': 'routine', 'predicted_comments': ['oral contrast']} <class 'dict'>\n",
            "true answer json: {'accession': '800674', 'predicted_order': 'CT abdomen pelvis with contrast', 'predicted_protocol': 'routine', 'predicted_comments': []} <class 'dict'>\n",
            "Progress: case 112 of 236\n",
            "score this case: 0.9\n"
          ]
        },
        {
          "output_type": "stream",
          "name": "stderr",
          "text": [
            "Setting `pad_token_id` to `eos_token_id`:2 for open-end generation.\n"
          ]
        },
        {
          "output_type": "stream",
          "name": "stdout",
          "text": [
            "********\n",
            "\n",
            "********\n",
            "\n",
            "extracted_answer is  {'predicted_order': 'CT abdomen pelvis with and without contrast', 'predicted_protocol': 'GI bleed', 'predicted_comments': ['']} <class 'dict'>\n",
            "true answer json: {'accession': '800071', 'predicted_order': 'CT occult GI bleed incl dual abdomen pelvis with and without contrast', 'predicted_protocol': 'gi bleed', 'predicted_comments': []} <class 'dict'>\n",
            "Progress: case 113 of 236\n",
            "score this case: 0.3\n"
          ]
        },
        {
          "output_type": "stream",
          "name": "stderr",
          "text": [
            "Setting `pad_token_id` to `eos_token_id`:2 for open-end generation.\n"
          ]
        },
        {
          "output_type": "stream",
          "name": "stdout",
          "text": [
            "********\n",
            "\n",
            "********\n",
            "\n",
            "extracted_answer is  {'predicted_order': 'CT abdomen pelvis with contrast', 'predicted_protocol': 'routine', 'predicted_comments': ['oral contrast']} <class 'dict'>\n",
            "true answer json: {'accession': '800387', 'predicted_order': 'CT abdomen pelvis with contrast', 'predicted_protocol': 'routine', 'predicted_comments': []} <class 'dict'>\n",
            "Progress: case 114 of 236\n",
            "score this case: 0.9\n"
          ]
        },
        {
          "output_type": "stream",
          "name": "stderr",
          "text": [
            "Setting `pad_token_id` to `eos_token_id`:2 for open-end generation.\n"
          ]
        },
        {
          "output_type": "stream",
          "name": "stdout",
          "text": [
            "********\n",
            "\n",
            "********\n",
            "\n",
            "extracted_answer is  {'predicted_order': 'CT abdomen pelvis with contrast', 'predicted_protocol': 'routine', 'predicted_comments': ['oral contrast']} <class 'dict'>\n",
            "true answer json: {'accession': '801022', 'predicted_order': 'CT abdomen pelvis with contrast', 'predicted_protocol': 'routine', 'predicted_comments': []} <class 'dict'>\n",
            "Progress: case 115 of 236\n",
            "score this case: 0.9\n"
          ]
        },
        {
          "output_type": "stream",
          "name": "stderr",
          "text": [
            "Setting `pad_token_id` to `eos_token_id`:2 for open-end generation.\n"
          ]
        },
        {
          "output_type": "stream",
          "name": "stdout",
          "text": [
            "********\n",
            "\n",
            "********\n",
            "\n",
            "extracted_answer is  {'predicted_order': 'CT abdomen pelvis with contrast', 'predicted_protocol': 'routine', 'predicted_comments': ['oral contrast']} <class 'dict'>\n",
            "true answer json: {'accession': '800817', 'predicted_order': 'CT abdomen pelvis with contrast', 'predicted_protocol': 'routine', 'predicted_comments': []} <class 'dict'>\n",
            "Progress: case 116 of 236\n",
            "score this case: 0.9\n"
          ]
        },
        {
          "output_type": "stream",
          "name": "stderr",
          "text": [
            "Setting `pad_token_id` to `eos_token_id`:2 for open-end generation.\n"
          ]
        },
        {
          "output_type": "stream",
          "name": "stdout",
          "text": [
            "********\n",
            "\n",
            "********\n",
            "\n",
            "extracted_answer is  {'predicted_order': 'CT abdomen pelvis with noncontrast', 'predicted_protocol': 'noncon', 'predicted_comments': []} <class 'dict'>\n",
            "true answer json: {'accession': '801158', 'predicted_order': 'CT RCC protocol inc CT dual abd and pelvis w wo contrast', 'predicted_protocol': 'rcc', 'predicted_comments': []} <class 'dict'>\n",
            "Progress: case 117 of 236\n",
            "score this case: 0.4\n"
          ]
        },
        {
          "output_type": "stream",
          "name": "stderr",
          "text": [
            "Setting `pad_token_id` to `eos_token_id`:2 for open-end generation.\n"
          ]
        },
        {
          "output_type": "stream",
          "name": "stdout",
          "text": [
            "********\n",
            "\n",
            "********\n",
            "\n",
            "extracted_answer is  {'predicted_order': 'CT renal stone protocol', 'predicted_protocol': 'renal stone', 'predicted_comments': []} <class 'dict'>\n",
            "true answer json: {'accession': '800326', 'predicted_order': 'CT renal stone protocol inc CT abd and pelvis wo contrast', 'predicted_protocol': 'renal stone', 'predicted_comments': []} <class 'dict'>\n",
            "Progress: case 118 of 236\n",
            "score this case: 0.9\n"
          ]
        },
        {
          "output_type": "stream",
          "name": "stderr",
          "text": [
            "Setting `pad_token_id` to `eos_token_id`:2 for open-end generation.\n"
          ]
        },
        {
          "output_type": "stream",
          "name": "stdout",
          "text": [
            "********\n",
            "\n",
            "********\n",
            "\n",
            "extracted_answer is  {'predicted_order': 'CT abdomen pelvis with contrast', 'predicted_protocol': 'routine', 'predicted_comments': ['oral contrast']} <class 'dict'>\n",
            "true answer json: {'accession': '800386', 'predicted_order': 'CT abdomen pelvis with contrast', 'predicted_protocol': 'routine', 'predicted_comments': []} <class 'dict'>\n",
            "Progress: case 119 of 236\n",
            "score this case: 0.9\n"
          ]
        },
        {
          "output_type": "stream",
          "name": "stderr",
          "text": [
            "Setting `pad_token_id` to `eos_token_id`:2 for open-end generation.\n"
          ]
        },
        {
          "output_type": "stream",
          "name": "stdout",
          "text": [
            "********\n",
            "\n",
            "********\n",
            "\n",
            "extracted_answer is  {'predicted_order': 'CT renal stone protocol', 'predicted_protocol': 'renal stone', 'predicted_comments': []} <class 'dict'>\n",
            "true answer json: {'accession': '800354', 'predicted_order': 'CT renal stone protocol inc CT abd and pelvis wo contrast', 'predicted_protocol': 'renal stone', 'predicted_comments': []} <class 'dict'>\n",
            "Progress: case 120 of 236\n",
            "score this case: 0.9\n"
          ]
        },
        {
          "output_type": "stream",
          "name": "stderr",
          "text": [
            "Setting `pad_token_id` to `eos_token_id`:2 for open-end generation.\n"
          ]
        },
        {
          "output_type": "stream",
          "name": "stdout",
          "text": [
            "********\n",
            "\n",
            "********\n",
            "\n",
            "extracted_answer is  {'predicted_order': 'CT abdomen pelvis with contrast', 'predicted_protocol': 'routine', 'predicted_comments': ['oral contrast']} <class 'dict'>\n",
            "true answer json: {'accession': '800679', 'predicted_order': 'CT abdomen pelvis with contrast', 'predicted_protocol': 'routine', 'predicted_comments': []} <class 'dict'>\n",
            "Progress: case 121 of 236\n",
            "score this case: 0.9\n"
          ]
        },
        {
          "output_type": "stream",
          "name": "stderr",
          "text": [
            "Setting `pad_token_id` to `eos_token_id`:2 for open-end generation.\n"
          ]
        },
        {
          "output_type": "stream",
          "name": "stdout",
          "text": [
            "********\n",
            "\n",
            "********\n",
            "\n",
            "extracted_answer is  {'predicted_order': 'CT chest abdomen pelvis with contrast', 'predicted_protocol': 'routine', 'predicted_comments': ['']} <class 'dict'>\n",
            "true answer json: {'accession': '800586', 'predicted_order': 'CT chest abdomen pelvis with contrast w MIPS', 'predicted_protocol': 'routine', 'predicted_comments': ['low pelvis']} <class 'dict'>\n",
            "Progress: case 122 of 236\n",
            "score this case: 0.8\n"
          ]
        },
        {
          "output_type": "stream",
          "name": "stderr",
          "text": [
            "Setting `pad_token_id` to `eos_token_id`:2 for open-end generation.\n"
          ]
        },
        {
          "output_type": "stream",
          "name": "stdout",
          "text": [
            "********\n",
            "\n",
            "********\n",
            "\n",
            "extracted_answer is  {'predicted_order': 'CT chest abdomen pelvis with contrast', 'predicted_protocol': 'routine', 'predicted_comments': ['oral contrast']} <class 'dict'>\n",
            "true answer json: {'accession': '801073', 'predicted_order': 'CT chest abdomen pelvis with contrast w MIPS', 'predicted_protocol': 'trauma', 'predicted_comments': []} <class 'dict'>\n",
            "Progress: case 123 of 236\n",
            "score this case: 0.3\n"
          ]
        },
        {
          "output_type": "stream",
          "name": "stderr",
          "text": [
            "Setting `pad_token_id` to `eos_token_id`:2 for open-end generation.\n"
          ]
        },
        {
          "output_type": "stream",
          "name": "stdout",
          "text": [
            "********\n",
            "\n",
            "********\n",
            "\n",
            "extracted_answer is  {'predicted_order': 'CT abdomen pelvis with contrast', 'predicted_protocol': 'routine', 'predicted_comments': ['oral contrast']} <class 'dict'>\n",
            "true answer json: {'accession': '800508', 'predicted_order': 'CT abdomen pelvis with contrast', 'predicted_protocol': 'routine', 'predicted_comments': []} <class 'dict'>\n",
            "Progress: case 124 of 236\n",
            "score this case: 0.9\n"
          ]
        },
        {
          "output_type": "stream",
          "name": "stderr",
          "text": [
            "Setting `pad_token_id` to `eos_token_id`:2 for open-end generation.\n"
          ]
        },
        {
          "output_type": "stream",
          "name": "stdout",
          "text": [
            "********\n",
            "\n",
            "********\n",
            "\n",
            "extracted_answer is  {'predicted_order': 'CT abdomen pelvis with contrast', 'predicted_protocol': 'rcc', 'predicted_comments': ['']} <class 'dict'>\n",
            "true answer json: {'accession': '800280', 'predicted_order': 'CT RCC protocol inc CT dual abd and pelvis w wo contrast', 'predicted_protocol': 'rcc', 'predicted_comments': []} <class 'dict'>\n",
            "Progress: case 125 of 236\n",
            "score this case: 0.8\n"
          ]
        },
        {
          "output_type": "stream",
          "name": "stderr",
          "text": [
            "Setting `pad_token_id` to `eos_token_id`:2 for open-end generation.\n"
          ]
        },
        {
          "output_type": "stream",
          "name": "stdout",
          "text": [
            "********\n",
            "\n",
            "********\n",
            "\n",
            "extracted_answer is  {'predicted_order': 'CT abdomen pelvis with contrast', 'predicted_protocol': 'routine', 'predicted_comments': ['oral contrast']} <class 'dict'>\n",
            "true answer json: {'accession': '800734', 'predicted_order': 'CT abdomen pelvis with contrast', 'predicted_protocol': 'routine', 'predicted_comments': []} <class 'dict'>\n",
            "Progress: case 126 of 236\n",
            "score this case: 0.9\n"
          ]
        },
        {
          "output_type": "stream",
          "name": "stderr",
          "text": [
            "Setting `pad_token_id` to `eos_token_id`:2 for open-end generation.\n"
          ]
        },
        {
          "output_type": "stream",
          "name": "stdout",
          "text": [
            "********\n",
            "\n",
            "********\n",
            "\n",
            "extracted_answer is  {'predicted_order': 'CT abdomen pelvis with contrast', 'predicted_protocol': 'pancreas', 'predicted_comments': ['']} <class 'dict'>\n",
            "true answer json: {'accession': '801017', 'predicted_order': 'CT abdomen pelvis with contrast', 'predicted_protocol': 'routine', 'predicted_comments': []} <class 'dict'>\n",
            "Progress: case 127 of 236\n",
            "score this case: 0.4\n"
          ]
        },
        {
          "output_type": "stream",
          "name": "stderr",
          "text": [
            "Setting `pad_token_id` to `eos_token_id`:2 for open-end generation.\n"
          ]
        },
        {
          "output_type": "stream",
          "name": "stdout",
          "text": [
            "********\n",
            "\n",
            "********\n",
            "\n",
            "extracted_answer is  {'predicted_order': 'CT chest abdomen pelvis with contrast', 'predicted_protocol': 'routine', 'predicted_comments': ['oral contrast']} <class 'dict'>\n",
            "true answer json: {'accession': '800757', 'predicted_order': 'CT chest abdomen pelvis with contrast w MIPS', 'predicted_protocol': 'routine', 'predicted_comments': []} <class 'dict'>\n",
            "Progress: case 128 of 236\n",
            "score this case: 0.8\n"
          ]
        },
        {
          "output_type": "stream",
          "name": "stderr",
          "text": [
            "Setting `pad_token_id` to `eos_token_id`:2 for open-end generation.\n"
          ]
        },
        {
          "output_type": "stream",
          "name": "stdout",
          "text": [
            "********\n",
            "\n",
            "********\n",
            "\n",
            "extracted_answer is  {'predicted_order': 'CT abdomen pelvis with contrast', 'predicted_protocol': 'routine', 'predicted_comments': ['oral contrast']} <class 'dict'>\n",
            "true answer json: {'accession': '800488', 'predicted_order': 'CT abdomen pelvis with contrast', 'predicted_protocol': 'routine', 'predicted_comments': []} <class 'dict'>\n",
            "Progress: case 129 of 236\n",
            "score this case: 0.9\n"
          ]
        },
        {
          "output_type": "stream",
          "name": "stderr",
          "text": [
            "Setting `pad_token_id` to `eos_token_id`:2 for open-end generation.\n"
          ]
        },
        {
          "output_type": "stream",
          "name": "stdout",
          "text": [
            "********\n",
            "\n",
            "********\n",
            "\n",
            "extracted_answer is  {'predicted_order': 'CT abdomen pelvis with contrast', 'predicted_protocol': 'routine', 'predicted_comments': ['oral contrast']} <class 'dict'>\n",
            "true answer json: {'accession': '800519', 'predicted_order': 'CT abdomen pelvis with contrast', 'predicted_protocol': 'routine', 'predicted_comments': ['low pelvis']} <class 'dict'>\n",
            "Progress: case 130 of 236\n",
            "score this case: 0.9\n"
          ]
        },
        {
          "output_type": "stream",
          "name": "stderr",
          "text": [
            "Setting `pad_token_id` to `eos_token_id`:2 for open-end generation.\n"
          ]
        },
        {
          "output_type": "stream",
          "name": "stdout",
          "text": [
            "********\n",
            "\n",
            "********\n",
            "\n",
            "extracted_answer is  {'predicted_order': 'CT abdomen pelvis with contrast', 'predicted_protocol': 'routine', 'predicted_comments': ['oral contrast']} <class 'dict'>\n",
            "true answer json: {'accession': '800663', 'predicted_order': 'CT abdomen pelvis with contrast', 'predicted_protocol': 'routine', 'predicted_comments': []} <class 'dict'>\n",
            "Progress: case 131 of 236\n",
            "score this case: 0.9\n"
          ]
        },
        {
          "output_type": "stream",
          "name": "stderr",
          "text": [
            "Setting `pad_token_id` to `eos_token_id`:2 for open-end generation.\n"
          ]
        },
        {
          "output_type": "stream",
          "name": "stdout",
          "text": [
            "********\n",
            "\n",
            "********\n",
            "\n",
            "extracted_answer is  {'predicted_order': 'CT abdomen pelvis with contrast', 'predicted_protocol': 'routine', 'predicted_comments': ['oral contrast']} <class 'dict'>\n",
            "true answer json: {'accession': '800687', 'predicted_order': 'CT abdomen pelvis with contrast', 'predicted_protocol': 'routine', 'predicted_comments': []} <class 'dict'>\n",
            "Progress: case 132 of 236\n",
            "score this case: 0.9\n"
          ]
        },
        {
          "output_type": "stream",
          "name": "stderr",
          "text": [
            "Setting `pad_token_id` to `eos_token_id`:2 for open-end generation.\n"
          ]
        },
        {
          "output_type": "stream",
          "name": "stdout",
          "text": [
            "********\n",
            "\n",
            "********\n",
            "\n",
            "extracted_answer is  {'predicted_order': 'CT abdomen pelvis with contrast', 'predicted_protocol': 'routine', 'predicted_comments': ['']} <class 'dict'>\n",
            "true answer json: {'accession': '801006', 'predicted_order': 'CT abdomen pelvis with contrast', 'predicted_protocol': 'routine', 'predicted_comments': []} <class 'dict'>\n",
            "Progress: case 133 of 236\n",
            "score this case: 0.9\n"
          ]
        },
        {
          "output_type": "stream",
          "name": "stderr",
          "text": [
            "Setting `pad_token_id` to `eos_token_id`:2 for open-end generation.\n"
          ]
        },
        {
          "output_type": "stream",
          "name": "stdout",
          "text": [
            "********\n",
            "\n",
            "********\n",
            "\n",
            "extracted_answer is  {'predicted_order': 'CT GU protocol inc CT dual abd and pelvis with and without contrast', 'predicted_protocol': 'gu', 'predicted_comments': ['reroute coverage']} <class 'dict'>\n",
            "true answer json: {'accession': '800142', 'predicted_order': 'CT GU protocol inc CT dual abd and pelvis with and without contrast', 'predicted_protocol': 'gu', 'predicted_comments': []} <class 'dict'>\n",
            "Progress: case 134 of 236\n",
            "score this case: 0.9\n"
          ]
        },
        {
          "output_type": "stream",
          "name": "stderr",
          "text": [
            "Setting `pad_token_id` to `eos_token_id`:2 for open-end generation.\n"
          ]
        },
        {
          "output_type": "stream",
          "name": "stdout",
          "text": [
            "********\n",
            "\n",
            "********\n",
            "\n",
            "extracted_answer is  {'predicted_order': 'CT abdomen pelvis noncon', 'predicted_protocol': 'noncon', 'predicted_comments': []} <class 'dict'>\n",
            "true answer json: {'accession': '800171', 'predicted_order': 'CT abdomen pelvis without contrast', 'predicted_protocol': 'noncon', 'predicted_comments': []} <class 'dict'>\n",
            "Progress: case 135 of 236\n",
            "score this case: 0.9\n"
          ]
        },
        {
          "output_type": "stream",
          "name": "stderr",
          "text": [
            "Setting `pad_token_id` to `eos_token_id`:2 for open-end generation.\n"
          ]
        },
        {
          "output_type": "stream",
          "name": "stdout",
          "text": [
            "********\n",
            "\n",
            "********\n",
            "\n",
            "extracted_answer is  {'predicted_order': 'CT chest abdomen pelvis with contrast', 'predicted_protocol': 'routine', 'predicted_comments': ['']} <class 'dict'>\n",
            "true answer json: {'accession': '800753', 'predicted_order': 'CT chest abdomen pelvis with contrast w MIPS', 'predicted_protocol': 'routine', 'predicted_comments': []} <class 'dict'>\n",
            "Progress: case 136 of 236\n",
            "score this case: 0.8\n"
          ]
        },
        {
          "output_type": "stream",
          "name": "stderr",
          "text": [
            "Setting `pad_token_id` to `eos_token_id`:2 for open-end generation.\n"
          ]
        },
        {
          "output_type": "stream",
          "name": "stdout",
          "text": [
            "********\n",
            "\n",
            "********\n",
            "\n",
            "extracted_answer is  {'predicted_order': 'CT abdomen pelvis with contrast', 'predicted_protocol': 'crohns', 'predicted_comments': ['oral contrast']} <class 'dict'>\n",
            "true answer json: {'accession': '800499', 'predicted_order': 'CT abdomen pelvis with contrast', 'predicted_protocol': 'routine', 'predicted_comments': []} <class 'dict'>\n",
            "Progress: case 137 of 236\n",
            "score this case: 0.4\n"
          ]
        },
        {
          "output_type": "stream",
          "name": "stderr",
          "text": [
            "Setting `pad_token_id` to `eos_token_id`:2 for open-end generation.\n"
          ]
        },
        {
          "output_type": "stream",
          "name": "stdout",
          "text": [
            "********\n",
            "\n",
            "********\n",
            "\n",
            "extracted_answer is  {'predicted_order': 'CT abdomen pelvis with contrast', 'predicted_protocol': 'routine', 'predicted_comments': ['oral contrast']} <class 'dict'>\n",
            "true answer json: {'accession': '800677', 'predicted_order': 'CT abdomen pelvis with contrast', 'predicted_protocol': 'routine', 'predicted_comments': []} <class 'dict'>\n",
            "Progress: case 138 of 236\n",
            "score this case: 0.9\n"
          ]
        },
        {
          "output_type": "stream",
          "name": "stderr",
          "text": [
            "Setting `pad_token_id` to `eos_token_id`:2 for open-end generation.\n"
          ]
        },
        {
          "output_type": "stream",
          "name": "stdout",
          "text": [
            "********\n",
            "\n",
            "********\n",
            "\n",
            "extracted_answer is  {'predicted_order': 'CT abdomen pelvis with and without contrast', 'predicted_protocol': 'dual liver', 'predicted_comments': ['oral contrast']} <class 'dict'>\n",
            "true answer json: {'accession': '800098', 'predicted_order': 'CT occult GI bleed incl dual abdomen pelvis with and without contrast', 'predicted_protocol': 'gi bleed', 'predicted_comments': []} <class 'dict'>\n",
            "Progress: case 139 of 236\n",
            "score this case: 0.3\n"
          ]
        },
        {
          "output_type": "stream",
          "name": "stderr",
          "text": [
            "Setting `pad_token_id` to `eos_token_id`:2 for open-end generation.\n"
          ]
        },
        {
          "output_type": "stream",
          "name": "stdout",
          "text": [
            "********\n",
            "\n",
            "********\n",
            "\n",
            "extracted_answer is  {'predicted_order': 'CT abdomen pelvis with contrast', 'predicted_protocol': 'routine', 'predicted_comments': ['oral contrast']} <class 'dict'>\n",
            "true answer json: {'accession': '800463', 'predicted_order': 'CT abdomen pelvis with contrast', 'predicted_protocol': 'routine', 'predicted_comments': []} <class 'dict'>\n",
            "Progress: case 140 of 236\n",
            "score this case: 0.9\n"
          ]
        },
        {
          "output_type": "stream",
          "name": "stderr",
          "text": [
            "Setting `pad_token_id` to `eos_token_id`:2 for open-end generation.\n"
          ]
        },
        {
          "output_type": "stream",
          "name": "stdout",
          "text": [
            "********\n",
            "\n",
            "********\n",
            "\n",
            "extracted_answer is  {'predicted_order': 'CT chest abdomen pelvis with contrast', 'predicted_protocol': 'routine', 'predicted_comments': ['']} <class 'dict'>\n",
            "true answer json: {'accession': '800756', 'predicted_order': 'CT chest abdomen pelvis with contrast w MIPS', 'predicted_protocol': 'routine', 'predicted_comments': []} <class 'dict'>\n",
            "Progress: case 141 of 236\n",
            "score this case: 0.8\n"
          ]
        },
        {
          "output_type": "stream",
          "name": "stderr",
          "text": [
            "Setting `pad_token_id` to `eos_token_id`:2 for open-end generation.\n"
          ]
        },
        {
          "output_type": "stream",
          "name": "stdout",
          "text": [
            "********\n",
            "\n",
            "********\n",
            "\n",
            "extracted_answer is  {'predicted_order': 'CT chest abdomen pelvis with contrast', 'predicted_protocol': 'pancreas', 'predicted_comments': ['']} <class 'dict'>\n",
            "true answer json: {'accession': '800250', 'predicted_order': 'CT dual pancreas incl CT abd pel w and CT chest w MIPS', 'predicted_protocol': 'pancreas', 'predicted_comments': []} <class 'dict'>\n",
            "Progress: case 142 of 236\n",
            "score this case: 0.8\n"
          ]
        },
        {
          "output_type": "stream",
          "name": "stderr",
          "text": [
            "Setting `pad_token_id` to `eos_token_id`:2 for open-end generation.\n"
          ]
        },
        {
          "output_type": "stream",
          "name": "stdout",
          "text": [
            "********\n",
            "\n",
            "********\n",
            "\n",
            "extracted_answer is  {'predicted_order': 'CT abdomen pelvis with contrast', 'predicted_protocol': 'routine', 'predicted_comments': ['oral contrast']} <class 'dict'>\n",
            "true answer json: {'accession': '800717', 'predicted_order': 'CT abdomen pelvis with contrast', 'predicted_protocol': 'routine', 'predicted_comments': []} <class 'dict'>\n",
            "Progress: case 143 of 236\n",
            "score this case: 0.9\n"
          ]
        },
        {
          "output_type": "stream",
          "name": "stderr",
          "text": [
            "Setting `pad_token_id` to `eos_token_id`:2 for open-end generation.\n"
          ]
        },
        {
          "output_type": "stream",
          "name": "stdout",
          "text": [
            "********\n",
            "\n",
            "********\n",
            "\n",
            "extracted_answer is  {'predicted_order': 'CT abdomen pelvis noncon', 'predicted_protocol': 'noncon', 'predicted_comments': ['oral contrast']} <class 'dict'>\n",
            "true answer json: {'accession': '800170', 'predicted_order': 'CT abdomen pelvis without contrast', 'predicted_protocol': 'noncon', 'predicted_comments': ['oral contrast']} <class 'dict'>\n",
            "Progress: case 144 of 236\n",
            "score this case: 0.9\n"
          ]
        },
        {
          "output_type": "stream",
          "name": "stderr",
          "text": [
            "Setting `pad_token_id` to `eos_token_id`:2 for open-end generation.\n"
          ]
        },
        {
          "output_type": "stream",
          "name": "stdout",
          "text": [
            "********\n",
            "\n",
            "********\n",
            "\n",
            "extracted_answer is  {'predicted_order': 'CT abdomen pelvis with contrast', 'predicted_protocol': 'dual liver', 'predicted_comments': ['oral contrast']} <class 'dict'>\n",
            "true answer json: {'accession': '801165', 'predicted_order': 'CT abdomen pelvis with contrast', 'predicted_protocol': 'gi bleed', 'predicted_comments': []} <class 'dict'>\n",
            "Progress: case 145 of 236\n",
            "score this case: 0.4\n"
          ]
        },
        {
          "output_type": "stream",
          "name": "stderr",
          "text": [
            "Setting `pad_token_id` to `eos_token_id`:2 for open-end generation.\n"
          ]
        },
        {
          "output_type": "stream",
          "name": "stdout",
          "text": [
            "********\n",
            "\n",
            "********\n",
            "\n",
            "extracted_answer is  {'predicted_order': 'CT chest abdomen pelvis with contrast', 'predicted_protocol': 'routine', 'predicted_comments': ['']} <class 'dict'>\n",
            "true answer json: {'accession': '800949', 'predicted_order': 'CT chest abdomen pelvis with contrast w MIPS', 'predicted_protocol': 'routine', 'predicted_comments': []} <class 'dict'>\n",
            "Progress: case 146 of 236\n",
            "score this case: 0.8\n"
          ]
        },
        {
          "output_type": "stream",
          "name": "stderr",
          "text": [
            "Setting `pad_token_id` to `eos_token_id`:2 for open-end generation.\n"
          ]
        },
        {
          "output_type": "stream",
          "name": "stdout",
          "text": [
            "********\n",
            "\n",
            "********\n",
            "\n",
            "extracted_answer is  {'predicted_order': 'CT pelvis with contrast', 'predicted_protocol': 'routine', 'predicted_comments': ['']} <class 'dict'>\n",
            "true answer json: {'accession': '800631', 'predicted_order': 'CT pelvis with contrast', 'predicted_protocol': 'routine', 'predicted_comments': ['low pelvis']} <class 'dict'>\n",
            "Progress: case 147 of 236\n",
            "score this case: 0.9\n"
          ]
        },
        {
          "output_type": "stream",
          "name": "stderr",
          "text": [
            "Setting `pad_token_id` to `eos_token_id`:2 for open-end generation.\n"
          ]
        },
        {
          "output_type": "stream",
          "name": "stdout",
          "text": [
            "********\n",
            "\n",
            "********\n",
            "\n",
            "extracted_answer is  {'predicted_order': 'CT abdomen pelvis noncon', 'predicted_protocol': 'noncon', 'predicted_comments': []} <class 'dict'>\n",
            "true answer json: {'accession': '800167', 'predicted_order': 'CT abdomen pelvis without contrast', 'predicted_protocol': 'noncon', 'predicted_comments': []} <class 'dict'>\n",
            "Progress: case 148 of 236\n",
            "score this case: 0.9\n"
          ]
        },
        {
          "output_type": "stream",
          "name": "stderr",
          "text": [
            "Setting `pad_token_id` to `eos_token_id`:2 for open-end generation.\n"
          ]
        },
        {
          "output_type": "stream",
          "name": "stdout",
          "text": [
            "********\n",
            "\n",
            "********\n",
            "\n",
            "extracted_answer is  {'predicted_order': 'CT abdomen pelvis with contrast', 'predicted_protocol': 'routine', 'predicted_comments': ['oral contrast']} <class 'dict'>\n",
            "true answer json: {'accession': '800523', 'predicted_order': 'CT abdomen pelvis with contrast', 'predicted_protocol': 'routine', 'predicted_comments': []} <class 'dict'>\n",
            "Progress: case 149 of 236\n",
            "score this case: 0.9\n"
          ]
        },
        {
          "output_type": "stream",
          "name": "stderr",
          "text": [
            "Setting `pad_token_id` to `eos_token_id`:2 for open-end generation.\n"
          ]
        },
        {
          "output_type": "stream",
          "name": "stdout",
          "text": [
            "********\n",
            "\n",
            "********\n",
            "\n",
            "extracted_answer is  {'predicted_order': 'CT renal stone protocol', 'predicted_protocol': 'renal stone', 'predicted_comments': ['']} <class 'dict'>\n",
            "true answer json: {'accession': '800289', 'predicted_order': 'CT renal stone protocol inc CT abd and pelvis wo contrast', 'predicted_protocol': 'renal stone', 'predicted_comments': []} <class 'dict'>\n",
            "Progress: case 150 of 236\n",
            "score this case: 0.8\n"
          ]
        },
        {
          "output_type": "stream",
          "name": "stderr",
          "text": [
            "Setting `pad_token_id` to `eos_token_id`:2 for open-end generation.\n"
          ]
        },
        {
          "output_type": "stream",
          "name": "stdout",
          "text": [
            "********\n",
            "\n",
            "********\n",
            "\n",
            "extracted_answer is  {'predicted_order': 'CT abdomen with contrast', 'predicted_protocol': 'routine', 'predicted_comments': []} <class 'dict'>\n",
            "true answer json: {'accession': '800573', 'predicted_order': 'CT abdomen with contrast', 'predicted_protocol': 'routine', 'predicted_comments': []} <class 'dict'>\n",
            "Progress: case 151 of 236\n",
            "score this case: 1.0\n"
          ]
        },
        {
          "output_type": "stream",
          "name": "stderr",
          "text": [
            "Setting `pad_token_id` to `eos_token_id`:2 for open-end generation.\n"
          ]
        },
        {
          "output_type": "stream",
          "name": "stdout",
          "text": [
            "********\n",
            "\n",
            "********\n",
            "\n",
            "extracted_answer is  {'predicted_order': 'CT chest abdomen pelvis with contrast', 'predicted_protocol': 'routine', 'predicted_comments': ['']} <class 'dict'>\n",
            "true answer json: {'accession': '801109', 'predicted_order': 'CT chest abdomen pelvis with contrast w MIPS', 'predicted_protocol': 'trauma', 'predicted_comments': []} <class 'dict'>\n",
            "Progress: case 152 of 236\n",
            "score this case: 0.3\n"
          ]
        },
        {
          "output_type": "stream",
          "name": "stderr",
          "text": [
            "Setting `pad_token_id` to `eos_token_id`:2 for open-end generation.\n"
          ]
        },
        {
          "output_type": "stream",
          "name": "stdout",
          "text": [
            "********\n",
            "\n",
            "********\n",
            "\n",
            "extracted_answer is  {'predicted_order': 'CT chest abdomen pelvis with contrast', 'predicted_protocol': 'trauma', 'predicted_comments': ['oral contrast']} <class 'dict'>\n",
            "true answer json: {'accession': '801150', 'predicted_order': 'CT chest abdomen pelvis with contrast w MIPS', 'predicted_protocol': 'trauma', 'predicted_comments': []} <class 'dict'>\n",
            "Progress: case 153 of 236\n",
            "score this case: 0.8\n"
          ]
        },
        {
          "output_type": "stream",
          "name": "stderr",
          "text": [
            "Setting `pad_token_id` to `eos_token_id`:2 for open-end generation.\n"
          ]
        },
        {
          "output_type": "stream",
          "name": "stdout",
          "text": [
            "********\n",
            "\n",
            "********\n",
            "\n",
            "extracted_answer is  {'predicted_order': 'CT abdomen pelvis with contrast', 'predicted_protocol': 'routine', 'predicted_comments': ['']} <class 'dict'>\n",
            "true answer json: {'accession': '800396', 'predicted_order': 'CT abdomen pelvis with contrast', 'predicted_protocol': 'routine', 'predicted_comments': ['md check for drain']} <class 'dict'>\n",
            "Progress: case 154 of 236\n",
            "score this case: 0.9\n"
          ]
        },
        {
          "output_type": "stream",
          "name": "stderr",
          "text": [
            "Setting `pad_token_id` to `eos_token_id`:2 for open-end generation.\n"
          ]
        },
        {
          "output_type": "stream",
          "name": "stdout",
          "text": [
            "********\n",
            "\n",
            "********\n",
            "\n",
            "extracted_answer is  {'predicted_order': 'CT chest abdomen pelvis with contrast', 'predicted_protocol': 'trauma', 'predicted_comments': ['']} <class 'dict'>\n",
            "true answer json: {'accession': '801129', 'predicted_order': 'CT chest abdomen pelvis level two trauma with contrast with MIPS protocol', 'predicted_protocol': 'trauma', 'predicted_comments': []} <class 'dict'>\n",
            "Progress: case 155 of 236\n",
            "score this case: 0.8\n"
          ]
        },
        {
          "output_type": "stream",
          "name": "stderr",
          "text": [
            "Setting `pad_token_id` to `eos_token_id`:2 for open-end generation.\n"
          ]
        },
        {
          "output_type": "stream",
          "name": "stdout",
          "text": [
            "********\n",
            "\n",
            "********\n",
            "\n",
            "extracted_answer is  {'predicted_order': 'CT abdomen pelvis with contrast', 'predicted_protocol': 'routine', 'predicted_comments': ['oral contrast']} <class 'dict'>\n",
            "true answer json: {'accession': '800664', 'predicted_order': 'CT abdomen pelvis with contrast', 'predicted_protocol': 'routine', 'predicted_comments': []} <class 'dict'>\n",
            "Progress: case 156 of 236\n",
            "score this case: 0.9\n"
          ]
        },
        {
          "output_type": "stream",
          "name": "stderr",
          "text": [
            "Setting `pad_token_id` to `eos_token_id`:2 for open-end generation.\n"
          ]
        },
        {
          "output_type": "stream",
          "name": "stdout",
          "text": [
            "********\n",
            "\n",
            "********\n",
            "\n",
            "extracted_answer is  {'predicted_order': 'CT abdomen pelvis with and without contrast', 'predicted_protocol': 'dual liver', 'predicted_comments': ['oral contrast']} <class 'dict'>\n",
            "true answer json: {'accession': '800119', 'predicted_order': 'CT occult GI bleed incl dual abdomen pelvis with and without contrast', 'predicted_protocol': 'gi bleed', 'predicted_comments': []} <class 'dict'>\n",
            "Progress: case 157 of 236\n",
            "score this case: 0.3\n"
          ]
        },
        {
          "output_type": "stream",
          "name": "stderr",
          "text": [
            "Setting `pad_token_id` to `eos_token_id`:2 for open-end generation.\n"
          ]
        },
        {
          "output_type": "stream",
          "name": "stdout",
          "text": [
            "********\n",
            "\n",
            "********\n",
            "\n",
            "extracted_answer is  {'predicted_order': 'CT abdomen pelvis with and without contrast', 'predicted_protocol': 'GI bleed', 'predicted_comments': ['']} <class 'dict'>\n",
            "true answer json: {'accession': '800108', 'predicted_order': 'CT occult GI bleed incl dual abdomen pelvis with and without contrast', 'predicted_protocol': 'gi bleed', 'predicted_comments': []} <class 'dict'>\n",
            "Progress: case 158 of 236\n",
            "score this case: 0.3\n"
          ]
        },
        {
          "output_type": "stream",
          "name": "stderr",
          "text": [
            "Setting `pad_token_id` to `eos_token_id`:2 for open-end generation.\n"
          ]
        },
        {
          "output_type": "stream",
          "name": "stdout",
          "text": [
            "********\n",
            "\n",
            "********\n",
            "\n",
            "extracted_answer is  {'predicted_order': 'CT renal stone protocol', 'predicted_protocol': 'renal stone', 'predicted_comments': []} <class 'dict'>\n",
            "true answer json: {'accession': '800334', 'predicted_order': 'CT renal stone protocol inc CT abd and pelvis wo contrast', 'predicted_protocol': 'renal stone', 'predicted_comments': []} <class 'dict'>\n",
            "Progress: case 159 of 236\n",
            "score this case: 0.9\n"
          ]
        },
        {
          "output_type": "stream",
          "name": "stderr",
          "text": [
            "Setting `pad_token_id` to `eos_token_id`:2 for open-end generation.\n"
          ]
        },
        {
          "output_type": "stream",
          "name": "stdout",
          "text": [
            "********\n",
            "\n",
            "********\n",
            "\n",
            "extracted_answer is  {'predicted_order': 'CT abdomen pelvis with contrast', 'predicted_protocol': 'routine', 'predicted_comments': ['oral contrast']} <class 'dict'>\n",
            "true answer json: {'accession': '800887', 'predicted_order': 'CT abdomen pelvis with contrast', 'predicted_protocol': 'routine', 'predicted_comments': []} <class 'dict'>\n",
            "Progress: case 160 of 236\n",
            "score this case: 0.9\n"
          ]
        },
        {
          "output_type": "stream",
          "name": "stderr",
          "text": [
            "Setting `pad_token_id` to `eos_token_id`:2 for open-end generation.\n"
          ]
        },
        {
          "output_type": "stream",
          "name": "stdout",
          "text": [
            "********\n",
            "\n",
            "********\n",
            "\n",
            "extracted_answer is  {'predicted_order': 'CT abdomen pelvis with contrast', 'predicted_protocol': 'routine', 'predicted_comments': ['oral contrast']} <class 'dict'>\n",
            "true answer json: {'accession': '800515', 'predicted_order': 'CT abdomen pelvis with contrast', 'predicted_protocol': 'routine', 'predicted_comments': []} <class 'dict'>\n",
            "Progress: case 161 of 236\n",
            "score this case: 0.9\n"
          ]
        },
        {
          "output_type": "stream",
          "name": "stderr",
          "text": [
            "Setting `pad_token_id` to `eos_token_id`:2 for open-end generation.\n"
          ]
        },
        {
          "output_type": "stream",
          "name": "stdout",
          "text": [
            "********\n",
            "\n",
            "********\n",
            "\n",
            "extracted_answer is  {'predicted_order': 'CT abdomen pelvis with contrast', 'predicted_protocol': 'routine', 'predicted_comments': ['oral contrast']} <class 'dict'>\n",
            "true answer json: {'accession': '800134', 'predicted_order': 'CT abdomen pelvis with and without contrast', 'predicted_protocol': 'gu', 'predicted_comments': []} <class 'dict'>\n",
            "Progress: case 162 of 236\n",
            "score this case: 0.3\n"
          ]
        },
        {
          "output_type": "stream",
          "name": "stderr",
          "text": [
            "Setting `pad_token_id` to `eos_token_id`:2 for open-end generation.\n"
          ]
        },
        {
          "output_type": "stream",
          "name": "stdout",
          "text": [
            "********\n",
            "\n",
            "********\n",
            "\n",
            "extracted_answer is  {'predicted_order': 'CT abdomen pelvis with contrast', 'predicted_protocol': 'routine', 'predicted_comments': ['oral contrast']} <class 'dict'>\n",
            "true answer json: {'accession': '800484', 'predicted_order': 'CT abdomen pelvis with contrast', 'predicted_protocol': 'routine', 'predicted_comments': []} <class 'dict'>\n",
            "Progress: case 163 of 236\n",
            "score this case: 0.9\n"
          ]
        },
        {
          "output_type": "stream",
          "name": "stderr",
          "text": [
            "Setting `pad_token_id` to `eos_token_id`:2 for open-end generation.\n"
          ]
        },
        {
          "output_type": "stream",
          "name": "stdout",
          "text": [
            "********\n",
            "\n",
            "********\n",
            "\n",
            "extracted_answer is  {'predicted_order': 'CT abdomen pelvis with contrast', 'predicted_protocol': 'routine', 'predicted_comments': ['oral contrast']} <class 'dict'>\n",
            "true answer json: {'accession': '800369', 'predicted_order': 'CT abdomen pelvis with contrast', 'predicted_protocol': 'routine', 'predicted_comments': []} <class 'dict'>\n",
            "Progress: case 164 of 236\n",
            "score this case: 0.9\n"
          ]
        },
        {
          "output_type": "stream",
          "name": "stderr",
          "text": [
            "Setting `pad_token_id` to `eos_token_id`:2 for open-end generation.\n"
          ]
        },
        {
          "output_type": "stream",
          "name": "stdout",
          "text": [
            "********\n",
            "\n",
            "********\n",
            "\n",
            "extracted_answer is  {'predicted_order': 'CT abdomen with contrast', 'predicted_protocol': 'dual liver', 'predicted_comments': ['oral contrast']} <class 'dict'>\n",
            "true answer json: {'accession': '800029', 'predicted_order': 'CT cirrhosis abdomen only w contrast protocol', 'predicted_protocol': 'cirrhosis', 'predicted_comments': []} <class 'dict'>\n",
            "Progress: case 165 of 236\n",
            "score this case: 0.3\n"
          ]
        },
        {
          "output_type": "stream",
          "name": "stderr",
          "text": [
            "Setting `pad_token_id` to `eos_token_id`:2 for open-end generation.\n"
          ]
        },
        {
          "output_type": "stream",
          "name": "stdout",
          "text": [
            "********\n",
            "\n",
            "********\n",
            "\n",
            "extracted_answer is  {'predicted_order': 'CT abdomen pelvis noncon', 'predicted_protocol': 'noncon', 'predicted_comments': []} <class 'dict'>\n",
            "true answer json: {'accession': '800299', 'predicted_order': 'CT renal stone protocol inc CT abd and pelvis wo contrast', 'predicted_protocol': 'renal stone', 'predicted_comments': []} <class 'dict'>\n",
            "Progress: case 166 of 236\n",
            "score this case: 0.4\n"
          ]
        },
        {
          "output_type": "stream",
          "name": "stderr",
          "text": [
            "Setting `pad_token_id` to `eos_token_id`:2 for open-end generation.\n"
          ]
        },
        {
          "output_type": "stream",
          "name": "stdout",
          "text": [
            "********\n",
            "\n",
            "********\n",
            "\n",
            "extracted_answer is  {'predicted_order': 'CT abdomen pelvis with contrast', 'predicted_protocol': 'routine', 'predicted_comments': ['oral contrast']} <class 'dict'>\n",
            "true answer json: {'accession': '800374', 'predicted_order': 'CT abdomen pelvis with contrast', 'predicted_protocol': 'routine', 'predicted_comments': []} <class 'dict'>\n",
            "Progress: case 167 of 236\n",
            "score this case: 0.9\n"
          ]
        },
        {
          "output_type": "stream",
          "name": "stderr",
          "text": [
            "Setting `pad_token_id` to `eos_token_id`:2 for open-end generation.\n"
          ]
        },
        {
          "output_type": "stream",
          "name": "stdout",
          "text": [
            "********\n",
            "\n",
            "********\n",
            "\n",
            "extracted_answer is  {'predicted_order': 'CT dual pancreas protocol', 'predicted_protocol': 'dual liver', 'predicted_comments': ['']} <class 'dict'>\n",
            "true answer json: {'accession': '800248', 'predicted_order': 'CT dual pancreas protocol incl CT abd pel w contrast', 'predicted_protocol': 'pancreas', 'predicted_comments': []} <class 'dict'>\n",
            "Progress: case 168 of 236\n",
            "score this case: 0.3\n"
          ]
        },
        {
          "output_type": "stream",
          "name": "stderr",
          "text": [
            "Setting `pad_token_id` to `eos_token_id`:2 for open-end generation.\n"
          ]
        },
        {
          "output_type": "stream",
          "name": "stdout",
          "text": [
            "********\n",
            "\n",
            "********\n",
            "\n",
            "extracted_answer is  {'predicted_order': 'CT abdomen pelvis with contrast', 'predicted_protocol': 'routine', 'predicted_comments': ['oral contrast']} <class 'dict'>\n",
            "true answer json: {'accession': '801020', 'predicted_order': 'CT abdomen pelvis with contrast', 'predicted_protocol': 'routine', 'predicted_comments': []} <class 'dict'>\n",
            "Progress: case 169 of 236\n",
            "score this case: 0.9\n"
          ]
        },
        {
          "output_type": "stream",
          "name": "stderr",
          "text": [
            "Setting `pad_token_id` to `eos_token_id`:2 for open-end generation.\n"
          ]
        },
        {
          "output_type": "stream",
          "name": "stdout",
          "text": [
            "********\n",
            "\n",
            "********\n",
            "\n",
            "extracted_answer is  {'predicted_order': 'CT chest abdomen pelvis with contrast', 'predicted_protocol': 'routine', 'predicted_comments': ['']} <class 'dict'>\n",
            "true answer json: {'accession': '800597', 'predicted_order': 'CT chest abdomen pelvis with contrast w MIPS', 'predicted_protocol': 'routine', 'predicted_comments': []} <class 'dict'>\n",
            "Progress: case 170 of 236\n",
            "score this case: 0.8\n"
          ]
        },
        {
          "output_type": "stream",
          "name": "stderr",
          "text": [
            "Setting `pad_token_id` to `eos_token_id`:2 for open-end generation.\n"
          ]
        },
        {
          "output_type": "stream",
          "name": "stdout",
          "text": [
            "********\n",
            "\n",
            "********\n",
            "\n",
            "extracted_answer is  {'predicted_order': 'CT abdomen pelvis with contrast', 'predicted_protocol': 'routine', 'predicted_comments': ['oral contrast']} <class 'dict'>\n",
            "true answer json: {'accession': '800636', 'predicted_order': 'CT abdomen pelvis with contrast', 'predicted_protocol': 'routine', 'predicted_comments': []} <class 'dict'>\n",
            "Progress: case 171 of 236\n",
            "score this case: 0.9\n"
          ]
        },
        {
          "output_type": "stream",
          "name": "stderr",
          "text": [
            "Setting `pad_token_id` to `eos_token_id`:2 for open-end generation.\n"
          ]
        },
        {
          "output_type": "stream",
          "name": "stdout",
          "text": [
            "********\n",
            "\n",
            "********\n",
            "\n",
            "extracted_answer is  {'predicted_order': 'CT renal stone protocol inc CT kidneys, ureters and bladders with noncontrast', 'predicted_protocol': 'renal stone', 'predicted_comments': ['']} <class 'dict'>\n",
            "true answer json: {'accession': '800363', 'predicted_order': 'CT renal stone protocol inc CT abd and pelvis wo contrast', 'predicted_protocol': 'renal stone', 'predicted_comments': []} <class 'dict'>\n",
            "Progress: case 172 of 236\n",
            "score this case: 0.8\n"
          ]
        },
        {
          "output_type": "stream",
          "name": "stderr",
          "text": [
            "Setting `pad_token_id` to `eos_token_id`:2 for open-end generation.\n"
          ]
        },
        {
          "output_type": "stream",
          "name": "stdout",
          "text": [
            "********\n",
            "\n",
            "********\n",
            "\n",
            "extracted_answer is  {'predicted_order': 'CT abdomen pelvis with contrast', 'predicted_protocol': 'routine', 'predicted_comments': ['oral contrast']} <class 'dict'>\n",
            "true answer json: {'accession': '800433', 'predicted_order': 'CT abdomen pelvis with contrast', 'predicted_protocol': 'routine', 'predicted_comments': []} <class 'dict'>\n",
            "Progress: case 173 of 236\n",
            "score this case: 0.9\n"
          ]
        },
        {
          "output_type": "stream",
          "name": "stderr",
          "text": [
            "Setting `pad_token_id` to `eos_token_id`:2 for open-end generation.\n"
          ]
        },
        {
          "output_type": "stream",
          "name": "stdout",
          "text": [
            "********\n",
            "\n",
            "********\n",
            "\n",
            "extracted_answer is  {'predicted_order': 'CT abdomen pelvis with and without contrast', 'predicted_protocol': 'dual liver', 'predicted_comments': ['oral contrast']} <class 'dict'>\n",
            "true answer json: {'accession': '800065', 'predicted_order': 'CT occult GI bleed incl dual abdomen pelvis with and without contrast', 'predicted_protocol': 'gi bleed', 'predicted_comments': []} <class 'dict'>\n",
            "Progress: case 174 of 236\n",
            "score this case: 0.3\n"
          ]
        },
        {
          "output_type": "stream",
          "name": "stderr",
          "text": [
            "Setting `pad_token_id` to `eos_token_id`:2 for open-end generation.\n"
          ]
        },
        {
          "output_type": "stream",
          "name": "stdout",
          "text": [
            "********\n",
            "\n",
            "********\n",
            "\n",
            "extracted_answer is  {'predicted_order': 'CT chest abdomen pelvis with contrast', 'predicted_protocol': 'routine', 'predicted_comments': ['']} <class 'dict'>\n",
            "true answer json: {'accession': '800592', 'predicted_order': 'CT chest abdomen pelvis with contrast w MIPS', 'predicted_protocol': 'routine', 'predicted_comments': []} <class 'dict'>\n",
            "Progress: case 175 of 236\n",
            "score this case: 0.8\n"
          ]
        },
        {
          "output_type": "stream",
          "name": "stderr",
          "text": [
            "Setting `pad_token_id` to `eos_token_id`:2 for open-end generation.\n"
          ]
        },
        {
          "output_type": "stream",
          "name": "stdout",
          "text": [
            "********\n",
            "\n",
            "********\n",
            "\n",
            "extracted_answer is  {'predicted_order': 'CT abdomen pelvis with contrast', 'predicted_protocol': 'routine', 'predicted_comments': ['oral contrast']} <class 'dict'>\n",
            "true answer json: {'accession': '800381', 'predicted_order': 'CT abdomen pelvis with contrast', 'predicted_protocol': 'routine', 'predicted_comments': ['low pelvis']} <class 'dict'>\n",
            "Progress: case 176 of 236\n",
            "score this case: 0.9\n"
          ]
        },
        {
          "output_type": "stream",
          "name": "stderr",
          "text": [
            "Setting `pad_token_id` to `eos_token_id`:2 for open-end generation.\n"
          ]
        },
        {
          "output_type": "stream",
          "name": "stdout",
          "text": [
            "********\n",
            "\n",
            "********\n",
            "\n",
            "extracted_answer is  {'predicted_order': 'CT renal stone protocol', 'predicted_protocol': 'renal stone', 'predicted_comments': []} <class 'dict'>\n",
            "true answer json: {'accession': '800358', 'predicted_order': 'CT renal stone protocol inc CT abd and pelvis wo contrast', 'predicted_protocol': 'renal stone', 'predicted_comments': []} <class 'dict'>\n",
            "Progress: case 177 of 236\n",
            "score this case: 0.9\n"
          ]
        },
        {
          "output_type": "stream",
          "name": "stderr",
          "text": [
            "Setting `pad_token_id` to `eos_token_id`:2 for open-end generation.\n"
          ]
        },
        {
          "output_type": "stream",
          "name": "stdout",
          "text": [
            "********\n",
            "\n",
            "********\n",
            "\n",
            "extracted_answer is  {'predicted_order': 'CT chest abdomen pelvis with contrast', 'predicted_protocol': 'trauma', 'predicted_comments': ['']} <class 'dict'>\n",
            "true answer json: {'accession': '801104', 'predicted_order': 'CT chest abdomen pelvis with contrast w MIPS', 'predicted_protocol': 'trauma', 'predicted_comments': []} <class 'dict'>\n",
            "Progress: case 178 of 236\n",
            "score this case: 0.8\n"
          ]
        },
        {
          "output_type": "stream",
          "name": "stderr",
          "text": [
            "Setting `pad_token_id` to `eos_token_id`:2 for open-end generation.\n"
          ]
        },
        {
          "output_type": "stream",
          "name": "stdout",
          "text": [
            "********\n",
            "\n",
            "********\n",
            "\n",
            "extracted_answer is  {'predicted_order': 'CT abdomen pelvis with contrast', 'predicted_protocol': 'crohns', 'predicted_comments': ['oral contrast']} <class 'dict'>\n",
            "true answer json: {'accession': '800427', 'predicted_order': 'CT abdomen pelvis with contrast', 'predicted_protocol': 'routine', 'predicted_comments': []} <class 'dict'>\n",
            "Progress: case 179 of 236\n",
            "score this case: 0.4\n"
          ]
        },
        {
          "output_type": "stream",
          "name": "stderr",
          "text": [
            "Setting `pad_token_id` to `eos_token_id`:2 for open-end generation.\n"
          ]
        },
        {
          "output_type": "stream",
          "name": "stdout",
          "text": [
            "********\n",
            "\n",
            "********\n",
            "\n",
            "extracted_answer is  {'predicted_order': 'CT GU protocol with contrast', 'predicted_protocol': 'gu', 'predicted_comments': ['oral contrast']} <class 'dict'>\n",
            "true answer json: {'accession': '800136', 'predicted_order': 'CT GU protocol inc CT dual abd and pelvis with and without contrast', 'predicted_protocol': 'gu', 'predicted_comments': []} <class 'dict'>\n",
            "Progress: case 180 of 236\n",
            "score this case: 0.8\n"
          ]
        },
        {
          "output_type": "stream",
          "name": "stderr",
          "text": [
            "Setting `pad_token_id` to `eos_token_id`:2 for open-end generation.\n"
          ]
        },
        {
          "output_type": "stream",
          "name": "stdout",
          "text": [
            "********\n",
            "\n",
            "********\n",
            "\n",
            "extracted_answer is  {'predicted_order': 'CT abdomen pelvis with contrast', 'predicted_protocol': 'routine', 'predicted_comments': ['oral contrast']} <class 'dict'>\n",
            "true answer json: {'accession': '800860', 'predicted_order': 'CT abdomen pelvis with contrast', 'predicted_protocol': 'routine', 'predicted_comments': []} <class 'dict'>\n",
            "Progress: case 181 of 236\n",
            "score this case: 0.9\n"
          ]
        },
        {
          "output_type": "stream",
          "name": "stderr",
          "text": [
            "Setting `pad_token_id` to `eos_token_id`:2 for open-end generation.\n"
          ]
        },
        {
          "output_type": "stream",
          "name": "stdout",
          "text": [
            "********\n",
            "\n",
            "********\n",
            "\n",
            "extracted_answer is  {'predicted_order': 'CT abdomen pelvis with contrast', 'predicted_protocol': 'routine', 'predicted_comments': ['oral contrast']} <class 'dict'>\n",
            "true answer json: {'accession': '800634', 'predicted_order': 'CT abdomen pelvis with contrast', 'predicted_protocol': 'routine', 'predicted_comments': []} <class 'dict'>\n",
            "Progress: case 182 of 236\n",
            "score this case: 0.9\n"
          ]
        },
        {
          "output_type": "stream",
          "name": "stderr",
          "text": [
            "Setting `pad_token_id` to `eos_token_id`:2 for open-end generation.\n"
          ]
        },
        {
          "output_type": "stream",
          "name": "stdout",
          "text": [
            "********\n",
            "\n",
            "********\n",
            "\n",
            "extracted_answer is  {'predicted_order': 'CT chest abdomen pelvis without contrast with MIPS', 'predicted_protocol': 'noncon', 'predicted_comments': ['mips']} <class 'dict'>\n",
            "true answer json: {'accession': '800201', 'predicted_order': 'CT chest abdomen pelvis without contrast with MIPS', 'predicted_protocol': 'noncon', 'predicted_comments': []} <class 'dict'>\n",
            "Progress: case 183 of 236\n",
            "score this case: 0.9\n"
          ]
        },
        {
          "output_type": "stream",
          "name": "stderr",
          "text": [
            "Setting `pad_token_id` to `eos_token_id`:2 for open-end generation.\n"
          ]
        },
        {
          "output_type": "stream",
          "name": "stdout",
          "text": [
            "********\n",
            "\n",
            "********\n",
            "\n",
            "extracted_answer is  {'predicted_order': 'CT abdomen pelvis with contrast', 'predicted_protocol': 'routine', 'predicted_comments': ['oral contrast']} <class 'dict'>\n",
            "true answer json: {'accession': '800469', 'predicted_order': 'CT abdomen pelvis with contrast', 'predicted_protocol': 'routine', 'predicted_comments': []} <class 'dict'>\n",
            "Progress: case 184 of 236\n",
            "score this case: 0.9\n"
          ]
        },
        {
          "output_type": "stream",
          "name": "stderr",
          "text": [
            "Setting `pad_token_id` to `eos_token_id`:2 for open-end generation.\n"
          ]
        },
        {
          "output_type": "stream",
          "name": "stdout",
          "text": [
            "********\n",
            "\n",
            "********\n",
            "\n",
            "extracted_answer is  {'predicted_order': 'CT abdomen pelvis with contrast', 'predicted_protocol': 'routine', 'predicted_comments': ['']} <class 'dict'>\n",
            "true answer json: {'accession': '800858', 'predicted_order': 'CT abdomen pelvis with contrast', 'predicted_protocol': 'routine', 'predicted_comments': []} <class 'dict'>\n",
            "Progress: case 185 of 236\n",
            "score this case: 0.9\n"
          ]
        },
        {
          "output_type": "stream",
          "name": "stderr",
          "text": [
            "Setting `pad_token_id` to `eos_token_id`:2 for open-end generation.\n"
          ]
        },
        {
          "output_type": "stream",
          "name": "stdout",
          "text": [
            "********\n",
            "\n",
            "********\n",
            "\n",
            "extracted_answer is  {'predicted_order': 'CT abdomen pelvis with contrast', 'predicted_protocol': 'routine', 'predicted_comments': ['oral contrast']} <class 'dict'>\n",
            "true answer json: {'accession': '800474', 'predicted_order': 'CT abdomen pelvis with contrast', 'predicted_protocol': 'routine', 'predicted_comments': []} <class 'dict'>\n",
            "Progress: case 186 of 236\n",
            "score this case: 0.9\n"
          ]
        },
        {
          "output_type": "stream",
          "name": "stderr",
          "text": [
            "Setting `pad_token_id` to `eos_token_id`:2 for open-end generation.\n"
          ]
        },
        {
          "output_type": "stream",
          "name": "stdout",
          "text": [
            "********\n",
            "\n",
            "********\n",
            "\n",
            "extracted_answer is  {'predicted_order': 'CT abdomen pelvis with contrast', 'predicted_protocol': 'routine', 'predicted_comments': ['oral contrast']} <class 'dict'>\n",
            "true answer json: {'accession': '800489', 'predicted_order': 'CT abdomen pelvis with contrast', 'predicted_protocol': 'routine', 'predicted_comments': []} <class 'dict'>\n",
            "Progress: case 187 of 236\n",
            "score this case: 0.9\n"
          ]
        },
        {
          "output_type": "stream",
          "name": "stderr",
          "text": [
            "Setting `pad_token_id` to `eos_token_id`:2 for open-end generation.\n"
          ]
        },
        {
          "output_type": "stream",
          "name": "stdout",
          "text": [
            "********\n",
            "\n",
            "********\n",
            "\n",
            "extracted_answer is  {'predicted_order': 'CT dual liver abdomen with contrast', 'predicted_protocol': 'dual liver', 'predicted_comments': ['']} <class 'dict'>\n",
            "true answer json: {'accession': '800050', 'predicted_order': 'CT dual liver abdomen only w contrast protocol', 'predicted_protocol': 'dual liver', 'predicted_comments': []} <class 'dict'>\n",
            "Progress: case 188 of 236\n",
            "score this case: 0.8\n"
          ]
        },
        {
          "output_type": "stream",
          "name": "stderr",
          "text": [
            "Setting `pad_token_id` to `eos_token_id`:2 for open-end generation.\n"
          ]
        },
        {
          "output_type": "stream",
          "name": "stdout",
          "text": [
            "********\n",
            "\n",
            "********\n",
            "\n",
            "extracted_answer is  {'predicted_order': 'CT chest abdomen pelvis without contrast', 'predicted_protocol': 'noncon', 'predicted_comments': []} <class 'dict'>\n",
            "true answer json: {'accession': '800228', 'predicted_order': 'CT chest abdomen pelvis without contrast with MIPS', 'predicted_protocol': 'noncon', 'predicted_comments': []} <class 'dict'>\n",
            "Progress: case 189 of 236\n",
            "score this case: 0.9\n"
          ]
        },
        {
          "output_type": "stream",
          "name": "stderr",
          "text": [
            "Setting `pad_token_id` to `eos_token_id`:2 for open-end generation.\n"
          ]
        },
        {
          "output_type": "stream",
          "name": "stdout",
          "text": [
            "********\n",
            "\n",
            "********\n",
            "\n",
            "extracted_answer is  {'predicted_order': 'CT chest abdomen pelvis with contrast', 'predicted_protocol': 'routine', 'predicted_comments': ['']} <class 'dict'>\n",
            "true answer json: {'accession': '800581', 'predicted_order': 'CT chest abdomen pelvis with contrast w MIPS', 'predicted_protocol': 'routine', 'predicted_comments': []} <class 'dict'>\n",
            "Progress: case 190 of 236\n",
            "score this case: 0.8\n"
          ]
        },
        {
          "output_type": "stream",
          "name": "stderr",
          "text": [
            "Setting `pad_token_id` to `eos_token_id`:2 for open-end generation.\n"
          ]
        },
        {
          "output_type": "stream",
          "name": "stdout",
          "text": [
            "********\n",
            "\n",
            "********\n",
            "\n",
            "extracted_answer is  {'predicted_order': 'CT chest abdomen pelvis with contrast', 'predicted_protocol': 'routine', 'predicted_comments': ['oral contrast']} <class 'dict'>\n",
            "true answer json: {'accession': '801145', 'predicted_order': 'CT chest abdomen pelvis with contrast w MIPS', 'predicted_protocol': 'trauma', 'predicted_comments': []} <class 'dict'>\n",
            "Progress: case 191 of 236\n",
            "score this case: 0.3\n"
          ]
        },
        {
          "output_type": "stream",
          "name": "stderr",
          "text": [
            "Setting `pad_token_id` to `eos_token_id`:2 for open-end generation.\n"
          ]
        },
        {
          "output_type": "stream",
          "name": "stdout",
          "text": [
            "********\n",
            "\n",
            "********\n",
            "\n",
            "extracted_answer is  {'predicted_order': 'CT chest abdomen pelvis without contrast', 'predicted_protocol': 'noncon', 'predicted_comments': ['']} <class 'dict'>\n",
            "true answer json: {'accession': '800993', 'predicted_order': 'CT chest abdomen pelvis without contrast with MIPS', 'predicted_protocol': 'routine', 'predicted_comments': []} <class 'dict'>\n",
            "Progress: case 192 of 236\n",
            "score this case: 0.3\n"
          ]
        },
        {
          "output_type": "stream",
          "name": "stderr",
          "text": [
            "Setting `pad_token_id` to `eos_token_id`:2 for open-end generation.\n"
          ]
        },
        {
          "output_type": "stream",
          "name": "stdout",
          "text": [
            "********\n",
            "\n",
            "********\n",
            "\n",
            "extracted_answer is  {'predicted_order': 'CT abdomen pelvis with contrast', 'predicted_protocol': 'routine', 'predicted_comments': ['oral contrast']} <class 'dict'>\n",
            "true answer json: {'accession': '800913', 'predicted_order': 'CT abdomen pelvis with contrast', 'predicted_protocol': 'routine', 'predicted_comments': []} <class 'dict'>\n",
            "Progress: case 193 of 236\n",
            "score this case: 0.9\n"
          ]
        },
        {
          "output_type": "stream",
          "name": "stderr",
          "text": [
            "Setting `pad_token_id` to `eos_token_id`:2 for open-end generation.\n"
          ]
        },
        {
          "output_type": "stream",
          "name": "stdout",
          "text": [
            "********\n",
            "\n",
            "********\n",
            "\n",
            "extracted_answer is  {'predicted_order': 'CT chest abdomen pelvis with contrast', 'predicted_protocol': 'routine', 'predicted_comments': ['oral contrast']} <class 'dict'>\n",
            "true answer json: {'accession': '801152', 'predicted_order': 'CT chest abdomen pelvis with contrast w MIPS', 'predicted_protocol': 'trauma', 'predicted_comments': []} <class 'dict'>\n",
            "Progress: case 194 of 236\n",
            "score this case: 0.3\n"
          ]
        },
        {
          "output_type": "stream",
          "name": "stderr",
          "text": [
            "Setting `pad_token_id` to `eos_token_id`:2 for open-end generation.\n"
          ]
        },
        {
          "output_type": "stream",
          "name": "stdout",
          "text": [
            "********\n",
            "\n",
            "********\n",
            "\n",
            "extracted_answer is  {'predicted_order': 'CT abdomen pelvis noncontrast', 'predicted_protocol': 'noncon', 'predicted_comments': ['reroute coverage']} <class 'dict'>\n",
            "true answer json: {'accession': '800217', 'predicted_order': 'CT abdomen pelvis without contrast', 'predicted_protocol': 'noncon', 'predicted_comments': []} <class 'dict'>\n",
            "Progress: case 195 of 236\n",
            "score this case: 0.8\n"
          ]
        },
        {
          "output_type": "stream",
          "name": "stderr",
          "text": [
            "Setting `pad_token_id` to `eos_token_id`:2 for open-end generation.\n"
          ]
        },
        {
          "output_type": "stream",
          "name": "stdout",
          "text": [
            "********\n",
            "\n",
            "********\n",
            "\n",
            "extracted_answer is  {'predicted_order': 'CT abdomen pelvis with contrast', 'predicted_protocol': 'routine', 'predicted_comments': ['oral contrast']} <class 'dict'>\n",
            "true answer json: {'accession': '800869', 'predicted_order': 'CT abdomen pelvis with contrast', 'predicted_protocol': 'routine', 'predicted_comments': []} <class 'dict'>\n",
            "Progress: case 196 of 236\n",
            "score this case: 0.9\n"
          ]
        },
        {
          "output_type": "stream",
          "name": "stderr",
          "text": [
            "Setting `pad_token_id` to `eos_token_id`:2 for open-end generation.\n"
          ]
        },
        {
          "output_type": "stream",
          "name": "stdout",
          "text": [
            "********\n",
            "\n",
            "********\n",
            "\n",
            "extracted_answer is  {'predicted_order': 'CT chest abdomen pelvis with contrast', 'predicted_protocol': 'routine', 'predicted_comments': ['']} <class 'dict'>\n",
            "true answer json: {'accession': '800945', 'predicted_order': 'CT chest abdomen pelvis with contrast w MIPS', 'predicted_protocol': 'routine', 'predicted_comments': []} <class 'dict'>\n",
            "Progress: case 197 of 236\n",
            "score this case: 0.8\n"
          ]
        },
        {
          "output_type": "stream",
          "name": "stderr",
          "text": [
            "Setting `pad_token_id` to `eos_token_id`:2 for open-end generation.\n"
          ]
        },
        {
          "output_type": "stream",
          "name": "stdout",
          "text": [
            "********\n",
            "\n",
            "********\n",
            "\n",
            "extracted_answer is  {'predicted_order': 'CT chest abdomen pelvis with contrast', 'predicted_protocol': 'routine', 'predicted_comments': ['']} <class 'dict'>\n",
            "true answer json: {'accession': '801071', 'predicted_order': 'CT chest abdomen pelvis with contrast w MIPS', 'predicted_protocol': 'trauma', 'predicted_comments': []} <class 'dict'>\n",
            "Progress: case 198 of 236\n",
            "score this case: 0.3\n"
          ]
        },
        {
          "output_type": "stream",
          "name": "stderr",
          "text": [
            "Setting `pad_token_id` to `eos_token_id`:2 for open-end generation.\n"
          ]
        },
        {
          "output_type": "stream",
          "name": "stdout",
          "text": [
            "********\n",
            "\n",
            "********\n",
            "\n",
            "extracted_answer is  {'predicted_order': 'CT abdomen pelvis with contrast', 'predicted_protocol': 'routine', 'predicted_comments': ['oral contrast']} <class 'dict'>\n",
            "true answer json: {'accession': '800694', 'predicted_order': 'CT abdomen pelvis with contrast', 'predicted_protocol': 'routine', 'predicted_comments': []} <class 'dict'>\n",
            "Progress: case 199 of 236\n",
            "score this case: 0.9\n"
          ]
        },
        {
          "output_type": "stream",
          "name": "stderr",
          "text": [
            "Setting `pad_token_id` to `eos_token_id`:2 for open-end generation.\n"
          ]
        },
        {
          "output_type": "stream",
          "name": "stdout",
          "text": [
            "********\n",
            "\n",
            "********\n",
            "\n",
            "extracted_answer is  {'predicted_order': 'CT abdomen and pelvis with contrast', 'predicted_protocol': 'trauma', 'predicted_comments': ['oral contrast']} <class 'dict'>\n",
            "true answer json: {'accession': '800138', 'predicted_order': 'CT GU protocol inc CT dual abd and pelvis with and without contrast', 'predicted_protocol': 'gu', 'predicted_comments': []} <class 'dict'>\n",
            "Progress: case 200 of 236\n",
            "score this case: 0.3\n"
          ]
        },
        {
          "output_type": "stream",
          "name": "stderr",
          "text": [
            "Setting `pad_token_id` to `eos_token_id`:2 for open-end generation.\n"
          ]
        },
        {
          "output_type": "stream",
          "name": "stdout",
          "text": [
            "********\n",
            "\n",
            "********\n",
            "\n",
            "extracted_answer is  {'predicted_order': 'CT chest abdomen pelvis with contrast', 'predicted_protocol': 'routine', 'predicted_comments': ['oral contrast']} <class 'dict'>\n",
            "true answer json: {'accession': '801110', 'predicted_order': 'CT chest abdomen pelvis with contrast w MIPS', 'predicted_protocol': 'trauma', 'predicted_comments': []} <class 'dict'>\n",
            "Progress: case 201 of 236\n",
            "score this case: 0.3\n"
          ]
        },
        {
          "output_type": "stream",
          "name": "stderr",
          "text": [
            "Setting `pad_token_id` to `eos_token_id`:2 for open-end generation.\n"
          ]
        },
        {
          "output_type": "stream",
          "name": "stdout",
          "text": [
            "********\n",
            "\n",
            "********\n",
            "\n",
            "extracted_answer is  {'predicted_order': 'CT chest abdomen pelvis with contrast', 'predicted_protocol': 'routine', 'predicted_comments': ['']} <class 'dict'>\n",
            "true answer json: {'accession': '800973', 'predicted_order': 'CT chest abdomen pelvis with contrast w MIPS', 'predicted_protocol': 'routine', 'predicted_comments': []} <class 'dict'>\n",
            "Progress: case 202 of 236\n",
            "score this case: 0.8\n"
          ]
        },
        {
          "output_type": "stream",
          "name": "stderr",
          "text": [
            "Setting `pad_token_id` to `eos_token_id`:2 for open-end generation.\n"
          ]
        },
        {
          "output_type": "stream",
          "name": "stdout",
          "text": [
            "********\n",
            "\n",
            "********\n",
            "\n",
            "extracted_answer is  {'predicted_order': 'CT chest abdomen pelvis without contrast with MIPS', 'predicted_protocol': 'noncon', 'predicted_comments': ['']} <class 'dict'>\n",
            "true answer json: {'accession': '800218', 'predicted_order': 'CT chest abdomen pelvis without contrast with MIPS', 'predicted_protocol': 'noncon', 'predicted_comments': []} <class 'dict'>\n",
            "Progress: case 203 of 236\n",
            "score this case: 0.9\n"
          ]
        },
        {
          "output_type": "stream",
          "name": "stderr",
          "text": [
            "Setting `pad_token_id` to `eos_token_id`:2 for open-end generation.\n"
          ]
        },
        {
          "output_type": "stream",
          "name": "stdout",
          "text": [
            "********\n",
            "\n",
            "********\n",
            "\n",
            "extracted_answer is  {'predicted_order': 'CT abdomen pelvis with and without contrast', 'predicted_protocol': 'dual liver', 'predicted_comments': ['oral contrast']} <class 'dict'>\n",
            "true answer json: {'accession': '800101', 'predicted_order': 'CT occult GI bleed incl dual abdomen pelvis with and without contrast', 'predicted_protocol': 'gi bleed', 'predicted_comments': []} <class 'dict'>\n",
            "Progress: case 204 of 236\n",
            "score this case: 0.3\n"
          ]
        },
        {
          "output_type": "stream",
          "name": "stderr",
          "text": [
            "Setting `pad_token_id` to `eos_token_id`:2 for open-end generation.\n"
          ]
        },
        {
          "output_type": "stream",
          "name": "stdout",
          "text": [
            "********\n",
            "\n",
            "********\n",
            "\n",
            "extracted_answer is  {'predicted_order': 'CT abdomen pelvis with contrast', 'predicted_protocol': 'crohns', 'predicted_comments': ['oral contrast']} <class 'dict'>\n",
            "true answer json: {'accession': '800039', 'predicted_order': 'ct ', 'predicted_protocol': 'crohns', 'predicted_comments': []} <class 'dict'>\n",
            "Progress: case 205 of 236\n",
            "score this case: 0.8\n"
          ]
        },
        {
          "output_type": "stream",
          "name": "stderr",
          "text": [
            "Setting `pad_token_id` to `eos_token_id`:2 for open-end generation.\n"
          ]
        },
        {
          "output_type": "stream",
          "name": "stdout",
          "text": [
            "********\n",
            "\n",
            "********\n",
            "\n",
            "extracted_answer is  {'predicted_order': 'CT abdomen pelvis with contrast', 'predicted_protocol': 'routine', 'predicted_comments': ['oral contrast']} <class 'dict'>\n",
            "true answer json: {'accession': '800909', 'predicted_order': 'CT abdomen pelvis with contrast', 'predicted_protocol': 'routine', 'predicted_comments': []} <class 'dict'>\n",
            "Progress: case 206 of 236\n",
            "score this case: 0.9\n"
          ]
        },
        {
          "output_type": "stream",
          "name": "stderr",
          "text": [
            "Setting `pad_token_id` to `eos_token_id`:2 for open-end generation.\n"
          ]
        },
        {
          "output_type": "stream",
          "name": "stdout",
          "text": [
            "********\n",
            "\n",
            "********\n",
            "\n",
            "extracted_answer is  {'predicted_order': 'CT abdomen pelvis noncontrast', 'predicted_protocol': 'noncon', 'predicted_comments': []} <class 'dict'>\n",
            "true answer json: {'accession': '800168', 'predicted_order': 'CT abdomen pelvis without contrast', 'predicted_protocol': 'noncon', 'predicted_comments': []} <class 'dict'>\n",
            "Progress: case 207 of 236\n",
            "score this case: 0.9\n"
          ]
        },
        {
          "output_type": "stream",
          "name": "stderr",
          "text": [
            "Setting `pad_token_id` to `eos_token_id`:2 for open-end generation.\n"
          ]
        },
        {
          "output_type": "stream",
          "name": "stdout",
          "text": [
            "********\n",
            "\n",
            "********\n",
            "\n",
            "extracted_answer is  {'predicted_order': 'CT abdomen pelvis with contrast', 'predicted_protocol': 'routine', 'predicted_comments': ['oral contrast']} <class 'dict'>\n",
            "true answer json: {'accession': '800729', 'predicted_order': 'CT abdomen pelvis with contrast', 'predicted_protocol': 'routine', 'predicted_comments': []} <class 'dict'>\n",
            "Progress: case 208 of 236\n",
            "score this case: 0.9\n"
          ]
        },
        {
          "output_type": "stream",
          "name": "stderr",
          "text": [
            "Setting `pad_token_id` to `eos_token_id`:2 for open-end generation.\n"
          ]
        },
        {
          "output_type": "stream",
          "name": "stdout",
          "text": [
            "********\n",
            "\n",
            "********\n",
            "\n",
            "extracted_answer is  {'predicted_order': 'CT dual pancreas protocol with contrast', 'predicted_protocol': 'pancreas', 'predicted_comments': ['']} <class 'dict'>\n",
            "true answer json: {'accession': '800242', 'predicted_order': 'CT dual pancreas protocol incl CT abd pel w contrast', 'predicted_protocol': 'pancreas', 'predicted_comments': []} <class 'dict'>\n",
            "Progress: case 209 of 236\n",
            "score this case: 0.8\n"
          ]
        },
        {
          "output_type": "stream",
          "name": "stderr",
          "text": [
            "Setting `pad_token_id` to `eos_token_id`:2 for open-end generation.\n"
          ]
        },
        {
          "output_type": "stream",
          "name": "stdout",
          "text": [
            "********\n",
            "\n",
            "********\n",
            "\n",
            "extracted_answer is  {'predicted_order': 'CT abdomen pelvis with contrast', 'predicted_protocol': 'routine', 'predicted_comments': ['oral contrast']} <class 'dict'>\n",
            "true answer json: {'accession': '800905', 'predicted_order': 'CT abdomen pelvis with contrast', 'predicted_protocol': 'routine', 'predicted_comments': ['low pelvis']} <class 'dict'>\n",
            "Progress: case 210 of 236\n",
            "score this case: 0.9\n"
          ]
        },
        {
          "output_type": "stream",
          "name": "stderr",
          "text": [
            "Setting `pad_token_id` to `eos_token_id`:2 for open-end generation.\n"
          ]
        },
        {
          "output_type": "stream",
          "name": "stdout",
          "text": [
            "********\n",
            "\n",
            "********\n",
            "\n",
            "extracted_answer is  {'predicted_order': 'CT abdomen pelvis with and without contrast', 'predicted_protocol': 'dual liver', 'predicted_comments': ['oral contrast']} <class 'dict'>\n",
            "true answer json: {'accession': '800075', 'predicted_order': 'CT occult GI bleed incl dual abdomen pelvis with and without contrast', 'predicted_protocol': 'gi bleed', 'predicted_comments': []} <class 'dict'>\n",
            "Progress: case 211 of 236\n",
            "score this case: 0.3\n"
          ]
        },
        {
          "output_type": "stream",
          "name": "stderr",
          "text": [
            "Setting `pad_token_id` to `eos_token_id`:2 for open-end generation.\n"
          ]
        },
        {
          "output_type": "stream",
          "name": "stdout",
          "text": [
            "********\n",
            "\n",
            "********\n",
            "\n",
            "extracted_answer is  {'predicted_order': 'CT abdomen pelvis with and without contrast', 'predicted_protocol': 'dual liver', 'predicted_comments': ['oral contrast']} <class 'dict'>\n",
            "true answer json: {'accession': '800063', 'predicted_order': 'CT occult GI bleed incl dual abdomen pelvis with and without contrast', 'predicted_protocol': 'gi bleed', 'predicted_comments': []} <class 'dict'>\n",
            "Progress: case 212 of 236\n",
            "score this case: 0.3\n"
          ]
        },
        {
          "output_type": "stream",
          "name": "stderr",
          "text": [
            "Setting `pad_token_id` to `eos_token_id`:2 for open-end generation.\n"
          ]
        },
        {
          "output_type": "stream",
          "name": "stdout",
          "text": [
            "********\n",
            "\n",
            "********\n",
            "\n",
            "extracted_answer is  {'predicted_order': 'CT abdomen pelvis with contrast', 'predicted_protocol': 'routine', 'predicted_comments': ['oral contrast']} <class 'dict'>\n",
            "true answer json: {'accession': '800714', 'predicted_order': 'CT abdomen pelvis with contrast', 'predicted_protocol': 'routine', 'predicted_comments': []} <class 'dict'>\n",
            "Progress: case 213 of 236\n",
            "score this case: 0.9\n"
          ]
        },
        {
          "output_type": "stream",
          "name": "stderr",
          "text": [
            "Setting `pad_token_id` to `eos_token_id`:2 for open-end generation.\n"
          ]
        },
        {
          "output_type": "stream",
          "name": "stdout",
          "text": [
            "********\n",
            "\n",
            "********\n",
            "\n",
            "extracted_answer is  {'predicted_order': 'CT abdomen pelvis with contrast', 'predicted_protocol': 'routine', 'predicted_comments': ['oral contrast']} <class 'dict'>\n",
            "true answer json: {'accession': '800533', 'predicted_order': 'CT abdomen pelvis with contrast', 'predicted_protocol': 'routine', 'predicted_comments': []} <class 'dict'>\n",
            "Progress: case 214 of 236\n",
            "score this case: 0.9\n"
          ]
        },
        {
          "output_type": "stream",
          "name": "stderr",
          "text": [
            "Setting `pad_token_id` to `eos_token_id`:2 for open-end generation.\n"
          ]
        },
        {
          "output_type": "stream",
          "name": "stdout",
          "text": [
            "********\n",
            "\n",
            "********\n",
            "\n",
            "extracted_answer is  {'predicted_order': 'CT abdomen pelvis with contrast', 'predicted_protocol': 'tcc', 'predicted_comments': ['split']} <class 'dict'>\n",
            "true answer json: {'accession': '801046', 'predicted_order': 'CT TCC protocol incl chest w MIPS and dual abd pel w wo', 'predicted_protocol': 'tcc', 'predicted_comments': []} <class 'dict'>\n",
            "Progress: case 215 of 236\n",
            "score this case: 0.8\n"
          ]
        },
        {
          "output_type": "stream",
          "name": "stderr",
          "text": [
            "Setting `pad_token_id` to `eos_token_id`:2 for open-end generation.\n"
          ]
        },
        {
          "output_type": "stream",
          "name": "stdout",
          "text": [
            "********\n",
            "\n",
            "********\n",
            "\n",
            "extracted_answer is  {'predicted_order': 'CT chest abdomen pelvis with contrast', 'predicted_protocol': 'routine', 'predicted_comments': ['']} <class 'dict'>\n",
            "true answer json: {'accession': '801153', 'predicted_order': 'CT chest abdomen pelvis with contrast w MIPS', 'predicted_protocol': 'trauma', 'predicted_comments': []} <class 'dict'>\n",
            "Progress: case 216 of 236\n",
            "score this case: 0.3\n"
          ]
        },
        {
          "output_type": "stream",
          "name": "stderr",
          "text": [
            "Setting `pad_token_id` to `eos_token_id`:2 for open-end generation.\n"
          ]
        },
        {
          "output_type": "stream",
          "name": "stdout",
          "text": [
            "********\n",
            "\n",
            "********\n",
            "\n",
            "extracted_answer is  {'predicted_order': 'CT abdomen pelvis without contrast', 'predicted_protocol': 'noncon', 'predicted_comments': []} <class 'dict'>\n",
            "true answer json: {'accession': '800161', 'predicted_order': 'CT abdomen pelvis without contrast', 'predicted_protocol': 'noncon', 'predicted_comments': []} <class 'dict'>\n",
            "Progress: case 217 of 236\n",
            "score this case: 1.0\n"
          ]
        },
        {
          "output_type": "stream",
          "name": "stderr",
          "text": [
            "Setting `pad_token_id` to `eos_token_id`:2 for open-end generation.\n"
          ]
        },
        {
          "output_type": "stream",
          "name": "stdout",
          "text": [
            "********\n",
            "\n",
            "********\n",
            "\n",
            "extracted_answer is  {'predicted_order': 'CT abdomen pelvis with enteric contrast', 'predicted_protocol': 'crohns', 'predicted_comments': ['oral contrast']} <class 'dict'>\n",
            "true answer json: {'accession': '800536', 'predicted_order': 'CT abdomen pelvis with contrast', 'predicted_protocol': 'routine', 'predicted_comments': ['oral contrast']} <class 'dict'>\n",
            "Progress: case 218 of 236\n",
            "score this case: 0.4\n"
          ]
        },
        {
          "output_type": "stream",
          "name": "stderr",
          "text": [
            "Setting `pad_token_id` to `eos_token_id`:2 for open-end generation.\n"
          ]
        },
        {
          "output_type": "stream",
          "name": "stdout",
          "text": [
            "********\n",
            "\n",
            "********\n",
            "\n",
            "extracted_answer is  {'predicted_order': 'CT renal stone protocol', 'predicted_protocol': 'renal stone', 'predicted_comments': ['']} <class 'dict'>\n",
            "true answer json: {'accession': '800323', 'predicted_order': 'CT renal stone protocol inc CT abd and pelvis wo contrast', 'predicted_protocol': 'renal stone', 'predicted_comments': []} <class 'dict'>\n",
            "Progress: case 219 of 236\n",
            "score this case: 0.8\n"
          ]
        },
        {
          "output_type": "stream",
          "name": "stderr",
          "text": [
            "Setting `pad_token_id` to `eos_token_id`:2 for open-end generation.\n"
          ]
        },
        {
          "output_type": "stream",
          "name": "stdout",
          "text": [
            "********\n",
            "\n",
            "********\n",
            "\n",
            "extracted_answer is  {'predicted_order': 'CT chest abdomen pelvis without contrast', 'predicted_protocol': 'noncon', 'predicted_comments': ['']} <class 'dict'>\n",
            "true answer json: {'accession': '800231', 'predicted_order': 'CT chest abdomen pelvis without contrast with MIPS', 'predicted_protocol': 'noncon', 'predicted_comments': ['split']} <class 'dict'>\n",
            "Progress: case 220 of 236\n",
            "score this case: 0.8\n"
          ]
        },
        {
          "output_type": "stream",
          "name": "stderr",
          "text": [
            "Setting `pad_token_id` to `eos_token_id`:2 for open-end generation.\n"
          ]
        },
        {
          "output_type": "stream",
          "name": "stdout",
          "text": [
            "********\n",
            "\n",
            "********\n",
            "\n",
            "extracted_answer is  {'predicted_order': 'CT abdomen and chest with contrast', 'predicted_protocol': 'rcc', 'predicted_comments': ['oral contrast']} <class 'dict'>\n",
            "true answer json: {'accession': '800282', 'predicted_order': 'CT RCC protocol incl chest w MIPS and dual abd pel w wo', 'predicted_protocol': 'rcc', 'predicted_comments': []} <class 'dict'>\n",
            "Progress: case 221 of 236\n",
            "score this case: 0.8\n"
          ]
        },
        {
          "output_type": "stream",
          "name": "stderr",
          "text": [
            "Setting `pad_token_id` to `eos_token_id`:2 for open-end generation.\n"
          ]
        },
        {
          "output_type": "stream",
          "name": "stdout",
          "text": [
            "********\n",
            "\n",
            "********\n",
            "\n",
            "extracted_answer is  {'predicted_order': 'CT abdomen pelvis with and without contrast', 'predicted_protocol': 'dual liver', 'predicted_comments': ['oral contrast']} <class 'dict'>\n",
            "true answer json: {'accession': '800079', 'predicted_order': 'CT occult GI bleed incl dual abdomen pelvis with and without contrast', 'predicted_protocol': 'gi bleed', 'predicted_comments': []} <class 'dict'>\n",
            "Progress: case 222 of 236\n",
            "score this case: 0.3\n"
          ]
        },
        {
          "output_type": "stream",
          "name": "stderr",
          "text": [
            "Setting `pad_token_id` to `eos_token_id`:2 for open-end generation.\n"
          ]
        },
        {
          "output_type": "stream",
          "name": "stdout",
          "text": [
            "********\n",
            "\n",
            "********\n",
            "\n",
            "extracted_answer is  {'predicted_order': 'CT chest abdomen pelvis with contrast', 'predicted_protocol': 'routine', 'predicted_comments': ['']} <class 'dict'>\n",
            "true answer json: {'accession': '800624', 'predicted_order': 'CT chest abdomen pelvis with contrast w MIPS', 'predicted_protocol': 'routine', 'predicted_comments': []} <class 'dict'>\n",
            "Progress: case 223 of 236\n",
            "score this case: 0.8\n"
          ]
        },
        {
          "output_type": "stream",
          "name": "stderr",
          "text": [
            "Setting `pad_token_id` to `eos_token_id`:2 for open-end generation.\n"
          ]
        },
        {
          "output_type": "stream",
          "name": "stdout",
          "text": [
            "********\n",
            "\n",
            "********\n",
            "\n",
            "extracted_answer is  {'predicted_order': 'CT chest abdomen pelvis with contrast', 'predicted_protocol': 'trauma', 'predicted_comments': ['']} <class 'dict'>\n",
            "true answer json: {'accession': '801080', 'predicted_order': 'CT chest abdomen pelvis with contrast w MIPS', 'predicted_protocol': 'trauma', 'predicted_comments': []} <class 'dict'>\n",
            "Progress: case 224 of 236\n",
            "score this case: 0.8\n"
          ]
        },
        {
          "output_type": "stream",
          "name": "stderr",
          "text": [
            "Setting `pad_token_id` to `eos_token_id`:2 for open-end generation.\n"
          ]
        },
        {
          "output_type": "stream",
          "name": "stdout",
          "text": [
            "********\n",
            "\n",
            "********\n",
            "\n",
            "extracted_answer is  {'predicted_order': 'CT abdomen pelvis with contrast', 'predicted_protocol': 'routine', 'predicted_comments': ['']} <class 'dict'>\n",
            "true answer json: {'accession': '800456', 'predicted_order': 'CT abdomen pelvis with contrast', 'predicted_protocol': 'routine', 'predicted_comments': []} <class 'dict'>\n",
            "Progress: case 225 of 236\n",
            "score this case: 0.9\n"
          ]
        },
        {
          "output_type": "stream",
          "name": "stderr",
          "text": [
            "Setting `pad_token_id` to `eos_token_id`:2 for open-end generation.\n"
          ]
        },
        {
          "output_type": "stream",
          "name": "stdout",
          "text": [
            "********\n",
            "\n",
            "********\n",
            "\n",
            "extracted_answer is  {'predicted_order': 'CT abdomen pelvis with contrast', 'predicted_protocol': 'routine', 'predicted_comments': ['oral contrast']} <class 'dict'>\n",
            "true answer json: {'accession': '800852', 'predicted_order': 'CT abdomen pelvis with contrast', 'predicted_protocol': 'routine', 'predicted_comments': ['oral contrast']} <class 'dict'>\n",
            "Progress: case 226 of 236\n",
            "score this case: 1.0\n"
          ]
        },
        {
          "output_type": "stream",
          "name": "stderr",
          "text": [
            "Setting `pad_token_id` to `eos_token_id`:2 for open-end generation.\n"
          ]
        },
        {
          "output_type": "stream",
          "name": "stdout",
          "text": [
            "********\n",
            "\n",
            "********\n",
            "\n",
            "extracted_answer is  {'predicted_order': 'CT abdomen pelvis with contrast', 'predicted_protocol': 'cirrhosis', 'predicted_comments': ['']} <class 'dict'>\n",
            "true answer json: {'accession': '800023', 'predicted_order': 'CT cirrhosis abdomen pelvis w contrast protocol', 'predicted_protocol': 'cirrhosis', 'predicted_comments': []} <class 'dict'>\n",
            "Progress: case 227 of 236\n",
            "score this case: 0.8\n"
          ]
        },
        {
          "output_type": "stream",
          "name": "stderr",
          "text": [
            "Setting `pad_token_id` to `eos_token_id`:2 for open-end generation.\n"
          ]
        },
        {
          "output_type": "stream",
          "name": "stdout",
          "text": [
            "********\n",
            "\n",
            "********\n",
            "\n",
            "extracted_answer is  {'predicted_order': 'CT abdomen pelvis with contrast', 'predicted_protocol': 'routine', 'predicted_comments': ['oral contrast']} <class 'dict'>\n",
            "true answer json: {'accession': '800424', 'predicted_order': 'CT abdomen pelvis with contrast', 'predicted_protocol': 'routine', 'predicted_comments': ['split']} <class 'dict'>\n",
            "Progress: case 228 of 236\n",
            "score this case: 0.9\n"
          ]
        },
        {
          "output_type": "stream",
          "name": "stderr",
          "text": [
            "Setting `pad_token_id` to `eos_token_id`:2 for open-end generation.\n"
          ]
        },
        {
          "output_type": "stream",
          "name": "stdout",
          "text": [
            "********\n",
            "\n",
            "********\n",
            "\n",
            "extracted_answer is  {'predicted_order': 'CT chest abdomen pelvis with contrast', 'predicted_protocol': 'trauma', 'predicted_comments': ['']} <class 'dict'>\n",
            "true answer json: {'accession': '801079', 'predicted_order': 'CT chest abdomen pelvis with contrast w MIPS', 'predicted_protocol': 'trauma', 'predicted_comments': []} <class 'dict'>\n",
            "Progress: case 229 of 236\n",
            "score this case: 0.8\n"
          ]
        },
        {
          "output_type": "stream",
          "name": "stderr",
          "text": [
            "Setting `pad_token_id` to `eos_token_id`:2 for open-end generation.\n"
          ]
        },
        {
          "output_type": "stream",
          "name": "stdout",
          "text": [
            "********\n",
            "\n",
            "********\n",
            "\n",
            "extracted_answer is  {'predicted_order': 'CT abdomen pelvis with and without contrast', 'predicted_protocol': 'dual liver', 'predicted_comments': ['oral contrast']} <class 'dict'>\n",
            "true answer json: {'accession': '800078', 'predicted_order': 'CT occult GI bleed incl dual abdomen pelvis with and without contrast', 'predicted_protocol': 'gi bleed', 'predicted_comments': []} <class 'dict'>\n",
            "Progress: case 230 of 236\n",
            "score this case: 0.3\n"
          ]
        },
        {
          "output_type": "stream",
          "name": "stderr",
          "text": [
            "Setting `pad_token_id` to `eos_token_id`:2 for open-end generation.\n"
          ]
        },
        {
          "output_type": "stream",
          "name": "stdout",
          "text": [
            "********\n",
            "\n",
            "********\n",
            "\n",
            "extracted_answer is  {'predicted_order': 'CT chest abdomen pelvis with contrast', 'predicted_protocol': 'routine', 'predicted_comments': ['']} <class 'dict'>\n",
            "true answer json: {'accession': '801139', 'predicted_order': 'CT chest abdomen pelvis with contrast w MIPS', 'predicted_protocol': 'trauma', 'predicted_comments': []} <class 'dict'>\n",
            "Progress: case 231 of 236\n",
            "score this case: 0.3\n"
          ]
        },
        {
          "output_type": "stream",
          "name": "stderr",
          "text": [
            "Setting `pad_token_id` to `eos_token_id`:2 for open-end generation.\n"
          ]
        },
        {
          "output_type": "stream",
          "name": "stdout",
          "text": [
            "********\n",
            "\n",
            "********\n",
            "\n",
            "extracted_answer is  {'predicted_order': 'CT abdomen pelvis with contrast', 'predicted_protocol': 'routine', 'predicted_comments': ['oral contrast']} <class 'dict'>\n",
            "true answer json: {'accession': '800936', 'predicted_order': 'CT abdomen pelvis with contrast', 'predicted_protocol': 'routine', 'predicted_comments': []} <class 'dict'>\n",
            "Progress: case 232 of 236\n",
            "score this case: 0.9\n"
          ]
        },
        {
          "output_type": "stream",
          "name": "stderr",
          "text": [
            "Setting `pad_token_id` to `eos_token_id`:2 for open-end generation.\n"
          ]
        },
        {
          "output_type": "stream",
          "name": "stdout",
          "text": [
            "********\n",
            "\n",
            "********\n",
            "\n",
            "extracted_answer is  {'predicted_order': 'CT renal stone protocol', 'predicted_protocol': 'renal stone', 'predicted_comments': []} <class 'dict'>\n",
            "true answer json: {'accession': '800316', 'predicted_order': 'CT renal stone protocol inc CT abd and pelvis wo contrast', 'predicted_protocol': 'renal stone', 'predicted_comments': []} <class 'dict'>\n",
            "Progress: case 233 of 236\n",
            "score this case: 0.9\n"
          ]
        },
        {
          "output_type": "stream",
          "name": "stderr",
          "text": [
            "Setting `pad_token_id` to `eos_token_id`:2 for open-end generation.\n"
          ]
        },
        {
          "output_type": "stream",
          "name": "stdout",
          "text": [
            "********\n",
            "\n",
            "********\n",
            "\n",
            "extracted_answer is  {'predicted_order': 'CT abdomen pelvis with and without contrast', 'predicted_protocol': 'dual liver', 'predicted_comments': ['oral contrast']} <class 'dict'>\n",
            "true answer json: {'accession': '800056', 'predicted_order': 'CT occult GI bleed incl dual abdomen pelvis with and without contrast', 'predicted_protocol': 'gi bleed', 'predicted_comments': []} <class 'dict'>\n",
            "Progress: case 234 of 236\n",
            "score this case: 0.3\n"
          ]
        },
        {
          "output_type": "stream",
          "name": "stderr",
          "text": [
            "Setting `pad_token_id` to `eos_token_id`:2 for open-end generation.\n"
          ]
        },
        {
          "output_type": "stream",
          "name": "stdout",
          "text": [
            "********\n",
            "\n",
            "********\n",
            "\n",
            "extracted_answer is  {'predicted_order': 'CT chest abdomen pelvis with contrast', 'predicted_protocol': 'routine', 'predicted_comments': ['']} <class 'dict'>\n",
            "true answer json: {'accession': '800960', 'predicted_order': 'CT chest abdomen pelvis with contrast w MIPS', 'predicted_protocol': 'routine', 'predicted_comments': []} <class 'dict'>\n",
            "Progress: case 235 of 236\n",
            "score this case: 0.8\n",
            "********\n",
            "\n",
            "********\n",
            "\n",
            "extracted_answer is  {'predicted_order': 'CT abdomen pelvis with contrast', 'predicted_protocol': 'routine', 'predicted_comments': ['']} <class 'dict'>\n",
            "true answer json: {'accession': '800923', 'predicted_order': 'CT abdomen pelvis with contrast', 'predicted_protocol': 'routine', 'predicted_comments': []} <class 'dict'>\n",
            "Progress: case 236 of 236\n",
            "score this case: 0.9\n",
            "     index     protocol predicted_protocol  \\\n",
            "0        0      routine            routine   \n",
            "1        1      routine            routine   \n",
            "2        2      routine            routine   \n",
            "3        3      routine            routine   \n",
            "4        4          rcc                rcc   \n",
            "..     ...          ...                ...   \n",
            "231    231      routine            routine   \n",
            "232    232  renal stone        renal stone   \n",
            "233    233     gi bleed         dual liver   \n",
            "234    234      routine            routine   \n",
            "235    235      routine            routine   \n",
            "\n",
            "                                                 order  \\\n",
            "0                      CT abdomen pelvis with contrast   \n",
            "1         CT chest abdomen pelvis with contrast w MIPS   \n",
            "2                      CT abdomen pelvis with contrast   \n",
            "3                      CT abdomen pelvis with contrast   \n",
            "4    CT RCC protocol incl chest w MIPS and dual abd...   \n",
            "..                                                 ...   \n",
            "231                    CT abdomen pelvis with contrast   \n",
            "232  CT renal stone protocol inc CT abd and pelvis ...   \n",
            "233  CT occult GI bleed incl dual abdomen pelvis wi...   \n",
            "234       CT chest abdomen pelvis with contrast w MIPS   \n",
            "235                    CT abdomen pelvis with contrast   \n",
            "\n",
            "                                 predicted_order comments predicted_comments  \\\n",
            "0                CT abdomen pelvis with contrast       []    [oral contrast]   \n",
            "1          CT chest abdomen pelvis with contrast       []    [oral contrast]   \n",
            "2                CT abdomen pelvis with contrast       []    [oral contrast]   \n",
            "3                CT abdomen pelvis with contrast       []    [oral contrast]   \n",
            "4                CT abdomen pelvis with contrast       []                 []   \n",
            "..                                           ...      ...                ...   \n",
            "231              CT abdomen pelvis with contrast       []    [oral contrast]   \n",
            "232                      CT renal stone protocol       []                 []   \n",
            "233  CT abdomen pelvis with and without contrast       []    [oral contrast]   \n",
            "234        CT chest abdomen pelvis with contrast       []                 []   \n",
            "235              CT abdomen pelvis with contrast       []                 []   \n",
            "\n",
            "     score  \n",
            "0      0.9  \n",
            "1      0.8  \n",
            "2      0.9  \n",
            "3      0.9  \n",
            "4      0.8  \n",
            "..     ...  \n",
            "231    0.9  \n",
            "232    0.9  \n",
            "233    0.3  \n",
            "234    0.8  \n",
            "235    0.9  \n",
            "\n",
            "[236 rows x 8 columns]\n",
            "Average score: 0.7415254237288166\n",
            "0.7415254237288166\n"
          ]
        }
      ]
    },
    {
      "cell_type": "code",
      "source": [],
      "metadata": {
        "id": "kNNaiGwENGK_"
      },
      "execution_count": 19,
      "outputs": []
    },
    {
      "cell_type": "markdown",
      "source": [
        "## Train the Model\n"
      ],
      "metadata": {
        "id": "FAyhnKf8XoB5"
      }
    },
    {
      "cell_type": "code",
      "source": [
        "# Load base model\n",
        "bnb_config = BitsAndBytesConfig(\n",
        "    load_in_4bit= True,\n",
        "    bnb_4bit_quant_type= \"nf4\",\n",
        "    bnb_4bit_compute_dtype= torch.bfloat16,\n",
        "    bnb_4bit_use_double_quant= False,\n",
        ")\n",
        "model = AutoModelForCausalLM.from_pretrained(\n",
        "        base_model,\n",
        "        load_in_4bit=True,\n",
        "        quantization_config=bnb_config,\n",
        "        torch_dtype=torch.bfloat16,\n",
        "        device_map=\"auto\",\n",
        "        trust_remote_code=True,\n",
        ")\n",
        "\n",
        "\n",
        "model.config.use_cache = False # silence the warnings.\n",
        "model.config.pretraining_tp = 1\n",
        "model.gradient_checkpointing_enable()\n",
        "\n",
        "# Load tokenizer\n",
        "tokenizer = AutoTokenizer.from_pretrained(base_model, trust_remote_code=True)\n",
        "tokenizer.padding_side = 'right'\n",
        "tokenizer.pad_token = tokenizer.eos_token\n",
        "tokenizer.add_eos_token = True\n",
        "tokenizer.bos_token, tokenizer.eos_token\n",
        "\n",
        "\n",
        "\n",
        "# Ensure to clear cache if anything is not used\n",
        "torch.cuda.empty_cache()\n"
      ],
      "metadata": {
        "id": "EsDFHnIZWpEb",
        "colab": {
          "base_uri": "https://localhost:8080/",
          "height": 49,
          "referenced_widgets": [
            "4b70edf747a246d697f06f605c5c8342",
            "1dd682059ecf422cb699d31462bc5389",
            "a18443a171974781a2b998c307d67373",
            "e9bc699996574d5b9f4495e74efa935a",
            "e74504153b5d4547ba1a8ce0c7a70a3f",
            "4317bcce8afe46c18aef759abce72f63",
            "ef129e65e33c4c71b3f9c7aaa0c0d4d7",
            "d416fffe77684dc7b9031af51d080575",
            "389ccf4c532c4b018dcd3037a71fb8f4",
            "a4c73962954549a6baa92bafa969eb89",
            "a0315883f6ab44d99e3ac38bacc5151a"
          ]
        },
        "outputId": "845972ee-9148-4533-ff05-398aab20a319"
      },
      "execution_count": 20,
      "outputs": [
        {
          "output_type": "display_data",
          "data": {
            "text/plain": [
              "Loading checkpoint shards:   0%|          | 0/3 [00:00<?, ?it/s]"
            ],
            "application/vnd.jupyter.widget-view+json": {
              "version_major": 2,
              "version_minor": 0,
              "model_id": "4b70edf747a246d697f06f605c5c8342"
            }
          },
          "metadata": {}
        }
      ]
    },
    {
      "cell_type": "code",
      "source": [],
      "metadata": {
        "id": "Kl0RhozxNI4a"
      },
      "execution_count": 20,
      "outputs": []
    },
    {
      "cell_type": "code",
      "source": [
        "# # count training tokens\n",
        "\n",
        "# tokenizer_ = LlamaTokenizer.from_pretrained(\"cognitivecomputations/dolphin-llama2-7b\")\n",
        "# tokens = tokenizer_.tokenize(dataset2.to_pandas().to_string())\n",
        "# len(tokens)"
      ],
      "metadata": {
        "id": "2WGHuvvIW3dO"
      },
      "execution_count": 21,
      "outputs": []
    },
    {
      "cell_type": "code",
      "source": [
        "#Adding the adapters in the layers\n",
        "model = prepare_model_for_kbit_training(model)\n",
        "peft_config = LoraConfig(\n",
        "    lora_alpha=16,\n",
        "    lora_dropout=0.1,\n",
        "    r=64,\n",
        "    bias=\"none\",\n",
        "    task_type=\"CAUSAL_LM\",\n",
        "    target_modules=[\"q_proj\", \"k_proj\", \"v_proj\", \"o_proj\",\"gate_proj\"]\n",
        ")\n",
        "model = get_peft_model(model, peft_config)"
      ],
      "metadata": {
        "id": "d4Gow2ZkW6dq"
      },
      "execution_count": 22,
      "outputs": []
    },
    {
      "cell_type": "code",
      "source": [
        "# Setting hyperparameters\n",
        "training_arguments = TrainingArguments(\n",
        "    output_dir=\"/content/CT_Protocol/data\",\n",
        "    num_train_epochs=1,\n",
        "    per_device_train_batch_size=4,\n",
        "    gradient_accumulation_steps=1,\n",
        "    optim=\"paged_adamw_32bit\",\n",
        "    save_steps=50,\n",
        "    logging_steps=1,\n",
        "    learning_rate=2e-4,\n",
        "    weight_decay=0.001,\n",
        "    fp16=False,\n",
        "    bf16=False,\n",
        "    max_grad_norm=0.3,\n",
        "    max_steps=-1,\n",
        "    warmup_ratio=0.03,\n",
        "    group_by_length=True,\n",
        "    lr_scheduler_type=\"constant\",\n",
        ")\n"
      ],
      "metadata": {
        "id": "0q7hl8d_XHxu"
      },
      "execution_count": 23,
      "outputs": []
    },
    {
      "cell_type": "code",
      "source": [
        "# train_dataset = Dataset.from_dict(train_data)\n",
        "# eval_dataset = Dataset.from_dict(test_data)"
      ],
      "metadata": {
        "id": "c5TKtvQSODKb"
      },
      "execution_count": 24,
      "outputs": []
    },
    {
      "cell_type": "code",
      "source": [
        "# create and save train_data_df and the training dataset\n",
        "def create_train_data_df(train_data, prompt_instruction = prompt_instruction2):\n",
        "  '''\n",
        "  Create the training dataset in the format required for the model\n",
        "  Input: train_data: a list of dictionaries\n",
        "  Input: prompt_instruction: a string\n",
        "  Output: train_data_df: a dataframe\n",
        "  '''\n",
        "  train_data_df = pd.DataFrame(train_data)\n",
        "  maker_df = train_data_df.copy()\n",
        "  for index, row in maker_df.iterrows():\n",
        "    maker_df.loc[index, 'text'] = f\"\"\"<s>[INST] {prompt_instruction}{row['text']} [/INST] \\\\n {row['labels']} </s>\"\"\"\n",
        "    maker_df.loc[index, 'labels'] = row['labels']\n",
        "\n",
        "  maker_df.head()\n",
        "  maker_df.drop(columns=['prompt_question_json', '__index_level_0__'], inplace=True)\n",
        "  #train_dataset = Dataset.from_pandas(maker_df)\n",
        "  train_dataset = Dataset(pa.Table.from_pandas(maker_df))\n",
        "\n",
        "  return train_dataset\n",
        "\n"
      ],
      "metadata": {
        "id": "4Zykat4aEzMb"
      },
      "execution_count": 25,
      "outputs": []
    },
    {
      "cell_type": "code",
      "source": [
        "train_dataset = create_train_data_df(train_data)\n",
        "train_dataset"
      ],
      "metadata": {
        "id": "ncgAnVWUZBlH",
        "outputId": "cdc3b960-1d95-4d14-920c-9f8a1baf99d5",
        "colab": {
          "base_uri": "https://localhost:8080/"
        }
      },
      "execution_count": 26,
      "outputs": [
        {
          "output_type": "execute_result",
          "data": {
            "text/plain": [
              "Dataset({\n",
              "    features: ['text', 'labels'],\n",
              "    num_rows: 941\n",
              "})"
            ]
          },
          "metadata": {},
          "execution_count": 26
        }
      ]
    },
    {
      "cell_type": "code",
      "source": [
        "train_dataset[0]"
      ],
      "metadata": {
        "colab": {
          "base_uri": "https://localhost:8080/"
        },
        "id": "YvERFNgWVUvB",
        "outputId": "9228bcf3-35f9-4fd1-a65d-55eb1dd84c74"
      },
      "execution_count": 27,
      "outputs": [
        {
          "output_type": "execute_result",
          "data": {
            "text/plain": [
              "{'text': '<s>[INST] \\nThe task is to use the provided information for each patient to return the predicted protocol for the CT study in the form of a json object like this:\\n{\"predicted_order\": \"CT abdomen pelvis with contrast\", \"predicted_protocol\": \"routine\", \"predicted_comments\": [\"oral contrast\"]}\\nThe response should be the json object and nothing else.\\nOrder: CT abdomen pelvis with contrast\\nPrior Order: \\nReason for Exam: Abdominal abscess/infection suspected; Fever, unspecified fever cause; Abdominal infection \\nContrast Allergy: False\\nAllergy severity: \\nCreatinine: 0.8\\nOn Dialysis: False\\nClinical Summary: The patient is a 55-year-old male with a history of diabetes and recent surgery for a perforated appendix presenting with fever and suspected abdominal abscess or infection. The CT abdomen pelvis with contrast is being ordered to evaluate the source and extent of the infection.\\n [/INST] \\\\n {\"accession\": \"800422\", \"predicted_order\": \"CT abdomen pelvis with contrast\", \"predicted_protocol\": \"routine\", \"predicted_comments\": []} </s>',\n",
              " 'labels': '{\"accession\": \"800422\", \"predicted_order\": \"CT abdomen pelvis with contrast\", \"predicted_protocol\": \"routine\", \"predicted_comments\": []}'}"
            ]
          },
          "metadata": {},
          "execution_count": 27
        }
      ]
    },
    {
      "cell_type": "code",
      "source": [
        "# Setting sft parameters\n",
        "trainer = SFTTrainer(\n",
        "    model=model,\n",
        "    train_dataset=train_dataset,\n",
        "    peft_config=peft_config,\n",
        "    max_seq_length= 4000,\n",
        "    dataset_text_field=\"text\",\n",
        "    tokenizer=tokenizer,\n",
        "    args=training_arguments,\n",
        "    packing= False,\n",
        ")"
      ],
      "metadata": {
        "id": "rsOWmFVHXIxh",
        "colab": {
          "base_uri": "https://localhost:8080/",
          "height": 120,
          "referenced_widgets": [
            "796d350b686346ebb7d9d51f2c13c000",
            "8309dd8f00784e75a515498aa047128f",
            "a3df3ff696234d0d9f8ba63cf67216b5",
            "a8fbf2ba649f449d92266183cfbd9a4c",
            "27041352b40a4b2189036f96739d4e17",
            "d2a10e02ccc645efa65a3dede2f1bd88",
            "b82bb13ac72a43e0a0fb073a9b33a728",
            "146e15a002694dedb41245c9ad45a114",
            "2971c685c4e546c4a277f1679a1f3b0a",
            "c44d6875323c4765820cff7e5d6f0c2d",
            "78fa62640a584b98a7314ab507d05e0e"
          ]
        },
        "outputId": "ccaae8db-b00c-41ff-ec6b-091ca4e89d50"
      },
      "execution_count": 28,
      "outputs": [
        {
          "output_type": "display_data",
          "data": {
            "text/plain": [
              "Map:   0%|          | 0/941 [00:00<?, ? examples/s]"
            ],
            "application/vnd.jupyter.widget-view+json": {
              "version_major": 2,
              "version_minor": 0,
              "model_id": "796d350b686346ebb7d9d51f2c13c000"
            }
          },
          "metadata": {}
        },
        {
          "output_type": "stream",
          "name": "stderr",
          "text": [
            "/usr/local/lib/python3.10/dist-packages/accelerate/accelerator.py:432: FutureWarning: Passing the following arguments to `Accelerator` is deprecated and will be removed in version 1.0 of Accelerate: dict_keys(['dispatch_batches', 'split_batches']). Please pass an `accelerate.DataLoaderConfiguration` instead: \n",
            "dataloader_config = DataLoaderConfiguration(dispatch_batches=None, split_batches=False)\n",
            "  warnings.warn(\n"
          ]
        }
      ]
    },
    {
      "cell_type": "code",
      "source": [
        "# Training the model\n",
        "trainer.train()"
      ],
      "metadata": {
        "id": "k6cTuIehXMVm",
        "colab": {
          "base_uri": "https://localhost:8080/",
          "height": 1000
        },
        "outputId": "138ff641-8633-4201-c309-41949339aee5"
      },
      "execution_count": 29,
      "outputs": [
        {
          "output_type": "stream",
          "name": "stderr",
          "text": [
            "You're using a LlamaTokenizerFast tokenizer. Please note that with a fast tokenizer, using the `__call__` method is faster than using a method to encode the text followed by a call to the `pad` method to get a padded encoding.\n",
            "/usr/local/lib/python3.10/dist-packages/torch/utils/checkpoint.py:460: UserWarning: torch.utils.checkpoint: please pass in use_reentrant=True or use_reentrant=False explicitly. The default value of use_reentrant will be updated to be False in the future. To maintain current behavior, pass use_reentrant=True. It is recommended that you use use_reentrant=False. Refer to docs for more details on the differences between the two variants.\n",
            "  warnings.warn(\n"
          ]
        },
        {
          "output_type": "display_data",
          "data": {
            "text/plain": [
              "<IPython.core.display.HTML object>"
            ],
            "text/html": [
              "\n",
              "    <div>\n",
              "      \n",
              "      <progress value='236' max='236' style='width:300px; height:20px; vertical-align: middle;'></progress>\n",
              "      [236/236 14:00, Epoch 1/1]\n",
              "    </div>\n",
              "    <table border=\"1\" class=\"dataframe\">\n",
              "  <thead>\n",
              " <tr style=\"text-align: left;\">\n",
              "      <th>Step</th>\n",
              "      <th>Training Loss</th>\n",
              "    </tr>\n",
              "  </thead>\n",
              "  <tbody>\n",
              "    <tr>\n",
              "      <td>1</td>\n",
              "      <td>2.547100</td>\n",
              "    </tr>\n",
              "    <tr>\n",
              "      <td>2</td>\n",
              "      <td>2.159800</td>\n",
              "    </tr>\n",
              "    <tr>\n",
              "      <td>3</td>\n",
              "      <td>1.998100</td>\n",
              "    </tr>\n",
              "    <tr>\n",
              "      <td>4</td>\n",
              "      <td>1.548600</td>\n",
              "    </tr>\n",
              "    <tr>\n",
              "      <td>5</td>\n",
              "      <td>1.378200</td>\n",
              "    </tr>\n",
              "    <tr>\n",
              "      <td>6</td>\n",
              "      <td>1.115400</td>\n",
              "    </tr>\n",
              "    <tr>\n",
              "      <td>7</td>\n",
              "      <td>1.005300</td>\n",
              "    </tr>\n",
              "    <tr>\n",
              "      <td>8</td>\n",
              "      <td>0.827000</td>\n",
              "    </tr>\n",
              "    <tr>\n",
              "      <td>9</td>\n",
              "      <td>0.732000</td>\n",
              "    </tr>\n",
              "    <tr>\n",
              "      <td>10</td>\n",
              "      <td>0.627600</td>\n",
              "    </tr>\n",
              "    <tr>\n",
              "      <td>11</td>\n",
              "      <td>0.537800</td>\n",
              "    </tr>\n",
              "    <tr>\n",
              "      <td>12</td>\n",
              "      <td>0.615000</td>\n",
              "    </tr>\n",
              "    <tr>\n",
              "      <td>13</td>\n",
              "      <td>0.547200</td>\n",
              "    </tr>\n",
              "    <tr>\n",
              "      <td>14</td>\n",
              "      <td>0.485300</td>\n",
              "    </tr>\n",
              "    <tr>\n",
              "      <td>15</td>\n",
              "      <td>0.487900</td>\n",
              "    </tr>\n",
              "    <tr>\n",
              "      <td>16</td>\n",
              "      <td>0.472400</td>\n",
              "    </tr>\n",
              "    <tr>\n",
              "      <td>17</td>\n",
              "      <td>0.441000</td>\n",
              "    </tr>\n",
              "    <tr>\n",
              "      <td>18</td>\n",
              "      <td>0.456000</td>\n",
              "    </tr>\n",
              "    <tr>\n",
              "      <td>19</td>\n",
              "      <td>0.472500</td>\n",
              "    </tr>\n",
              "    <tr>\n",
              "      <td>20</td>\n",
              "      <td>0.515600</td>\n",
              "    </tr>\n",
              "    <tr>\n",
              "      <td>21</td>\n",
              "      <td>0.450300</td>\n",
              "    </tr>\n",
              "    <tr>\n",
              "      <td>22</td>\n",
              "      <td>0.428900</td>\n",
              "    </tr>\n",
              "    <tr>\n",
              "      <td>23</td>\n",
              "      <td>0.420100</td>\n",
              "    </tr>\n",
              "    <tr>\n",
              "      <td>24</td>\n",
              "      <td>0.489800</td>\n",
              "    </tr>\n",
              "    <tr>\n",
              "      <td>25</td>\n",
              "      <td>0.394400</td>\n",
              "    </tr>\n",
              "    <tr>\n",
              "      <td>26</td>\n",
              "      <td>0.426000</td>\n",
              "    </tr>\n",
              "    <tr>\n",
              "      <td>27</td>\n",
              "      <td>0.377800</td>\n",
              "    </tr>\n",
              "    <tr>\n",
              "      <td>28</td>\n",
              "      <td>0.432000</td>\n",
              "    </tr>\n",
              "    <tr>\n",
              "      <td>29</td>\n",
              "      <td>0.422200</td>\n",
              "    </tr>\n",
              "    <tr>\n",
              "      <td>30</td>\n",
              "      <td>0.351600</td>\n",
              "    </tr>\n",
              "    <tr>\n",
              "      <td>31</td>\n",
              "      <td>0.466000</td>\n",
              "    </tr>\n",
              "    <tr>\n",
              "      <td>32</td>\n",
              "      <td>0.379300</td>\n",
              "    </tr>\n",
              "    <tr>\n",
              "      <td>33</td>\n",
              "      <td>0.323900</td>\n",
              "    </tr>\n",
              "    <tr>\n",
              "      <td>34</td>\n",
              "      <td>0.299600</td>\n",
              "    </tr>\n",
              "    <tr>\n",
              "      <td>35</td>\n",
              "      <td>0.459400</td>\n",
              "    </tr>\n",
              "    <tr>\n",
              "      <td>36</td>\n",
              "      <td>0.384600</td>\n",
              "    </tr>\n",
              "    <tr>\n",
              "      <td>37</td>\n",
              "      <td>0.335300</td>\n",
              "    </tr>\n",
              "    <tr>\n",
              "      <td>38</td>\n",
              "      <td>0.316300</td>\n",
              "    </tr>\n",
              "    <tr>\n",
              "      <td>39</td>\n",
              "      <td>0.357500</td>\n",
              "    </tr>\n",
              "    <tr>\n",
              "      <td>40</td>\n",
              "      <td>0.339300</td>\n",
              "    </tr>\n",
              "    <tr>\n",
              "      <td>41</td>\n",
              "      <td>0.359200</td>\n",
              "    </tr>\n",
              "    <tr>\n",
              "      <td>42</td>\n",
              "      <td>0.292700</td>\n",
              "    </tr>\n",
              "    <tr>\n",
              "      <td>43</td>\n",
              "      <td>0.309500</td>\n",
              "    </tr>\n",
              "    <tr>\n",
              "      <td>44</td>\n",
              "      <td>0.361300</td>\n",
              "    </tr>\n",
              "    <tr>\n",
              "      <td>45</td>\n",
              "      <td>0.232600</td>\n",
              "    </tr>\n",
              "    <tr>\n",
              "      <td>46</td>\n",
              "      <td>0.320600</td>\n",
              "    </tr>\n",
              "    <tr>\n",
              "      <td>47</td>\n",
              "      <td>0.294700</td>\n",
              "    </tr>\n",
              "    <tr>\n",
              "      <td>48</td>\n",
              "      <td>0.266200</td>\n",
              "    </tr>\n",
              "    <tr>\n",
              "      <td>49</td>\n",
              "      <td>0.259600</td>\n",
              "    </tr>\n",
              "    <tr>\n",
              "      <td>50</td>\n",
              "      <td>0.445500</td>\n",
              "    </tr>\n",
              "    <tr>\n",
              "      <td>51</td>\n",
              "      <td>0.825600</td>\n",
              "    </tr>\n",
              "    <tr>\n",
              "      <td>52</td>\n",
              "      <td>0.647100</td>\n",
              "    </tr>\n",
              "    <tr>\n",
              "      <td>53</td>\n",
              "      <td>0.541800</td>\n",
              "    </tr>\n",
              "    <tr>\n",
              "      <td>54</td>\n",
              "      <td>0.500600</td>\n",
              "    </tr>\n",
              "    <tr>\n",
              "      <td>55</td>\n",
              "      <td>0.535100</td>\n",
              "    </tr>\n",
              "    <tr>\n",
              "      <td>56</td>\n",
              "      <td>0.406200</td>\n",
              "    </tr>\n",
              "    <tr>\n",
              "      <td>57</td>\n",
              "      <td>0.459900</td>\n",
              "    </tr>\n",
              "    <tr>\n",
              "      <td>58</td>\n",
              "      <td>0.535600</td>\n",
              "    </tr>\n",
              "    <tr>\n",
              "      <td>59</td>\n",
              "      <td>0.411700</td>\n",
              "    </tr>\n",
              "    <tr>\n",
              "      <td>60</td>\n",
              "      <td>0.507000</td>\n",
              "    </tr>\n",
              "    <tr>\n",
              "      <td>61</td>\n",
              "      <td>0.392400</td>\n",
              "    </tr>\n",
              "    <tr>\n",
              "      <td>62</td>\n",
              "      <td>0.417100</td>\n",
              "    </tr>\n",
              "    <tr>\n",
              "      <td>63</td>\n",
              "      <td>0.458100</td>\n",
              "    </tr>\n",
              "    <tr>\n",
              "      <td>64</td>\n",
              "      <td>0.283600</td>\n",
              "    </tr>\n",
              "    <tr>\n",
              "      <td>65</td>\n",
              "      <td>0.387600</td>\n",
              "    </tr>\n",
              "    <tr>\n",
              "      <td>66</td>\n",
              "      <td>0.267900</td>\n",
              "    </tr>\n",
              "    <tr>\n",
              "      <td>67</td>\n",
              "      <td>0.418900</td>\n",
              "    </tr>\n",
              "    <tr>\n",
              "      <td>68</td>\n",
              "      <td>0.304800</td>\n",
              "    </tr>\n",
              "    <tr>\n",
              "      <td>69</td>\n",
              "      <td>0.327900</td>\n",
              "    </tr>\n",
              "    <tr>\n",
              "      <td>70</td>\n",
              "      <td>0.323200</td>\n",
              "    </tr>\n",
              "    <tr>\n",
              "      <td>71</td>\n",
              "      <td>0.308000</td>\n",
              "    </tr>\n",
              "    <tr>\n",
              "      <td>72</td>\n",
              "      <td>0.359200</td>\n",
              "    </tr>\n",
              "    <tr>\n",
              "      <td>73</td>\n",
              "      <td>0.262400</td>\n",
              "    </tr>\n",
              "    <tr>\n",
              "      <td>74</td>\n",
              "      <td>0.286200</td>\n",
              "    </tr>\n",
              "    <tr>\n",
              "      <td>75</td>\n",
              "      <td>0.310500</td>\n",
              "    </tr>\n",
              "    <tr>\n",
              "      <td>76</td>\n",
              "      <td>0.305800</td>\n",
              "    </tr>\n",
              "    <tr>\n",
              "      <td>77</td>\n",
              "      <td>0.329900</td>\n",
              "    </tr>\n",
              "    <tr>\n",
              "      <td>78</td>\n",
              "      <td>0.421700</td>\n",
              "    </tr>\n",
              "    <tr>\n",
              "      <td>79</td>\n",
              "      <td>0.294900</td>\n",
              "    </tr>\n",
              "    <tr>\n",
              "      <td>80</td>\n",
              "      <td>0.301100</td>\n",
              "    </tr>\n",
              "    <tr>\n",
              "      <td>81</td>\n",
              "      <td>0.313400</td>\n",
              "    </tr>\n",
              "    <tr>\n",
              "      <td>82</td>\n",
              "      <td>0.231500</td>\n",
              "    </tr>\n",
              "    <tr>\n",
              "      <td>83</td>\n",
              "      <td>0.258800</td>\n",
              "    </tr>\n",
              "    <tr>\n",
              "      <td>84</td>\n",
              "      <td>0.283800</td>\n",
              "    </tr>\n",
              "    <tr>\n",
              "      <td>85</td>\n",
              "      <td>0.313700</td>\n",
              "    </tr>\n",
              "    <tr>\n",
              "      <td>86</td>\n",
              "      <td>0.206100</td>\n",
              "    </tr>\n",
              "    <tr>\n",
              "      <td>87</td>\n",
              "      <td>0.231400</td>\n",
              "    </tr>\n",
              "    <tr>\n",
              "      <td>88</td>\n",
              "      <td>0.289900</td>\n",
              "    </tr>\n",
              "    <tr>\n",
              "      <td>89</td>\n",
              "      <td>0.188500</td>\n",
              "    </tr>\n",
              "    <tr>\n",
              "      <td>90</td>\n",
              "      <td>0.181000</td>\n",
              "    </tr>\n",
              "    <tr>\n",
              "      <td>91</td>\n",
              "      <td>0.211300</td>\n",
              "    </tr>\n",
              "    <tr>\n",
              "      <td>92</td>\n",
              "      <td>0.323900</td>\n",
              "    </tr>\n",
              "    <tr>\n",
              "      <td>93</td>\n",
              "      <td>0.244300</td>\n",
              "    </tr>\n",
              "    <tr>\n",
              "      <td>94</td>\n",
              "      <td>0.228700</td>\n",
              "    </tr>\n",
              "    <tr>\n",
              "      <td>95</td>\n",
              "      <td>0.328600</td>\n",
              "    </tr>\n",
              "    <tr>\n",
              "      <td>96</td>\n",
              "      <td>0.256700</td>\n",
              "    </tr>\n",
              "    <tr>\n",
              "      <td>97</td>\n",
              "      <td>0.215100</td>\n",
              "    </tr>\n",
              "    <tr>\n",
              "      <td>98</td>\n",
              "      <td>3.356800</td>\n",
              "    </tr>\n",
              "    <tr>\n",
              "      <td>99</td>\n",
              "      <td>0.730100</td>\n",
              "    </tr>\n",
              "    <tr>\n",
              "      <td>100</td>\n",
              "      <td>0.282700</td>\n",
              "    </tr>\n",
              "    <tr>\n",
              "      <td>101</td>\n",
              "      <td>0.690000</td>\n",
              "    </tr>\n",
              "    <tr>\n",
              "      <td>102</td>\n",
              "      <td>0.703000</td>\n",
              "    </tr>\n",
              "    <tr>\n",
              "      <td>103</td>\n",
              "      <td>0.461900</td>\n",
              "    </tr>\n",
              "    <tr>\n",
              "      <td>104</td>\n",
              "      <td>0.539500</td>\n",
              "    </tr>\n",
              "    <tr>\n",
              "      <td>105</td>\n",
              "      <td>0.438900</td>\n",
              "    </tr>\n",
              "    <tr>\n",
              "      <td>106</td>\n",
              "      <td>0.358800</td>\n",
              "    </tr>\n",
              "    <tr>\n",
              "      <td>107</td>\n",
              "      <td>0.323900</td>\n",
              "    </tr>\n",
              "    <tr>\n",
              "      <td>108</td>\n",
              "      <td>0.369000</td>\n",
              "    </tr>\n",
              "    <tr>\n",
              "      <td>109</td>\n",
              "      <td>0.354800</td>\n",
              "    </tr>\n",
              "    <tr>\n",
              "      <td>110</td>\n",
              "      <td>0.474100</td>\n",
              "    </tr>\n",
              "    <tr>\n",
              "      <td>111</td>\n",
              "      <td>0.259300</td>\n",
              "    </tr>\n",
              "    <tr>\n",
              "      <td>112</td>\n",
              "      <td>0.349700</td>\n",
              "    </tr>\n",
              "    <tr>\n",
              "      <td>113</td>\n",
              "      <td>0.294900</td>\n",
              "    </tr>\n",
              "    <tr>\n",
              "      <td>114</td>\n",
              "      <td>0.254300</td>\n",
              "    </tr>\n",
              "    <tr>\n",
              "      <td>115</td>\n",
              "      <td>0.332500</td>\n",
              "    </tr>\n",
              "    <tr>\n",
              "      <td>116</td>\n",
              "      <td>0.359400</td>\n",
              "    </tr>\n",
              "    <tr>\n",
              "      <td>117</td>\n",
              "      <td>0.248000</td>\n",
              "    </tr>\n",
              "    <tr>\n",
              "      <td>118</td>\n",
              "      <td>0.324500</td>\n",
              "    </tr>\n",
              "    <tr>\n",
              "      <td>119</td>\n",
              "      <td>0.251000</td>\n",
              "    </tr>\n",
              "    <tr>\n",
              "      <td>120</td>\n",
              "      <td>0.314400</td>\n",
              "    </tr>\n",
              "    <tr>\n",
              "      <td>121</td>\n",
              "      <td>0.273400</td>\n",
              "    </tr>\n",
              "    <tr>\n",
              "      <td>122</td>\n",
              "      <td>0.230900</td>\n",
              "    </tr>\n",
              "    <tr>\n",
              "      <td>123</td>\n",
              "      <td>0.242200</td>\n",
              "    </tr>\n",
              "    <tr>\n",
              "      <td>124</td>\n",
              "      <td>0.251000</td>\n",
              "    </tr>\n",
              "    <tr>\n",
              "      <td>125</td>\n",
              "      <td>0.310600</td>\n",
              "    </tr>\n",
              "    <tr>\n",
              "      <td>126</td>\n",
              "      <td>0.265700</td>\n",
              "    </tr>\n",
              "    <tr>\n",
              "      <td>127</td>\n",
              "      <td>0.340100</td>\n",
              "    </tr>\n",
              "    <tr>\n",
              "      <td>128</td>\n",
              "      <td>0.196300</td>\n",
              "    </tr>\n",
              "    <tr>\n",
              "      <td>129</td>\n",
              "      <td>0.365100</td>\n",
              "    </tr>\n",
              "    <tr>\n",
              "      <td>130</td>\n",
              "      <td>0.283900</td>\n",
              "    </tr>\n",
              "    <tr>\n",
              "      <td>131</td>\n",
              "      <td>0.245300</td>\n",
              "    </tr>\n",
              "    <tr>\n",
              "      <td>132</td>\n",
              "      <td>0.279900</td>\n",
              "    </tr>\n",
              "    <tr>\n",
              "      <td>133</td>\n",
              "      <td>0.266300</td>\n",
              "    </tr>\n",
              "    <tr>\n",
              "      <td>134</td>\n",
              "      <td>0.239100</td>\n",
              "    </tr>\n",
              "    <tr>\n",
              "      <td>135</td>\n",
              "      <td>0.216400</td>\n",
              "    </tr>\n",
              "    <tr>\n",
              "      <td>136</td>\n",
              "      <td>0.253800</td>\n",
              "    </tr>\n",
              "    <tr>\n",
              "      <td>137</td>\n",
              "      <td>0.214100</td>\n",
              "    </tr>\n",
              "    <tr>\n",
              "      <td>138</td>\n",
              "      <td>0.282200</td>\n",
              "    </tr>\n",
              "    <tr>\n",
              "      <td>139</td>\n",
              "      <td>0.292000</td>\n",
              "    </tr>\n",
              "    <tr>\n",
              "      <td>140</td>\n",
              "      <td>0.209000</td>\n",
              "    </tr>\n",
              "    <tr>\n",
              "      <td>141</td>\n",
              "      <td>0.202300</td>\n",
              "    </tr>\n",
              "    <tr>\n",
              "      <td>142</td>\n",
              "      <td>0.169000</td>\n",
              "    </tr>\n",
              "    <tr>\n",
              "      <td>143</td>\n",
              "      <td>0.191200</td>\n",
              "    </tr>\n",
              "    <tr>\n",
              "      <td>144</td>\n",
              "      <td>0.187200</td>\n",
              "    </tr>\n",
              "    <tr>\n",
              "      <td>145</td>\n",
              "      <td>0.190900</td>\n",
              "    </tr>\n",
              "    <tr>\n",
              "      <td>146</td>\n",
              "      <td>0.295500</td>\n",
              "    </tr>\n",
              "    <tr>\n",
              "      <td>147</td>\n",
              "      <td>0.279000</td>\n",
              "    </tr>\n",
              "    <tr>\n",
              "      <td>148</td>\n",
              "      <td>0.196000</td>\n",
              "    </tr>\n",
              "    <tr>\n",
              "      <td>149</td>\n",
              "      <td>0.202200</td>\n",
              "    </tr>\n",
              "    <tr>\n",
              "      <td>150</td>\n",
              "      <td>0.311300</td>\n",
              "    </tr>\n",
              "    <tr>\n",
              "      <td>151</td>\n",
              "      <td>0.548900</td>\n",
              "    </tr>\n",
              "    <tr>\n",
              "      <td>152</td>\n",
              "      <td>0.589200</td>\n",
              "    </tr>\n",
              "    <tr>\n",
              "      <td>153</td>\n",
              "      <td>0.507300</td>\n",
              "    </tr>\n",
              "    <tr>\n",
              "      <td>154</td>\n",
              "      <td>0.454800</td>\n",
              "    </tr>\n",
              "    <tr>\n",
              "      <td>155</td>\n",
              "      <td>0.397100</td>\n",
              "    </tr>\n",
              "    <tr>\n",
              "      <td>156</td>\n",
              "      <td>0.265700</td>\n",
              "    </tr>\n",
              "    <tr>\n",
              "      <td>157</td>\n",
              "      <td>0.378300</td>\n",
              "    </tr>\n",
              "    <tr>\n",
              "      <td>158</td>\n",
              "      <td>0.320100</td>\n",
              "    </tr>\n",
              "    <tr>\n",
              "      <td>159</td>\n",
              "      <td>0.343300</td>\n",
              "    </tr>\n",
              "    <tr>\n",
              "      <td>160</td>\n",
              "      <td>0.344900</td>\n",
              "    </tr>\n",
              "    <tr>\n",
              "      <td>161</td>\n",
              "      <td>0.234100</td>\n",
              "    </tr>\n",
              "    <tr>\n",
              "      <td>162</td>\n",
              "      <td>0.449700</td>\n",
              "    </tr>\n",
              "    <tr>\n",
              "      <td>163</td>\n",
              "      <td>0.359000</td>\n",
              "    </tr>\n",
              "    <tr>\n",
              "      <td>164</td>\n",
              "      <td>0.291800</td>\n",
              "    </tr>\n",
              "    <tr>\n",
              "      <td>165</td>\n",
              "      <td>0.298900</td>\n",
              "    </tr>\n",
              "    <tr>\n",
              "      <td>166</td>\n",
              "      <td>0.346400</td>\n",
              "    </tr>\n",
              "    <tr>\n",
              "      <td>167</td>\n",
              "      <td>0.300600</td>\n",
              "    </tr>\n",
              "    <tr>\n",
              "      <td>168</td>\n",
              "      <td>0.275100</td>\n",
              "    </tr>\n",
              "    <tr>\n",
              "      <td>169</td>\n",
              "      <td>0.339800</td>\n",
              "    </tr>\n",
              "    <tr>\n",
              "      <td>170</td>\n",
              "      <td>0.236100</td>\n",
              "    </tr>\n",
              "    <tr>\n",
              "      <td>171</td>\n",
              "      <td>0.333600</td>\n",
              "    </tr>\n",
              "    <tr>\n",
              "      <td>172</td>\n",
              "      <td>0.285600</td>\n",
              "    </tr>\n",
              "    <tr>\n",
              "      <td>173</td>\n",
              "      <td>0.272200</td>\n",
              "    </tr>\n",
              "    <tr>\n",
              "      <td>174</td>\n",
              "      <td>0.322400</td>\n",
              "    </tr>\n",
              "    <tr>\n",
              "      <td>175</td>\n",
              "      <td>0.249600</td>\n",
              "    </tr>\n",
              "    <tr>\n",
              "      <td>176</td>\n",
              "      <td>0.251200</td>\n",
              "    </tr>\n",
              "    <tr>\n",
              "      <td>177</td>\n",
              "      <td>0.220200</td>\n",
              "    </tr>\n",
              "    <tr>\n",
              "      <td>178</td>\n",
              "      <td>0.295000</td>\n",
              "    </tr>\n",
              "    <tr>\n",
              "      <td>179</td>\n",
              "      <td>0.272100</td>\n",
              "    </tr>\n",
              "    <tr>\n",
              "      <td>180</td>\n",
              "      <td>0.296300</td>\n",
              "    </tr>\n",
              "    <tr>\n",
              "      <td>181</td>\n",
              "      <td>0.225300</td>\n",
              "    </tr>\n",
              "    <tr>\n",
              "      <td>182</td>\n",
              "      <td>0.319400</td>\n",
              "    </tr>\n",
              "    <tr>\n",
              "      <td>183</td>\n",
              "      <td>0.189700</td>\n",
              "    </tr>\n",
              "    <tr>\n",
              "      <td>184</td>\n",
              "      <td>0.205300</td>\n",
              "    </tr>\n",
              "    <tr>\n",
              "      <td>185</td>\n",
              "      <td>0.181500</td>\n",
              "    </tr>\n",
              "    <tr>\n",
              "      <td>186</td>\n",
              "      <td>0.222700</td>\n",
              "    </tr>\n",
              "    <tr>\n",
              "      <td>187</td>\n",
              "      <td>0.183700</td>\n",
              "    </tr>\n",
              "    <tr>\n",
              "      <td>188</td>\n",
              "      <td>0.225200</td>\n",
              "    </tr>\n",
              "    <tr>\n",
              "      <td>189</td>\n",
              "      <td>0.175700</td>\n",
              "    </tr>\n",
              "    <tr>\n",
              "      <td>190</td>\n",
              "      <td>0.234100</td>\n",
              "    </tr>\n",
              "    <tr>\n",
              "      <td>191</td>\n",
              "      <td>0.203400</td>\n",
              "    </tr>\n",
              "    <tr>\n",
              "      <td>192</td>\n",
              "      <td>0.183500</td>\n",
              "    </tr>\n",
              "    <tr>\n",
              "      <td>193</td>\n",
              "      <td>0.224700</td>\n",
              "    </tr>\n",
              "    <tr>\n",
              "      <td>194</td>\n",
              "      <td>0.197000</td>\n",
              "    </tr>\n",
              "    <tr>\n",
              "      <td>195</td>\n",
              "      <td>0.248400</td>\n",
              "    </tr>\n",
              "    <tr>\n",
              "      <td>196</td>\n",
              "      <td>0.236700</td>\n",
              "    </tr>\n",
              "    <tr>\n",
              "      <td>197</td>\n",
              "      <td>0.164200</td>\n",
              "    </tr>\n",
              "    <tr>\n",
              "      <td>198</td>\n",
              "      <td>0.232100</td>\n",
              "    </tr>\n",
              "    <tr>\n",
              "      <td>199</td>\n",
              "      <td>0.179300</td>\n",
              "    </tr>\n",
              "    <tr>\n",
              "      <td>200</td>\n",
              "      <td>0.212700</td>\n",
              "    </tr>\n",
              "    <tr>\n",
              "      <td>201</td>\n",
              "      <td>0.467400</td>\n",
              "    </tr>\n",
              "    <tr>\n",
              "      <td>202</td>\n",
              "      <td>0.553800</td>\n",
              "    </tr>\n",
              "    <tr>\n",
              "      <td>203</td>\n",
              "      <td>0.452000</td>\n",
              "    </tr>\n",
              "    <tr>\n",
              "      <td>204</td>\n",
              "      <td>0.223800</td>\n",
              "    </tr>\n",
              "    <tr>\n",
              "      <td>205</td>\n",
              "      <td>0.386500</td>\n",
              "    </tr>\n",
              "    <tr>\n",
              "      <td>206</td>\n",
              "      <td>0.295000</td>\n",
              "    </tr>\n",
              "    <tr>\n",
              "      <td>207</td>\n",
              "      <td>0.313600</td>\n",
              "    </tr>\n",
              "    <tr>\n",
              "      <td>208</td>\n",
              "      <td>0.298200</td>\n",
              "    </tr>\n",
              "    <tr>\n",
              "      <td>209</td>\n",
              "      <td>0.277200</td>\n",
              "    </tr>\n",
              "    <tr>\n",
              "      <td>210</td>\n",
              "      <td>0.268800</td>\n",
              "    </tr>\n",
              "    <tr>\n",
              "      <td>211</td>\n",
              "      <td>0.242000</td>\n",
              "    </tr>\n",
              "    <tr>\n",
              "      <td>212</td>\n",
              "      <td>0.209600</td>\n",
              "    </tr>\n",
              "    <tr>\n",
              "      <td>213</td>\n",
              "      <td>0.273400</td>\n",
              "    </tr>\n",
              "    <tr>\n",
              "      <td>214</td>\n",
              "      <td>0.261100</td>\n",
              "    </tr>\n",
              "    <tr>\n",
              "      <td>215</td>\n",
              "      <td>0.219600</td>\n",
              "    </tr>\n",
              "    <tr>\n",
              "      <td>216</td>\n",
              "      <td>0.204100</td>\n",
              "    </tr>\n",
              "    <tr>\n",
              "      <td>217</td>\n",
              "      <td>0.261200</td>\n",
              "    </tr>\n",
              "    <tr>\n",
              "      <td>218</td>\n",
              "      <td>0.249700</td>\n",
              "    </tr>\n",
              "    <tr>\n",
              "      <td>219</td>\n",
              "      <td>0.201800</td>\n",
              "    </tr>\n",
              "    <tr>\n",
              "      <td>220</td>\n",
              "      <td>0.256300</td>\n",
              "    </tr>\n",
              "    <tr>\n",
              "      <td>221</td>\n",
              "      <td>0.201200</td>\n",
              "    </tr>\n",
              "    <tr>\n",
              "      <td>222</td>\n",
              "      <td>0.192200</td>\n",
              "    </tr>\n",
              "    <tr>\n",
              "      <td>223</td>\n",
              "      <td>0.250800</td>\n",
              "    </tr>\n",
              "    <tr>\n",
              "      <td>224</td>\n",
              "      <td>0.240400</td>\n",
              "    </tr>\n",
              "    <tr>\n",
              "      <td>225</td>\n",
              "      <td>0.241700</td>\n",
              "    </tr>\n",
              "    <tr>\n",
              "      <td>226</td>\n",
              "      <td>0.205700</td>\n",
              "    </tr>\n",
              "    <tr>\n",
              "      <td>227</td>\n",
              "      <td>0.210400</td>\n",
              "    </tr>\n",
              "    <tr>\n",
              "      <td>228</td>\n",
              "      <td>0.257700</td>\n",
              "    </tr>\n",
              "    <tr>\n",
              "      <td>229</td>\n",
              "      <td>0.206200</td>\n",
              "    </tr>\n",
              "    <tr>\n",
              "      <td>230</td>\n",
              "      <td>0.189700</td>\n",
              "    </tr>\n",
              "    <tr>\n",
              "      <td>231</td>\n",
              "      <td>0.180800</td>\n",
              "    </tr>\n",
              "    <tr>\n",
              "      <td>232</td>\n",
              "      <td>0.284800</td>\n",
              "    </tr>\n",
              "    <tr>\n",
              "      <td>233</td>\n",
              "      <td>0.196900</td>\n",
              "    </tr>\n",
              "    <tr>\n",
              "      <td>234</td>\n",
              "      <td>0.184500</td>\n",
              "    </tr>\n",
              "    <tr>\n",
              "      <td>235</td>\n",
              "      <td>0.199300</td>\n",
              "    </tr>\n",
              "    <tr>\n",
              "      <td>236</td>\n",
              "      <td>0.198400</td>\n",
              "    </tr>\n",
              "  </tbody>\n",
              "</table><p>"
            ]
          },
          "metadata": {}
        },
        {
          "output_type": "stream",
          "name": "stderr",
          "text": [
            "/usr/local/lib/python3.10/dist-packages/torch/utils/checkpoint.py:460: UserWarning: torch.utils.checkpoint: please pass in use_reentrant=True or use_reentrant=False explicitly. The default value of use_reentrant will be updated to be False in the future. To maintain current behavior, pass use_reentrant=True. It is recommended that you use use_reentrant=False. Refer to docs for more details on the differences between the two variants.\n",
            "  warnings.warn(\n",
            "/usr/local/lib/python3.10/dist-packages/torch/utils/checkpoint.py:460: UserWarning: torch.utils.checkpoint: please pass in use_reentrant=True or use_reentrant=False explicitly. The default value of use_reentrant will be updated to be False in the future. To maintain current behavior, pass use_reentrant=True. It is recommended that you use use_reentrant=False. Refer to docs for more details on the differences between the two variants.\n",
            "  warnings.warn(\n",
            "/usr/local/lib/python3.10/dist-packages/torch/utils/checkpoint.py:460: UserWarning: torch.utils.checkpoint: please pass in use_reentrant=True or use_reentrant=False explicitly. The default value of use_reentrant will be updated to be False in the future. To maintain current behavior, pass use_reentrant=True. It is recommended that you use use_reentrant=False. Refer to docs for more details on the differences between the two variants.\n",
            "  warnings.warn(\n",
            "/usr/local/lib/python3.10/dist-packages/torch/utils/checkpoint.py:460: UserWarning: torch.utils.checkpoint: please pass in use_reentrant=True or use_reentrant=False explicitly. The default value of use_reentrant will be updated to be False in the future. To maintain current behavior, pass use_reentrant=True. It is recommended that you use use_reentrant=False. Refer to docs for more details on the differences between the two variants.\n",
            "  warnings.warn(\n"
          ]
        },
        {
          "output_type": "execute_result",
          "data": {
            "text/plain": [
              "TrainOutput(global_step=236, training_loss=0.37981812567529033, metrics={'train_runtime': 846.3406, 'train_samples_per_second': 1.112, 'train_steps_per_second': 0.279, 'total_flos': 1.2580602676125696e+16, 'train_loss': 0.37981812567529033, 'epoch': 1.0})"
            ]
          },
          "metadata": {},
          "execution_count": 29
        }
      ]
    },
    {
      "cell_type": "code",
      "source": [
        "# Save the fine-tuned model\n",
        "trainer.model.save_pretrained(new_model)\n",
        "model.config.use_cache = True\n"
      ],
      "metadata": {
        "id": "3neJPtSaXYzN"
      },
      "execution_count": 30,
      "outputs": []
    },
    {
      "cell_type": "code",
      "source": [
        "# from huggingface_hub import notebook_login\n",
        "\n",
        "# # Login to Hugging Face within the notebook to store your credentials (if not using CLI)\n",
        "# notebook_login()"
      ],
      "metadata": {
        "id": "jz1bhFFGJCzS"
      },
      "execution_count": 31,
      "outputs": []
    },
    {
      "cell_type": "code",
      "source": [
        "write_token = userdata.get('HUGGINGFACE_WRITE_TOKEN')"
      ],
      "metadata": {
        "id": "nXy1GG8ZO40M"
      },
      "execution_count": 32,
      "outputs": []
    },
    {
      "cell_type": "code",
      "source": [
        "trainer.model.push_to_hub(\"mille055/auto_protocol2\", token=write_token)\n"
      ],
      "metadata": {
        "id": "AXB29L9UXcCg",
        "colab": {
          "base_uri": "https://localhost:8080/",
          "height": 137,
          "referenced_widgets": [
            "2bbddfe9a3ef458b9a7e9cdfc03ae709",
            "7daf2588c79647a6914c6db43fc2e81f",
            "8e198ab04b9e4d679180b101573b16ad",
            "37a90c60d89f4c0d9d8f28fc1ec07cf7",
            "de54cbc7a865490d9db0901092e7bc0c",
            "0b248cf5bb9b4778b655fcb03f27e356",
            "83cb0c2b888c42d591a381815cd58f3a",
            "9bed6759de634fb086fecc9572039ca9",
            "6f4b758ba70e4381a5664389e0f51273",
            "d6bddecbae834331bf45f9ee7e59bcc1",
            "6cb20261af3a4cb080bc5adc75af2f46"
          ]
        },
        "outputId": "506c1641-047d-4353-cf12-f84c2a6abd1b"
      },
      "execution_count": 33,
      "outputs": [
        {
          "output_type": "display_data",
          "data": {
            "text/plain": [
              "adapter_model.safetensors:   0%|          | 0.00/369M [00:00<?, ?B/s]"
            ],
            "application/vnd.jupyter.widget-view+json": {
              "version_major": 2,
              "version_minor": 0,
              "model_id": "2bbddfe9a3ef458b9a7e9cdfc03ae709"
            }
          },
          "metadata": {}
        },
        {
          "output_type": "execute_result",
          "data": {
            "text/plain": [
              "CommitInfo(commit_url='https://huggingface.co/mille055/auto_protocol2/commit/9f5d23deda2abaebe228e9fece016796b1444a69', commit_message='Upload model', commit_description='', oid='9f5d23deda2abaebe228e9fece016796b1444a69', pr_url=None, pr_revision=None, pr_num=None)"
            ],
            "application/vnd.google.colaboratory.intrinsic+json": {
              "type": "string"
            }
          },
          "metadata": {},
          "execution_count": 33
        }
      ]
    },
    {
      "cell_type": "code",
      "source": [
        "\n",
        "tokenizer.push_to_hub(\"mille055/auto_protocol2\", token=write_token)\n"
      ],
      "metadata": {
        "id": "WlijP7v4IP1s",
        "colab": {
          "base_uri": "https://localhost:8080/",
          "height": 137,
          "referenced_widgets": [
            "964b679fc36e42eb9e2a64910436f5e3",
            "510a0d92a3e6488e858aa93ed61cdd0f",
            "38fce7050e0e475f9a7694392c42f1b9",
            "62674a5618e043319fb38d8151d673b1",
            "3f763edc7a0e46c38d99c9a70e2c499c",
            "1220e1592d5141f58a31ef66a733fc27",
            "13a71454deba409ba347f5195e900b99",
            "80dceb964b33435a95c57e3127cdd1ca",
            "c9cda612a109453ea5552dfbcfb749e3",
            "a19fe5d82ac045b59dd750e146a3e16e",
            "a7afcd65e4ba4f0e8d1532284341eb58"
          ]
        },
        "outputId": "775b2b3f-c2e6-47f0-a3ef-08217d62eccc"
      },
      "execution_count": 48,
      "outputs": [
        {
          "output_type": "display_data",
          "data": {
            "text/plain": [
              "tokenizer.model:   0%|          | 0.00/493k [00:00<?, ?B/s]"
            ],
            "application/vnd.jupyter.widget-view+json": {
              "version_major": 2,
              "version_minor": 0,
              "model_id": "964b679fc36e42eb9e2a64910436f5e3"
            }
          },
          "metadata": {}
        },
        {
          "output_type": "execute_result",
          "data": {
            "text/plain": [
              "CommitInfo(commit_url='https://huggingface.co/mille055/auto_protocol2/commit/3b3f876bdf5501eea79b9b6792ee7bbec78d0287', commit_message='Upload tokenizer', commit_description='', oid='3b3f876bdf5501eea79b9b6792ee7bbec78d0287', pr_url=None, pr_revision=None, pr_num=None)"
            ],
            "application/vnd.google.colaboratory.intrinsic+json": {
              "type": "string"
            }
          },
          "metadata": {},
          "execution_count": 48
        }
      ]
    },
    {
      "cell_type": "markdown",
      "source": [
        "## Test the Model"
      ],
      "metadata": {
        "id": "-4WBjBaaXj06"
      }
    },
    {
      "cell_type": "code",
      "source": [
        "tokenizer = AutoTokenizer.from_pretrained(\"mille055/auto_protocol2\")\n",
        "model = AutoModelForCausalLM.from_pretrained(\"mille055/auto_protocol2\")"
      ],
      "metadata": {
        "id": "1qmLP20sleXq",
        "outputId": "392a1382-a664-4d59-ee95-eee5ed2d0994",
        "colab": {
          "base_uri": "https://localhost:8080/",
          "height": 113,
          "referenced_widgets": [
            "8c8d5a03a411428fb90a4bde51174f0b",
            "2f1d7318c22b4e20a1ea384a8fa7e73a",
            "1b1815aa771e41e49e6c5bed4e884e3a",
            "154c7a22a9c943e8b034cc32facc7d98",
            "b19e62028ee04781a1a565ba0c307b5f",
            "7e9f7a31adda45849cac3f3458f246af",
            "24d67314fe734584889f481869b367d3",
            "0b1d4642ef4b4e2ba09017dc90c45ed8",
            "9b7e858877bb40a6883f6bd8f712d15c",
            "e6347821699f4f9eb9b74b43362b0d63",
            "386902d723654957871d67f022707683",
            "8e75d00d0b8a42a78a5cae1e1a479db8",
            "120cb91b48f445b8b4edc440ecc6eeb6",
            "145ef5e2f44d4e16a54f876a21d2dfcb",
            "c4e4d99f83ee4de9bb5de8ae595c7b78",
            "8d19bdcabb574e1095e99b852f6b7e6a",
            "a38aedd5a54045deb0b0acffb3030cfa",
            "80e313e83f5d4ad080dc872771678c63",
            "67df3f12706b4893b448316b4599fc83",
            "ee05d2f1c4fe444fa6309a57b068b7b1",
            "1f1d791c4cad49deb268ff1797aa5567",
            "564888118c464b419dd2099637dd2d5c",
            "b4cb74e9fe40468598bfa6f9cc98b859",
            "ed2be49bbb6f45c6956b60757adc5ef4",
            "188107cda5ba4fe1b84548e954353d52",
            "887f5428168e4bf4bd0fdb56313c1a13",
            "82869a9b921d450bb3fec34b7dd9d82a",
            "85c5c50e27c14f4db8b38571031c68ae",
            "ff71f224bc0c477098c52bd700e2b3b4",
            "e1da416e56ca4f298159938c367b1f8e",
            "2de73bea1b6c488eb7f443b56205eaf1",
            "44722a3136754f5bbfaf8e043566cf3f",
            "82f76c8058f944f68299c35d36ec7e8f"
          ]
        }
      },
      "execution_count": 50,
      "outputs": [
        {
          "output_type": "display_data",
          "data": {
            "text/plain": [
              "adapter_config.json:   0%|          | 0.00/675 [00:00<?, ?B/s]"
            ],
            "application/vnd.jupyter.widget-view+json": {
              "version_major": 2,
              "version_minor": 0,
              "model_id": "8c8d5a03a411428fb90a4bde51174f0b"
            }
          },
          "metadata": {}
        },
        {
          "output_type": "display_data",
          "data": {
            "text/plain": [
              "Loading checkpoint shards:   0%|          | 0/3 [00:00<?, ?it/s]"
            ],
            "application/vnd.jupyter.widget-view+json": {
              "version_major": 2,
              "version_minor": 0,
              "model_id": "8e75d00d0b8a42a78a5cae1e1a479db8"
            }
          },
          "metadata": {}
        },
        {
          "output_type": "display_data",
          "data": {
            "text/plain": [
              "adapter_model.safetensors:   0%|          | 0.00/369M [00:00<?, ?B/s]"
            ],
            "application/vnd.jupyter.widget-view+json": {
              "version_major": 2,
              "version_minor": 0,
              "model_id": "b4cb74e9fe40468598bfa6f9cc98b859"
            }
          },
          "metadata": {}
        }
      ]
    },
    {
      "cell_type": "code",
      "source": [
        "pipe = pipeline(task=\"text-generation\", model=model, tokenizer=tokenizer, framework=\"pt\")\n",
        "\n",
        "# pipe = pipeline(\n",
        "#     task_type=\"CAUSAL_LM\",\n",
        "#     model=model,\n",
        "#     tokenizer = tokenizer,\n",
        "#     torch_dtype=torch.bfloat16,\n",
        "#     device_map=\"auto\"\n",
        "# )"
      ],
      "metadata": {
        "id": "0XBFW6XgQBMc"
      },
      "execution_count": 52,
      "outputs": []
    },
    {
      "cell_type": "code",
      "source": [
        "def test_model2(df, pipe, prompt_instruction=prompt_instruction2):\n",
        "  overall_score = 0\n",
        "  results_list = []\n",
        "  for index, row in df.iterrows():\n",
        "    # get a response and extract json portion from it\n",
        "    prompt = f\"\"\"<s>[INST] {prompt_instruction}{row['text']} [/INST] </s>\"\"\"\n",
        "    predicted_answer = get_response(prompt, pipe)\n",
        "    print('********\\n')\n",
        "    #print('predicted_answer is ', predicted_answer)\n",
        "    extracted_answer = extract_and_parse_json2(predicted_answer)\n",
        "    print('********\\n')\n",
        "    print('extracted_answer is ', extracted_answer, type(extracted_answer))\n",
        "\n",
        "    # get the ground truth answer\n",
        "    true_answer = row['labels']\n",
        "    #print('true_answer', true_answer, type(true_answer))\n",
        "    true_answer_json = json.loads(true_answer.replace(\"'\", '\"'))\n",
        "\n",
        "    print('true answer json:', true_answer_json, type(true_answer_json))\n",
        "\n",
        "    # #predicted_answer = json.loads(predicted_answer)\n",
        "    # print('predicted_answer:', predicted_answer, type(predicted_answer))\n",
        "\n",
        "    score, accession, predicted_order, predicted_protocol, predicted_comments = response_score(extracted_answer, true_answer_json)\n",
        "    overall_score += score\n",
        "    print(f\"Progress: case {index+1} of {len(df)}\")\n",
        "    print(f\"score this case: {score}\")\n",
        "\n",
        "    # Accumulate the case results\n",
        "    results_list.append({\n",
        "            \"index\": index,\n",
        "\n",
        "\n",
        "            \"protocol\": true_answer_json['predicted_protocol'],\n",
        "            \"predicted_protocol\": predicted_protocol,\n",
        "            \"order\": true_answer_json['predicted_order'],\n",
        "            \"predicted_order\": predicted_order,\n",
        "            \"comments\": true_answer_json['predicted_comments'],\n",
        "            \"predicted_comments\": predicted_comments,\n",
        "            \"score\": score\n",
        "        })\n",
        "\n",
        "  results = pd.DataFrame(results_list)\n",
        "  print(results)\n",
        "  print(f\"Average score: {overall_score/len(df)}\")\n",
        "  results.to_csv('/content/CT_Protocol/data/results.csv', index=False)\n",
        "\n",
        "  return overall_score/len(df)"
      ],
      "metadata": {
        "id": "S_egAOItnoE8"
      },
      "execution_count": 54,
      "outputs": []
    },
    {
      "cell_type": "code",
      "source": [
        "ft_model_score = test_model2(test_data_df, pipe=pipe)\n",
        "print(ft_model_score)"
      ],
      "metadata": {
        "colab": {
          "base_uri": "https://localhost:8080/",
          "height": 591
        },
        "id": "BM8MYo77QcVV",
        "outputId": "902a6440-51a2-4f42-ab56-41116c8d58a5"
      },
      "execution_count": 55,
      "outputs": [
        {
          "output_type": "stream",
          "name": "stderr",
          "text": [
            "Setting `pad_token_id` to `eos_token_id`:2 for open-end generation.\n",
            "A decoder-only architecture is being used, but right-padding was detected! For correct generation results, please set `padding_side='left'` when initializing the tokenizer.\n",
            "Setting `pad_token_id` to `eos_token_id`:2 for open-end generation.\n",
            "A decoder-only architecture is being used, but right-padding was detected! For correct generation results, please set `padding_side='left'` when initializing the tokenizer.\n"
          ]
        },
        {
          "output_type": "stream",
          "name": "stdout",
          "text": [
            "********\n",
            "\n",
            "Error parsing JSON: local variable 'json_str' referenced before assignment\n",
            "********\n",
            "\n",
            "extracted_answer is  None <class 'NoneType'>\n",
            "true answer json: {'accession': '800811', 'predicted_order': 'CT abdomen pelvis with contrast', 'predicted_protocol': 'routine', 'predicted_comments': []} <class 'dict'>\n",
            "Progress: case 1 of 236\n",
            "score this case: 0.0\n"
          ]
        },
        {
          "output_type": "error",
          "ename": "KeyboardInterrupt",
          "evalue": "",
          "traceback": [
            "\u001b[0;31m---------------------------------------------------------------------------\u001b[0m",
            "\u001b[0;31mKeyboardInterrupt\u001b[0m                         Traceback (most recent call last)",
            "\u001b[0;32m<ipython-input-55-1c6d113f29cf>\u001b[0m in \u001b[0;36m<cell line: 1>\u001b[0;34m()\u001b[0m\n\u001b[0;32m----> 1\u001b[0;31m \u001b[0mft_model_score\u001b[0m \u001b[0;34m=\u001b[0m \u001b[0mtest_model2\u001b[0m\u001b[0;34m(\u001b[0m\u001b[0mtest_data_df\u001b[0m\u001b[0;34m,\u001b[0m \u001b[0mpipe\u001b[0m\u001b[0;34m=\u001b[0m\u001b[0mpipe\u001b[0m\u001b[0;34m)\u001b[0m\u001b[0;34m\u001b[0m\u001b[0;34m\u001b[0m\u001b[0m\n\u001b[0m\u001b[1;32m      2\u001b[0m \u001b[0mprint\u001b[0m\u001b[0;34m(\u001b[0m\u001b[0mft_model_score\u001b[0m\u001b[0;34m)\u001b[0m\u001b[0;34m\u001b[0m\u001b[0;34m\u001b[0m\u001b[0m\n",
            "\u001b[0;32m<ipython-input-54-a297d7858057>\u001b[0m in \u001b[0;36mtest_model2\u001b[0;34m(df, pipe, prompt_instruction)\u001b[0m\n\u001b[1;32m      5\u001b[0m     \u001b[0;31m# get a response and extract json portion from it\u001b[0m\u001b[0;34m\u001b[0m\u001b[0;34m\u001b[0m\u001b[0m\n\u001b[1;32m      6\u001b[0m     \u001b[0mprompt\u001b[0m \u001b[0;34m=\u001b[0m \u001b[0;34mf\"\"\"<s>[INST] {prompt_instruction}{row['text']} [/INST] </s>\"\"\"\u001b[0m\u001b[0;34m\u001b[0m\u001b[0;34m\u001b[0m\u001b[0m\n\u001b[0;32m----> 7\u001b[0;31m     \u001b[0mpredicted_answer\u001b[0m \u001b[0;34m=\u001b[0m \u001b[0mget_response\u001b[0m\u001b[0;34m(\u001b[0m\u001b[0mprompt\u001b[0m\u001b[0;34m,\u001b[0m \u001b[0mpipe\u001b[0m\u001b[0;34m)\u001b[0m\u001b[0;34m\u001b[0m\u001b[0;34m\u001b[0m\u001b[0m\n\u001b[0m\u001b[1;32m      8\u001b[0m     \u001b[0mprint\u001b[0m\u001b[0;34m(\u001b[0m\u001b[0;34m'********\\n'\u001b[0m\u001b[0;34m)\u001b[0m\u001b[0;34m\u001b[0m\u001b[0;34m\u001b[0m\u001b[0m\n\u001b[1;32m      9\u001b[0m     \u001b[0;31m#print('predicted_answer is ', predicted_answer)\u001b[0m\u001b[0;34m\u001b[0m\u001b[0;34m\u001b[0m\u001b[0m\n",
            "\u001b[0;32m<ipython-input-6-f7928d413d0b>\u001b[0m in \u001b[0;36mget_response\u001b[0;34m(prompt, pipe)\u001b[0m\n\u001b[1;32m    255\u001b[0m \u001b[0;34m\u001b[0m\u001b[0m\n\u001b[1;32m    256\u001b[0m \u001b[0;32mdef\u001b[0m \u001b[0mget_response\u001b[0m\u001b[0;34m(\u001b[0m\u001b[0mprompt\u001b[0m\u001b[0;34m,\u001b[0m \u001b[0mpipe\u001b[0m\u001b[0;34m)\u001b[0m\u001b[0;34m:\u001b[0m\u001b[0;34m\u001b[0m\u001b[0;34m\u001b[0m\u001b[0m\n\u001b[0;32m--> 257\u001b[0;31m   sequences = pipe(\n\u001b[0m\u001b[1;32m    258\u001b[0m     \u001b[0mprompt\u001b[0m\u001b[0;34m,\u001b[0m\u001b[0;34m\u001b[0m\u001b[0;34m\u001b[0m\u001b[0m\n\u001b[1;32m    259\u001b[0m     \u001b[0mdo_sample\u001b[0m\u001b[0;34m=\u001b[0m\u001b[0;32mTrue\u001b[0m\u001b[0;34m,\u001b[0m\u001b[0;34m\u001b[0m\u001b[0;34m\u001b[0m\u001b[0m\n",
            "\u001b[0;32m/usr/local/lib/python3.10/dist-packages/transformers/pipelines/text_generation.py\u001b[0m in \u001b[0;36m__call__\u001b[0;34m(self, text_inputs, **kwargs)\u001b[0m\n\u001b[1;32m    206\u001b[0m               \u001b[0mids\u001b[0m \u001b[0mof\u001b[0m \u001b[0mthe\u001b[0m \u001b[0mgenerated\u001b[0m \u001b[0mtext\u001b[0m\u001b[0;34m.\u001b[0m\u001b[0;34m\u001b[0m\u001b[0;34m\u001b[0m\u001b[0m\n\u001b[1;32m    207\u001b[0m         \"\"\"\n\u001b[0;32m--> 208\u001b[0;31m         \u001b[0;32mreturn\u001b[0m \u001b[0msuper\u001b[0m\u001b[0;34m(\u001b[0m\u001b[0;34m)\u001b[0m\u001b[0;34m.\u001b[0m\u001b[0m__call__\u001b[0m\u001b[0;34m(\u001b[0m\u001b[0mtext_inputs\u001b[0m\u001b[0;34m,\u001b[0m \u001b[0;34m**\u001b[0m\u001b[0mkwargs\u001b[0m\u001b[0;34m)\u001b[0m\u001b[0;34m\u001b[0m\u001b[0;34m\u001b[0m\u001b[0m\n\u001b[0m\u001b[1;32m    209\u001b[0m \u001b[0;34m\u001b[0m\u001b[0m\n\u001b[1;32m    210\u001b[0m     def preprocess(\n",
            "\u001b[0;32m/usr/local/lib/python3.10/dist-packages/transformers/pipelines/base.py\u001b[0m in \u001b[0;36m__call__\u001b[0;34m(self, inputs, num_workers, batch_size, *args, **kwargs)\u001b[0m\n\u001b[1;32m   1138\u001b[0m             )\n\u001b[1;32m   1139\u001b[0m         \u001b[0;32melse\u001b[0m\u001b[0;34m:\u001b[0m\u001b[0;34m\u001b[0m\u001b[0;34m\u001b[0m\u001b[0m\n\u001b[0;32m-> 1140\u001b[0;31m             \u001b[0;32mreturn\u001b[0m \u001b[0mself\u001b[0m\u001b[0;34m.\u001b[0m\u001b[0mrun_single\u001b[0m\u001b[0;34m(\u001b[0m\u001b[0minputs\u001b[0m\u001b[0;34m,\u001b[0m \u001b[0mpreprocess_params\u001b[0m\u001b[0;34m,\u001b[0m \u001b[0mforward_params\u001b[0m\u001b[0;34m,\u001b[0m \u001b[0mpostprocess_params\u001b[0m\u001b[0;34m)\u001b[0m\u001b[0;34m\u001b[0m\u001b[0;34m\u001b[0m\u001b[0m\n\u001b[0m\u001b[1;32m   1141\u001b[0m \u001b[0;34m\u001b[0m\u001b[0m\n\u001b[1;32m   1142\u001b[0m     \u001b[0;32mdef\u001b[0m \u001b[0mrun_multi\u001b[0m\u001b[0;34m(\u001b[0m\u001b[0mself\u001b[0m\u001b[0;34m,\u001b[0m \u001b[0minputs\u001b[0m\u001b[0;34m,\u001b[0m \u001b[0mpreprocess_params\u001b[0m\u001b[0;34m,\u001b[0m \u001b[0mforward_params\u001b[0m\u001b[0;34m,\u001b[0m \u001b[0mpostprocess_params\u001b[0m\u001b[0;34m)\u001b[0m\u001b[0;34m:\u001b[0m\u001b[0;34m\u001b[0m\u001b[0;34m\u001b[0m\u001b[0m\n",
            "\u001b[0;32m/usr/local/lib/python3.10/dist-packages/transformers/pipelines/base.py\u001b[0m in \u001b[0;36mrun_single\u001b[0;34m(self, inputs, preprocess_params, forward_params, postprocess_params)\u001b[0m\n\u001b[1;32m   1145\u001b[0m     \u001b[0;32mdef\u001b[0m \u001b[0mrun_single\u001b[0m\u001b[0;34m(\u001b[0m\u001b[0mself\u001b[0m\u001b[0;34m,\u001b[0m \u001b[0minputs\u001b[0m\u001b[0;34m,\u001b[0m \u001b[0mpreprocess_params\u001b[0m\u001b[0;34m,\u001b[0m \u001b[0mforward_params\u001b[0m\u001b[0;34m,\u001b[0m \u001b[0mpostprocess_params\u001b[0m\u001b[0;34m)\u001b[0m\u001b[0;34m:\u001b[0m\u001b[0;34m\u001b[0m\u001b[0;34m\u001b[0m\u001b[0m\n\u001b[1;32m   1146\u001b[0m         \u001b[0mmodel_inputs\u001b[0m \u001b[0;34m=\u001b[0m \u001b[0mself\u001b[0m\u001b[0;34m.\u001b[0m\u001b[0mpreprocess\u001b[0m\u001b[0;34m(\u001b[0m\u001b[0minputs\u001b[0m\u001b[0;34m,\u001b[0m \u001b[0;34m**\u001b[0m\u001b[0mpreprocess_params\u001b[0m\u001b[0;34m)\u001b[0m\u001b[0;34m\u001b[0m\u001b[0;34m\u001b[0m\u001b[0m\n\u001b[0;32m-> 1147\u001b[0;31m         \u001b[0mmodel_outputs\u001b[0m \u001b[0;34m=\u001b[0m \u001b[0mself\u001b[0m\u001b[0;34m.\u001b[0m\u001b[0mforward\u001b[0m\u001b[0;34m(\u001b[0m\u001b[0mmodel_inputs\u001b[0m\u001b[0;34m,\u001b[0m \u001b[0;34m**\u001b[0m\u001b[0mforward_params\u001b[0m\u001b[0;34m)\u001b[0m\u001b[0;34m\u001b[0m\u001b[0;34m\u001b[0m\u001b[0m\n\u001b[0m\u001b[1;32m   1148\u001b[0m         \u001b[0moutputs\u001b[0m \u001b[0;34m=\u001b[0m \u001b[0mself\u001b[0m\u001b[0;34m.\u001b[0m\u001b[0mpostprocess\u001b[0m\u001b[0;34m(\u001b[0m\u001b[0mmodel_outputs\u001b[0m\u001b[0;34m,\u001b[0m \u001b[0;34m**\u001b[0m\u001b[0mpostprocess_params\u001b[0m\u001b[0;34m)\u001b[0m\u001b[0;34m\u001b[0m\u001b[0;34m\u001b[0m\u001b[0m\n\u001b[1;32m   1149\u001b[0m         \u001b[0;32mreturn\u001b[0m \u001b[0moutputs\u001b[0m\u001b[0;34m\u001b[0m\u001b[0;34m\u001b[0m\u001b[0m\n",
            "\u001b[0;32m/usr/local/lib/python3.10/dist-packages/transformers/pipelines/base.py\u001b[0m in \u001b[0;36mforward\u001b[0;34m(self, model_inputs, **forward_params)\u001b[0m\n\u001b[1;32m   1044\u001b[0m                 \u001b[0;32mwith\u001b[0m \u001b[0minference_context\u001b[0m\u001b[0;34m(\u001b[0m\u001b[0;34m)\u001b[0m\u001b[0;34m:\u001b[0m\u001b[0;34m\u001b[0m\u001b[0;34m\u001b[0m\u001b[0m\n\u001b[1;32m   1045\u001b[0m                     \u001b[0mmodel_inputs\u001b[0m \u001b[0;34m=\u001b[0m \u001b[0mself\u001b[0m\u001b[0;34m.\u001b[0m\u001b[0m_ensure_tensor_on_device\u001b[0m\u001b[0;34m(\u001b[0m\u001b[0mmodel_inputs\u001b[0m\u001b[0;34m,\u001b[0m \u001b[0mdevice\u001b[0m\u001b[0;34m=\u001b[0m\u001b[0mself\u001b[0m\u001b[0;34m.\u001b[0m\u001b[0mdevice\u001b[0m\u001b[0;34m)\u001b[0m\u001b[0;34m\u001b[0m\u001b[0;34m\u001b[0m\u001b[0m\n\u001b[0;32m-> 1046\u001b[0;31m                     \u001b[0mmodel_outputs\u001b[0m \u001b[0;34m=\u001b[0m \u001b[0mself\u001b[0m\u001b[0;34m.\u001b[0m\u001b[0m_forward\u001b[0m\u001b[0;34m(\u001b[0m\u001b[0mmodel_inputs\u001b[0m\u001b[0;34m,\u001b[0m \u001b[0;34m**\u001b[0m\u001b[0mforward_params\u001b[0m\u001b[0;34m)\u001b[0m\u001b[0;34m\u001b[0m\u001b[0;34m\u001b[0m\u001b[0m\n\u001b[0m\u001b[1;32m   1047\u001b[0m                     \u001b[0mmodel_outputs\u001b[0m \u001b[0;34m=\u001b[0m \u001b[0mself\u001b[0m\u001b[0;34m.\u001b[0m\u001b[0m_ensure_tensor_on_device\u001b[0m\u001b[0;34m(\u001b[0m\u001b[0mmodel_outputs\u001b[0m\u001b[0;34m,\u001b[0m \u001b[0mdevice\u001b[0m\u001b[0;34m=\u001b[0m\u001b[0mtorch\u001b[0m\u001b[0;34m.\u001b[0m\u001b[0mdevice\u001b[0m\u001b[0;34m(\u001b[0m\u001b[0;34m\"cpu\"\u001b[0m\u001b[0;34m)\u001b[0m\u001b[0;34m)\u001b[0m\u001b[0;34m\u001b[0m\u001b[0;34m\u001b[0m\u001b[0m\n\u001b[1;32m   1048\u001b[0m             \u001b[0;32melse\u001b[0m\u001b[0;34m:\u001b[0m\u001b[0;34m\u001b[0m\u001b[0;34m\u001b[0m\u001b[0m\n",
            "\u001b[0;32m/usr/local/lib/python3.10/dist-packages/transformers/pipelines/text_generation.py\u001b[0m in \u001b[0;36m_forward\u001b[0;34m(self, model_inputs, **generate_kwargs)\u001b[0m\n\u001b[1;32m    269\u001b[0m \u001b[0;34m\u001b[0m\u001b[0m\n\u001b[1;32m    270\u001b[0m         \u001b[0;31m# BS x SL\u001b[0m\u001b[0;34m\u001b[0m\u001b[0;34m\u001b[0m\u001b[0m\n\u001b[0;32m--> 271\u001b[0;31m         \u001b[0mgenerated_sequence\u001b[0m \u001b[0;34m=\u001b[0m \u001b[0mself\u001b[0m\u001b[0;34m.\u001b[0m\u001b[0mmodel\u001b[0m\u001b[0;34m.\u001b[0m\u001b[0mgenerate\u001b[0m\u001b[0;34m(\u001b[0m\u001b[0minput_ids\u001b[0m\u001b[0;34m=\u001b[0m\u001b[0minput_ids\u001b[0m\u001b[0;34m,\u001b[0m \u001b[0mattention_mask\u001b[0m\u001b[0;34m=\u001b[0m\u001b[0mattention_mask\u001b[0m\u001b[0;34m,\u001b[0m \u001b[0;34m**\u001b[0m\u001b[0mgenerate_kwargs\u001b[0m\u001b[0;34m)\u001b[0m\u001b[0;34m\u001b[0m\u001b[0;34m\u001b[0m\u001b[0m\n\u001b[0m\u001b[1;32m    272\u001b[0m         \u001b[0mout_b\u001b[0m \u001b[0;34m=\u001b[0m \u001b[0mgenerated_sequence\u001b[0m\u001b[0;34m.\u001b[0m\u001b[0mshape\u001b[0m\u001b[0;34m[\u001b[0m\u001b[0;36m0\u001b[0m\u001b[0;34m]\u001b[0m\u001b[0;34m\u001b[0m\u001b[0;34m\u001b[0m\u001b[0m\n\u001b[1;32m    273\u001b[0m         \u001b[0;32mif\u001b[0m \u001b[0mself\u001b[0m\u001b[0;34m.\u001b[0m\u001b[0mframework\u001b[0m \u001b[0;34m==\u001b[0m \u001b[0;34m\"pt\"\u001b[0m\u001b[0;34m:\u001b[0m\u001b[0;34m\u001b[0m\u001b[0;34m\u001b[0m\u001b[0m\n",
            "\u001b[0;32m/usr/local/lib/python3.10/dist-packages/torch/utils/_contextlib.py\u001b[0m in \u001b[0;36mdecorate_context\u001b[0;34m(*args, **kwargs)\u001b[0m\n\u001b[1;32m    113\u001b[0m     \u001b[0;32mdef\u001b[0m \u001b[0mdecorate_context\u001b[0m\u001b[0;34m(\u001b[0m\u001b[0;34m*\u001b[0m\u001b[0margs\u001b[0m\u001b[0;34m,\u001b[0m \u001b[0;34m**\u001b[0m\u001b[0mkwargs\u001b[0m\u001b[0;34m)\u001b[0m\u001b[0;34m:\u001b[0m\u001b[0;34m\u001b[0m\u001b[0;34m\u001b[0m\u001b[0m\n\u001b[1;32m    114\u001b[0m         \u001b[0;32mwith\u001b[0m \u001b[0mctx_factory\u001b[0m\u001b[0;34m(\u001b[0m\u001b[0;34m)\u001b[0m\u001b[0;34m:\u001b[0m\u001b[0;34m\u001b[0m\u001b[0;34m\u001b[0m\u001b[0m\n\u001b[0;32m--> 115\u001b[0;31m             \u001b[0;32mreturn\u001b[0m \u001b[0mfunc\u001b[0m\u001b[0;34m(\u001b[0m\u001b[0;34m*\u001b[0m\u001b[0margs\u001b[0m\u001b[0;34m,\u001b[0m \u001b[0;34m**\u001b[0m\u001b[0mkwargs\u001b[0m\u001b[0;34m)\u001b[0m\u001b[0;34m\u001b[0m\u001b[0;34m\u001b[0m\u001b[0m\n\u001b[0m\u001b[1;32m    116\u001b[0m \u001b[0;34m\u001b[0m\u001b[0m\n\u001b[1;32m    117\u001b[0m     \u001b[0;32mreturn\u001b[0m \u001b[0mdecorate_context\u001b[0m\u001b[0;34m\u001b[0m\u001b[0;34m\u001b[0m\u001b[0m\n",
            "\u001b[0;32m/usr/local/lib/python3.10/dist-packages/transformers/generation/utils.py\u001b[0m in \u001b[0;36mgenerate\u001b[0;34m(self, inputs, generation_config, logits_processor, stopping_criteria, prefix_allowed_tokens_fn, synced_gpus, assistant_model, streamer, negative_prompt_ids, negative_prompt_attention_mask, **kwargs)\u001b[0m\n\u001b[1;32m   1762\u001b[0m \u001b[0;34m\u001b[0m\u001b[0m\n\u001b[1;32m   1763\u001b[0m             \u001b[0;31m# 13. run sample\u001b[0m\u001b[0;34m\u001b[0m\u001b[0;34m\u001b[0m\u001b[0m\n\u001b[0;32m-> 1764\u001b[0;31m             return self.sample(\n\u001b[0m\u001b[1;32m   1765\u001b[0m                 \u001b[0minput_ids\u001b[0m\u001b[0;34m,\u001b[0m\u001b[0;34m\u001b[0m\u001b[0;34m\u001b[0m\u001b[0m\n\u001b[1;32m   1766\u001b[0m                 \u001b[0mlogits_processor\u001b[0m\u001b[0;34m=\u001b[0m\u001b[0mlogits_processor\u001b[0m\u001b[0;34m,\u001b[0m\u001b[0;34m\u001b[0m\u001b[0;34m\u001b[0m\u001b[0m\n",
            "\u001b[0;32m/usr/local/lib/python3.10/dist-packages/transformers/generation/utils.py\u001b[0m in \u001b[0;36msample\u001b[0;34m(self, input_ids, logits_processor, stopping_criteria, logits_warper, max_length, pad_token_id, eos_token_id, output_attentions, output_hidden_states, output_scores, return_dict_in_generate, synced_gpus, streamer, **model_kwargs)\u001b[0m\n\u001b[1;32m   2859\u001b[0m \u001b[0;34m\u001b[0m\u001b[0m\n\u001b[1;32m   2860\u001b[0m             \u001b[0;31m# forward pass to get next token\u001b[0m\u001b[0;34m\u001b[0m\u001b[0;34m\u001b[0m\u001b[0m\n\u001b[0;32m-> 2861\u001b[0;31m             outputs = self(\n\u001b[0m\u001b[1;32m   2862\u001b[0m                 \u001b[0;34m**\u001b[0m\u001b[0mmodel_inputs\u001b[0m\u001b[0;34m,\u001b[0m\u001b[0;34m\u001b[0m\u001b[0;34m\u001b[0m\u001b[0m\n\u001b[1;32m   2863\u001b[0m                 \u001b[0mreturn_dict\u001b[0m\u001b[0;34m=\u001b[0m\u001b[0;32mTrue\u001b[0m\u001b[0;34m,\u001b[0m\u001b[0;34m\u001b[0m\u001b[0;34m\u001b[0m\u001b[0m\n",
            "\u001b[0;32m/usr/local/lib/python3.10/dist-packages/torch/nn/modules/module.py\u001b[0m in \u001b[0;36m_wrapped_call_impl\u001b[0;34m(self, *args, **kwargs)\u001b[0m\n\u001b[1;32m   1509\u001b[0m             \u001b[0;32mreturn\u001b[0m \u001b[0mself\u001b[0m\u001b[0;34m.\u001b[0m\u001b[0m_compiled_call_impl\u001b[0m\u001b[0;34m(\u001b[0m\u001b[0;34m*\u001b[0m\u001b[0margs\u001b[0m\u001b[0;34m,\u001b[0m \u001b[0;34m**\u001b[0m\u001b[0mkwargs\u001b[0m\u001b[0;34m)\u001b[0m  \u001b[0;31m# type: ignore[misc]\u001b[0m\u001b[0;34m\u001b[0m\u001b[0;34m\u001b[0m\u001b[0m\n\u001b[1;32m   1510\u001b[0m         \u001b[0;32melse\u001b[0m\u001b[0;34m:\u001b[0m\u001b[0;34m\u001b[0m\u001b[0;34m\u001b[0m\u001b[0m\n\u001b[0;32m-> 1511\u001b[0;31m             \u001b[0;32mreturn\u001b[0m \u001b[0mself\u001b[0m\u001b[0;34m.\u001b[0m\u001b[0m_call_impl\u001b[0m\u001b[0;34m(\u001b[0m\u001b[0;34m*\u001b[0m\u001b[0margs\u001b[0m\u001b[0;34m,\u001b[0m \u001b[0;34m**\u001b[0m\u001b[0mkwargs\u001b[0m\u001b[0;34m)\u001b[0m\u001b[0;34m\u001b[0m\u001b[0;34m\u001b[0m\u001b[0m\n\u001b[0m\u001b[1;32m   1512\u001b[0m \u001b[0;34m\u001b[0m\u001b[0m\n\u001b[1;32m   1513\u001b[0m     \u001b[0;32mdef\u001b[0m \u001b[0m_call_impl\u001b[0m\u001b[0;34m(\u001b[0m\u001b[0mself\u001b[0m\u001b[0;34m,\u001b[0m \u001b[0;34m*\u001b[0m\u001b[0margs\u001b[0m\u001b[0;34m,\u001b[0m \u001b[0;34m**\u001b[0m\u001b[0mkwargs\u001b[0m\u001b[0;34m)\u001b[0m\u001b[0;34m:\u001b[0m\u001b[0;34m\u001b[0m\u001b[0;34m\u001b[0m\u001b[0m\n",
            "\u001b[0;32m/usr/local/lib/python3.10/dist-packages/torch/nn/modules/module.py\u001b[0m in \u001b[0;36m_call_impl\u001b[0;34m(self, *args, **kwargs)\u001b[0m\n\u001b[1;32m   1518\u001b[0m                 \u001b[0;32mor\u001b[0m \u001b[0m_global_backward_pre_hooks\u001b[0m \u001b[0;32mor\u001b[0m \u001b[0m_global_backward_hooks\u001b[0m\u001b[0;34m\u001b[0m\u001b[0;34m\u001b[0m\u001b[0m\n\u001b[1;32m   1519\u001b[0m                 or _global_forward_hooks or _global_forward_pre_hooks):\n\u001b[0;32m-> 1520\u001b[0;31m             \u001b[0;32mreturn\u001b[0m \u001b[0mforward_call\u001b[0m\u001b[0;34m(\u001b[0m\u001b[0;34m*\u001b[0m\u001b[0margs\u001b[0m\u001b[0;34m,\u001b[0m \u001b[0;34m**\u001b[0m\u001b[0mkwargs\u001b[0m\u001b[0;34m)\u001b[0m\u001b[0;34m\u001b[0m\u001b[0;34m\u001b[0m\u001b[0m\n\u001b[0m\u001b[1;32m   1521\u001b[0m \u001b[0;34m\u001b[0m\u001b[0m\n\u001b[1;32m   1522\u001b[0m         \u001b[0;32mtry\u001b[0m\u001b[0;34m:\u001b[0m\u001b[0;34m\u001b[0m\u001b[0;34m\u001b[0m\u001b[0m\n",
            "\u001b[0;32m/usr/local/lib/python3.10/dist-packages/transformers/models/mistral/modeling_mistral.py\u001b[0m in \u001b[0;36mforward\u001b[0;34m(self, input_ids, attention_mask, position_ids, past_key_values, inputs_embeds, labels, use_cache, output_attentions, output_hidden_states, return_dict)\u001b[0m\n\u001b[1;32m   1051\u001b[0m \u001b[0;34m\u001b[0m\u001b[0m\n\u001b[1;32m   1052\u001b[0m         \u001b[0;31m# decoder outputs consists of (dec_features, layer_state, dec_hidden, dec_attn)\u001b[0m\u001b[0;34m\u001b[0m\u001b[0;34m\u001b[0m\u001b[0m\n\u001b[0;32m-> 1053\u001b[0;31m         outputs = self.model(\n\u001b[0m\u001b[1;32m   1054\u001b[0m             \u001b[0minput_ids\u001b[0m\u001b[0;34m=\u001b[0m\u001b[0minput_ids\u001b[0m\u001b[0;34m,\u001b[0m\u001b[0;34m\u001b[0m\u001b[0;34m\u001b[0m\u001b[0m\n\u001b[1;32m   1055\u001b[0m             \u001b[0mattention_mask\u001b[0m\u001b[0;34m=\u001b[0m\u001b[0mattention_mask\u001b[0m\u001b[0;34m,\u001b[0m\u001b[0;34m\u001b[0m\u001b[0;34m\u001b[0m\u001b[0m\n",
            "\u001b[0;32m/usr/local/lib/python3.10/dist-packages/torch/nn/modules/module.py\u001b[0m in \u001b[0;36m_wrapped_call_impl\u001b[0;34m(self, *args, **kwargs)\u001b[0m\n\u001b[1;32m   1509\u001b[0m             \u001b[0;32mreturn\u001b[0m \u001b[0mself\u001b[0m\u001b[0;34m.\u001b[0m\u001b[0m_compiled_call_impl\u001b[0m\u001b[0;34m(\u001b[0m\u001b[0;34m*\u001b[0m\u001b[0margs\u001b[0m\u001b[0;34m,\u001b[0m \u001b[0;34m**\u001b[0m\u001b[0mkwargs\u001b[0m\u001b[0;34m)\u001b[0m  \u001b[0;31m# type: ignore[misc]\u001b[0m\u001b[0;34m\u001b[0m\u001b[0;34m\u001b[0m\u001b[0m\n\u001b[1;32m   1510\u001b[0m         \u001b[0;32melse\u001b[0m\u001b[0;34m:\u001b[0m\u001b[0;34m\u001b[0m\u001b[0;34m\u001b[0m\u001b[0m\n\u001b[0;32m-> 1511\u001b[0;31m             \u001b[0;32mreturn\u001b[0m \u001b[0mself\u001b[0m\u001b[0;34m.\u001b[0m\u001b[0m_call_impl\u001b[0m\u001b[0;34m(\u001b[0m\u001b[0;34m*\u001b[0m\u001b[0margs\u001b[0m\u001b[0;34m,\u001b[0m \u001b[0;34m**\u001b[0m\u001b[0mkwargs\u001b[0m\u001b[0;34m)\u001b[0m\u001b[0;34m\u001b[0m\u001b[0;34m\u001b[0m\u001b[0m\n\u001b[0m\u001b[1;32m   1512\u001b[0m \u001b[0;34m\u001b[0m\u001b[0m\n\u001b[1;32m   1513\u001b[0m     \u001b[0;32mdef\u001b[0m \u001b[0m_call_impl\u001b[0m\u001b[0;34m(\u001b[0m\u001b[0mself\u001b[0m\u001b[0;34m,\u001b[0m \u001b[0;34m*\u001b[0m\u001b[0margs\u001b[0m\u001b[0;34m,\u001b[0m \u001b[0;34m**\u001b[0m\u001b[0mkwargs\u001b[0m\u001b[0;34m)\u001b[0m\u001b[0;34m:\u001b[0m\u001b[0;34m\u001b[0m\u001b[0;34m\u001b[0m\u001b[0m\n",
            "\u001b[0;32m/usr/local/lib/python3.10/dist-packages/torch/nn/modules/module.py\u001b[0m in \u001b[0;36m_call_impl\u001b[0;34m(self, *args, **kwargs)\u001b[0m\n\u001b[1;32m   1518\u001b[0m                 \u001b[0;32mor\u001b[0m \u001b[0m_global_backward_pre_hooks\u001b[0m \u001b[0;32mor\u001b[0m \u001b[0m_global_backward_hooks\u001b[0m\u001b[0;34m\u001b[0m\u001b[0;34m\u001b[0m\u001b[0m\n\u001b[1;32m   1519\u001b[0m                 or _global_forward_hooks or _global_forward_pre_hooks):\n\u001b[0;32m-> 1520\u001b[0;31m             \u001b[0;32mreturn\u001b[0m \u001b[0mforward_call\u001b[0m\u001b[0;34m(\u001b[0m\u001b[0;34m*\u001b[0m\u001b[0margs\u001b[0m\u001b[0;34m,\u001b[0m \u001b[0;34m**\u001b[0m\u001b[0mkwargs\u001b[0m\u001b[0;34m)\u001b[0m\u001b[0;34m\u001b[0m\u001b[0;34m\u001b[0m\u001b[0m\n\u001b[0m\u001b[1;32m   1521\u001b[0m \u001b[0;34m\u001b[0m\u001b[0m\n\u001b[1;32m   1522\u001b[0m         \u001b[0;32mtry\u001b[0m\u001b[0;34m:\u001b[0m\u001b[0;34m\u001b[0m\u001b[0;34m\u001b[0m\u001b[0m\n",
            "\u001b[0;32m/usr/local/lib/python3.10/dist-packages/transformers/models/mistral/modeling_mistral.py\u001b[0m in \u001b[0;36mforward\u001b[0;34m(self, input_ids, attention_mask, position_ids, past_key_values, inputs_embeds, use_cache, output_attentions, output_hidden_states, return_dict)\u001b[0m\n\u001b[1;32m    936\u001b[0m                 )\n\u001b[1;32m    937\u001b[0m             \u001b[0;32melse\u001b[0m\u001b[0;34m:\u001b[0m\u001b[0;34m\u001b[0m\u001b[0;34m\u001b[0m\u001b[0m\n\u001b[0;32m--> 938\u001b[0;31m                 layer_outputs = decoder_layer(\n\u001b[0m\u001b[1;32m    939\u001b[0m                     \u001b[0mhidden_states\u001b[0m\u001b[0;34m,\u001b[0m\u001b[0;34m\u001b[0m\u001b[0;34m\u001b[0m\u001b[0m\n\u001b[1;32m    940\u001b[0m                     \u001b[0mattention_mask\u001b[0m\u001b[0;34m=\u001b[0m\u001b[0mattention_mask\u001b[0m\u001b[0;34m,\u001b[0m\u001b[0;34m\u001b[0m\u001b[0;34m\u001b[0m\u001b[0m\n",
            "\u001b[0;32m/usr/local/lib/python3.10/dist-packages/torch/nn/modules/module.py\u001b[0m in \u001b[0;36m_wrapped_call_impl\u001b[0;34m(self, *args, **kwargs)\u001b[0m\n\u001b[1;32m   1509\u001b[0m             \u001b[0;32mreturn\u001b[0m \u001b[0mself\u001b[0m\u001b[0;34m.\u001b[0m\u001b[0m_compiled_call_impl\u001b[0m\u001b[0;34m(\u001b[0m\u001b[0;34m*\u001b[0m\u001b[0margs\u001b[0m\u001b[0;34m,\u001b[0m \u001b[0;34m**\u001b[0m\u001b[0mkwargs\u001b[0m\u001b[0;34m)\u001b[0m  \u001b[0;31m# type: ignore[misc]\u001b[0m\u001b[0;34m\u001b[0m\u001b[0;34m\u001b[0m\u001b[0m\n\u001b[1;32m   1510\u001b[0m         \u001b[0;32melse\u001b[0m\u001b[0;34m:\u001b[0m\u001b[0;34m\u001b[0m\u001b[0;34m\u001b[0m\u001b[0m\n\u001b[0;32m-> 1511\u001b[0;31m             \u001b[0;32mreturn\u001b[0m \u001b[0mself\u001b[0m\u001b[0;34m.\u001b[0m\u001b[0m_call_impl\u001b[0m\u001b[0;34m(\u001b[0m\u001b[0;34m*\u001b[0m\u001b[0margs\u001b[0m\u001b[0;34m,\u001b[0m \u001b[0;34m**\u001b[0m\u001b[0mkwargs\u001b[0m\u001b[0;34m)\u001b[0m\u001b[0;34m\u001b[0m\u001b[0;34m\u001b[0m\u001b[0m\n\u001b[0m\u001b[1;32m   1512\u001b[0m \u001b[0;34m\u001b[0m\u001b[0m\n\u001b[1;32m   1513\u001b[0m     \u001b[0;32mdef\u001b[0m \u001b[0m_call_impl\u001b[0m\u001b[0;34m(\u001b[0m\u001b[0mself\u001b[0m\u001b[0;34m,\u001b[0m \u001b[0;34m*\u001b[0m\u001b[0margs\u001b[0m\u001b[0;34m,\u001b[0m \u001b[0;34m**\u001b[0m\u001b[0mkwargs\u001b[0m\u001b[0;34m)\u001b[0m\u001b[0;34m:\u001b[0m\u001b[0;34m\u001b[0m\u001b[0;34m\u001b[0m\u001b[0m\n",
            "\u001b[0;32m/usr/local/lib/python3.10/dist-packages/torch/nn/modules/module.py\u001b[0m in \u001b[0;36m_call_impl\u001b[0;34m(self, *args, **kwargs)\u001b[0m\n\u001b[1;32m   1518\u001b[0m                 \u001b[0;32mor\u001b[0m \u001b[0m_global_backward_pre_hooks\u001b[0m \u001b[0;32mor\u001b[0m \u001b[0m_global_backward_hooks\u001b[0m\u001b[0;34m\u001b[0m\u001b[0;34m\u001b[0m\u001b[0m\n\u001b[1;32m   1519\u001b[0m                 or _global_forward_hooks or _global_forward_pre_hooks):\n\u001b[0;32m-> 1520\u001b[0;31m             \u001b[0;32mreturn\u001b[0m \u001b[0mforward_call\u001b[0m\u001b[0;34m(\u001b[0m\u001b[0;34m*\u001b[0m\u001b[0margs\u001b[0m\u001b[0;34m,\u001b[0m \u001b[0;34m**\u001b[0m\u001b[0mkwargs\u001b[0m\u001b[0;34m)\u001b[0m\u001b[0;34m\u001b[0m\u001b[0;34m\u001b[0m\u001b[0m\n\u001b[0m\u001b[1;32m   1521\u001b[0m \u001b[0;34m\u001b[0m\u001b[0m\n\u001b[1;32m   1522\u001b[0m         \u001b[0;32mtry\u001b[0m\u001b[0;34m:\u001b[0m\u001b[0;34m\u001b[0m\u001b[0;34m\u001b[0m\u001b[0m\n",
            "\u001b[0;32m/usr/local/lib/python3.10/dist-packages/transformers/models/mistral/modeling_mistral.py\u001b[0m in \u001b[0;36mforward\u001b[0;34m(self, hidden_states, attention_mask, position_ids, past_key_value, output_attentions, use_cache, **kwargs)\u001b[0m\n\u001b[1;32m    674\u001b[0m         \u001b[0mresidual\u001b[0m \u001b[0;34m=\u001b[0m \u001b[0mhidden_states\u001b[0m\u001b[0;34m\u001b[0m\u001b[0;34m\u001b[0m\u001b[0m\n\u001b[1;32m    675\u001b[0m         \u001b[0mhidden_states\u001b[0m \u001b[0;34m=\u001b[0m \u001b[0mself\u001b[0m\u001b[0;34m.\u001b[0m\u001b[0mpost_attention_layernorm\u001b[0m\u001b[0;34m(\u001b[0m\u001b[0mhidden_states\u001b[0m\u001b[0;34m)\u001b[0m\u001b[0;34m\u001b[0m\u001b[0;34m\u001b[0m\u001b[0m\n\u001b[0;32m--> 676\u001b[0;31m         \u001b[0mhidden_states\u001b[0m \u001b[0;34m=\u001b[0m \u001b[0mself\u001b[0m\u001b[0;34m.\u001b[0m\u001b[0mmlp\u001b[0m\u001b[0;34m(\u001b[0m\u001b[0mhidden_states\u001b[0m\u001b[0;34m)\u001b[0m\u001b[0;34m\u001b[0m\u001b[0;34m\u001b[0m\u001b[0m\n\u001b[0m\u001b[1;32m    677\u001b[0m         \u001b[0mhidden_states\u001b[0m \u001b[0;34m=\u001b[0m \u001b[0mresidual\u001b[0m \u001b[0;34m+\u001b[0m \u001b[0mhidden_states\u001b[0m\u001b[0;34m\u001b[0m\u001b[0;34m\u001b[0m\u001b[0m\n\u001b[1;32m    678\u001b[0m \u001b[0;34m\u001b[0m\u001b[0m\n",
            "\u001b[0;32m/usr/local/lib/python3.10/dist-packages/torch/nn/modules/module.py\u001b[0m in \u001b[0;36m_wrapped_call_impl\u001b[0;34m(self, *args, **kwargs)\u001b[0m\n\u001b[1;32m   1509\u001b[0m             \u001b[0;32mreturn\u001b[0m \u001b[0mself\u001b[0m\u001b[0;34m.\u001b[0m\u001b[0m_compiled_call_impl\u001b[0m\u001b[0;34m(\u001b[0m\u001b[0;34m*\u001b[0m\u001b[0margs\u001b[0m\u001b[0;34m,\u001b[0m \u001b[0;34m**\u001b[0m\u001b[0mkwargs\u001b[0m\u001b[0;34m)\u001b[0m  \u001b[0;31m# type: ignore[misc]\u001b[0m\u001b[0;34m\u001b[0m\u001b[0;34m\u001b[0m\u001b[0m\n\u001b[1;32m   1510\u001b[0m         \u001b[0;32melse\u001b[0m\u001b[0;34m:\u001b[0m\u001b[0;34m\u001b[0m\u001b[0;34m\u001b[0m\u001b[0m\n\u001b[0;32m-> 1511\u001b[0;31m             \u001b[0;32mreturn\u001b[0m \u001b[0mself\u001b[0m\u001b[0;34m.\u001b[0m\u001b[0m_call_impl\u001b[0m\u001b[0;34m(\u001b[0m\u001b[0;34m*\u001b[0m\u001b[0margs\u001b[0m\u001b[0;34m,\u001b[0m \u001b[0;34m**\u001b[0m\u001b[0mkwargs\u001b[0m\u001b[0;34m)\u001b[0m\u001b[0;34m\u001b[0m\u001b[0;34m\u001b[0m\u001b[0m\n\u001b[0m\u001b[1;32m   1512\u001b[0m \u001b[0;34m\u001b[0m\u001b[0m\n\u001b[1;32m   1513\u001b[0m     \u001b[0;32mdef\u001b[0m \u001b[0m_call_impl\u001b[0m\u001b[0;34m(\u001b[0m\u001b[0mself\u001b[0m\u001b[0;34m,\u001b[0m \u001b[0;34m*\u001b[0m\u001b[0margs\u001b[0m\u001b[0;34m,\u001b[0m \u001b[0;34m**\u001b[0m\u001b[0mkwargs\u001b[0m\u001b[0;34m)\u001b[0m\u001b[0;34m:\u001b[0m\u001b[0;34m\u001b[0m\u001b[0;34m\u001b[0m\u001b[0m\n",
            "\u001b[0;32m/usr/local/lib/python3.10/dist-packages/torch/nn/modules/module.py\u001b[0m in \u001b[0;36m_call_impl\u001b[0;34m(self, *args, **kwargs)\u001b[0m\n\u001b[1;32m   1518\u001b[0m                 \u001b[0;32mor\u001b[0m \u001b[0m_global_backward_pre_hooks\u001b[0m \u001b[0;32mor\u001b[0m \u001b[0m_global_backward_hooks\u001b[0m\u001b[0;34m\u001b[0m\u001b[0;34m\u001b[0m\u001b[0m\n\u001b[1;32m   1519\u001b[0m                 or _global_forward_hooks or _global_forward_pre_hooks):\n\u001b[0;32m-> 1520\u001b[0;31m             \u001b[0;32mreturn\u001b[0m \u001b[0mforward_call\u001b[0m\u001b[0;34m(\u001b[0m\u001b[0;34m*\u001b[0m\u001b[0margs\u001b[0m\u001b[0;34m,\u001b[0m \u001b[0;34m**\u001b[0m\u001b[0mkwargs\u001b[0m\u001b[0;34m)\u001b[0m\u001b[0;34m\u001b[0m\u001b[0;34m\u001b[0m\u001b[0m\n\u001b[0m\u001b[1;32m   1521\u001b[0m \u001b[0;34m\u001b[0m\u001b[0m\n\u001b[1;32m   1522\u001b[0m         \u001b[0;32mtry\u001b[0m\u001b[0;34m:\u001b[0m\u001b[0;34m\u001b[0m\u001b[0;34m\u001b[0m\u001b[0m\n",
            "\u001b[0;32m/usr/local/lib/python3.10/dist-packages/transformers/models/mistral/modeling_mistral.py\u001b[0m in \u001b[0;36mforward\u001b[0;34m(self, x)\u001b[0m\n\u001b[1;32m    175\u001b[0m \u001b[0;34m\u001b[0m\u001b[0m\n\u001b[1;32m    176\u001b[0m     \u001b[0;32mdef\u001b[0m \u001b[0mforward\u001b[0m\u001b[0;34m(\u001b[0m\u001b[0mself\u001b[0m\u001b[0;34m,\u001b[0m \u001b[0mx\u001b[0m\u001b[0;34m)\u001b[0m\u001b[0;34m:\u001b[0m\u001b[0;34m\u001b[0m\u001b[0;34m\u001b[0m\u001b[0m\n\u001b[0;32m--> 177\u001b[0;31m         \u001b[0;32mreturn\u001b[0m \u001b[0mself\u001b[0m\u001b[0;34m.\u001b[0m\u001b[0mdown_proj\u001b[0m\u001b[0;34m(\u001b[0m\u001b[0mself\u001b[0m\u001b[0;34m.\u001b[0m\u001b[0mact_fn\u001b[0m\u001b[0;34m(\u001b[0m\u001b[0mself\u001b[0m\u001b[0;34m.\u001b[0m\u001b[0mgate_proj\u001b[0m\u001b[0;34m(\u001b[0m\u001b[0mx\u001b[0m\u001b[0;34m)\u001b[0m\u001b[0;34m)\u001b[0m \u001b[0;34m*\u001b[0m \u001b[0mself\u001b[0m\u001b[0;34m.\u001b[0m\u001b[0mup_proj\u001b[0m\u001b[0;34m(\u001b[0m\u001b[0mx\u001b[0m\u001b[0;34m)\u001b[0m\u001b[0;34m)\u001b[0m\u001b[0;34m\u001b[0m\u001b[0;34m\u001b[0m\u001b[0m\n\u001b[0m\u001b[1;32m    178\u001b[0m \u001b[0;34m\u001b[0m\u001b[0m\n\u001b[1;32m    179\u001b[0m \u001b[0;34m\u001b[0m\u001b[0m\n",
            "\u001b[0;32m/usr/local/lib/python3.10/dist-packages/torch/nn/modules/module.py\u001b[0m in \u001b[0;36m_wrapped_call_impl\u001b[0;34m(self, *args, **kwargs)\u001b[0m\n\u001b[1;32m   1509\u001b[0m             \u001b[0;32mreturn\u001b[0m \u001b[0mself\u001b[0m\u001b[0;34m.\u001b[0m\u001b[0m_compiled_call_impl\u001b[0m\u001b[0;34m(\u001b[0m\u001b[0;34m*\u001b[0m\u001b[0margs\u001b[0m\u001b[0;34m,\u001b[0m \u001b[0;34m**\u001b[0m\u001b[0mkwargs\u001b[0m\u001b[0;34m)\u001b[0m  \u001b[0;31m# type: ignore[misc]\u001b[0m\u001b[0;34m\u001b[0m\u001b[0;34m\u001b[0m\u001b[0m\n\u001b[1;32m   1510\u001b[0m         \u001b[0;32melse\u001b[0m\u001b[0;34m:\u001b[0m\u001b[0;34m\u001b[0m\u001b[0;34m\u001b[0m\u001b[0m\n\u001b[0;32m-> 1511\u001b[0;31m             \u001b[0;32mreturn\u001b[0m \u001b[0mself\u001b[0m\u001b[0;34m.\u001b[0m\u001b[0m_call_impl\u001b[0m\u001b[0;34m(\u001b[0m\u001b[0;34m*\u001b[0m\u001b[0margs\u001b[0m\u001b[0;34m,\u001b[0m \u001b[0;34m**\u001b[0m\u001b[0mkwargs\u001b[0m\u001b[0;34m)\u001b[0m\u001b[0;34m\u001b[0m\u001b[0;34m\u001b[0m\u001b[0m\n\u001b[0m\u001b[1;32m   1512\u001b[0m \u001b[0;34m\u001b[0m\u001b[0m\n\u001b[1;32m   1513\u001b[0m     \u001b[0;32mdef\u001b[0m \u001b[0m_call_impl\u001b[0m\u001b[0;34m(\u001b[0m\u001b[0mself\u001b[0m\u001b[0;34m,\u001b[0m \u001b[0;34m*\u001b[0m\u001b[0margs\u001b[0m\u001b[0;34m,\u001b[0m \u001b[0;34m**\u001b[0m\u001b[0mkwargs\u001b[0m\u001b[0;34m)\u001b[0m\u001b[0;34m:\u001b[0m\u001b[0;34m\u001b[0m\u001b[0;34m\u001b[0m\u001b[0m\n",
            "\u001b[0;32m/usr/local/lib/python3.10/dist-packages/torch/nn/modules/module.py\u001b[0m in \u001b[0;36m_call_impl\u001b[0;34m(self, *args, **kwargs)\u001b[0m\n\u001b[1;32m   1518\u001b[0m                 \u001b[0;32mor\u001b[0m \u001b[0m_global_backward_pre_hooks\u001b[0m \u001b[0;32mor\u001b[0m \u001b[0m_global_backward_hooks\u001b[0m\u001b[0;34m\u001b[0m\u001b[0;34m\u001b[0m\u001b[0m\n\u001b[1;32m   1519\u001b[0m                 or _global_forward_hooks or _global_forward_pre_hooks):\n\u001b[0;32m-> 1520\u001b[0;31m             \u001b[0;32mreturn\u001b[0m \u001b[0mforward_call\u001b[0m\u001b[0;34m(\u001b[0m\u001b[0;34m*\u001b[0m\u001b[0margs\u001b[0m\u001b[0;34m,\u001b[0m \u001b[0;34m**\u001b[0m\u001b[0mkwargs\u001b[0m\u001b[0;34m)\u001b[0m\u001b[0;34m\u001b[0m\u001b[0;34m\u001b[0m\u001b[0m\n\u001b[0m\u001b[1;32m   1521\u001b[0m \u001b[0;34m\u001b[0m\u001b[0m\n\u001b[1;32m   1522\u001b[0m         \u001b[0;32mtry\u001b[0m\u001b[0;34m:\u001b[0m\u001b[0;34m\u001b[0m\u001b[0;34m\u001b[0m\u001b[0m\n",
            "\u001b[0;32m/usr/local/lib/python3.10/dist-packages/torch/nn/modules/linear.py\u001b[0m in \u001b[0;36mforward\u001b[0;34m(self, input)\u001b[0m\n\u001b[1;32m    114\u001b[0m \u001b[0;34m\u001b[0m\u001b[0m\n\u001b[1;32m    115\u001b[0m     \u001b[0;32mdef\u001b[0m \u001b[0mforward\u001b[0m\u001b[0;34m(\u001b[0m\u001b[0mself\u001b[0m\u001b[0;34m,\u001b[0m \u001b[0minput\u001b[0m\u001b[0;34m:\u001b[0m \u001b[0mTensor\u001b[0m\u001b[0;34m)\u001b[0m \u001b[0;34m->\u001b[0m \u001b[0mTensor\u001b[0m\u001b[0;34m:\u001b[0m\u001b[0;34m\u001b[0m\u001b[0;34m\u001b[0m\u001b[0m\n\u001b[0;32m--> 116\u001b[0;31m         \u001b[0;32mreturn\u001b[0m \u001b[0mF\u001b[0m\u001b[0;34m.\u001b[0m\u001b[0mlinear\u001b[0m\u001b[0;34m(\u001b[0m\u001b[0minput\u001b[0m\u001b[0;34m,\u001b[0m \u001b[0mself\u001b[0m\u001b[0;34m.\u001b[0m\u001b[0mweight\u001b[0m\u001b[0;34m,\u001b[0m \u001b[0mself\u001b[0m\u001b[0;34m.\u001b[0m\u001b[0mbias\u001b[0m\u001b[0;34m)\u001b[0m\u001b[0;34m\u001b[0m\u001b[0;34m\u001b[0m\u001b[0m\n\u001b[0m\u001b[1;32m    117\u001b[0m \u001b[0;34m\u001b[0m\u001b[0m\n\u001b[1;32m    118\u001b[0m     \u001b[0;32mdef\u001b[0m \u001b[0mextra_repr\u001b[0m\u001b[0;34m(\u001b[0m\u001b[0mself\u001b[0m\u001b[0;34m)\u001b[0m \u001b[0;34m->\u001b[0m \u001b[0mstr\u001b[0m\u001b[0;34m:\u001b[0m\u001b[0;34m\u001b[0m\u001b[0;34m\u001b[0m\u001b[0m\n",
            "\u001b[0;31mKeyboardInterrupt\u001b[0m: "
          ]
        }
      ]
    },
    {
      "cell_type": "code",
      "source": [],
      "metadata": {
        "id": "QhDhzjf1IQNt"
      },
      "execution_count": null,
      "outputs": []
    },
    {
      "cell_type": "code",
      "source": [],
      "metadata": {
        "id": "0DiR01TFCQ8b"
      },
      "execution_count": null,
      "outputs": []
    },
    {
      "cell_type": "code",
      "source": [],
      "metadata": {
        "id": "Go4z4T6HEfml"
      },
      "execution_count": null,
      "outputs": []
    }
  ]
}